{
 "cells": [
  {
   "cell_type": "markdown",
   "metadata": {},
   "source": [
    "# Business Understanding\n",
    "\n",
    "Business Problem: What are the top 5 best zip codes for millennials to invest in?\n",
    "\n",
    "**Who are our clients?**\n",
    "\n",
    "1. First-time homebuyers who are millennials (born 1981-1996)\n",
    "    - Assumptions:\n",
    "    - Median incomes (not in the upper 5%, but also not below poverty levels)\n",
    "    - Looking to see some return on investment within the two years\n",
    "    - What kind of spread on forecast will be most appropriate/acceptable for first-time homebuyers?\n",
    "\n",
    "2. How are we defining \"best\" zip code?\n",
    "    - Highest ROI since 2011 - after the housing market recovered from the housing crash of 2008-2009\n",
    "    - But, utilize full market history when making forecasts to account for all trends\n",
    "\n",
    "Your recommendation will need to detail your rationale and answer any sort of lingering questions like these in order to demonstrate how you define \"best\".\n",
    "\n",
    "It is important to understand that time series modeling is a tool in your toolbox, and the forecasts it provides you are what you'll use to answer important questions.\n",
    "\n",
    "* Forecasts to show:\n",
    "    - Average expected ROI\n",
    "    - Range of appreciation, determining \"safe\" investments with small ranges vs. \"riskier\" investments with a wide range\n",
    "\n",
    "In short, to pass this project, **demonstrating the quality and thoughtfulness of your overall recommendation** is at least as important as successfully building a time series model!\n"
   ]
  },
  {
   "cell_type": "markdown",
   "metadata": {},
   "source": [
    "## Evaluation\n",
    "In addition to deciding which quantitative metric(s) you want to target (e.g. minimizing mean squared error), you need to start with a definition of \"best investment\". Consider additional metrics like risk vs. profitability, or ROI yield\n",
    "\n",
    "* Quantitative metric: MAE (which will be literal dollar value) to be able to indicate dollar value of possible error\n",
    "* \"Best investment\"\n",
    "    - Appreciation - raw dollar difference\n",
    "    - ROI - percentage\n",
    "    - Smallest CI for low risk\n",
    "    - Largest CI for high risk\n",
    "    - Cash on hand affordability\n",
    "* Time frame - starting with 2011, when the oldest millennials turned 30"
   ]
  },
  {
   "cell_type": "code",
   "execution_count": 78,
   "metadata": {
    "ExecuteTime": {
     "end_time": "2022-06-27T21:49:59.555980Z",
     "start_time": "2022-06-27T21:49:59.542394Z"
    }
   },
   "outputs": [],
   "source": [
    "# Basics\n",
    "import pandas as pd\n",
    "import numpy as np\n",
    "#from pyzipcode import ZipCodeDatabase\n",
    "#from datetime import datetime as dt\n",
    "\n",
    "# Visualization\n",
    "import matplotlib.pyplot as plt\n",
    "#from matplotlib.pylab import rcParams\n",
    "plt.style.use('ggplot')\n",
    "\n",
    "# Modeling\n",
    "import statsmodels.api as sm\n",
    "#from statsmodels.tsa.stattools import adfuller\n",
    "import itertools\n",
    "from sklearn.metrics import mean_absolute_error\n",
    "#from statsmodels.tsa.seasonal import seasonal_decompose\n",
    "#from statsmodels.tsa.stattools import adfuller\n",
    "#from statsmodels.tsa.arima.model import ARIMA\n",
    "from statsmodels.tsa.statespace.sarimax import SARIMAX\n",
    "from pmdarima.arima import auto_arima\n",
    "#from statsmodels.tsa.stattools import acf, pacf\n",
    "#from statsmodels.graphics.tsaplots import plot_acf, plot_pacf\n",
    "\n",
    "\n",
    "# Warnings\n",
    "import warnings\n",
    "warnings.filterwarnings(\"ignore\")\n"
   ]
  },
  {
   "cell_type": "code",
   "execution_count": 79,
   "metadata": {
    "ExecuteTime": {
     "end_time": "2022-06-27T21:50:00.173046Z",
     "start_time": "2022-06-27T21:49:59.562670Z"
    }
   },
   "outputs": [],
   "source": [
    "df = pd.read_csv('zillow_data.csv')"
   ]
  },
  {
   "cell_type": "code",
   "execution_count": 80,
   "metadata": {
    "ExecuteTime": {
     "end_time": "2022-06-27T21:50:00.194631Z",
     "start_time": "2022-06-27T21:50:00.176436Z"
    }
   },
   "outputs": [
    {
     "data": {
      "text/html": [
       "<div>\n",
       "<style scoped>\n",
       "    .dataframe tbody tr th:only-of-type {\n",
       "        vertical-align: middle;\n",
       "    }\n",
       "\n",
       "    .dataframe tbody tr th {\n",
       "        vertical-align: top;\n",
       "    }\n",
       "\n",
       "    .dataframe thead th {\n",
       "        text-align: right;\n",
       "    }\n",
       "</style>\n",
       "<table border=\"1\" class=\"dataframe\">\n",
       "  <thead>\n",
       "    <tr style=\"text-align: right;\">\n",
       "      <th></th>\n",
       "      <th>RegionID</th>\n",
       "      <th>RegionName</th>\n",
       "      <th>City</th>\n",
       "      <th>State</th>\n",
       "      <th>Metro</th>\n",
       "      <th>CountyName</th>\n",
       "      <th>SizeRank</th>\n",
       "      <th>1996-04</th>\n",
       "      <th>1996-05</th>\n",
       "      <th>1996-06</th>\n",
       "      <th>...</th>\n",
       "      <th>2017-07</th>\n",
       "      <th>2017-08</th>\n",
       "      <th>2017-09</th>\n",
       "      <th>2017-10</th>\n",
       "      <th>2017-11</th>\n",
       "      <th>2017-12</th>\n",
       "      <th>2018-01</th>\n",
       "      <th>2018-02</th>\n",
       "      <th>2018-03</th>\n",
       "      <th>2018-04</th>\n",
       "    </tr>\n",
       "  </thead>\n",
       "  <tbody>\n",
       "    <tr>\n",
       "      <th>0</th>\n",
       "      <td>84654</td>\n",
       "      <td>60657</td>\n",
       "      <td>Chicago</td>\n",
       "      <td>IL</td>\n",
       "      <td>Chicago</td>\n",
       "      <td>Cook</td>\n",
       "      <td>1</td>\n",
       "      <td>334200.0</td>\n",
       "      <td>335400.0</td>\n",
       "      <td>336500.0</td>\n",
       "      <td>...</td>\n",
       "      <td>1005500</td>\n",
       "      <td>1007500</td>\n",
       "      <td>1007800</td>\n",
       "      <td>1009600</td>\n",
       "      <td>1013300</td>\n",
       "      <td>1018700</td>\n",
       "      <td>1024400</td>\n",
       "      <td>1030700</td>\n",
       "      <td>1033800</td>\n",
       "      <td>1030600</td>\n",
       "    </tr>\n",
       "    <tr>\n",
       "      <th>1</th>\n",
       "      <td>90668</td>\n",
       "      <td>75070</td>\n",
       "      <td>McKinney</td>\n",
       "      <td>TX</td>\n",
       "      <td>Dallas-Fort Worth</td>\n",
       "      <td>Collin</td>\n",
       "      <td>2</td>\n",
       "      <td>235700.0</td>\n",
       "      <td>236900.0</td>\n",
       "      <td>236700.0</td>\n",
       "      <td>...</td>\n",
       "      <td>308000</td>\n",
       "      <td>310000</td>\n",
       "      <td>312500</td>\n",
       "      <td>314100</td>\n",
       "      <td>315000</td>\n",
       "      <td>316600</td>\n",
       "      <td>318100</td>\n",
       "      <td>319600</td>\n",
       "      <td>321100</td>\n",
       "      <td>321800</td>\n",
       "    </tr>\n",
       "    <tr>\n",
       "      <th>2</th>\n",
       "      <td>91982</td>\n",
       "      <td>77494</td>\n",
       "      <td>Katy</td>\n",
       "      <td>TX</td>\n",
       "      <td>Houston</td>\n",
       "      <td>Harris</td>\n",
       "      <td>3</td>\n",
       "      <td>210400.0</td>\n",
       "      <td>212200.0</td>\n",
       "      <td>212200.0</td>\n",
       "      <td>...</td>\n",
       "      <td>321000</td>\n",
       "      <td>320600</td>\n",
       "      <td>320200</td>\n",
       "      <td>320400</td>\n",
       "      <td>320800</td>\n",
       "      <td>321200</td>\n",
       "      <td>321200</td>\n",
       "      <td>323000</td>\n",
       "      <td>326900</td>\n",
       "      <td>329900</td>\n",
       "    </tr>\n",
       "    <tr>\n",
       "      <th>3</th>\n",
       "      <td>84616</td>\n",
       "      <td>60614</td>\n",
       "      <td>Chicago</td>\n",
       "      <td>IL</td>\n",
       "      <td>Chicago</td>\n",
       "      <td>Cook</td>\n",
       "      <td>4</td>\n",
       "      <td>498100.0</td>\n",
       "      <td>500900.0</td>\n",
       "      <td>503100.0</td>\n",
       "      <td>...</td>\n",
       "      <td>1289800</td>\n",
       "      <td>1287700</td>\n",
       "      <td>1287400</td>\n",
       "      <td>1291500</td>\n",
       "      <td>1296600</td>\n",
       "      <td>1299000</td>\n",
       "      <td>1302700</td>\n",
       "      <td>1306400</td>\n",
       "      <td>1308500</td>\n",
       "      <td>1307000</td>\n",
       "    </tr>\n",
       "    <tr>\n",
       "      <th>4</th>\n",
       "      <td>93144</td>\n",
       "      <td>79936</td>\n",
       "      <td>El Paso</td>\n",
       "      <td>TX</td>\n",
       "      <td>El Paso</td>\n",
       "      <td>El Paso</td>\n",
       "      <td>5</td>\n",
       "      <td>77300.0</td>\n",
       "      <td>77300.0</td>\n",
       "      <td>77300.0</td>\n",
       "      <td>...</td>\n",
       "      <td>119100</td>\n",
       "      <td>119400</td>\n",
       "      <td>120000</td>\n",
       "      <td>120300</td>\n",
       "      <td>120300</td>\n",
       "      <td>120300</td>\n",
       "      <td>120300</td>\n",
       "      <td>120500</td>\n",
       "      <td>121000</td>\n",
       "      <td>121500</td>\n",
       "    </tr>\n",
       "  </tbody>\n",
       "</table>\n",
       "<p>5 rows × 272 columns</p>\n",
       "</div>"
      ],
      "text/plain": [
       "   RegionID  RegionName      City State              Metro CountyName  \\\n",
       "0     84654       60657   Chicago    IL            Chicago       Cook   \n",
       "1     90668       75070  McKinney    TX  Dallas-Fort Worth     Collin   \n",
       "2     91982       77494      Katy    TX            Houston     Harris   \n",
       "3     84616       60614   Chicago    IL            Chicago       Cook   \n",
       "4     93144       79936   El Paso    TX            El Paso    El Paso   \n",
       "\n",
       "   SizeRank   1996-04   1996-05   1996-06  ...  2017-07  2017-08  2017-09  \\\n",
       "0         1  334200.0  335400.0  336500.0  ...  1005500  1007500  1007800   \n",
       "1         2  235700.0  236900.0  236700.0  ...   308000   310000   312500   \n",
       "2         3  210400.0  212200.0  212200.0  ...   321000   320600   320200   \n",
       "3         4  498100.0  500900.0  503100.0  ...  1289800  1287700  1287400   \n",
       "4         5   77300.0   77300.0   77300.0  ...   119100   119400   120000   \n",
       "\n",
       "   2017-10  2017-11  2017-12  2018-01  2018-02  2018-03  2018-04  \n",
       "0  1009600  1013300  1018700  1024400  1030700  1033800  1030600  \n",
       "1   314100   315000   316600   318100   319600   321100   321800  \n",
       "2   320400   320800   321200   321200   323000   326900   329900  \n",
       "3  1291500  1296600  1299000  1302700  1306400  1308500  1307000  \n",
       "4   120300   120300   120300   120300   120500   121000   121500  \n",
       "\n",
       "[5 rows x 272 columns]"
      ]
     },
     "execution_count": 80,
     "metadata": {},
     "output_type": "execute_result"
    }
   ],
   "source": [
    "df.head()"
   ]
  },
  {
   "cell_type": "markdown",
   "metadata": {},
   "source": [
    "What do I want to do here?\n",
    "\n",
    "* Determine raw difference and percent change (ROI?)\n",
    "* How do I handle the 2008-2009 housing crash?"
   ]
  },
  {
   "cell_type": "code",
   "execution_count": 81,
   "metadata": {
    "ExecuteTime": {
     "end_time": "2022-06-27T21:50:00.271383Z",
     "start_time": "2022-06-27T21:50:00.198808Z"
    }
   },
   "outputs": [],
   "source": [
    "df = df.drop('RegionID', axis = 1)\n",
    "df = df.rename({'RegionName': 'zipcode'}, axis = 1)"
   ]
  },
  {
   "cell_type": "code",
   "execution_count": 82,
   "metadata": {
    "ExecuteTime": {
     "end_time": "2022-06-27T21:50:00.309066Z",
     "start_time": "2022-06-27T21:50:00.284390Z"
    }
   },
   "outputs": [
    {
     "data": {
      "text/html": [
       "<div>\n",
       "<style scoped>\n",
       "    .dataframe tbody tr th:only-of-type {\n",
       "        vertical-align: middle;\n",
       "    }\n",
       "\n",
       "    .dataframe tbody tr th {\n",
       "        vertical-align: top;\n",
       "    }\n",
       "\n",
       "    .dataframe thead th {\n",
       "        text-align: right;\n",
       "    }\n",
       "</style>\n",
       "<table border=\"1\" class=\"dataframe\">\n",
       "  <thead>\n",
       "    <tr style=\"text-align: right;\">\n",
       "      <th></th>\n",
       "      <th>zipcode</th>\n",
       "      <th>City</th>\n",
       "      <th>State</th>\n",
       "      <th>Metro</th>\n",
       "      <th>CountyName</th>\n",
       "      <th>SizeRank</th>\n",
       "      <th>1996-04</th>\n",
       "      <th>1996-05</th>\n",
       "      <th>1996-06</th>\n",
       "      <th>1996-07</th>\n",
       "      <th>...</th>\n",
       "      <th>2017-07</th>\n",
       "      <th>2017-08</th>\n",
       "      <th>2017-09</th>\n",
       "      <th>2017-10</th>\n",
       "      <th>2017-11</th>\n",
       "      <th>2017-12</th>\n",
       "      <th>2018-01</th>\n",
       "      <th>2018-02</th>\n",
       "      <th>2018-03</th>\n",
       "      <th>2018-04</th>\n",
       "    </tr>\n",
       "  </thead>\n",
       "  <tbody>\n",
       "    <tr>\n",
       "      <th>0</th>\n",
       "      <td>60657</td>\n",
       "      <td>Chicago</td>\n",
       "      <td>IL</td>\n",
       "      <td>Chicago</td>\n",
       "      <td>Cook</td>\n",
       "      <td>1</td>\n",
       "      <td>334200.0</td>\n",
       "      <td>335400.0</td>\n",
       "      <td>336500.0</td>\n",
       "      <td>337600.0</td>\n",
       "      <td>...</td>\n",
       "      <td>1005500</td>\n",
       "      <td>1007500</td>\n",
       "      <td>1007800</td>\n",
       "      <td>1009600</td>\n",
       "      <td>1013300</td>\n",
       "      <td>1018700</td>\n",
       "      <td>1024400</td>\n",
       "      <td>1030700</td>\n",
       "      <td>1033800</td>\n",
       "      <td>1030600</td>\n",
       "    </tr>\n",
       "    <tr>\n",
       "      <th>1</th>\n",
       "      <td>75070</td>\n",
       "      <td>McKinney</td>\n",
       "      <td>TX</td>\n",
       "      <td>Dallas-Fort Worth</td>\n",
       "      <td>Collin</td>\n",
       "      <td>2</td>\n",
       "      <td>235700.0</td>\n",
       "      <td>236900.0</td>\n",
       "      <td>236700.0</td>\n",
       "      <td>235400.0</td>\n",
       "      <td>...</td>\n",
       "      <td>308000</td>\n",
       "      <td>310000</td>\n",
       "      <td>312500</td>\n",
       "      <td>314100</td>\n",
       "      <td>315000</td>\n",
       "      <td>316600</td>\n",
       "      <td>318100</td>\n",
       "      <td>319600</td>\n",
       "      <td>321100</td>\n",
       "      <td>321800</td>\n",
       "    </tr>\n",
       "    <tr>\n",
       "      <th>2</th>\n",
       "      <td>77494</td>\n",
       "      <td>Katy</td>\n",
       "      <td>TX</td>\n",
       "      <td>Houston</td>\n",
       "      <td>Harris</td>\n",
       "      <td>3</td>\n",
       "      <td>210400.0</td>\n",
       "      <td>212200.0</td>\n",
       "      <td>212200.0</td>\n",
       "      <td>210700.0</td>\n",
       "      <td>...</td>\n",
       "      <td>321000</td>\n",
       "      <td>320600</td>\n",
       "      <td>320200</td>\n",
       "      <td>320400</td>\n",
       "      <td>320800</td>\n",
       "      <td>321200</td>\n",
       "      <td>321200</td>\n",
       "      <td>323000</td>\n",
       "      <td>326900</td>\n",
       "      <td>329900</td>\n",
       "    </tr>\n",
       "    <tr>\n",
       "      <th>3</th>\n",
       "      <td>60614</td>\n",
       "      <td>Chicago</td>\n",
       "      <td>IL</td>\n",
       "      <td>Chicago</td>\n",
       "      <td>Cook</td>\n",
       "      <td>4</td>\n",
       "      <td>498100.0</td>\n",
       "      <td>500900.0</td>\n",
       "      <td>503100.0</td>\n",
       "      <td>504600.0</td>\n",
       "      <td>...</td>\n",
       "      <td>1289800</td>\n",
       "      <td>1287700</td>\n",
       "      <td>1287400</td>\n",
       "      <td>1291500</td>\n",
       "      <td>1296600</td>\n",
       "      <td>1299000</td>\n",
       "      <td>1302700</td>\n",
       "      <td>1306400</td>\n",
       "      <td>1308500</td>\n",
       "      <td>1307000</td>\n",
       "    </tr>\n",
       "    <tr>\n",
       "      <th>4</th>\n",
       "      <td>79936</td>\n",
       "      <td>El Paso</td>\n",
       "      <td>TX</td>\n",
       "      <td>El Paso</td>\n",
       "      <td>El Paso</td>\n",
       "      <td>5</td>\n",
       "      <td>77300.0</td>\n",
       "      <td>77300.0</td>\n",
       "      <td>77300.0</td>\n",
       "      <td>77300.0</td>\n",
       "      <td>...</td>\n",
       "      <td>119100</td>\n",
       "      <td>119400</td>\n",
       "      <td>120000</td>\n",
       "      <td>120300</td>\n",
       "      <td>120300</td>\n",
       "      <td>120300</td>\n",
       "      <td>120300</td>\n",
       "      <td>120500</td>\n",
       "      <td>121000</td>\n",
       "      <td>121500</td>\n",
       "    </tr>\n",
       "  </tbody>\n",
       "</table>\n",
       "<p>5 rows × 271 columns</p>\n",
       "</div>"
      ],
      "text/plain": [
       "   zipcode      City State              Metro CountyName  SizeRank   1996-04  \\\n",
       "0    60657   Chicago    IL            Chicago       Cook         1  334200.0   \n",
       "1    75070  McKinney    TX  Dallas-Fort Worth     Collin         2  235700.0   \n",
       "2    77494      Katy    TX            Houston     Harris         3  210400.0   \n",
       "3    60614   Chicago    IL            Chicago       Cook         4  498100.0   \n",
       "4    79936   El Paso    TX            El Paso    El Paso         5   77300.0   \n",
       "\n",
       "    1996-05   1996-06   1996-07  ...  2017-07  2017-08  2017-09  2017-10  \\\n",
       "0  335400.0  336500.0  337600.0  ...  1005500  1007500  1007800  1009600   \n",
       "1  236900.0  236700.0  235400.0  ...   308000   310000   312500   314100   \n",
       "2  212200.0  212200.0  210700.0  ...   321000   320600   320200   320400   \n",
       "3  500900.0  503100.0  504600.0  ...  1289800  1287700  1287400  1291500   \n",
       "4   77300.0   77300.0   77300.0  ...   119100   119400   120000   120300   \n",
       "\n",
       "   2017-11  2017-12  2018-01  2018-02  2018-03  2018-04  \n",
       "0  1013300  1018700  1024400  1030700  1033800  1030600  \n",
       "1   315000   316600   318100   319600   321100   321800  \n",
       "2   320800   321200   321200   323000   326900   329900  \n",
       "3  1296600  1299000  1302700  1306400  1308500  1307000  \n",
       "4   120300   120300   120300   120500   121000   121500  \n",
       "\n",
       "[5 rows x 271 columns]"
      ]
     },
     "execution_count": 82,
     "metadata": {},
     "output_type": "execute_result"
    }
   ],
   "source": [
    "df.head()"
   ]
  },
  {
   "cell_type": "markdown",
   "metadata": {},
   "source": [
    "# Exploratory Data Analysis"
   ]
  },
  {
   "cell_type": "markdown",
   "metadata": {},
   "source": [
    "To help refine our dataset, I want to compute the cumulative percent change of home values for the whole dataset, from 1996 to 2018 as well as the most recent percent change in home values over the most recent five years (2012-2018).\n",
    "\n",
    "Secondly, I want to compute the historical median home value from 1996-2018 as well as the most recent median value (2018)."
   ]
  },
  {
   "cell_type": "code",
   "execution_count": 83,
   "metadata": {
    "ExecuteTime": {
     "end_time": "2022-06-27T21:50:01.628275Z",
     "start_time": "2022-06-27T21:50:00.314169Z"
    }
   },
   "outputs": [
    {
     "data": {
      "text/html": [
       "<div>\n",
       "<style scoped>\n",
       "    .dataframe tbody tr th:only-of-type {\n",
       "        vertical-align: middle;\n",
       "    }\n",
       "\n",
       "    .dataframe tbody tr th {\n",
       "        vertical-align: top;\n",
       "    }\n",
       "\n",
       "    .dataframe thead th {\n",
       "        text-align: right;\n",
       "    }\n",
       "</style>\n",
       "<table border=\"1\" class=\"dataframe\">\n",
       "  <thead>\n",
       "    <tr style=\"text-align: right;\">\n",
       "      <th></th>\n",
       "      <th>zipcode</th>\n",
       "      <th>City</th>\n",
       "      <th>State</th>\n",
       "      <th>Metro</th>\n",
       "      <th>CountyName</th>\n",
       "      <th>SizeRank</th>\n",
       "      <th>1996-04</th>\n",
       "      <th>1996-05</th>\n",
       "      <th>1996-06</th>\n",
       "      <th>1996-07</th>\n",
       "      <th>...</th>\n",
       "      <th>2017-12</th>\n",
       "      <th>2018-01</th>\n",
       "      <th>2018-02</th>\n",
       "      <th>2018-03</th>\n",
       "      <th>2018-04</th>\n",
       "      <th>Cumulative Percent Change</th>\n",
       "      <th>5-year Percent Change</th>\n",
       "      <th>Average median value (22 yrs)</th>\n",
       "      <th>2018 median value</th>\n",
       "      <th>Median value delta</th>\n",
       "    </tr>\n",
       "  </thead>\n",
       "  <tbody>\n",
       "    <tr>\n",
       "      <th>0</th>\n",
       "      <td>60657</td>\n",
       "      <td>Chicago</td>\n",
       "      <td>IL</td>\n",
       "      <td>Chicago</td>\n",
       "      <td>Cook</td>\n",
       "      <td>1</td>\n",
       "      <td>334200.0</td>\n",
       "      <td>335400.0</td>\n",
       "      <td>336500.0</td>\n",
       "      <td>337600.0</td>\n",
       "      <td>...</td>\n",
       "      <td>1018700</td>\n",
       "      <td>1024400</td>\n",
       "      <td>1030700</td>\n",
       "      <td>1033800</td>\n",
       "      <td>1030600</td>\n",
       "      <td>308.378217</td>\n",
       "      <td>139.213832</td>\n",
       "      <td>775200.0</td>\n",
       "      <td>1009600.0</td>\n",
       "      <td>234400.0</td>\n",
       "    </tr>\n",
       "    <tr>\n",
       "      <th>1</th>\n",
       "      <td>75070</td>\n",
       "      <td>McKinney</td>\n",
       "      <td>TX</td>\n",
       "      <td>Dallas-Fort Worth</td>\n",
       "      <td>Collin</td>\n",
       "      <td>2</td>\n",
       "      <td>235700.0</td>\n",
       "      <td>236900.0</td>\n",
       "      <td>236700.0</td>\n",
       "      <td>235400.0</td>\n",
       "      <td>...</td>\n",
       "      <td>316600</td>\n",
       "      <td>318100</td>\n",
       "      <td>319600</td>\n",
       "      <td>321100</td>\n",
       "      <td>321800</td>\n",
       "      <td>136.529487</td>\n",
       "      <td>159.464817</td>\n",
       "      <td>205800.0</td>\n",
       "      <td>314100.0</td>\n",
       "      <td>108300.0</td>\n",
       "    </tr>\n",
       "    <tr>\n",
       "      <th>2</th>\n",
       "      <td>77494</td>\n",
       "      <td>Katy</td>\n",
       "      <td>TX</td>\n",
       "      <td>Houston</td>\n",
       "      <td>Harris</td>\n",
       "      <td>3</td>\n",
       "      <td>210400.0</td>\n",
       "      <td>212200.0</td>\n",
       "      <td>212200.0</td>\n",
       "      <td>210700.0</td>\n",
       "      <td>...</td>\n",
       "      <td>321200</td>\n",
       "      <td>321200</td>\n",
       "      <td>323000</td>\n",
       "      <td>326900</td>\n",
       "      <td>329900</td>\n",
       "      <td>156.796578</td>\n",
       "      <td>130.705230</td>\n",
       "      <td>249500.0</td>\n",
       "      <td>320900.0</td>\n",
       "      <td>71400.0</td>\n",
       "    </tr>\n",
       "    <tr>\n",
       "      <th>3</th>\n",
       "      <td>60614</td>\n",
       "      <td>Chicago</td>\n",
       "      <td>IL</td>\n",
       "      <td>Chicago</td>\n",
       "      <td>Cook</td>\n",
       "      <td>4</td>\n",
       "      <td>498100.0</td>\n",
       "      <td>500900.0</td>\n",
       "      <td>503100.0</td>\n",
       "      <td>504600.0</td>\n",
       "      <td>...</td>\n",
       "      <td>1299000</td>\n",
       "      <td>1302700</td>\n",
       "      <td>1306400</td>\n",
       "      <td>1308500</td>\n",
       "      <td>1307000</td>\n",
       "      <td>262.397109</td>\n",
       "      <td>139.324166</td>\n",
       "      <td>1003100.0</td>\n",
       "      <td>1291500.0</td>\n",
       "      <td>288400.0</td>\n",
       "    </tr>\n",
       "    <tr>\n",
       "      <th>4</th>\n",
       "      <td>79936</td>\n",
       "      <td>El Paso</td>\n",
       "      <td>TX</td>\n",
       "      <td>El Paso</td>\n",
       "      <td>El Paso</td>\n",
       "      <td>5</td>\n",
       "      <td>77300.0</td>\n",
       "      <td>77300.0</td>\n",
       "      <td>77300.0</td>\n",
       "      <td>77300.0</td>\n",
       "      <td>...</td>\n",
       "      <td>120300</td>\n",
       "      <td>120300</td>\n",
       "      <td>120500</td>\n",
       "      <td>121000</td>\n",
       "      <td>121500</td>\n",
       "      <td>157.179819</td>\n",
       "      <td>107.712766</td>\n",
       "      <td>112400.0</td>\n",
       "      <td>120300.0</td>\n",
       "      <td>7900.0</td>\n",
       "    </tr>\n",
       "  </tbody>\n",
       "</table>\n",
       "<p>5 rows × 276 columns</p>\n",
       "</div>"
      ],
      "text/plain": [
       "   zipcode      City State              Metro CountyName  SizeRank   1996-04  \\\n",
       "0    60657   Chicago    IL            Chicago       Cook         1  334200.0   \n",
       "1    75070  McKinney    TX  Dallas-Fort Worth     Collin         2  235700.0   \n",
       "2    77494      Katy    TX            Houston     Harris         3  210400.0   \n",
       "3    60614   Chicago    IL            Chicago       Cook         4  498100.0   \n",
       "4    79936   El Paso    TX            El Paso    El Paso         5   77300.0   \n",
       "\n",
       "    1996-05   1996-06   1996-07  ...  2017-12  2018-01  2018-02  2018-03  \\\n",
       "0  335400.0  336500.0  337600.0  ...  1018700  1024400  1030700  1033800   \n",
       "1  236900.0  236700.0  235400.0  ...   316600   318100   319600   321100   \n",
       "2  212200.0  212200.0  210700.0  ...   321200   321200   323000   326900   \n",
       "3  500900.0  503100.0  504600.0  ...  1299000  1302700  1306400  1308500   \n",
       "4   77300.0   77300.0   77300.0  ...   120300   120300   120500   121000   \n",
       "\n",
       "   2018-04  Cumulative Percent Change  5-year Percent Change  \\\n",
       "0  1030600                 308.378217             139.213832   \n",
       "1   321800                 136.529487             159.464817   \n",
       "2   329900                 156.796578             130.705230   \n",
       "3  1307000                 262.397109             139.324166   \n",
       "4   121500                 157.179819             107.712766   \n",
       "\n",
       "   Average median value (22 yrs)  2018 median value  Median value delta  \n",
       "0                       775200.0          1009600.0            234400.0  \n",
       "1                       205800.0           314100.0            108300.0  \n",
       "2                       249500.0           320900.0             71400.0  \n",
       "3                      1003100.0          1291500.0            288400.0  \n",
       "4                       112400.0           120300.0              7900.0  \n",
       "\n",
       "[5 rows x 276 columns]"
      ]
     },
     "execution_count": 83,
     "metadata": {},
     "output_type": "execute_result"
    }
   ],
   "source": [
    "# Find raw difference and ROI\n",
    "# make copy of df\n",
    "df1 = df.copy()\n",
    "\n",
    "# add column with percent change between 2018 and 1996 median value\n",
    "df1['Cumulative Percent Change'] = (df1['2018-04'] / df1['1996-04']) * 100\n",
    "\n",
    "df1['5-year Percent Change'] = (df1['2018-04'] / df1['2012-04']) * 100\n",
    "\n",
    "df1['Average median value (22 yrs)'] = df1.median(axis=1)\n",
    "\n",
    "df1['2018 median value'] = df.iloc[:, 258:271].median(axis=1)\n",
    "\n",
    "df1['Median value delta'] = df1['2018 median value'] - df1['Average median value (22 yrs)']\n",
    "\n",
    "df1.head()"
   ]
  },
  {
   "cell_type": "code",
   "execution_count": 84,
   "metadata": {
    "ExecuteTime": {
     "end_time": "2022-06-27T21:50:01.684183Z",
     "start_time": "2022-06-27T21:50:01.641520Z"
    }
   },
   "outputs": [],
   "source": [
    "df2 = df1.copy()"
   ]
  },
  {
   "cell_type": "markdown",
   "metadata": {},
   "source": [
    "I created individual dataframes for each computed value, so that I could trim each dataframe to only include the Interquartile Range.\n",
    "\n",
    "I am only including data values within the IQR to meet the business needs of millennials who are first-time homebuyers. Home values above the 75th percentile and below the 25th percentile will not be appropriate homes to include for prospects."
   ]
  },
  {
   "cell_type": "code",
   "execution_count": 85,
   "metadata": {
    "ExecuteTime": {
     "end_time": "2022-06-27T21:50:01.838492Z",
     "start_time": "2022-06-27T21:50:01.718138Z"
    }
   },
   "outputs": [],
   "source": [
    "df3 = df2[['zipcode',\n",
    "           'Metro',\n",
    "           'Cumulative Percent Change']]\n",
    "\n",
    "df4 = df2[['zipcode',\n",
    "           'Metro',\n",
    "           '5-year Percent Change']]\n",
    "\n",
    "df5 = df2[['zipcode',\n",
    "           'Metro',\n",
    "           'Average median value (22 yrs)']]\n",
    "\n",
    "df6 = df2[['zipcode',\n",
    "           'Metro',\n",
    "           '2018 median value']]\n",
    "\n",
    "df7 = df2[['zipcode',\n",
    "           'Metro',\n",
    "           'Median value delta']]"
   ]
  },
  {
   "cell_type": "code",
   "execution_count": null,
   "metadata": {},
   "outputs": [],
   "source": []
  },
  {
   "cell_type": "code",
   "execution_count": 86,
   "metadata": {
    "ExecuteTime": {
     "end_time": "2022-06-27T21:50:01.853990Z",
     "start_time": "2022-06-27T21:50:01.842458Z"
    }
   },
   "outputs": [
    {
     "data": {
      "text/html": [
       "<div>\n",
       "<style scoped>\n",
       "    .dataframe tbody tr th:only-of-type {\n",
       "        vertical-align: middle;\n",
       "    }\n",
       "\n",
       "    .dataframe tbody tr th {\n",
       "        vertical-align: top;\n",
       "    }\n",
       "\n",
       "    .dataframe thead th {\n",
       "        text-align: right;\n",
       "    }\n",
       "</style>\n",
       "<table border=\"1\" class=\"dataframe\">\n",
       "  <thead>\n",
       "    <tr style=\"text-align: right;\">\n",
       "      <th></th>\n",
       "      <th>zipcode</th>\n",
       "      <th>Metro</th>\n",
       "      <th>Cumulative Percent Change</th>\n",
       "    </tr>\n",
       "  </thead>\n",
       "  <tbody>\n",
       "    <tr>\n",
       "      <th>0</th>\n",
       "      <td>60657</td>\n",
       "      <td>Chicago</td>\n",
       "      <td>308.378217</td>\n",
       "    </tr>\n",
       "    <tr>\n",
       "      <th>1</th>\n",
       "      <td>75070</td>\n",
       "      <td>Dallas-Fort Worth</td>\n",
       "      <td>136.529487</td>\n",
       "    </tr>\n",
       "    <tr>\n",
       "      <th>2</th>\n",
       "      <td>77494</td>\n",
       "      <td>Houston</td>\n",
       "      <td>156.796578</td>\n",
       "    </tr>\n",
       "    <tr>\n",
       "      <th>3</th>\n",
       "      <td>60614</td>\n",
       "      <td>Chicago</td>\n",
       "      <td>262.397109</td>\n",
       "    </tr>\n",
       "    <tr>\n",
       "      <th>4</th>\n",
       "      <td>79936</td>\n",
       "      <td>El Paso</td>\n",
       "      <td>157.179819</td>\n",
       "    </tr>\n",
       "    <tr>\n",
       "      <th>5</th>\n",
       "      <td>77084</td>\n",
       "      <td>Houston</td>\n",
       "      <td>172.947368</td>\n",
       "    </tr>\n",
       "    <tr>\n",
       "      <th>6</th>\n",
       "      <td>10467</td>\n",
       "      <td>New York</td>\n",
       "      <td>273.315893</td>\n",
       "    </tr>\n",
       "    <tr>\n",
       "      <th>7</th>\n",
       "      <td>60640</td>\n",
       "      <td>Chicago</td>\n",
       "      <td>361.570439</td>\n",
       "    </tr>\n",
       "    <tr>\n",
       "      <th>8</th>\n",
       "      <td>77449</td>\n",
       "      <td>Houston</td>\n",
       "      <td>184.696017</td>\n",
       "    </tr>\n",
       "    <tr>\n",
       "      <th>9</th>\n",
       "      <td>94109</td>\n",
       "      <td>San Francisco</td>\n",
       "      <td>497.845953</td>\n",
       "    </tr>\n",
       "  </tbody>\n",
       "</table>\n",
       "</div>"
      ],
      "text/plain": [
       "   zipcode              Metro  Cumulative Percent Change\n",
       "0    60657            Chicago                 308.378217\n",
       "1    75070  Dallas-Fort Worth                 136.529487\n",
       "2    77494            Houston                 156.796578\n",
       "3    60614            Chicago                 262.397109\n",
       "4    79936            El Paso                 157.179819\n",
       "5    77084            Houston                 172.947368\n",
       "6    10467           New York                 273.315893\n",
       "7    60640            Chicago                 361.570439\n",
       "8    77449            Houston                 184.696017\n",
       "9    94109      San Francisco                 497.845953"
      ]
     },
     "execution_count": 86,
     "metadata": {},
     "output_type": "execute_result"
    }
   ],
   "source": [
    "df3.head(10)"
   ]
  },
  {
   "cell_type": "code",
   "execution_count": 87,
   "metadata": {
    "ExecuteTime": {
     "end_time": "2022-06-27T21:50:01.890485Z",
     "start_time": "2022-06-27T21:50:01.857777Z"
    }
   },
   "outputs": [
    {
     "data": {
      "text/html": [
       "<div>\n",
       "<style scoped>\n",
       "    .dataframe tbody tr th:only-of-type {\n",
       "        vertical-align: middle;\n",
       "    }\n",
       "\n",
       "    .dataframe tbody tr th {\n",
       "        vertical-align: top;\n",
       "    }\n",
       "\n",
       "    .dataframe thead th {\n",
       "        text-align: right;\n",
       "    }\n",
       "</style>\n",
       "<table border=\"1\" class=\"dataframe\">\n",
       "  <thead>\n",
       "    <tr style=\"text-align: right;\">\n",
       "      <th></th>\n",
       "      <th>zipcode</th>\n",
       "      <th>Metro</th>\n",
       "      <th>Cumulative Percent Change</th>\n",
       "    </tr>\n",
       "  </thead>\n",
       "  <tbody>\n",
       "    <tr>\n",
       "      <th>7</th>\n",
       "      <td>60640</td>\n",
       "      <td>Chicago</td>\n",
       "      <td>361.570439</td>\n",
       "    </tr>\n",
       "    <tr>\n",
       "      <th>0</th>\n",
       "      <td>60657</td>\n",
       "      <td>Chicago</td>\n",
       "      <td>308.378217</td>\n",
       "    </tr>\n",
       "    <tr>\n",
       "      <th>6</th>\n",
       "      <td>10467</td>\n",
       "      <td>New York</td>\n",
       "      <td>273.315893</td>\n",
       "    </tr>\n",
       "    <tr>\n",
       "      <th>3</th>\n",
       "      <td>60614</td>\n",
       "      <td>Chicago</td>\n",
       "      <td>262.397109</td>\n",
       "    </tr>\n",
       "    <tr>\n",
       "      <th>11</th>\n",
       "      <td>32162</td>\n",
       "      <td>The Villages</td>\n",
       "      <td>249.306931</td>\n",
       "    </tr>\n",
       "    <tr>\n",
       "      <th>8</th>\n",
       "      <td>77449</td>\n",
       "      <td>Houston</td>\n",
       "      <td>184.696017</td>\n",
       "    </tr>\n",
       "    <tr>\n",
       "      <th>5</th>\n",
       "      <td>77084</td>\n",
       "      <td>Houston</td>\n",
       "      <td>172.947368</td>\n",
       "    </tr>\n",
       "    <tr>\n",
       "      <th>4</th>\n",
       "      <td>79936</td>\n",
       "      <td>El Paso</td>\n",
       "      <td>157.179819</td>\n",
       "    </tr>\n",
       "    <tr>\n",
       "      <th>2</th>\n",
       "      <td>77494</td>\n",
       "      <td>Houston</td>\n",
       "      <td>156.796578</td>\n",
       "    </tr>\n",
       "    <tr>\n",
       "      <th>1</th>\n",
       "      <td>75070</td>\n",
       "      <td>Dallas-Fort Worth</td>\n",
       "      <td>136.529487</td>\n",
       "    </tr>\n",
       "  </tbody>\n",
       "</table>\n",
       "</div>"
      ],
      "text/plain": [
       "    zipcode              Metro  Cumulative Percent Change\n",
       "7     60640            Chicago                 361.570439\n",
       "0     60657            Chicago                 308.378217\n",
       "6     10467           New York                 273.315893\n",
       "3     60614            Chicago                 262.397109\n",
       "11    32162       The Villages                 249.306931\n",
       "8     77449            Houston                 184.696017\n",
       "5     77084            Houston                 172.947368\n",
       "4     79936            El Paso                 157.179819\n",
       "2     77494            Houston                 156.796578\n",
       "1     75070  Dallas-Fort Worth                 136.529487"
      ]
     },
     "execution_count": 87,
     "metadata": {},
     "output_type": "execute_result"
    }
   ],
   "source": [
    "Q1 = df3.quantile(0.25)\n",
    "Q3 = df3.quantile(0.75)\n",
    "IQR = Q3 - Q1\n",
    "\n",
    "df3_trimmed = df3[~((df3 < (Q1 - 1.5 * IQR)) |(df3 > (Q3 + 1.5 * IQR))).any(axis=1)]\n",
    "cum_pct_top10 = df3_trimmed.head(10).sort_values('Cumulative Percent Change', ascending=False)\n",
    "cum_pct_top10"
   ]
  },
  {
   "cell_type": "code",
   "execution_count": 88,
   "metadata": {
    "ExecuteTime": {
     "end_time": "2022-06-27T21:50:02.129688Z",
     "start_time": "2022-06-27T21:50:01.898376Z"
    }
   },
   "outputs": [
    {
     "data": {
      "image/png": "[encoded data removed]",
      "text/plain": [
       "<Figure size 1440x360 with 1 Axes>"
      ]
     },
     "metadata": {},
     "output_type": "display_data"
    }
   ],
   "source": [
    "cum_pct_top10['zipcode'] = cum_pct_top10['zipcode'].astype(str)\n",
    "\n",
    "# Plotting the historical data \n",
    "fig, ax = plt.subplots(figsize=(20,5))\n",
    "plt.bar(cum_pct_top10.zipcode, cum_pct_top10['Cumulative Percent Change'])\n",
    "plt.title('% ROI by Zipcode 1996 - 2018')\n",
    "plt.xlabel('Zipcode')\n",
    "plt.ylabel('% ROI')\n",
    "plt.show()"
   ]
  },
  {
   "cell_type": "code",
   "execution_count": 89,
   "metadata": {
    "ExecuteTime": {
     "end_time": "2022-06-27T21:50:02.157654Z",
     "start_time": "2022-06-27T21:50:02.133798Z"
    }
   },
   "outputs": [
    {
     "data": {
      "text/html": [
       "<div>\n",
       "<style scoped>\n",
       "    .dataframe tbody tr th:only-of-type {\n",
       "        vertical-align: middle;\n",
       "    }\n",
       "\n",
       "    .dataframe tbody tr th {\n",
       "        vertical-align: top;\n",
       "    }\n",
       "\n",
       "    .dataframe thead th {\n",
       "        text-align: right;\n",
       "    }\n",
       "</style>\n",
       "<table border=\"1\" class=\"dataframe\">\n",
       "  <thead>\n",
       "    <tr style=\"text-align: right;\">\n",
       "      <th></th>\n",
       "      <th>zipcode</th>\n",
       "      <th>Metro</th>\n",
       "      <th>5-year Percent Change</th>\n",
       "    </tr>\n",
       "  </thead>\n",
       "  <tbody>\n",
       "    <tr>\n",
       "      <th>9</th>\n",
       "      <td>94109</td>\n",
       "      <td>San Francisco</td>\n",
       "      <td>165.538047</td>\n",
       "    </tr>\n",
       "    <tr>\n",
       "      <th>1</th>\n",
       "      <td>75070</td>\n",
       "      <td>Dallas-Fort Worth</td>\n",
       "      <td>159.464817</td>\n",
       "    </tr>\n",
       "    <tr>\n",
       "      <th>8</th>\n",
       "      <td>77449</td>\n",
       "      <td>Houston</td>\n",
       "      <td>152.951389</td>\n",
       "    </tr>\n",
       "    <tr>\n",
       "      <th>5</th>\n",
       "      <td>77084</td>\n",
       "      <td>Houston</td>\n",
       "      <td>146.696429</td>\n",
       "    </tr>\n",
       "    <tr>\n",
       "      <th>7</th>\n",
       "      <td>60640</td>\n",
       "      <td>Chicago</td>\n",
       "      <td>141.708907</td>\n",
       "    </tr>\n",
       "    <tr>\n",
       "      <th>6</th>\n",
       "      <td>10467</td>\n",
       "      <td>New York</td>\n",
       "      <td>141.565041</td>\n",
       "    </tr>\n",
       "    <tr>\n",
       "      <th>3</th>\n",
       "      <td>60614</td>\n",
       "      <td>Chicago</td>\n",
       "      <td>139.324166</td>\n",
       "    </tr>\n",
       "    <tr>\n",
       "      <th>0</th>\n",
       "      <td>60657</td>\n",
       "      <td>Chicago</td>\n",
       "      <td>139.213832</td>\n",
       "    </tr>\n",
       "    <tr>\n",
       "      <th>2</th>\n",
       "      <td>77494</td>\n",
       "      <td>Houston</td>\n",
       "      <td>130.705230</td>\n",
       "    </tr>\n",
       "    <tr>\n",
       "      <th>4</th>\n",
       "      <td>79936</td>\n",
       "      <td>El Paso</td>\n",
       "      <td>107.712766</td>\n",
       "    </tr>\n",
       "  </tbody>\n",
       "</table>\n",
       "</div>"
      ],
      "text/plain": [
       "   zipcode              Metro  5-year Percent Change\n",
       "9    94109      San Francisco             165.538047\n",
       "1    75070  Dallas-Fort Worth             159.464817\n",
       "8    77449            Houston             152.951389\n",
       "5    77084            Houston             146.696429\n",
       "7    60640            Chicago             141.708907\n",
       "6    10467           New York             141.565041\n",
       "3    60614            Chicago             139.324166\n",
       "0    60657            Chicago             139.213832\n",
       "2    77494            Houston             130.705230\n",
       "4    79936            El Paso             107.712766"
      ]
     },
     "execution_count": 89,
     "metadata": {},
     "output_type": "execute_result"
    }
   ],
   "source": [
    "Q1 = df4.quantile(0.25)\n",
    "Q3 = df4.quantile(0.75)\n",
    "IQR = Q3 - Q1\n",
    "\n",
    "df4_trimmed = df4[~((df4 < (Q1 - 1.5 * IQR)) |(df4 > (Q3 + 1.5 * IQR))).any(axis=1)]\n",
    "yrs5_pct_top10 = df4_trimmed.head(10).sort_values('5-year Percent Change', ascending=False)\n",
    "yrs5_pct_top10"
   ]
  },
  {
   "cell_type": "code",
   "execution_count": 90,
   "metadata": {
    "ExecuteTime": {
     "end_time": "2022-06-27T21:50:02.353751Z",
     "start_time": "2022-06-27T21:50:02.161256Z"
    }
   },
   "outputs": [
    {
     "data": {
      "image/png": "[encoded data removed]",
      "text/plain": [
       "<Figure size 1440x360 with 1 Axes>"
      ]
     },
     "metadata": {},
     "output_type": "display_data"
    }
   ],
   "source": [
    "yrs5_pct_top10['zipcode'] = yrs5_pct_top10['zipcode'].astype(str)\n",
    "\n",
    "# Plotting the historical data \n",
    "fig, ax = plt.subplots(figsize=(20,5))\n",
    "plt.bar(yrs5_pct_top10.zipcode, yrs5_pct_top10['5-year Percent Change'])\n",
    "plt.title('% ROI by Zipcode 2012 - 2018')\n",
    "plt.xlabel('Zipcode')\n",
    "plt.ylabel('% ROI')\n",
    "plt.show()"
   ]
  },
  {
   "cell_type": "code",
   "execution_count": 91,
   "metadata": {
    "ExecuteTime": {
     "end_time": "2022-06-27T21:50:02.383969Z",
     "start_time": "2022-06-27T21:50:02.356914Z"
    }
   },
   "outputs": [
    {
     "data": {
      "text/html": [
       "<div>\n",
       "<style scoped>\n",
       "    .dataframe tbody tr th:only-of-type {\n",
       "        vertical-align: middle;\n",
       "    }\n",
       "\n",
       "    .dataframe tbody tr th {\n",
       "        vertical-align: top;\n",
       "    }\n",
       "\n",
       "    .dataframe thead th {\n",
       "        text-align: right;\n",
       "    }\n",
       "</style>\n",
       "<table border=\"1\" class=\"dataframe\">\n",
       "  <thead>\n",
       "    <tr style=\"text-align: right;\">\n",
       "      <th></th>\n",
       "      <th>zipcode</th>\n",
       "      <th>Metro</th>\n",
       "      <th>Average median value (22 yrs)</th>\n",
       "    </tr>\n",
       "  </thead>\n",
       "  <tbody>\n",
       "    <tr>\n",
       "      <th>15</th>\n",
       "      <td>90250</td>\n",
       "      <td>Los Angeles-Long Beach-Anaheim</td>\n",
       "      <td>366900.0</td>\n",
       "    </tr>\n",
       "    <tr>\n",
       "      <th>6</th>\n",
       "      <td>10467</td>\n",
       "      <td>New York</td>\n",
       "      <td>315900.0</td>\n",
       "    </tr>\n",
       "    <tr>\n",
       "      <th>16</th>\n",
       "      <td>60647</td>\n",
       "      <td>Chicago</td>\n",
       "      <td>299700.0</td>\n",
       "    </tr>\n",
       "    <tr>\n",
       "      <th>2</th>\n",
       "      <td>77494</td>\n",
       "      <td>Houston</td>\n",
       "      <td>249500.0</td>\n",
       "    </tr>\n",
       "    <tr>\n",
       "      <th>1</th>\n",
       "      <td>75070</td>\n",
       "      <td>Dallas-Fort Worth</td>\n",
       "      <td>205800.0</td>\n",
       "    </tr>\n",
       "    <tr>\n",
       "      <th>11</th>\n",
       "      <td>32162</td>\n",
       "      <td>The Villages</td>\n",
       "      <td>198400.0</td>\n",
       "    </tr>\n",
       "    <tr>\n",
       "      <th>14</th>\n",
       "      <td>37013</td>\n",
       "      <td>Nashville</td>\n",
       "      <td>133700.0</td>\n",
       "    </tr>\n",
       "    <tr>\n",
       "      <th>8</th>\n",
       "      <td>77449</td>\n",
       "      <td>Houston</td>\n",
       "      <td>124400.0</td>\n",
       "    </tr>\n",
       "    <tr>\n",
       "      <th>5</th>\n",
       "      <td>77084</td>\n",
       "      <td>Houston</td>\n",
       "      <td>121200.0</td>\n",
       "    </tr>\n",
       "    <tr>\n",
       "      <th>4</th>\n",
       "      <td>79936</td>\n",
       "      <td>El Paso</td>\n",
       "      <td>112400.0</td>\n",
       "    </tr>\n",
       "  </tbody>\n",
       "</table>\n",
       "</div>"
      ],
      "text/plain": [
       "    zipcode                           Metro  Average median value (22 yrs)\n",
       "15    90250  Los Angeles-Long Beach-Anaheim                       366900.0\n",
       "6     10467                        New York                       315900.0\n",
       "16    60647                         Chicago                       299700.0\n",
       "2     77494                         Houston                       249500.0\n",
       "1     75070               Dallas-Fort Worth                       205800.0\n",
       "11    32162                    The Villages                       198400.0\n",
       "14    37013                       Nashville                       133700.0\n",
       "8     77449                         Houston                       124400.0\n",
       "5     77084                         Houston                       121200.0\n",
       "4     79936                         El Paso                       112400.0"
      ]
     },
     "execution_count": 91,
     "metadata": {},
     "output_type": "execute_result"
    }
   ],
   "source": [
    "Q1 = df5.quantile(0.25)\n",
    "Q3 = df5.quantile(0.75)\n",
    "IQR = Q3 - Q1\n",
    "\n",
    "df5_trimmed = df5[~((df5 < (Q1 - 1.5 * IQR)) |(df5 > (Q3 + 1.5 * IQR))).any(axis=1)]\n",
    "median_cum_val_top10 = df5_trimmed.head(10).sort_values('Average median value (22 yrs)', ascending=False)\n",
    "median_cum_val_top10"
   ]
  },
  {
   "cell_type": "code",
   "execution_count": 92,
   "metadata": {
    "ExecuteTime": {
     "end_time": "2022-06-27T21:50:02.581163Z",
     "start_time": "2022-06-27T21:50:02.386674Z"
    }
   },
   "outputs": [
    {
     "data": {
      "image/png": "[encoded data removed]",
      "text/plain": [
       "<Figure size 1440x360 with 1 Axes>"
      ]
     },
     "metadata": {},
     "output_type": "display_data"
    }
   ],
   "source": [
    "median_cum_val_top10['zipcode'] = median_cum_val_top10['zipcode'].astype(str)\n",
    "\n",
    "# Plotting the historical data \n",
    "fig, ax = plt.subplots(figsize=(20,5))\n",
    "plt.bar(median_cum_val_top10.zipcode, median_cum_val_top10['Average median value (22 yrs)'])\n",
    "plt.title('Average Home Median Value by Zipcode 1996 - 2018')\n",
    "plt.xlabel('Zipcode')\n",
    "plt.ylabel('Home Value')\n",
    "plt.show()"
   ]
  },
  {
   "cell_type": "code",
   "execution_count": 93,
   "metadata": {
    "ExecuteTime": {
     "end_time": "2022-06-27T21:50:02.610864Z",
     "start_time": "2022-06-27T21:50:02.583736Z"
    }
   },
   "outputs": [
    {
     "data": {
      "text/html": [
       "<div>\n",
       "<style scoped>\n",
       "    .dataframe tbody tr th:only-of-type {\n",
       "        vertical-align: middle;\n",
       "    }\n",
       "\n",
       "    .dataframe tbody tr th {\n",
       "        vertical-align: top;\n",
       "    }\n",
       "\n",
       "    .dataframe thead th {\n",
       "        text-align: right;\n",
       "    }\n",
       "</style>\n",
       "<table border=\"1\" class=\"dataframe\">\n",
       "  <thead>\n",
       "    <tr style=\"text-align: right;\">\n",
       "      <th></th>\n",
       "      <th>zipcode</th>\n",
       "      <th>Metro</th>\n",
       "      <th>2018 median value</th>\n",
       "    </tr>\n",
       "  </thead>\n",
       "  <tbody>\n",
       "    <tr>\n",
       "      <th>16</th>\n",
       "      <td>60647</td>\n",
       "      <td>Chicago</td>\n",
       "      <td>466500.0</td>\n",
       "    </tr>\n",
       "    <tr>\n",
       "      <th>6</th>\n",
       "      <td>10467</td>\n",
       "      <td>New York</td>\n",
       "      <td>411400.0</td>\n",
       "    </tr>\n",
       "    <tr>\n",
       "      <th>2</th>\n",
       "      <td>77494</td>\n",
       "      <td>Houston</td>\n",
       "      <td>320900.0</td>\n",
       "    </tr>\n",
       "    <tr>\n",
       "      <th>1</th>\n",
       "      <td>75070</td>\n",
       "      <td>Dallas-Fort Worth</td>\n",
       "      <td>314100.0</td>\n",
       "    </tr>\n",
       "    <tr>\n",
       "      <th>17</th>\n",
       "      <td>37211</td>\n",
       "      <td>Nashville</td>\n",
       "      <td>248800.0</td>\n",
       "    </tr>\n",
       "    <tr>\n",
       "      <th>11</th>\n",
       "      <td>32162</td>\n",
       "      <td>The Villages</td>\n",
       "      <td>248700.0</td>\n",
       "    </tr>\n",
       "    <tr>\n",
       "      <th>14</th>\n",
       "      <td>37013</td>\n",
       "      <td>Nashville</td>\n",
       "      <td>198800.0</td>\n",
       "    </tr>\n",
       "    <tr>\n",
       "      <th>8</th>\n",
       "      <td>77449</td>\n",
       "      <td>Houston</td>\n",
       "      <td>169600.0</td>\n",
       "    </tr>\n",
       "    <tr>\n",
       "      <th>5</th>\n",
       "      <td>77084</td>\n",
       "      <td>Houston</td>\n",
       "      <td>161900.0</td>\n",
       "    </tr>\n",
       "    <tr>\n",
       "      <th>4</th>\n",
       "      <td>79936</td>\n",
       "      <td>El Paso</td>\n",
       "      <td>120300.0</td>\n",
       "    </tr>\n",
       "  </tbody>\n",
       "</table>\n",
       "</div>"
      ],
      "text/plain": [
       "    zipcode              Metro  2018 median value\n",
       "16    60647            Chicago           466500.0\n",
       "6     10467           New York           411400.0\n",
       "2     77494            Houston           320900.0\n",
       "1     75070  Dallas-Fort Worth           314100.0\n",
       "17    37211          Nashville           248800.0\n",
       "11    32162       The Villages           248700.0\n",
       "14    37013          Nashville           198800.0\n",
       "8     77449            Houston           169600.0\n",
       "5     77084            Houston           161900.0\n",
       "4     79936            El Paso           120300.0"
      ]
     },
     "execution_count": 93,
     "metadata": {},
     "output_type": "execute_result"
    }
   ],
   "source": [
    "Q1 = df6.quantile(0.25)\n",
    "Q3 = df6.quantile(0.75)\n",
    "IQR = Q3 - Q1\n",
    "\n",
    "df6_trimmed = df6[~((df6 < (Q1 - 1.5 * IQR)) |(df6 > (Q3 + 1.5 * IQR))).any(axis=1)]\n",
    "median2018_val_top10 = df6_trimmed.head(10).sort_values('2018 median value', ascending=False)\n",
    "median2018_val_top10"
   ]
  },
  {
   "cell_type": "code",
   "execution_count": 94,
   "metadata": {
    "ExecuteTime": {
     "end_time": "2022-06-27T21:50:03.002649Z",
     "start_time": "2022-06-27T21:50:02.613342Z"
    }
   },
   "outputs": [
    {
     "data": {
      "image/png": "[encoded data removed]",
      "text/plain": [
       "<Figure size 1440x360 with 1 Axes>"
      ]
     },
     "metadata": {},
     "output_type": "display_data"
    }
   ],
   "source": [
    "median2018_val_top10['zipcode'] = median2018_val_top10['zipcode'].astype(str)\n",
    "\n",
    "# Plotting the historical data \n",
    "fig, ax = plt.subplots(figsize=(20,5))\n",
    "plt.bar(median2018_val_top10.zipcode, median2018_val_top10['2018 median value'])\n",
    "plt.title('Average Home Median Value in 2018')\n",
    "plt.xlabel('Zipcode')\n",
    "plt.ylabel('Home Value')\n",
    "plt.show()"
   ]
  },
  {
   "cell_type": "code",
   "execution_count": 95,
   "metadata": {
    "ExecuteTime": {
     "end_time": "2022-06-27T21:50:03.056032Z",
     "start_time": "2022-06-27T21:50:03.007590Z"
    }
   },
   "outputs": [],
   "source": [
    "Q1 = df7.quantile(0.25)\n",
    "Q3 = df7.quantile(0.75)\n",
    "IQR = Q3 - Q1\n",
    "\n",
    "df7_trimmed = df7[~((df7 < (Q1 - 1.5 * IQR)) |(df7 > (Q3 + 1.5 * IQR))).any(axis=1)]\n",
    "val_delta_top10 = df7_trimmed.head(10)"
   ]
  },
  {
   "cell_type": "code",
   "execution_count": 96,
   "metadata": {
    "ExecuteTime": {
     "end_time": "2022-06-27T21:50:03.098565Z",
     "start_time": "2022-06-27T21:50:03.077007Z"
    }
   },
   "outputs": [],
   "source": [
    "cum_pct_top10['zipcode'] = cum_pct_top10['zipcode'].astype(int)\n",
    "yrs5_pct_top10['zipcode'] = yrs5_pct_top10['zipcode'].astype(int)\n",
    "median_cum_val_top10['zipcode'] = median_cum_val_top10['zipcode'].astype(int)\n",
    "median2018_val_top10['zipcode'] = median2018_val_top10['zipcode'].astype(int)\n",
    "\n",
    "from functools import reduce\n",
    "dfs = [cum_pct_top10, yrs5_pct_top10, median_cum_val_top10, median2018_val_top10,val_delta_top10]\n",
    "df_combo = reduce(lambda left,right: pd.merge(left,right,on='zipcode'), dfs)"
   ]
  },
  {
   "cell_type": "code",
   "execution_count": 97,
   "metadata": {
    "ExecuteTime": {
     "end_time": "2022-06-27T21:50:03.136750Z",
     "start_time": "2022-06-27T21:50:03.114290Z"
    }
   },
   "outputs": [
    {
     "data": {
      "text/html": [
       "<div>\n",
       "<style scoped>\n",
       "    .dataframe tbody tr th:only-of-type {\n",
       "        vertical-align: middle;\n",
       "    }\n",
       "\n",
       "    .dataframe tbody tr th {\n",
       "        vertical-align: top;\n",
       "    }\n",
       "\n",
       "    .dataframe thead th {\n",
       "        text-align: right;\n",
       "    }\n",
       "</style>\n",
       "<table border=\"1\" class=\"dataframe\">\n",
       "  <thead>\n",
       "    <tr style=\"text-align: right;\">\n",
       "      <th></th>\n",
       "      <th>zipcode</th>\n",
       "      <th>Metro_x</th>\n",
       "      <th>Cumulative Percent Change</th>\n",
       "      <th>Metro_y</th>\n",
       "      <th>5-year Percent Change</th>\n",
       "      <th>Metro_x</th>\n",
       "      <th>Average median value (22 yrs)</th>\n",
       "      <th>Metro_y</th>\n",
       "      <th>2018 median value</th>\n",
       "      <th>Metro</th>\n",
       "      <th>Median value delta</th>\n",
       "    </tr>\n",
       "  </thead>\n",
       "  <tbody>\n",
       "    <tr>\n",
       "      <th>0</th>\n",
       "      <td>10467</td>\n",
       "      <td>New York</td>\n",
       "      <td>273.315893</td>\n",
       "      <td>New York</td>\n",
       "      <td>141.565041</td>\n",
       "      <td>New York</td>\n",
       "      <td>315900.0</td>\n",
       "      <td>New York</td>\n",
       "      <td>411400.0</td>\n",
       "      <td>New York</td>\n",
       "      <td>95500.0</td>\n",
       "    </tr>\n",
       "    <tr>\n",
       "      <th>1</th>\n",
       "      <td>77449</td>\n",
       "      <td>Houston</td>\n",
       "      <td>184.696017</td>\n",
       "      <td>Houston</td>\n",
       "      <td>152.951389</td>\n",
       "      <td>Houston</td>\n",
       "      <td>124400.0</td>\n",
       "      <td>Houston</td>\n",
       "      <td>169600.0</td>\n",
       "      <td>Houston</td>\n",
       "      <td>45200.0</td>\n",
       "    </tr>\n",
       "    <tr>\n",
       "      <th>2</th>\n",
       "      <td>77084</td>\n",
       "      <td>Houston</td>\n",
       "      <td>172.947368</td>\n",
       "      <td>Houston</td>\n",
       "      <td>146.696429</td>\n",
       "      <td>Houston</td>\n",
       "      <td>121200.0</td>\n",
       "      <td>Houston</td>\n",
       "      <td>161900.0</td>\n",
       "      <td>Houston</td>\n",
       "      <td>40700.0</td>\n",
       "    </tr>\n",
       "    <tr>\n",
       "      <th>3</th>\n",
       "      <td>79936</td>\n",
       "      <td>El Paso</td>\n",
       "      <td>157.179819</td>\n",
       "      <td>El Paso</td>\n",
       "      <td>107.712766</td>\n",
       "      <td>El Paso</td>\n",
       "      <td>112400.0</td>\n",
       "      <td>El Paso</td>\n",
       "      <td>120300.0</td>\n",
       "      <td>El Paso</td>\n",
       "      <td>7900.0</td>\n",
       "    </tr>\n",
       "    <tr>\n",
       "      <th>4</th>\n",
       "      <td>77494</td>\n",
       "      <td>Houston</td>\n",
       "      <td>156.796578</td>\n",
       "      <td>Houston</td>\n",
       "      <td>130.705230</td>\n",
       "      <td>Houston</td>\n",
       "      <td>249500.0</td>\n",
       "      <td>Houston</td>\n",
       "      <td>320900.0</td>\n",
       "      <td>Houston</td>\n",
       "      <td>71400.0</td>\n",
       "    </tr>\n",
       "    <tr>\n",
       "      <th>5</th>\n",
       "      <td>75070</td>\n",
       "      <td>Dallas-Fort Worth</td>\n",
       "      <td>136.529487</td>\n",
       "      <td>Dallas-Fort Worth</td>\n",
       "      <td>159.464817</td>\n",
       "      <td>Dallas-Fort Worth</td>\n",
       "      <td>205800.0</td>\n",
       "      <td>Dallas-Fort Worth</td>\n",
       "      <td>314100.0</td>\n",
       "      <td>Dallas-Fort Worth</td>\n",
       "      <td>108300.0</td>\n",
       "    </tr>\n",
       "  </tbody>\n",
       "</table>\n",
       "</div>"
      ],
      "text/plain": [
       "   zipcode            Metro_x  Cumulative Percent Change            Metro_y  \\\n",
       "0    10467           New York                 273.315893           New York   \n",
       "1    77449            Houston                 184.696017            Houston   \n",
       "2    77084            Houston                 172.947368            Houston   \n",
       "3    79936            El Paso                 157.179819            El Paso   \n",
       "4    77494            Houston                 156.796578            Houston   \n",
       "5    75070  Dallas-Fort Worth                 136.529487  Dallas-Fort Worth   \n",
       "\n",
       "   5-year Percent Change            Metro_x  Average median value (22 yrs)  \\\n",
       "0             141.565041           New York                       315900.0   \n",
       "1             152.951389            Houston                       124400.0   \n",
       "2             146.696429            Houston                       121200.0   \n",
       "3             107.712766            El Paso                       112400.0   \n",
       "4             130.705230            Houston                       249500.0   \n",
       "5             159.464817  Dallas-Fort Worth                       205800.0   \n",
       "\n",
       "             Metro_y  2018 median value              Metro  Median value delta  \n",
       "0           New York           411400.0           New York             95500.0  \n",
       "1            Houston           169600.0            Houston             45200.0  \n",
       "2            Houston           161900.0            Houston             40700.0  \n",
       "3            El Paso           120300.0            El Paso              7900.0  \n",
       "4            Houston           320900.0            Houston             71400.0  \n",
       "5  Dallas-Fort Worth           314100.0  Dallas-Fort Worth            108300.0  "
      ]
     },
     "execution_count": 97,
     "metadata": {},
     "output_type": "execute_result"
    }
   ],
   "source": [
    "df_combo"
   ]
  },
  {
   "cell_type": "code",
   "execution_count": 98,
   "metadata": {
    "ExecuteTime": {
     "end_time": "2022-06-27T21:50:03.151507Z",
     "start_time": "2022-06-27T21:50:03.141927Z"
    }
   },
   "outputs": [],
   "source": [
    "df_combo.drop(columns = ['Metro_y', 'Metro_x'], inplace=True)"
   ]
  },
  {
   "cell_type": "markdown",
   "metadata": {},
   "source": [
    "I took the top 25 zipcodes from each category and combined them into one dataframe, resulting in 15 zipcodes that will serve as a the prospective zipcodes for which we will predict future values."
   ]
  },
  {
   "cell_type": "code",
   "execution_count": 99,
   "metadata": {
    "ExecuteTime": {
     "end_time": "2022-06-27T21:50:03.193516Z",
     "start_time": "2022-06-27T21:50:03.159426Z"
    }
   },
   "outputs": [
    {
     "data": {
      "text/html": [
       "<div>\n",
       "<style scoped>\n",
       "    .dataframe tbody tr th:only-of-type {\n",
       "        vertical-align: middle;\n",
       "    }\n",
       "\n",
       "    .dataframe tbody tr th {\n",
       "        vertical-align: top;\n",
       "    }\n",
       "\n",
       "    .dataframe thead th {\n",
       "        text-align: right;\n",
       "    }\n",
       "</style>\n",
       "<table border=\"1\" class=\"dataframe\">\n",
       "  <thead>\n",
       "    <tr style=\"text-align: right;\">\n",
       "      <th></th>\n",
       "      <th>zipcode</th>\n",
       "      <th>Cumulative Percent Change</th>\n",
       "      <th>5-year Percent Change</th>\n",
       "      <th>Average median value (22 yrs)</th>\n",
       "      <th>2018 median value</th>\n",
       "      <th>Metro</th>\n",
       "      <th>Median value delta</th>\n",
       "    </tr>\n",
       "  </thead>\n",
       "  <tbody>\n",
       "    <tr>\n",
       "      <th>0</th>\n",
       "      <td>10467</td>\n",
       "      <td>273.315893</td>\n",
       "      <td>141.565041</td>\n",
       "      <td>315900.0</td>\n",
       "      <td>411400.0</td>\n",
       "      <td>New York</td>\n",
       "      <td>95500.0</td>\n",
       "    </tr>\n",
       "    <tr>\n",
       "      <th>1</th>\n",
       "      <td>77449</td>\n",
       "      <td>184.696017</td>\n",
       "      <td>152.951389</td>\n",
       "      <td>124400.0</td>\n",
       "      <td>169600.0</td>\n",
       "      <td>Houston</td>\n",
       "      <td>45200.0</td>\n",
       "    </tr>\n",
       "    <tr>\n",
       "      <th>2</th>\n",
       "      <td>77084</td>\n",
       "      <td>172.947368</td>\n",
       "      <td>146.696429</td>\n",
       "      <td>121200.0</td>\n",
       "      <td>161900.0</td>\n",
       "      <td>Houston</td>\n",
       "      <td>40700.0</td>\n",
       "    </tr>\n",
       "    <tr>\n",
       "      <th>3</th>\n",
       "      <td>79936</td>\n",
       "      <td>157.179819</td>\n",
       "      <td>107.712766</td>\n",
       "      <td>112400.0</td>\n",
       "      <td>120300.0</td>\n",
       "      <td>El Paso</td>\n",
       "      <td>7900.0</td>\n",
       "    </tr>\n",
       "    <tr>\n",
       "      <th>4</th>\n",
       "      <td>77494</td>\n",
       "      <td>156.796578</td>\n",
       "      <td>130.705230</td>\n",
       "      <td>249500.0</td>\n",
       "      <td>320900.0</td>\n",
       "      <td>Houston</td>\n",
       "      <td>71400.0</td>\n",
       "    </tr>\n",
       "    <tr>\n",
       "      <th>5</th>\n",
       "      <td>75070</td>\n",
       "      <td>136.529487</td>\n",
       "      <td>159.464817</td>\n",
       "      <td>205800.0</td>\n",
       "      <td>314100.0</td>\n",
       "      <td>Dallas-Fort Worth</td>\n",
       "      <td>108300.0</td>\n",
       "    </tr>\n",
       "  </tbody>\n",
       "</table>\n",
       "</div>"
      ],
      "text/plain": [
       "   zipcode  Cumulative Percent Change  5-year Percent Change  \\\n",
       "0    10467                 273.315893             141.565041   \n",
       "1    77449                 184.696017             152.951389   \n",
       "2    77084                 172.947368             146.696429   \n",
       "3    79936                 157.179819             107.712766   \n",
       "4    77494                 156.796578             130.705230   \n",
       "5    75070                 136.529487             159.464817   \n",
       "\n",
       "   Average median value (22 yrs)  2018 median value              Metro  \\\n",
       "0                       315900.0           411400.0           New York   \n",
       "1                       124400.0           169600.0            Houston   \n",
       "2                       121200.0           161900.0            Houston   \n",
       "3                       112400.0           120300.0            El Paso   \n",
       "4                       249500.0           320900.0            Houston   \n",
       "5                       205800.0           314100.0  Dallas-Fort Worth   \n",
       "\n",
       "   Median value delta  \n",
       "0             95500.0  \n",
       "1             45200.0  \n",
       "2             40700.0  \n",
       "3              7900.0  \n",
       "4             71400.0  \n",
       "5            108300.0  "
      ]
     },
     "execution_count": 99,
     "metadata": {},
     "output_type": "execute_result"
    }
   ],
   "source": [
    "df_combo"
   ]
  },
  {
   "cell_type": "code",
   "execution_count": 100,
   "metadata": {
    "ExecuteTime": {
     "end_time": "2022-06-27T21:50:03.225526Z",
     "start_time": "2022-06-27T21:50:03.216258Z"
    }
   },
   "outputs": [],
   "source": [
    "#df_combo['zipcode'] = df_combo['zipcode'].astype(str)"
   ]
  },
  {
   "cell_type": "code",
   "execution_count": 101,
   "metadata": {
    "ExecuteTime": {
     "end_time": "2022-06-27T21:50:03.241605Z",
     "start_time": "2022-06-27T21:50:03.232138Z"
    }
   },
   "outputs": [
    {
     "data": {
      "text/plain": [
       "array([10467, 77449, 77084, 79936, 77494, 75070])"
      ]
     },
     "execution_count": 101,
     "metadata": {},
     "output_type": "execute_result"
    }
   ],
   "source": [
    "df_combo['zipcode'].unique()"
   ]
  },
  {
   "cell_type": "code",
   "execution_count": 102,
   "metadata": {
    "ExecuteTime": {
     "end_time": "2022-06-27T21:50:03.254772Z",
     "start_time": "2022-06-27T21:50:03.245781Z"
    }
   },
   "outputs": [
    {
     "data": {
      "text/plain": [
       "6"
      ]
     },
     "execution_count": 102,
     "metadata": {},
     "output_type": "execute_result"
    }
   ],
   "source": [
    "df_combo['zipcode'].nunique()"
   ]
  },
  {
   "cell_type": "code",
   "execution_count": 103,
   "metadata": {
    "ExecuteTime": {
     "end_time": "2022-06-27T21:50:03.264622Z",
     "start_time": "2022-06-27T21:50:03.259035Z"
    }
   },
   "outputs": [],
   "source": [
    "zip_list = df_combo['zipcode']"
   ]
  },
  {
   "cell_type": "code",
   "execution_count": 104,
   "metadata": {
    "ExecuteTime": {
     "end_time": "2022-06-27T21:50:03.294202Z",
     "start_time": "2022-06-27T21:50:03.268903Z"
    }
   },
   "outputs": [
    {
     "data": {
      "text/html": [
       "<div>\n",
       "<style scoped>\n",
       "    .dataframe tbody tr th:only-of-type {\n",
       "        vertical-align: middle;\n",
       "    }\n",
       "\n",
       "    .dataframe tbody tr th {\n",
       "        vertical-align: top;\n",
       "    }\n",
       "\n",
       "    .dataframe thead th {\n",
       "        text-align: right;\n",
       "    }\n",
       "</style>\n",
       "<table border=\"1\" class=\"dataframe\">\n",
       "  <thead>\n",
       "    <tr style=\"text-align: right;\">\n",
       "      <th></th>\n",
       "      <th>zipcode</th>\n",
       "      <th>City</th>\n",
       "      <th>State</th>\n",
       "      <th>Metro</th>\n",
       "      <th>CountyName</th>\n",
       "      <th>SizeRank</th>\n",
       "      <th>1996-04</th>\n",
       "      <th>1996-05</th>\n",
       "      <th>1996-06</th>\n",
       "      <th>1996-07</th>\n",
       "      <th>...</th>\n",
       "      <th>2017-07</th>\n",
       "      <th>2017-08</th>\n",
       "      <th>2017-09</th>\n",
       "      <th>2017-10</th>\n",
       "      <th>2017-11</th>\n",
       "      <th>2017-12</th>\n",
       "      <th>2018-01</th>\n",
       "      <th>2018-02</th>\n",
       "      <th>2018-03</th>\n",
       "      <th>2018-04</th>\n",
       "    </tr>\n",
       "  </thead>\n",
       "  <tbody>\n",
       "    <tr>\n",
       "      <th>1</th>\n",
       "      <td>75070</td>\n",
       "      <td>McKinney</td>\n",
       "      <td>TX</td>\n",
       "      <td>Dallas-Fort Worth</td>\n",
       "      <td>Collin</td>\n",
       "      <td>2</td>\n",
       "      <td>235700.0</td>\n",
       "      <td>236900.0</td>\n",
       "      <td>236700.0</td>\n",
       "      <td>235400.0</td>\n",
       "      <td>...</td>\n",
       "      <td>308000</td>\n",
       "      <td>310000</td>\n",
       "      <td>312500</td>\n",
       "      <td>314100</td>\n",
       "      <td>315000</td>\n",
       "      <td>316600</td>\n",
       "      <td>318100</td>\n",
       "      <td>319600</td>\n",
       "      <td>321100</td>\n",
       "      <td>321800</td>\n",
       "    </tr>\n",
       "    <tr>\n",
       "      <th>2</th>\n",
       "      <td>77494</td>\n",
       "      <td>Katy</td>\n",
       "      <td>TX</td>\n",
       "      <td>Houston</td>\n",
       "      <td>Harris</td>\n",
       "      <td>3</td>\n",
       "      <td>210400.0</td>\n",
       "      <td>212200.0</td>\n",
       "      <td>212200.0</td>\n",
       "      <td>210700.0</td>\n",
       "      <td>...</td>\n",
       "      <td>321000</td>\n",
       "      <td>320600</td>\n",
       "      <td>320200</td>\n",
       "      <td>320400</td>\n",
       "      <td>320800</td>\n",
       "      <td>321200</td>\n",
       "      <td>321200</td>\n",
       "      <td>323000</td>\n",
       "      <td>326900</td>\n",
       "      <td>329900</td>\n",
       "    </tr>\n",
       "    <tr>\n",
       "      <th>4</th>\n",
       "      <td>79936</td>\n",
       "      <td>El Paso</td>\n",
       "      <td>TX</td>\n",
       "      <td>El Paso</td>\n",
       "      <td>El Paso</td>\n",
       "      <td>5</td>\n",
       "      <td>77300.0</td>\n",
       "      <td>77300.0</td>\n",
       "      <td>77300.0</td>\n",
       "      <td>77300.0</td>\n",
       "      <td>...</td>\n",
       "      <td>119100</td>\n",
       "      <td>119400</td>\n",
       "      <td>120000</td>\n",
       "      <td>120300</td>\n",
       "      <td>120300</td>\n",
       "      <td>120300</td>\n",
       "      <td>120300</td>\n",
       "      <td>120500</td>\n",
       "      <td>121000</td>\n",
       "      <td>121500</td>\n",
       "    </tr>\n",
       "    <tr>\n",
       "      <th>5</th>\n",
       "      <td>77084</td>\n",
       "      <td>Houston</td>\n",
       "      <td>TX</td>\n",
       "      <td>Houston</td>\n",
       "      <td>Harris</td>\n",
       "      <td>6</td>\n",
       "      <td>95000.0</td>\n",
       "      <td>95200.0</td>\n",
       "      <td>95400.0</td>\n",
       "      <td>95700.0</td>\n",
       "      <td>...</td>\n",
       "      <td>157900</td>\n",
       "      <td>158700</td>\n",
       "      <td>160200</td>\n",
       "      <td>161900</td>\n",
       "      <td>162800</td>\n",
       "      <td>162800</td>\n",
       "      <td>162800</td>\n",
       "      <td>162900</td>\n",
       "      <td>163500</td>\n",
       "      <td>164300</td>\n",
       "    </tr>\n",
       "    <tr>\n",
       "      <th>6</th>\n",
       "      <td>10467</td>\n",
       "      <td>New York</td>\n",
       "      <td>NY</td>\n",
       "      <td>New York</td>\n",
       "      <td>Bronx</td>\n",
       "      <td>7</td>\n",
       "      <td>152900.0</td>\n",
       "      <td>152700.0</td>\n",
       "      <td>152600.0</td>\n",
       "      <td>152400.0</td>\n",
       "      <td>...</td>\n",
       "      <td>394400</td>\n",
       "      <td>400000</td>\n",
       "      <td>407300</td>\n",
       "      <td>411600</td>\n",
       "      <td>413200</td>\n",
       "      <td>414300</td>\n",
       "      <td>413900</td>\n",
       "      <td>411400</td>\n",
       "      <td>413200</td>\n",
       "      <td>417900</td>\n",
       "    </tr>\n",
       "    <tr>\n",
       "      <th>8</th>\n",
       "      <td>77449</td>\n",
       "      <td>Katy</td>\n",
       "      <td>TX</td>\n",
       "      <td>Houston</td>\n",
       "      <td>Harris</td>\n",
       "      <td>9</td>\n",
       "      <td>95400.0</td>\n",
       "      <td>95600.0</td>\n",
       "      <td>95800.0</td>\n",
       "      <td>96100.0</td>\n",
       "      <td>...</td>\n",
       "      <td>166800</td>\n",
       "      <td>167400</td>\n",
       "      <td>168400</td>\n",
       "      <td>169600</td>\n",
       "      <td>170900</td>\n",
       "      <td>172300</td>\n",
       "      <td>173300</td>\n",
       "      <td>174200</td>\n",
       "      <td>175400</td>\n",
       "      <td>176200</td>\n",
       "    </tr>\n",
       "  </tbody>\n",
       "</table>\n",
       "<p>6 rows × 271 columns</p>\n",
       "</div>"
      ],
      "text/plain": [
       "   zipcode      City State              Metro CountyName  SizeRank   1996-04  \\\n",
       "1    75070  McKinney    TX  Dallas-Fort Worth     Collin         2  235700.0   \n",
       "2    77494      Katy    TX            Houston     Harris         3  210400.0   \n",
       "4    79936   El Paso    TX            El Paso    El Paso         5   77300.0   \n",
       "5    77084   Houston    TX            Houston     Harris         6   95000.0   \n",
       "6    10467  New York    NY           New York      Bronx         7  152900.0   \n",
       "8    77449      Katy    TX            Houston     Harris         9   95400.0   \n",
       "\n",
       "    1996-05   1996-06   1996-07  ...  2017-07  2017-08  2017-09  2017-10  \\\n",
       "1  236900.0  236700.0  235400.0  ...   308000   310000   312500   314100   \n",
       "2  212200.0  212200.0  210700.0  ...   321000   320600   320200   320400   \n",
       "4   77300.0   77300.0   77300.0  ...   119100   119400   120000   120300   \n",
       "5   95200.0   95400.0   95700.0  ...   157900   158700   160200   161900   \n",
       "6  152700.0  152600.0  152400.0  ...   394400   400000   407300   411600   \n",
       "8   95600.0   95800.0   96100.0  ...   166800   167400   168400   169600   \n",
       "\n",
       "   2017-11  2017-12  2018-01  2018-02  2018-03  2018-04  \n",
       "1   315000   316600   318100   319600   321100   321800  \n",
       "2   320800   321200   321200   323000   326900   329900  \n",
       "4   120300   120300   120300   120500   121000   121500  \n",
       "5   162800   162800   162800   162900   163500   164300  \n",
       "6   413200   414300   413900   411400   413200   417900  \n",
       "8   170900   172300   173300   174200   175400   176200  \n",
       "\n",
       "[6 rows x 271 columns]"
      ]
     },
     "execution_count": 104,
     "metadata": {},
     "output_type": "execute_result"
    }
   ],
   "source": [
    "df_draft = df[df.zipcode.isin(zip_list)]\n",
    "\n",
    "df_draft.head(10)"
   ]
  },
  {
   "cell_type": "code",
   "execution_count": 105,
   "metadata": {
    "ExecuteTime": {
     "end_time": "2022-06-27T21:50:03.305944Z",
     "start_time": "2022-06-27T21:50:03.298679Z"
    }
   },
   "outputs": [],
   "source": [
    "# This function was provided for us with the dataset at the beginning of this project\n",
    "def melt_data(df):\n",
    "    \"\"\"\n",
    "    Takes the zillow_data dataset in wide form or a subset of the zillow_dataset.  \n",
    "    Returns a long-form datetime dataframe \n",
    "    with the datetime column names as the index and the values as the 'values' column.\n",
    "    \n",
    "    If more than one row is passes in the wide-form dataset, the values column\n",
    "    will be the mean of the values from the datetime columns in all of the rows.\n",
    "    \"\"\"\n",
    "    melted = pd.melt(df, id_vars=['zipcode', 'City', 'State', 'Metro', 'CountyName', 'SizeRank'], var_name='time')\n",
    "    melted['time'] = pd.to_datetime(melted['time'])\n",
    "    melted = melted.dropna(subset=['value'])\n",
    "    return melted.groupby('time').aggregate({'value':'mean'})"
   ]
  },
  {
   "cell_type": "code",
   "execution_count": 106,
   "metadata": {
    "ExecuteTime": {
     "end_time": "2022-06-27T21:50:03.399483Z",
     "start_time": "2022-06-27T21:50:03.308976Z"
    }
   },
   "outputs": [
    {
     "data": {
      "text/html": [
       "<div>\n",
       "<style scoped>\n",
       "    .dataframe tbody tr th:only-of-type {\n",
       "        vertical-align: middle;\n",
       "    }\n",
       "\n",
       "    .dataframe tbody tr th {\n",
       "        vertical-align: top;\n",
       "    }\n",
       "\n",
       "    .dataframe thead th {\n",
       "        text-align: right;\n",
       "    }\n",
       "</style>\n",
       "<table border=\"1\" class=\"dataframe\">\n",
       "  <thead>\n",
       "    <tr style=\"text-align: right;\">\n",
       "      <th></th>\n",
       "      <th>75070</th>\n",
       "      <th>77494</th>\n",
       "      <th>79936</th>\n",
       "      <th>77084</th>\n",
       "      <th>10467</th>\n",
       "      <th>77449</th>\n",
       "    </tr>\n",
       "    <tr>\n",
       "      <th>time</th>\n",
       "      <th></th>\n",
       "      <th></th>\n",
       "      <th></th>\n",
       "      <th></th>\n",
       "      <th></th>\n",
       "      <th></th>\n",
       "    </tr>\n",
       "  </thead>\n",
       "  <tbody>\n",
       "    <tr>\n",
       "      <th>1996-04-01</th>\n",
       "      <td>235700.0</td>\n",
       "      <td>210400.0</td>\n",
       "      <td>77300.0</td>\n",
       "      <td>95000.0</td>\n",
       "      <td>152900.0</td>\n",
       "      <td>95400.0</td>\n",
       "    </tr>\n",
       "    <tr>\n",
       "      <th>1996-05-01</th>\n",
       "      <td>236900.0</td>\n",
       "      <td>212200.0</td>\n",
       "      <td>77300.0</td>\n",
       "      <td>95200.0</td>\n",
       "      <td>152700.0</td>\n",
       "      <td>95600.0</td>\n",
       "    </tr>\n",
       "    <tr>\n",
       "      <th>1996-06-01</th>\n",
       "      <td>236700.0</td>\n",
       "      <td>212200.0</td>\n",
       "      <td>77300.0</td>\n",
       "      <td>95400.0</td>\n",
       "      <td>152600.0</td>\n",
       "      <td>95800.0</td>\n",
       "    </tr>\n",
       "    <tr>\n",
       "      <th>1996-07-01</th>\n",
       "      <td>235400.0</td>\n",
       "      <td>210700.0</td>\n",
       "      <td>77300.0</td>\n",
       "      <td>95700.0</td>\n",
       "      <td>152400.0</td>\n",
       "      <td>96100.0</td>\n",
       "    </tr>\n",
       "    <tr>\n",
       "      <th>1996-08-01</th>\n",
       "      <td>233300.0</td>\n",
       "      <td>208300.0</td>\n",
       "      <td>77400.0</td>\n",
       "      <td>95900.0</td>\n",
       "      <td>152300.0</td>\n",
       "      <td>96400.0</td>\n",
       "    </tr>\n",
       "  </tbody>\n",
       "</table>\n",
       "</div>"
      ],
      "text/plain": [
       "               75070     77494    79936    77084     10467    77449\n",
       "time                                                               \n",
       "1996-04-01  235700.0  210400.0  77300.0  95000.0  152900.0  95400.0\n",
       "1996-05-01  236900.0  212200.0  77300.0  95200.0  152700.0  95600.0\n",
       "1996-06-01  236700.0  212200.0  77300.0  95400.0  152600.0  95800.0\n",
       "1996-07-01  235400.0  210700.0  77300.0  95700.0  152400.0  96100.0\n",
       "1996-08-01  233300.0  208300.0  77400.0  95900.0  152300.0  96400.0"
      ]
     },
     "execution_count": 106,
     "metadata": {},
     "output_type": "execute_result"
    }
   ],
   "source": [
    "# The code in this cell came courtesy of the other group working on this project \n",
    "df_prospects = pd.DataFrame()\n",
    "for i in df_draft['zipcode']:\n",
    "    x = melt_data(df_draft[df_draft['zipcode'] == i])\n",
    "    df_prospects = pd.concat([df_prospects, x], axis=1)\n",
    "    df_prospects.rename(columns = {'value':i}, inplace = True)\n",
    "    \n",
    "df_prospects.head()"
   ]
  },
  {
   "cell_type": "code",
   "execution_count": 107,
   "metadata": {
    "ExecuteTime": {
     "end_time": "2022-06-27T21:50:03.421168Z",
     "start_time": "2022-06-27T21:50:03.402073Z"
    }
   },
   "outputs": [],
   "source": [
    "df_prospects = df_prospects.asfreq('MS')"
   ]
  },
  {
   "cell_type": "code",
   "execution_count": 108,
   "metadata": {
    "ExecuteTime": {
     "end_time": "2022-06-27T21:50:03.742128Z",
     "start_time": "2022-06-27T21:50:03.425149Z"
    }
   },
   "outputs": [
    {
     "data": {
      "image/png": "[encoded data removed]",
      "text/plain": [
       "<Figure size 432x288 with 1 Axes>"
      ]
     },
     "metadata": {},
     "output_type": "display_data"
    }
   ],
   "source": [
    "df_prospects.plot();"
   ]
  },
  {
   "cell_type": "code",
   "execution_count": null,
   "metadata": {},
   "outputs": [],
   "source": []
  },
  {
   "cell_type": "code",
   "execution_count": null,
   "metadata": {},
   "outputs": [],
   "source": []
  },
  {
   "cell_type": "markdown",
   "metadata": {},
   "source": [
    "Since our clients are millennials who are first-time homebuyers, we want to look at home values post-2011, once the market had recovered from the 2008-2009 housing market collapse."
   ]
  },
  {
   "cell_type": "code",
   "execution_count": 109,
   "metadata": {
    "ExecuteTime": {
     "end_time": "2022-06-27T21:50:03.753037Z",
     "start_time": "2022-06-27T21:50:03.744861Z"
    }
   },
   "outputs": [],
   "source": [
    "df_prospects_postcrash = df_prospects['2012-01-31':]"
   ]
  },
  {
   "cell_type": "code",
   "execution_count": 110,
   "metadata": {
    "ExecuteTime": {
     "end_time": "2022-06-27T21:50:03.763358Z",
     "start_time": "2022-06-27T21:50:03.759228Z"
    }
   },
   "outputs": [],
   "source": [
    "# Create train-validation set\n",
    "cutoff = round(df_prospects_postcrash.shape[0]*0.8)\n",
    "train = df_prospects_postcrash[:cutoff]\n",
    "valid = df_prospects_postcrash[cutoff:]"
   ]
  },
  {
   "cell_type": "code",
   "execution_count": 111,
   "metadata": {
    "ExecuteTime": {
     "end_time": "2022-06-27T21:50:03.772198Z",
     "start_time": "2022-06-27T21:50:03.766227Z"
    }
   },
   "outputs": [],
   "source": [
    "def run_auto_arima(series_i):\n",
    "    \n",
    "    '''Runs a grid search on the series passed in, then instantiates and fits \n",
    "    an ARIMA model with those hyperparameters, then returns that fit model. '''\n",
    "    \n",
    "    gridsearch = auto_arima(series_i,\n",
    "                            start_p = 0,\n",
    "                            max_p = 3,\n",
    "                            d = 0, \n",
    "                            max_d = 3, \n",
    "                            start_q = 0,\n",
    "                            max_q = 3,\n",
    "                            seasonal=True,\n",
    "                            m = 12,\n",
    "                            suppress_warnings=True,\n",
    "                            error_action=\"ignore\")\n",
    "    \n",
    "    model = SARIMAX(series_i, \n",
    "                  order = gridsearch.order, \n",
    "                  seasonal_order = gridsearch.seasonal_order,\n",
    "                  enforce_stationarity=False,\n",
    "                  enforce_invertibility=False)\n",
    "    \n",
    "    return model.fit()"
   ]
  },
  {
   "cell_type": "code",
   "execution_count": 112,
   "metadata": {
    "ExecuteTime": {
     "end_time": "2022-06-27T21:50:03.780152Z",
     "start_time": "2022-06-27T21:50:03.775504Z"
    }
   },
   "outputs": [],
   "source": [
    "def run_arima_model(i, steps, df):\n",
    "    \n",
    "    '''This function takes i, representing the index of one of our time series,\n",
    "    steps, which is the number of periods after the end of the \n",
    "    sample you want to make a prediction for, and df, the dataframe the series\n",
    "    is stored in. It log transforms the series, runs run_auto_arima, gets the \n",
    "    forecast from the fit model, and inverse log transforms that forecast series\n",
    "    back into the original units.'''\n",
    "    \n",
    "    series = df.iloc[:, i:i+1]\n",
    "    \n",
    "    name = series.columns[0]\n",
    "    \n",
    "    model = run_auto_arima(series)\n",
    "\n",
    "    forecast = model.get_forecast(steps)\n",
    "    forecast_series = forecast.summary_frame()\n",
    "    \n",
    "    return name, series, forecast_series"
   ]
  },
  {
   "cell_type": "code",
   "execution_count": 113,
   "metadata": {
    "ExecuteTime": {
     "end_time": "2022-06-27T21:50:03.795217Z",
     "start_time": "2022-06-27T21:50:03.784044Z"
    }
   },
   "outputs": [],
   "source": [
    "def plot_results(i, steps, df):\n",
    "    \n",
    "    '''plot_results runs run_arima_model() and plots the results.'''\n",
    "    \n",
    "    name, original_series, forecast_series = run_arima_model(i, steps, df)\n",
    "\n",
    "    fig, ax = plt.subplots(figsize=(15, 7))\n",
    "    plt.plot(original_series)\n",
    "    plt.plot(forecast_series['mean'])\n",
    "    ax.fill_between(forecast_series.index, forecast_series['mean_ci_lower'], \n",
    "                    forecast_series['mean_ci_upper'], color='k', alpha=0.1)\n",
    "    plt.title(name)\n",
    "    plt.legend(['Original','Predicted'], loc='lower right')\n",
    "    plt.xlabel('Year')\n",
    "    plt.ylabel('Median Home Price')\n",
    "    plt.show()\n",
    "    \n",
    "    forecast = round(forecast_series['mean'][23])\n",
    "    low_int =  round(forecast_series['mean_ci_lower'][23])\n",
    "    high_int = round(forecast_series['mean_ci_upper'][23])\n",
    "    ci_delta = round(high_int - low_int)\n",
    "    \n",
    "    print(f'24 month forecast: {forecast}')\n",
    "    print(f'95% confidence that the true future value is between {low_int}, and {high_int}')\n",
    "    print(f'Confidence range: {ci_delta}')"
   ]
  },
  {
   "cell_type": "code",
   "execution_count": 114,
   "metadata": {
    "ExecuteTime": {
     "end_time": "2022-06-27T21:50:03.808551Z",
     "start_time": "2022-06-27T21:50:03.800269Z"
    }
   },
   "outputs": [],
   "source": [
    "def evaluate_models(df1, df2):\n",
    "    \n",
    "    '''This function takes in two dataframes (train and test in our case), \n",
    "    and returns a dataframe with how accurate the models fit to the train \n",
    "    set were in predicting the test set values.'''\n",
    "\n",
    "    names = []\n",
    "    actuals = []\n",
    "    preds = []\n",
    "    perc_errors = []\n",
    "    #mae_scores = []\n",
    "    \n",
    "    for i in range(len(train.columns)):\n",
    "        \n",
    "        name, series, forecast_series = run_arima_model(i, 24, df1)\n",
    "        \n",
    "        # Calls most recent value from 2018-04-01\n",
    "        actual_val = df2[name][-1]\n",
    "        predicted_val = forecast_series.iloc[23, 0]\n",
    "        error = abs(actual_val - predicted_val)\n",
    "        percent_error = (error/ actual_val) * 100\n",
    "        #mae_score = np.mean(np.abs(series.resid))\n",
    "        \n",
    "        names.append(name)\n",
    "        actuals.append(f'{round(actual_val):,}')\n",
    "        preds.append(f'{round(predicted_val):,}')\n",
    "        perc_errors.append(round(percent_error, 2))\n",
    "        #mae_scores.append(round(mae_score, 2))\n",
    "        \n",
    "        # print(train.columns[i][:-4], 'done', f'{i+1}/26')\n",
    "        \n",
    "    \n",
    "    results_df = pd.DataFrame(index=names)\n",
    "    results_df['2021 Actual'] = actuals \n",
    "    results_df['2021 Predicted'] = preds\n",
    "    results_df['% Error'] = perc_errors\n",
    "    #results_df['MAE Score'] = mae_score\n",
    "    #results_df.sort_values(by='MAE Score', inplace=True)\n",
    "    \n",
    "    return results_df"
   ]
  },
  {
   "cell_type": "code",
   "execution_count": 115,
   "metadata": {
    "ExecuteTime": {
     "end_time": "2022-06-27T21:50:03.821913Z",
     "start_time": "2022-06-27T21:50:03.813555Z"
    }
   },
   "outputs": [],
   "source": [
    "def generate_predictions(df, steps):\n",
    "    \n",
    "    '''Similar to evaluate_models(), this function takes in a dataframe,\n",
    "    and a specific number of steps, and returns a dataframe of the \n",
    "    future predictions the specified number of steps past the end of \n",
    "    the sample.'''\n",
    "    \n",
    "    names = []\n",
    "    current_vals = []\n",
    "    pred_vals = []\n",
    "    net_profits = []\n",
    "    ROI_strings = []\n",
    "    \n",
    "    count = 0\n",
    "    for i in range(len(df.columns)):\n",
    "        \n",
    "        count += 1\n",
    "        \n",
    "        name, series, forecast = run_arima_model(i, steps, df)\n",
    "\n",
    "        print(name)\n",
    "        \n",
    "        cur_val = series.iloc[-1, 0]\n",
    "        pred_val = forecast.iloc[steps-1, 0]\n",
    "        net_prof = round(pred_val - cur_val , 2)\n",
    "        roi = int(round(((pred_val - cur_val) / cur_val) * 100, 2))\n",
    "        \n",
    "        names.append(name)\n",
    "        current_vals.append(f'{round(cur_val):,}')\n",
    "        pred_vals.append(f'{round(pred_val):,}')\n",
    "        net_profits.append(f'{round(net_prof):,}')\n",
    "        ROI_strings.append(f'{roi}%') \n",
    "        \n",
    "        if count == 10:\n",
    "            break\n",
    "    \n",
    "    \n",
    "    results_df = pd.DataFrame()\n",
    "    results_df['Zipcode'] = names\n",
    "    results_df.set_index(['Zipcode'])\n",
    "    results_df['Current Value'] = current_vals\n",
    "    results_df['Predicted Value'] = pred_vals\n",
    "    results_df['Net Profit'] = net_profits\n",
    "    results_df['ROI'] = ROI_strings\n",
    "    \n",
    "    return results_df"
   ]
  },
  {
   "cell_type": "code",
   "execution_count": null,
   "metadata": {},
   "outputs": [],
   "source": []
  },
  {
   "cell_type": "code",
   "execution_count": 116,
   "metadata": {
    "ExecuteTime": {
     "end_time": "2022-06-27T21:50:29.300055Z",
     "start_time": "2022-06-27T21:50:03.827859Z"
    }
   },
   "outputs": [],
   "source": [
    "# This dataframe will show us how accurate our models are using train and validation sets\n",
    "eval_df = evaluate_models(train, valid)"
   ]
  },
  {
   "cell_type": "code",
   "execution_count": null,
   "metadata": {},
   "outputs": [],
   "source": [
    "eval_df"
   ]
  },
  {
   "cell_type": "code",
   "execution_count": 117,
   "metadata": {
    "ExecuteTime": {
     "end_time": "2022-06-27T21:50:29.407499Z",
     "start_time": "2022-06-27T21:50:29.301991Z"
    }
   },
   "outputs": [
    {
     "data": {
      "text/plain": [
       "79936     0.74\n",
       "77494     1.74\n",
       "10467     3.79\n",
       "75070    93.42\n",
       "77084    93.66\n",
       "77449    94.52\n",
       "Name: % Error, dtype: float64"
      ]
     },
     "execution_count": 117,
     "metadata": {},
     "output_type": "execute_result"
    }
   ],
   "source": [
    "# Displaying the 5 zipcodes with the smallest % error dataframe\n",
    "eval_df['% Error'].sort_values()"
   ]
  },
  {
   "cell_type": "code",
   "execution_count": 118,
   "metadata": {
    "ExecuteTime": {
     "end_time": "2022-06-27T21:50:29.429650Z",
     "start_time": "2022-06-27T21:50:29.421029Z"
    }
   },
   "outputs": [
    {
     "name": "stdout",
     "output_type": "stream",
     "text": [
      "On average our model based predictions were 38.0% off from the observed values.\n"
     ]
    }
   ],
   "source": [
    "# Calculating the average error using the dataframe above \n",
    "average_error = str(round(sum([int(i) for i in eval_df['% Error'].sort_values().head(5)]) / 5 , 2)) + '%'\n",
    "\n",
    "# Printing the result\n",
    "print(f\"On average our model based predictions were {average_error} off from the observed values.\")"
   ]
  },
  {
   "cell_type": "code",
   "execution_count": 119,
   "metadata": {
    "ExecuteTime": {
     "end_time": "2022-06-27T21:51:01.747879Z",
     "start_time": "2022-06-27T21:50:29.435445Z"
    }
   },
   "outputs": [
    {
     "name": "stdout",
     "output_type": "stream",
     "text": [
      "75070\n",
      "77494\n",
      "79936\n",
      "77084\n",
      "10467\n",
      "77449\n"
     ]
    }
   ],
   "source": [
    "# Getting predictions from our models for September of 2021 based on train set\n",
    "model_predictions_2021 = generate_predictions(train, 24)"
   ]
  },
  {
   "cell_type": "code",
   "execution_count": 120,
   "metadata": {
    "ExecuteTime": {
     "end_time": "2022-06-27T21:51:01.900900Z",
     "start_time": "2022-06-27T21:51:01.759711Z"
    }
   },
   "outputs": [
    {
     "data": {
      "text/plain": [
       "2      3%\n",
       "1      3%\n",
       "4     11%\n",
       "5    -94%\n",
       "3    -93%\n",
       "0    -92%\n",
       "Name: ROI, dtype: object"
      ]
     },
     "execution_count": 120,
     "metadata": {},
     "output_type": "execute_result"
    }
   ],
   "source": [
    "# Checking out the results\n",
    "model_predictions_2021['ROI'].sort_values(ascending=False)"
   ]
  },
  {
   "cell_type": "code",
   "execution_count": 121,
   "metadata": {
    "ExecuteTime": {
     "end_time": "2022-06-27T21:57:31.396532Z",
     "start_time": "2022-06-27T21:51:02.034448Z"
    }
   },
   "outputs": [
    {
     "name": "stdout",
     "output_type": "stream",
     "text": [
      "75070\n",
      "77494\n",
      "79936\n",
      "77084\n",
      "10467\n",
      "77449\n"
     ]
    }
   ],
   "source": [
    "# Generating predictions one year past our entire 1996 to 2021 dataset\n",
    "recommendation_df = generate_predictions(df_prospects, 24)"
   ]
  },
  {
   "cell_type": "code",
   "execution_count": 122,
   "metadata": {
    "ExecuteTime": {
     "end_time": "2022-06-27T21:57:31.408043Z",
     "start_time": "2022-06-27T21:57:31.399944Z"
    }
   },
   "outputs": [
    {
     "data": {
      "text/plain": [
       "5     8%\n",
       "0     8%\n",
       "3     7%\n",
       "4     4%\n",
       "1    14%\n",
       "2     0%\n",
       "Name: ROI, dtype: object"
      ]
     },
     "execution_count": 122,
     "metadata": {},
     "output_type": "execute_result"
    }
   ],
   "source": [
    "# Looking at the results\n",
    "recommendation_df['ROI'].sort_values(ascending=False)"
   ]
  },
  {
   "cell_type": "code",
   "execution_count": 123,
   "metadata": {
    "ExecuteTime": {
     "end_time": "2022-06-27T21:59:48.829913Z",
     "start_time": "2022-06-27T21:59:48.806523Z"
    }
   },
   "outputs": [],
   "source": [
    "top_zips = df_prospects[[75070,77494,79936,77084,10467,77449]]"
   ]
  },
  {
   "cell_type": "code",
   "execution_count": 124,
   "metadata": {
    "ExecuteTime": {
     "end_time": "2022-06-27T22:01:07.510416Z",
     "start_time": "2022-06-27T22:00:17.353337Z"
    }
   },
   "outputs": [
    {
     "data": {
      "image/png": "[encoded data removed]",
      "text/plain": [
       "<Figure size 1080x504 with 1 Axes>"
      ]
     },
     "metadata": {},
     "output_type": "display_data"
    },
    {
     "name": "stdout",
     "output_type": "stream",
     "text": [
      "24 month forecast: 348414\n",
      "95% confidence that the true future value is between -1592778, and 2289606\n",
      "Confidence range: 3882384\n"
     ]
    }
   ],
   "source": [
    "plot_results(0, 24, top_zips)"
   ]
  },
  {
   "cell_type": "code",
   "execution_count": 125,
   "metadata": {
    "ExecuteTime": {
     "end_time": "2022-06-27T22:02:24.012703Z",
     "start_time": "2022-06-27T22:01:07.514892Z"
    }
   },
   "outputs": [
    {
     "data": {
      "image/png": "[encoded data removed]",
      "text/plain": [
       "<Figure size 1080x504 with 1 Axes>"
      ]
     },
     "metadata": {},
     "output_type": "display_data"
    },
    {
     "name": "stdout",
     "output_type": "stream",
     "text": [
      "24 month forecast: 378651\n",
      "95% confidence that the true future value is between 121986, and 635317\n",
      "Confidence range: 513331\n"
     ]
    }
   ],
   "source": [
    "plot_results(1, 24, top_zips)"
   ]
  },
  {
   "cell_type": "code",
   "execution_count": 126,
   "metadata": {
    "ExecuteTime": {
     "end_time": "2022-06-27T22:03:38.255288Z",
     "start_time": "2022-06-27T22:02:24.020631Z"
    }
   },
   "outputs": [
    {
     "data": {
      "image/png": "[encoded data removed]",
      "text/plain": [
       "<Figure size 1080x504 with 1 Axes>"
      ]
     },
     "metadata": {},
     "output_type": "display_data"
    },
    {
     "name": "stdout",
     "output_type": "stream",
     "text": [
      "24 month forecast: 122304\n",
      "95% confidence that the true future value is between 93900, and 150709\n",
      "Confidence range: 56809\n"
     ]
    }
   ],
   "source": [
    "plot_results(2, 24, top_zips)"
   ]
  },
  {
   "cell_type": "code",
   "execution_count": null,
   "metadata": {
    "ExecuteTime": {
     "start_time": "2022-06-27T22:00:17.550Z"
    }
   },
   "outputs": [],
   "source": [
    "plot_results(3, 24, top_zips)"
   ]
  },
  {
   "cell_type": "code",
   "execution_count": null,
   "metadata": {
    "ExecuteTime": {
     "start_time": "2022-06-27T22:00:17.566Z"
    }
   },
   "outputs": [],
   "source": [
    "plot_results(4, 24, top_zips)"
   ]
  },
  {
   "cell_type": "code",
   "execution_count": null,
   "metadata": {
    "ExecuteTime": {
     "start_time": "2022-06-27T22:00:17.593Z"
    }
   },
   "outputs": [],
   "source": [
    "plot_results(5, 24, top_zips)"
   ]
  },
  {
   "cell_type": "code",
   "execution_count": null,
   "metadata": {},
   "outputs": [],
   "source": []
  },
  {
   "cell_type": "code",
   "execution_count": null,
   "metadata": {},
   "outputs": [],
   "source": []
  },
  {
   "cell_type": "code",
   "execution_count": null,
   "metadata": {},
   "outputs": [],
   "source": []
  },
  {
   "cell_type": "code",
   "execution_count": null,
   "metadata": {},
   "outputs": [],
   "source": []
  },
  {
   "cell_type": "code",
   "execution_count": null,
   "metadata": {},
   "outputs": [],
   "source": []
  },
  {
   "cell_type": "code",
   "execution_count": null,
   "metadata": {},
   "outputs": [],
   "source": []
  },
  {
   "cell_type": "code",
   "execution_count": null,
   "metadata": {},
   "outputs": [],
   "source": []
  },
  {
   "cell_type": "code",
   "execution_count": null,
   "metadata": {},
   "outputs": [],
   "source": []
  },
  {
   "cell_type": "code",
   "execution_count": null,
   "metadata": {},
   "outputs": [],
   "source": []
  },
  {
   "cell_type": "code",
   "execution_count": null,
   "metadata": {},
   "outputs": [],
   "source": []
  },
  {
   "cell_type": "code",
   "execution_count": null,
   "metadata": {},
   "outputs": [],
   "source": []
  },
  {
   "cell_type": "code",
   "execution_count": null,
   "metadata": {},
   "outputs": [],
   "source": []
  },
  {
   "cell_type": "code",
   "execution_count": null,
   "metadata": {},
   "outputs": [],
   "source": []
  },
  {
   "cell_type": "code",
   "execution_count": null,
   "metadata": {},
   "outputs": [],
   "source": []
  },
  {
   "cell_type": "code",
   "execution_count": null,
   "metadata": {},
   "outputs": [],
   "source": []
  },
  {
   "cell_type": "code",
   "execution_count": null,
   "metadata": {},
   "outputs": [],
   "source": []
  },
  {
   "cell_type": "code",
   "execution_count": null,
   "metadata": {},
   "outputs": [],
   "source": []
  },
  {
   "cell_type": "code",
   "execution_count": null,
   "metadata": {},
   "outputs": [],
   "source": []
  },
  {
   "cell_type": "code",
   "execution_count": null,
   "metadata": {},
   "outputs": [],
   "source": []
  },
  {
   "cell_type": "code",
   "execution_count": null,
   "metadata": {},
   "outputs": [],
   "source": []
  },
  {
   "cell_type": "code",
   "execution_count": null,
   "metadata": {},
   "outputs": [],
   "source": []
  },
  {
   "cell_type": "code",
   "execution_count": null,
   "metadata": {},
   "outputs": [],
   "source": []
  },
  {
   "cell_type": "code",
   "execution_count": null,
   "metadata": {},
   "outputs": [],
   "source": []
  },
  {
   "cell_type": "code",
   "execution_count": null,
   "metadata": {},
   "outputs": [],
   "source": []
  },
  {
   "cell_type": "code",
   "execution_count": null,
   "metadata": {},
   "outputs": [],
   "source": []
  },
  {
   "cell_type": "code",
   "execution_count": null,
   "metadata": {},
   "outputs": [],
   "source": []
  },
  {
   "cell_type": "code",
   "execution_count": null,
   "metadata": {},
   "outputs": [],
   "source": []
  },
  {
   "cell_type": "code",
   "execution_count": null,
   "metadata": {},
   "outputs": [],
   "source": []
  },
  {
   "cell_type": "code",
   "execution_count": null,
   "metadata": {},
   "outputs": [],
   "source": []
  },
  {
   "cell_type": "code",
   "execution_count": null,
   "metadata": {},
   "outputs": [],
   "source": []
  },
  {
   "cell_type": "code",
   "execution_count": null,
   "metadata": {},
   "outputs": [],
   "source": []
  },
  {
   "cell_type": "code",
   "execution_count": null,
   "metadata": {},
   "outputs": [],
   "source": []
  },
  {
   "cell_type": "code",
   "execution_count": null,
   "metadata": {},
   "outputs": [],
   "source": []
  },
  {
   "cell_type": "code",
   "execution_count": null,
   "metadata": {},
   "outputs": [],
   "source": []
  },
  {
   "cell_type": "code",
   "execution_count": null,
   "metadata": {},
   "outputs": [],
   "source": []
  },
  {
   "cell_type": "code",
   "execution_count": null,
   "metadata": {},
   "outputs": [],
   "source": []
  },
  {
   "cell_type": "code",
   "execution_count": null,
   "metadata": {},
   "outputs": [],
   "source": []
  },
  {
   "cell_type": "code",
   "execution_count": null,
   "metadata": {},
   "outputs": [],
   "source": []
  }
 ],
 "metadata": {
  "kernelspec": {
   "display_name": "Python 3",
   "language": "python",
   "name": "python3"
  },
  "language_info": {
   "codemirror_mode": {
    "name": "ipython",
    "version": 3
   },
   "file_extension": ".py",
   "mimetype": "text/x-python",
   "name": "python",
   "nbconvert_exporter": "python",
   "pygments_lexer": "ipython3",
   "version": "3.8.5"
  },
  "toc": {
   "base_numbering": 1,
   "nav_menu": {},
   "number_sections": true,
   "sideBar": true,
   "skip_h1_title": false,
   "title_cell": "Table of Contents",
   "title_sidebar": "Contents",
   "toc_cell": false,
   "toc_position": {
    "height": "calc(100% - 180px)",
    "left": "10px",
    "top": "150px",
    "width": "209.908px"
   },
   "toc_section_display": true,
   "toc_window_display": false
  }
 },
 "nbformat": 4,
 "nbformat_minor": 2
}
