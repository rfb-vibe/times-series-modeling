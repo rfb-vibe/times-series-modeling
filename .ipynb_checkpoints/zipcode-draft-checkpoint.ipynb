{
 "cells": [
  {
   "cell_type": "markdown",
   "metadata": {},
   "source": [
    "# Business Understanding\n",
    "\n",
    "Business Problem: What are the top 5 best zip codes for us to invest in?\n",
    "\n",
    "* How are we defining \"best\" zip code?\n",
    "* Profit margins only?\n",
    "* What about risk?\n",
    "* What sort of time horizon are you predicting against?\n",
    "\n",
    "Your recommendation will need to detail your rationale and answer any sort of lingering questions like these in order to demonstrate how you define \"best\".\n",
    "\n",
    "It is important to understand that time series modeling is a tool in your toolbox, and the forecasts it provides you are what you'll use to answer important questions.\n",
    "\n",
    "In short, to pass this project, **demonstrating the quality and thoughtfulness of your overall recommendation** is at least as important as successfully building a time series model!\n",
    "\n",
    "## Evaluation\n",
    "In addition to deciding which quantitative metric(s) you want to target (e.g. minimizing mean squared error), you need to start with a definition of \"best investment\". Consider additional metrics like risk vs. profitability, or ROI yield"
   ]
  },
  {
   "cell_type": "code",
   "execution_count": 64,
   "metadata": {
    "ExecuteTime": {
     "end_time": "2022-06-22T19:29:12.085064Z",
     "start_time": "2022-06-22T19:29:12.071924Z"
    }
   },
   "outputs": [],
   "source": [
    "# Basics\n",
    "import pandas as pd\n",
    "import numpy as np\n",
    "#from pyzipcode import ZipCodeDatabase\n",
    "#from datetime import datetime as dt\n",
    "\n",
    "# Visualization\n",
    "import matplotlib.pyplot as plt\n",
    "from matplotlib.pylab import rcParams\n",
    "plt.style.use('ggplot')\n",
    "\n",
    "# Modeling\n",
    "import statsmodels.api as sm\n",
    "from statsmodels.tsa.stattools import adfuller\n",
    "import itertools\n",
    "from sklearn.metrics import mean_squared_error\n",
    "#from statsmodels.tsa.seasonal import seasonal_decompose\n",
    "#from statsmodels.tsa.stattools import adfuller\n",
    "from statsmodels.tsa.arima.model import ARIMA\n",
    "from statsmodels.tsa.statespace.sarimax import SARIMAX\n",
    "from pmdarima.arima import auto_arima\n",
    "#from statsmodels.tsa.stattools import acf, pacf\n",
    "#from statsmodels.graphics.tsaplots import plot_acf, plot_pacf\n",
    "\n",
    "\n",
    "# Warnings\n",
    "import warnings\n",
    "from statsmodels.tools.sm_exceptions import ConvergenceWarning, ValueWarning\n",
    "warnings.simplefilter('ignore', ConvergenceWarning)\n",
    "warnings.simplefilter('ignore', ValueWarning)"
   ]
  },
  {
   "cell_type": "code",
   "execution_count": 65,
   "metadata": {
    "ExecuteTime": {
     "end_time": "2022-06-22T19:29:12.671675Z",
     "start_time": "2022-06-22T19:29:12.091924Z"
    }
   },
   "outputs": [],
   "source": [
    "df = pd.read_csv('zillow_data.csv')"
   ]
  },
  {
   "cell_type": "code",
   "execution_count": 66,
   "metadata": {
    "ExecuteTime": {
     "end_time": "2022-06-22T19:29:12.696940Z",
     "start_time": "2022-06-22T19:29:12.674321Z"
    }
   },
   "outputs": [
    {
     "data": {
      "text/html": [
       "<div>\n",
       "<style scoped>\n",
       "    .dataframe tbody tr th:only-of-type {\n",
       "        vertical-align: middle;\n",
       "    }\n",
       "\n",
       "    .dataframe tbody tr th {\n",
       "        vertical-align: top;\n",
       "    }\n",
       "\n",
       "    .dataframe thead th {\n",
       "        text-align: right;\n",
       "    }\n",
       "</style>\n",
       "<table border=\"1\" class=\"dataframe\">\n",
       "  <thead>\n",
       "    <tr style=\"text-align: right;\">\n",
       "      <th></th>\n",
       "      <th>RegionID</th>\n",
       "      <th>RegionName</th>\n",
       "      <th>City</th>\n",
       "      <th>State</th>\n",
       "      <th>Metro</th>\n",
       "      <th>CountyName</th>\n",
       "      <th>SizeRank</th>\n",
       "      <th>1996-04</th>\n",
       "      <th>1996-05</th>\n",
       "      <th>1996-06</th>\n",
       "      <th>...</th>\n",
       "      <th>2017-07</th>\n",
       "      <th>2017-08</th>\n",
       "      <th>2017-09</th>\n",
       "      <th>2017-10</th>\n",
       "      <th>2017-11</th>\n",
       "      <th>2017-12</th>\n",
       "      <th>2018-01</th>\n",
       "      <th>2018-02</th>\n",
       "      <th>2018-03</th>\n",
       "      <th>2018-04</th>\n",
       "    </tr>\n",
       "  </thead>\n",
       "  <tbody>\n",
       "    <tr>\n",
       "      <th>0</th>\n",
       "      <td>84654</td>\n",
       "      <td>60657</td>\n",
       "      <td>Chicago</td>\n",
       "      <td>IL</td>\n",
       "      <td>Chicago</td>\n",
       "      <td>Cook</td>\n",
       "      <td>1</td>\n",
       "      <td>334200.0</td>\n",
       "      <td>335400.0</td>\n",
       "      <td>336500.0</td>\n",
       "      <td>...</td>\n",
       "      <td>1005500</td>\n",
       "      <td>1007500</td>\n",
       "      <td>1007800</td>\n",
       "      <td>1009600</td>\n",
       "      <td>1013300</td>\n",
       "      <td>1018700</td>\n",
       "      <td>1024400</td>\n",
       "      <td>1030700</td>\n",
       "      <td>1033800</td>\n",
       "      <td>1030600</td>\n",
       "    </tr>\n",
       "    <tr>\n",
       "      <th>1</th>\n",
       "      <td>90668</td>\n",
       "      <td>75070</td>\n",
       "      <td>McKinney</td>\n",
       "      <td>TX</td>\n",
       "      <td>Dallas-Fort Worth</td>\n",
       "      <td>Collin</td>\n",
       "      <td>2</td>\n",
       "      <td>235700.0</td>\n",
       "      <td>236900.0</td>\n",
       "      <td>236700.0</td>\n",
       "      <td>...</td>\n",
       "      <td>308000</td>\n",
       "      <td>310000</td>\n",
       "      <td>312500</td>\n",
       "      <td>314100</td>\n",
       "      <td>315000</td>\n",
       "      <td>316600</td>\n",
       "      <td>318100</td>\n",
       "      <td>319600</td>\n",
       "      <td>321100</td>\n",
       "      <td>321800</td>\n",
       "    </tr>\n",
       "    <tr>\n",
       "      <th>2</th>\n",
       "      <td>91982</td>\n",
       "      <td>77494</td>\n",
       "      <td>Katy</td>\n",
       "      <td>TX</td>\n",
       "      <td>Houston</td>\n",
       "      <td>Harris</td>\n",
       "      <td>3</td>\n",
       "      <td>210400.0</td>\n",
       "      <td>212200.0</td>\n",
       "      <td>212200.0</td>\n",
       "      <td>...</td>\n",
       "      <td>321000</td>\n",
       "      <td>320600</td>\n",
       "      <td>320200</td>\n",
       "      <td>320400</td>\n",
       "      <td>320800</td>\n",
       "      <td>321200</td>\n",
       "      <td>321200</td>\n",
       "      <td>323000</td>\n",
       "      <td>326900</td>\n",
       "      <td>329900</td>\n",
       "    </tr>\n",
       "    <tr>\n",
       "      <th>3</th>\n",
       "      <td>84616</td>\n",
       "      <td>60614</td>\n",
       "      <td>Chicago</td>\n",
       "      <td>IL</td>\n",
       "      <td>Chicago</td>\n",
       "      <td>Cook</td>\n",
       "      <td>4</td>\n",
       "      <td>498100.0</td>\n",
       "      <td>500900.0</td>\n",
       "      <td>503100.0</td>\n",
       "      <td>...</td>\n",
       "      <td>1289800</td>\n",
       "      <td>1287700</td>\n",
       "      <td>1287400</td>\n",
       "      <td>1291500</td>\n",
       "      <td>1296600</td>\n",
       "      <td>1299000</td>\n",
       "      <td>1302700</td>\n",
       "      <td>1306400</td>\n",
       "      <td>1308500</td>\n",
       "      <td>1307000</td>\n",
       "    </tr>\n",
       "    <tr>\n",
       "      <th>4</th>\n",
       "      <td>93144</td>\n",
       "      <td>79936</td>\n",
       "      <td>El Paso</td>\n",
       "      <td>TX</td>\n",
       "      <td>El Paso</td>\n",
       "      <td>El Paso</td>\n",
       "      <td>5</td>\n",
       "      <td>77300.0</td>\n",
       "      <td>77300.0</td>\n",
       "      <td>77300.0</td>\n",
       "      <td>...</td>\n",
       "      <td>119100</td>\n",
       "      <td>119400</td>\n",
       "      <td>120000</td>\n",
       "      <td>120300</td>\n",
       "      <td>120300</td>\n",
       "      <td>120300</td>\n",
       "      <td>120300</td>\n",
       "      <td>120500</td>\n",
       "      <td>121000</td>\n",
       "      <td>121500</td>\n",
       "    </tr>\n",
       "  </tbody>\n",
       "</table>\n",
       "<p>5 rows × 272 columns</p>\n",
       "</div>"
      ],
      "text/plain": [
       "   RegionID  RegionName      City State              Metro CountyName  \\\n",
       "0     84654       60657   Chicago    IL            Chicago       Cook   \n",
       "1     90668       75070  McKinney    TX  Dallas-Fort Worth     Collin   \n",
       "2     91982       77494      Katy    TX            Houston     Harris   \n",
       "3     84616       60614   Chicago    IL            Chicago       Cook   \n",
       "4     93144       79936   El Paso    TX            El Paso    El Paso   \n",
       "\n",
       "   SizeRank   1996-04   1996-05   1996-06  ...  2017-07  2017-08  2017-09  \\\n",
       "0         1  334200.0  335400.0  336500.0  ...  1005500  1007500  1007800   \n",
       "1         2  235700.0  236900.0  236700.0  ...   308000   310000   312500   \n",
       "2         3  210400.0  212200.0  212200.0  ...   321000   320600   320200   \n",
       "3         4  498100.0  500900.0  503100.0  ...  1289800  1287700  1287400   \n",
       "4         5   77300.0   77300.0   77300.0  ...   119100   119400   120000   \n",
       "\n",
       "   2017-10  2017-11  2017-12  2018-01  2018-02  2018-03  2018-04  \n",
       "0  1009600  1013300  1018700  1024400  1030700  1033800  1030600  \n",
       "1   314100   315000   316600   318100   319600   321100   321800  \n",
       "2   320400   320800   321200   321200   323000   326900   329900  \n",
       "3  1291500  1296600  1299000  1302700  1306400  1308500  1307000  \n",
       "4   120300   120300   120300   120300   120500   121000   121500  \n",
       "\n",
       "[5 rows x 272 columns]"
      ]
     },
     "execution_count": 66,
     "metadata": {},
     "output_type": "execute_result"
    }
   ],
   "source": [
    "df.head()"
   ]
  },
  {
   "cell_type": "markdown",
   "metadata": {},
   "source": [
    "What do I want to do here?\n",
    "\n",
    "* I want to create city and state combos to be able to easily sort for the cities I want since I don't care to look up all the zip codes.\n",
    "* I want to eventually pivot long the data so month/year combos are data points, not column headers\n",
    "* I want to have just the year so we have yearly averages"
   ]
  },
  {
   "cell_type": "code",
   "execution_count": 67,
   "metadata": {
    "ExecuteTime": {
     "end_time": "2022-06-22T19:29:12.719497Z",
     "start_time": "2022-06-22T19:29:12.706347Z"
    }
   },
   "outputs": [],
   "source": [
    "# combines the City and State columns as a new Location columns\n",
    "df['Location'] = df['City'] + ', ' + df['State']"
   ]
  },
  {
   "cell_type": "markdown",
   "metadata": {},
   "source": [
    "https://www.niche.com/places-to-live/search/best-cities-for-young-professionals/?costOfLiving=affordable\n",
    "\n",
    "https://www.niche.com/about/methodology/best-places-for-young-professionals/"
   ]
  },
  {
   "cell_type": "code",
   "execution_count": 68,
   "metadata": {
    "ExecuteTime": {
     "end_time": "2022-06-22T19:29:12.728478Z",
     "start_time": "2022-06-22T19:29:12.723202Z"
    }
   },
   "outputs": [],
   "source": [
    "# List of the Top 25 affordable cities for Millennials\n",
    "mill_cities = ['Minneapolis, MN', 'Pittsburgh, PA', 'Plano, TX', 'Richardson, TX',\n",
    "               'Philadelphia, PA', 'Saint Paul, MN', 'Metairie, LA', 'Saint Louis, MO',\n",
    "               'Providence, RI', 'Overland Park, KS', 'Charlotte, NC', 'Grand Rapids, MI',\n",
    "               'Irving, TX', 'Cincinnati, OH', 'Raleigh, NC', 'Omaha, NE', 'Columbus, OH',\n",
    "               'Nashville, TN', 'Tampa, FL', 'The Woodlands, TX', 'Dallas, TX',\n",
    "               'Durham, NC', 'Denton, TX', 'Houston, TX', 'Rochester, NY']"
   ]
  },
  {
   "cell_type": "code",
   "execution_count": 69,
   "metadata": {
    "ExecuteTime": {
     "end_time": "2022-06-22T19:29:12.760252Z",
     "start_time": "2022-06-22T19:29:12.731207Z"
    }
   },
   "outputs": [
    {
     "data": {
      "text/html": [
       "<div>\n",
       "<style scoped>\n",
       "    .dataframe tbody tr th:only-of-type {\n",
       "        vertical-align: middle;\n",
       "    }\n",
       "\n",
       "    .dataframe tbody tr th {\n",
       "        vertical-align: top;\n",
       "    }\n",
       "\n",
       "    .dataframe thead th {\n",
       "        text-align: right;\n",
       "    }\n",
       "</style>\n",
       "<table border=\"1\" class=\"dataframe\">\n",
       "  <thead>\n",
       "    <tr style=\"text-align: right;\">\n",
       "      <th></th>\n",
       "      <th>RegionID</th>\n",
       "      <th>RegionName</th>\n",
       "      <th>City</th>\n",
       "      <th>State</th>\n",
       "      <th>Metro</th>\n",
       "      <th>CountyName</th>\n",
       "      <th>SizeRank</th>\n",
       "      <th>1996-04</th>\n",
       "      <th>1996-05</th>\n",
       "      <th>1996-06</th>\n",
       "      <th>...</th>\n",
       "      <th>2017-08</th>\n",
       "      <th>2017-09</th>\n",
       "      <th>2017-10</th>\n",
       "      <th>2017-11</th>\n",
       "      <th>2017-12</th>\n",
       "      <th>2018-01</th>\n",
       "      <th>2018-02</th>\n",
       "      <th>2018-03</th>\n",
       "      <th>2018-04</th>\n",
       "      <th>Location</th>\n",
       "    </tr>\n",
       "  </thead>\n",
       "  <tbody>\n",
       "    <tr>\n",
       "      <th>5</th>\n",
       "      <td>91733</td>\n",
       "      <td>77084</td>\n",
       "      <td>Houston</td>\n",
       "      <td>TX</td>\n",
       "      <td>Houston</td>\n",
       "      <td>Harris</td>\n",
       "      <td>6</td>\n",
       "      <td>95000.0</td>\n",
       "      <td>95200.0</td>\n",
       "      <td>95400.0</td>\n",
       "      <td>...</td>\n",
       "      <td>158700</td>\n",
       "      <td>160200</td>\n",
       "      <td>161900</td>\n",
       "      <td>162800</td>\n",
       "      <td>162800</td>\n",
       "      <td>162800</td>\n",
       "      <td>162900</td>\n",
       "      <td>163500</td>\n",
       "      <td>164300</td>\n",
       "      <td>Houston, TX</td>\n",
       "    </tr>\n",
       "    <tr>\n",
       "      <th>14</th>\n",
       "      <td>74101</td>\n",
       "      <td>37013</td>\n",
       "      <td>Nashville</td>\n",
       "      <td>TN</td>\n",
       "      <td>Nashville</td>\n",
       "      <td>Davidson</td>\n",
       "      <td>15</td>\n",
       "      <td>112400.0</td>\n",
       "      <td>112700.0</td>\n",
       "      <td>113000.0</td>\n",
       "      <td>...</td>\n",
       "      <td>194900</td>\n",
       "      <td>196600</td>\n",
       "      <td>198800</td>\n",
       "      <td>201300</td>\n",
       "      <td>203800</td>\n",
       "      <td>205900</td>\n",
       "      <td>207600</td>\n",
       "      <td>210000</td>\n",
       "      <td>211900</td>\n",
       "      <td>Nashville, TN</td>\n",
       "    </tr>\n",
       "    <tr>\n",
       "      <th>17</th>\n",
       "      <td>74242</td>\n",
       "      <td>37211</td>\n",
       "      <td>Nashville</td>\n",
       "      <td>TN</td>\n",
       "      <td>Nashville</td>\n",
       "      <td>Davidson</td>\n",
       "      <td>18</td>\n",
       "      <td>97900.0</td>\n",
       "      <td>98000.0</td>\n",
       "      <td>98200.0</td>\n",
       "      <td>...</td>\n",
       "      <td>245000</td>\n",
       "      <td>246700</td>\n",
       "      <td>248800</td>\n",
       "      <td>251100</td>\n",
       "      <td>253900</td>\n",
       "      <td>256500</td>\n",
       "      <td>259000</td>\n",
       "      <td>262100</td>\n",
       "      <td>264200</td>\n",
       "      <td>Nashville, TN</td>\n",
       "    </tr>\n",
       "    <tr>\n",
       "      <th>24</th>\n",
       "      <td>69816</td>\n",
       "      <td>28269</td>\n",
       "      <td>Charlotte</td>\n",
       "      <td>NC</td>\n",
       "      <td>Charlotte</td>\n",
       "      <td>Mecklenburg</td>\n",
       "      <td>25</td>\n",
       "      <td>126100.0</td>\n",
       "      <td>126600.0</td>\n",
       "      <td>127100.0</td>\n",
       "      <td>...</td>\n",
       "      <td>186600</td>\n",
       "      <td>188200</td>\n",
       "      <td>189800</td>\n",
       "      <td>191700</td>\n",
       "      <td>193500</td>\n",
       "      <td>195100</td>\n",
       "      <td>196600</td>\n",
       "      <td>198500</td>\n",
       "      <td>199700</td>\n",
       "      <td>Charlotte, NC</td>\n",
       "    </tr>\n",
       "    <tr>\n",
       "      <th>44</th>\n",
       "      <td>91685</td>\n",
       "      <td>77036</td>\n",
       "      <td>Houston</td>\n",
       "      <td>TX</td>\n",
       "      <td>Houston</td>\n",
       "      <td>Harris</td>\n",
       "      <td>45</td>\n",
       "      <td>120400.0</td>\n",
       "      <td>118700.0</td>\n",
       "      <td>117300.0</td>\n",
       "      <td>...</td>\n",
       "      <td>174600</td>\n",
       "      <td>175000</td>\n",
       "      <td>176000</td>\n",
       "      <td>177200</td>\n",
       "      <td>177700</td>\n",
       "      <td>177700</td>\n",
       "      <td>179800</td>\n",
       "      <td>185100</td>\n",
       "      <td>189800</td>\n",
       "      <td>Houston, TX</td>\n",
       "    </tr>\n",
       "    <tr>\n",
       "      <th>54</th>\n",
       "      <td>90823</td>\n",
       "      <td>75287</td>\n",
       "      <td>Dallas</td>\n",
       "      <td>TX</td>\n",
       "      <td>Dallas-Fort Worth</td>\n",
       "      <td>Dallas</td>\n",
       "      <td>55</td>\n",
       "      <td>184400.0</td>\n",
       "      <td>183300.0</td>\n",
       "      <td>182400.0</td>\n",
       "      <td>...</td>\n",
       "      <td>322300</td>\n",
       "      <td>325000</td>\n",
       "      <td>325900</td>\n",
       "      <td>326200</td>\n",
       "      <td>326700</td>\n",
       "      <td>328000</td>\n",
       "      <td>330800</td>\n",
       "      <td>333900</td>\n",
       "      <td>335100</td>\n",
       "      <td>Dallas, TX</td>\n",
       "    </tr>\n",
       "    <tr>\n",
       "      <th>55</th>\n",
       "      <td>69823</td>\n",
       "      <td>28277</td>\n",
       "      <td>Charlotte</td>\n",
       "      <td>NC</td>\n",
       "      <td>Charlotte</td>\n",
       "      <td>Mecklenburg</td>\n",
       "      <td>56</td>\n",
       "      <td>183900.0</td>\n",
       "      <td>185100.0</td>\n",
       "      <td>186300.0</td>\n",
       "      <td>...</td>\n",
       "      <td>349500</td>\n",
       "      <td>350500</td>\n",
       "      <td>352500</td>\n",
       "      <td>355400</td>\n",
       "      <td>357900</td>\n",
       "      <td>359900</td>\n",
       "      <td>361900</td>\n",
       "      <td>363800</td>\n",
       "      <td>364800</td>\n",
       "      <td>Charlotte, NC</td>\n",
       "    </tr>\n",
       "    <tr>\n",
       "      <th>63</th>\n",
       "      <td>91726</td>\n",
       "      <td>77077</td>\n",
       "      <td>Houston</td>\n",
       "      <td>TX</td>\n",
       "      <td>Houston</td>\n",
       "      <td>Harris</td>\n",
       "      <td>64</td>\n",
       "      <td>177100.0</td>\n",
       "      <td>180000.0</td>\n",
       "      <td>182700.0</td>\n",
       "      <td>...</td>\n",
       "      <td>310000</td>\n",
       "      <td>310800</td>\n",
       "      <td>311600</td>\n",
       "      <td>311800</td>\n",
       "      <td>311200</td>\n",
       "      <td>310500</td>\n",
       "      <td>311400</td>\n",
       "      <td>313800</td>\n",
       "      <td>315900</td>\n",
       "      <td>Houston, TX</td>\n",
       "    </tr>\n",
       "    <tr>\n",
       "      <th>69</th>\n",
       "      <td>90795</td>\n",
       "      <td>75243</td>\n",
       "      <td>Dallas</td>\n",
       "      <td>TX</td>\n",
       "      <td>Dallas-Fort Worth</td>\n",
       "      <td>Dallas</td>\n",
       "      <td>70</td>\n",
       "      <td>136500.0</td>\n",
       "      <td>136400.0</td>\n",
       "      <td>136400.0</td>\n",
       "      <td>...</td>\n",
       "      <td>280900</td>\n",
       "      <td>280900</td>\n",
       "      <td>281700</td>\n",
       "      <td>283300</td>\n",
       "      <td>286400</td>\n",
       "      <td>290200</td>\n",
       "      <td>293600</td>\n",
       "      <td>295600</td>\n",
       "      <td>296100</td>\n",
       "      <td>Dallas, TX</td>\n",
       "    </tr>\n",
       "    <tr>\n",
       "      <th>154</th>\n",
       "      <td>72737</td>\n",
       "      <td>33647</td>\n",
       "      <td>Tampa</td>\n",
       "      <td>FL</td>\n",
       "      <td>Tampa</td>\n",
       "      <td>Hillsborough</td>\n",
       "      <td>155</td>\n",
       "      <td>127300.0</td>\n",
       "      <td>126700.0</td>\n",
       "      <td>126300.0</td>\n",
       "      <td>...</td>\n",
       "      <td>287300</td>\n",
       "      <td>287200</td>\n",
       "      <td>287700</td>\n",
       "      <td>288900</td>\n",
       "      <td>290500</td>\n",
       "      <td>291900</td>\n",
       "      <td>293500</td>\n",
       "      <td>295000</td>\n",
       "      <td>295700</td>\n",
       "      <td>Tampa, FL</td>\n",
       "    </tr>\n",
       "  </tbody>\n",
       "</table>\n",
       "<p>10 rows × 273 columns</p>\n",
       "</div>"
      ],
      "text/plain": [
       "     RegionID  RegionName       City State              Metro    CountyName  \\\n",
       "5       91733       77084    Houston    TX            Houston        Harris   \n",
       "14      74101       37013  Nashville    TN          Nashville      Davidson   \n",
       "17      74242       37211  Nashville    TN          Nashville      Davidson   \n",
       "24      69816       28269  Charlotte    NC          Charlotte   Mecklenburg   \n",
       "44      91685       77036    Houston    TX            Houston        Harris   \n",
       "54      90823       75287     Dallas    TX  Dallas-Fort Worth        Dallas   \n",
       "55      69823       28277  Charlotte    NC          Charlotte   Mecklenburg   \n",
       "63      91726       77077    Houston    TX            Houston        Harris   \n",
       "69      90795       75243     Dallas    TX  Dallas-Fort Worth        Dallas   \n",
       "154     72737       33647      Tampa    FL              Tampa  Hillsborough   \n",
       "\n",
       "     SizeRank   1996-04   1996-05   1996-06  ...  2017-08  2017-09  2017-10  \\\n",
       "5           6   95000.0   95200.0   95400.0  ...   158700   160200   161900   \n",
       "14         15  112400.0  112700.0  113000.0  ...   194900   196600   198800   \n",
       "17         18   97900.0   98000.0   98200.0  ...   245000   246700   248800   \n",
       "24         25  126100.0  126600.0  127100.0  ...   186600   188200   189800   \n",
       "44         45  120400.0  118700.0  117300.0  ...   174600   175000   176000   \n",
       "54         55  184400.0  183300.0  182400.0  ...   322300   325000   325900   \n",
       "55         56  183900.0  185100.0  186300.0  ...   349500   350500   352500   \n",
       "63         64  177100.0  180000.0  182700.0  ...   310000   310800   311600   \n",
       "69         70  136500.0  136400.0  136400.0  ...   280900   280900   281700   \n",
       "154       155  127300.0  126700.0  126300.0  ...   287300   287200   287700   \n",
       "\n",
       "     2017-11  2017-12  2018-01  2018-02  2018-03  2018-04       Location  \n",
       "5     162800   162800   162800   162900   163500   164300    Houston, TX  \n",
       "14    201300   203800   205900   207600   210000   211900  Nashville, TN  \n",
       "17    251100   253900   256500   259000   262100   264200  Nashville, TN  \n",
       "24    191700   193500   195100   196600   198500   199700  Charlotte, NC  \n",
       "44    177200   177700   177700   179800   185100   189800    Houston, TX  \n",
       "54    326200   326700   328000   330800   333900   335100     Dallas, TX  \n",
       "55    355400   357900   359900   361900   363800   364800  Charlotte, NC  \n",
       "63    311800   311200   310500   311400   313800   315900    Houston, TX  \n",
       "69    283300   286400   290200   293600   295600   296100     Dallas, TX  \n",
       "154   288900   290500   291900   293500   295000   295700      Tampa, FL  \n",
       "\n",
       "[10 rows x 273 columns]"
      ]
     },
     "execution_count": 69,
     "metadata": {},
     "output_type": "execute_result"
    }
   ],
   "source": [
    "# Create a df that only contains our 25 cities\n",
    "df_mil = df[df.Location.isin(mill_cities)]\n",
    "\n",
    "df_mil.head(10)"
   ]
  },
  {
   "cell_type": "code",
   "execution_count": 70,
   "metadata": {
    "ExecuteTime": {
     "end_time": "2022-06-22T19:29:12.771703Z",
     "start_time": "2022-06-22T19:29:12.764520Z"
    }
   },
   "outputs": [
    {
     "data": {
      "text/plain": [
       "25"
      ]
     },
     "execution_count": 70,
     "metadata": {},
     "output_type": "execute_result"
    }
   ],
   "source": [
    "# Verify we have all 25 cities\n",
    "df_mil.Location.nunique()"
   ]
  },
  {
   "cell_type": "markdown",
   "metadata": {},
   "source": [
    "Ok, now what do we want to do?\n",
    "\n",
    "We're focused on millenials, who were born between 1981 and 1996 - per Business Insider, 26% of home buyers are between the ages of 30 and 39. When did the oldest millennials turn 30? 2011. So we want from 2011 to present (or in the case of this dataset 2018)\n",
    "\n",
    "What data is related to investments, and \"successful\" investments?\n",
    "* House value growth over time, year to year and cumulative\n",
    "\n",
    "https://www.businessinsider.com/typical-us-homebuyer-age-salary-location-budget-housing-crisis-2021-9#the-average-homebuyer-is-45-years-old-but-about-a-quarter-of-buyers-are-in-their-30s-1\n",
    "\n"
   ]
  },
  {
   "cell_type": "code",
   "execution_count": 71,
   "metadata": {
    "ExecuteTime": {
     "end_time": "2022-06-22T19:29:12.793561Z",
     "start_time": "2022-06-22T19:29:12.784923Z"
    }
   },
   "outputs": [],
   "source": [
    "df_mil = df_mil.drop('RegionID', axis = 1)\n",
    "df_mil = df_mil.rename({'RegionName': 'zipcode'}, axis = 1)"
   ]
  },
  {
   "cell_type": "code",
   "execution_count": 72,
   "metadata": {
    "ExecuteTime": {
     "end_time": "2022-06-22T19:29:12.850446Z",
     "start_time": "2022-06-22T19:29:12.797840Z"
    }
   },
   "outputs": [
    {
     "data": {
      "text/html": [
       "<div>\n",
       "<style scoped>\n",
       "    .dataframe tbody tr th:only-of-type {\n",
       "        vertical-align: middle;\n",
       "    }\n",
       "\n",
       "    .dataframe tbody tr th {\n",
       "        vertical-align: top;\n",
       "    }\n",
       "\n",
       "    .dataframe thead th {\n",
       "        text-align: right;\n",
       "    }\n",
       "</style>\n",
       "<table border=\"1\" class=\"dataframe\">\n",
       "  <thead>\n",
       "    <tr style=\"text-align: right;\">\n",
       "      <th></th>\n",
       "      <th>zipcode</th>\n",
       "      <th>City</th>\n",
       "      <th>State</th>\n",
       "      <th>Metro</th>\n",
       "      <th>CountyName</th>\n",
       "      <th>SizeRank</th>\n",
       "      <th>Location</th>\n",
       "      <th>time</th>\n",
       "      <th>value</th>\n",
       "    </tr>\n",
       "  </thead>\n",
       "  <tbody>\n",
       "    <tr>\n",
       "      <th>0</th>\n",
       "      <td>77084</td>\n",
       "      <td>Houston</td>\n",
       "      <td>TX</td>\n",
       "      <td>Houston</td>\n",
       "      <td>Harris</td>\n",
       "      <td>6</td>\n",
       "      <td>Houston, TX</td>\n",
       "      <td>1996-04</td>\n",
       "      <td>95000.0</td>\n",
       "    </tr>\n",
       "    <tr>\n",
       "      <th>1</th>\n",
       "      <td>37013</td>\n",
       "      <td>Nashville</td>\n",
       "      <td>TN</td>\n",
       "      <td>Nashville</td>\n",
       "      <td>Davidson</td>\n",
       "      <td>15</td>\n",
       "      <td>Nashville, TN</td>\n",
       "      <td>1996-04</td>\n",
       "      <td>112400.0</td>\n",
       "    </tr>\n",
       "    <tr>\n",
       "      <th>2</th>\n",
       "      <td>37211</td>\n",
       "      <td>Nashville</td>\n",
       "      <td>TN</td>\n",
       "      <td>Nashville</td>\n",
       "      <td>Davidson</td>\n",
       "      <td>18</td>\n",
       "      <td>Nashville, TN</td>\n",
       "      <td>1996-04</td>\n",
       "      <td>97900.0</td>\n",
       "    </tr>\n",
       "    <tr>\n",
       "      <th>3</th>\n",
       "      <td>28269</td>\n",
       "      <td>Charlotte</td>\n",
       "      <td>NC</td>\n",
       "      <td>Charlotte</td>\n",
       "      <td>Mecklenburg</td>\n",
       "      <td>25</td>\n",
       "      <td>Charlotte, NC</td>\n",
       "      <td>1996-04</td>\n",
       "      <td>126100.0</td>\n",
       "    </tr>\n",
       "    <tr>\n",
       "      <th>4</th>\n",
       "      <td>77036</td>\n",
       "      <td>Houston</td>\n",
       "      <td>TX</td>\n",
       "      <td>Houston</td>\n",
       "      <td>Harris</td>\n",
       "      <td>45</td>\n",
       "      <td>Houston, TX</td>\n",
       "      <td>1996-04</td>\n",
       "      <td>120400.0</td>\n",
       "    </tr>\n",
       "  </tbody>\n",
       "</table>\n",
       "</div>"
      ],
      "text/plain": [
       "   zipcode       City State      Metro   CountyName  SizeRank       Location  \\\n",
       "0    77084    Houston    TX    Houston       Harris         6    Houston, TX   \n",
       "1    37013  Nashville    TN  Nashville     Davidson        15  Nashville, TN   \n",
       "2    37211  Nashville    TN  Nashville     Davidson        18  Nashville, TN   \n",
       "3    28269  Charlotte    NC  Charlotte  Mecklenburg        25  Charlotte, NC   \n",
       "4    77036    Houston    TX    Houston       Harris        45    Houston, TX   \n",
       "\n",
       "      time     value  \n",
       "0  1996-04   95000.0  \n",
       "1  1996-04  112400.0  \n",
       "2  1996-04   97900.0  \n",
       "3  1996-04  126100.0  \n",
       "4  1996-04  120400.0  "
      ]
     },
     "execution_count": 72,
     "metadata": {},
     "output_type": "execute_result"
    }
   ],
   "source": [
    "df_mil = pd.melt(df_mil, id_vars=['zipcode', 'City', 'State', 'Metro', 'CountyName', 'SizeRank', 'Location'], var_name='time')\n",
    "df_mil.head()"
   ]
  },
  {
   "cell_type": "code",
   "execution_count": 73,
   "metadata": {
    "ExecuteTime": {
     "end_time": "2022-06-22T19:29:12.874809Z",
     "start_time": "2022-06-22T19:29:12.854283Z"
    }
   },
   "outputs": [],
   "source": [
    "df_mil['time'] = pd.to_datetime(df_mil['time'])"
   ]
  },
  {
   "cell_type": "code",
   "execution_count": 74,
   "metadata": {
    "ExecuteTime": {
     "end_time": "2022-06-22T19:29:12.925248Z",
     "start_time": "2022-06-22T19:29:12.877162Z"
    }
   },
   "outputs": [
    {
     "data": {
      "text/plain": [
       "zipcode          0\n",
       "City             0\n",
       "State            0\n",
       "Metro            0\n",
       "CountyName       0\n",
       "SizeRank         0\n",
       "Location         0\n",
       "time             0\n",
       "value         1311\n",
       "dtype: int64"
      ]
     },
     "execution_count": 74,
     "metadata": {},
     "output_type": "execute_result"
    }
   ],
   "source": [
    "df_mil.isna().sum()"
   ]
  },
  {
   "cell_type": "code",
   "execution_count": 75,
   "metadata": {
    "ExecuteTime": {
     "end_time": "2022-06-22T19:29:13.011162Z",
     "start_time": "2022-06-22T19:29:12.928089Z"
    }
   },
   "outputs": [],
   "source": [
    "df_mil = df_mil.sort_values(by = ['zipcode', 'time'])\n",
    "df_mil = df_mil.backfill()"
   ]
  },
  {
   "cell_type": "code",
   "execution_count": 76,
   "metadata": {
    "ExecuteTime": {
     "end_time": "2022-06-22T19:29:13.054453Z",
     "start_time": "2022-06-22T19:29:13.017603Z"
    }
   },
   "outputs": [
    {
     "data": {
      "text/html": [
       "<div>\n",
       "<style scoped>\n",
       "    .dataframe tbody tr th:only-of-type {\n",
       "        vertical-align: middle;\n",
       "    }\n",
       "\n",
       "    .dataframe tbody tr th {\n",
       "        vertical-align: top;\n",
       "    }\n",
       "\n",
       "    .dataframe thead th {\n",
       "        text-align: right;\n",
       "    }\n",
       "</style>\n",
       "<table border=\"1\" class=\"dataframe\">\n",
       "  <thead>\n",
       "    <tr style=\"text-align: right;\">\n",
       "      <th></th>\n",
       "      <th>zipcode</th>\n",
       "      <th>City</th>\n",
       "      <th>State</th>\n",
       "      <th>Metro</th>\n",
       "      <th>CountyName</th>\n",
       "      <th>SizeRank</th>\n",
       "      <th>Location</th>\n",
       "      <th>time</th>\n",
       "      <th>value</th>\n",
       "    </tr>\n",
       "  </thead>\n",
       "  <tbody>\n",
       "    <tr>\n",
       "      <th>200</th>\n",
       "      <td>2906</td>\n",
       "      <td>Providence</td>\n",
       "      <td>RI</td>\n",
       "      <td>Providence</td>\n",
       "      <td>Providence</td>\n",
       "      <td>3512</td>\n",
       "      <td>Providence, RI</td>\n",
       "      <td>1996-04-01</td>\n",
       "      <td>169200.0</td>\n",
       "    </tr>\n",
       "    <tr>\n",
       "      <th>609</th>\n",
       "      <td>2906</td>\n",
       "      <td>Providence</td>\n",
       "      <td>RI</td>\n",
       "      <td>Providence</td>\n",
       "      <td>Providence</td>\n",
       "      <td>3512</td>\n",
       "      <td>Providence, RI</td>\n",
       "      <td>1996-05-01</td>\n",
       "      <td>169900.0</td>\n",
       "    </tr>\n",
       "    <tr>\n",
       "      <th>1018</th>\n",
       "      <td>2906</td>\n",
       "      <td>Providence</td>\n",
       "      <td>RI</td>\n",
       "      <td>Providence</td>\n",
       "      <td>Providence</td>\n",
       "      <td>3512</td>\n",
       "      <td>Providence, RI</td>\n",
       "      <td>1996-06-01</td>\n",
       "      <td>170600.0</td>\n",
       "    </tr>\n",
       "    <tr>\n",
       "      <th>1427</th>\n",
       "      <td>2906</td>\n",
       "      <td>Providence</td>\n",
       "      <td>RI</td>\n",
       "      <td>Providence</td>\n",
       "      <td>Providence</td>\n",
       "      <td>3512</td>\n",
       "      <td>Providence, RI</td>\n",
       "      <td>1996-07-01</td>\n",
       "      <td>171300.0</td>\n",
       "    </tr>\n",
       "    <tr>\n",
       "      <th>1836</th>\n",
       "      <td>2906</td>\n",
       "      <td>Providence</td>\n",
       "      <td>RI</td>\n",
       "      <td>Providence</td>\n",
       "      <td>Providence</td>\n",
       "      <td>3512</td>\n",
       "      <td>Providence, RI</td>\n",
       "      <td>1996-08-01</td>\n",
       "      <td>172000.0</td>\n",
       "    </tr>\n",
       "    <tr>\n",
       "      <th>...</th>\n",
       "      <td>...</td>\n",
       "      <td>...</td>\n",
       "      <td>...</td>\n",
       "      <td>...</td>\n",
       "      <td>...</td>\n",
       "      <td>...</td>\n",
       "      <td>...</td>\n",
       "      <td>...</td>\n",
       "      <td>...</td>\n",
       "    </tr>\n",
       "    <tr>\n",
       "      <th>106523</th>\n",
       "      <td>77598</td>\n",
       "      <td>Houston</td>\n",
       "      <td>TX</td>\n",
       "      <td>Houston</td>\n",
       "      <td>Harris</td>\n",
       "      <td>3066</td>\n",
       "      <td>Houston, TX</td>\n",
       "      <td>2017-12-01</td>\n",
       "      <td>173800.0</td>\n",
       "    </tr>\n",
       "    <tr>\n",
       "      <th>106932</th>\n",
       "      <td>77598</td>\n",
       "      <td>Houston</td>\n",
       "      <td>TX</td>\n",
       "      <td>Houston</td>\n",
       "      <td>Harris</td>\n",
       "      <td>3066</td>\n",
       "      <td>Houston, TX</td>\n",
       "      <td>2018-01-01</td>\n",
       "      <td>174900.0</td>\n",
       "    </tr>\n",
       "    <tr>\n",
       "      <th>107341</th>\n",
       "      <td>77598</td>\n",
       "      <td>Houston</td>\n",
       "      <td>TX</td>\n",
       "      <td>Houston</td>\n",
       "      <td>Harris</td>\n",
       "      <td>3066</td>\n",
       "      <td>Houston, TX</td>\n",
       "      <td>2018-02-01</td>\n",
       "      <td>176300.0</td>\n",
       "    </tr>\n",
       "    <tr>\n",
       "      <th>107750</th>\n",
       "      <td>77598</td>\n",
       "      <td>Houston</td>\n",
       "      <td>TX</td>\n",
       "      <td>Houston</td>\n",
       "      <td>Harris</td>\n",
       "      <td>3066</td>\n",
       "      <td>Houston, TX</td>\n",
       "      <td>2018-03-01</td>\n",
       "      <td>177800.0</td>\n",
       "    </tr>\n",
       "    <tr>\n",
       "      <th>108159</th>\n",
       "      <td>77598</td>\n",
       "      <td>Houston</td>\n",
       "      <td>TX</td>\n",
       "      <td>Houston</td>\n",
       "      <td>Harris</td>\n",
       "      <td>3066</td>\n",
       "      <td>Houston, TX</td>\n",
       "      <td>2018-04-01</td>\n",
       "      <td>178900.0</td>\n",
       "    </tr>\n",
       "  </tbody>\n",
       "</table>\n",
       "<p>108385 rows × 9 columns</p>\n",
       "</div>"
      ],
      "text/plain": [
       "        zipcode        City State       Metro  CountyName  SizeRank  \\\n",
       "200        2906  Providence    RI  Providence  Providence      3512   \n",
       "609        2906  Providence    RI  Providence  Providence      3512   \n",
       "1018       2906  Providence    RI  Providence  Providence      3512   \n",
       "1427       2906  Providence    RI  Providence  Providence      3512   \n",
       "1836       2906  Providence    RI  Providence  Providence      3512   \n",
       "...         ...         ...   ...         ...         ...       ...   \n",
       "106523    77598     Houston    TX     Houston      Harris      3066   \n",
       "106932    77598     Houston    TX     Houston      Harris      3066   \n",
       "107341    77598     Houston    TX     Houston      Harris      3066   \n",
       "107750    77598     Houston    TX     Houston      Harris      3066   \n",
       "108159    77598     Houston    TX     Houston      Harris      3066   \n",
       "\n",
       "              Location       time     value  \n",
       "200     Providence, RI 1996-04-01  169200.0  \n",
       "609     Providence, RI 1996-05-01  169900.0  \n",
       "1018    Providence, RI 1996-06-01  170600.0  \n",
       "1427    Providence, RI 1996-07-01  171300.0  \n",
       "1836    Providence, RI 1996-08-01  172000.0  \n",
       "...                ...        ...       ...  \n",
       "106523     Houston, TX 2017-12-01  173800.0  \n",
       "106932     Houston, TX 2018-01-01  174900.0  \n",
       "107341     Houston, TX 2018-02-01  176300.0  \n",
       "107750     Houston, TX 2018-03-01  177800.0  \n",
       "108159     Houston, TX 2018-04-01  178900.0  \n",
       "\n",
       "[108385 rows x 9 columns]"
      ]
     },
     "execution_count": 76,
     "metadata": {},
     "output_type": "execute_result"
    }
   ],
   "source": [
    "df_mil"
   ]
  },
  {
   "cell_type": "code",
   "execution_count": 77,
   "metadata": {
    "ExecuteTime": {
     "end_time": "2022-06-22T19:29:13.147874Z",
     "start_time": "2022-06-22T19:29:13.063115Z"
    }
   },
   "outputs": [
    {
     "data": {
      "text/html": [
       "<div>\n",
       "<style scoped>\n",
       "    .dataframe tbody tr th:only-of-type {\n",
       "        vertical-align: middle;\n",
       "    }\n",
       "\n",
       "    .dataframe tbody tr th {\n",
       "        vertical-align: top;\n",
       "    }\n",
       "\n",
       "    .dataframe thead th {\n",
       "        text-align: right;\n",
       "    }\n",
       "</style>\n",
       "<table border=\"1\" class=\"dataframe\">\n",
       "  <thead>\n",
       "    <tr style=\"text-align: right;\">\n",
       "      <th></th>\n",
       "      <th></th>\n",
       "      <th>value</th>\n",
       "    </tr>\n",
       "    <tr>\n",
       "      <th>zipcode</th>\n",
       "      <th>time</th>\n",
       "      <th></th>\n",
       "    </tr>\n",
       "  </thead>\n",
       "  <tbody>\n",
       "    <tr>\n",
       "      <th rowspan=\"5\" valign=\"top\">2906</th>\n",
       "      <th>1996-04-01</th>\n",
       "      <td>169200.0</td>\n",
       "    </tr>\n",
       "    <tr>\n",
       "      <th>1996-05-01</th>\n",
       "      <td>169900.0</td>\n",
       "    </tr>\n",
       "    <tr>\n",
       "      <th>1996-06-01</th>\n",
       "      <td>170600.0</td>\n",
       "    </tr>\n",
       "    <tr>\n",
       "      <th>1996-07-01</th>\n",
       "      <td>171300.0</td>\n",
       "    </tr>\n",
       "    <tr>\n",
       "      <th>1996-08-01</th>\n",
       "      <td>172000.0</td>\n",
       "    </tr>\n",
       "    <tr>\n",
       "      <th>...</th>\n",
       "      <th>...</th>\n",
       "      <td>...</td>\n",
       "    </tr>\n",
       "    <tr>\n",
       "      <th rowspan=\"5\" valign=\"top\">77598</th>\n",
       "      <th>2017-12-01</th>\n",
       "      <td>173800.0</td>\n",
       "    </tr>\n",
       "    <tr>\n",
       "      <th>2018-01-01</th>\n",
       "      <td>174900.0</td>\n",
       "    </tr>\n",
       "    <tr>\n",
       "      <th>2018-02-01</th>\n",
       "      <td>176300.0</td>\n",
       "    </tr>\n",
       "    <tr>\n",
       "      <th>2018-03-01</th>\n",
       "      <td>177800.0</td>\n",
       "    </tr>\n",
       "    <tr>\n",
       "      <th>2018-04-01</th>\n",
       "      <td>178900.0</td>\n",
       "    </tr>\n",
       "  </tbody>\n",
       "</table>\n",
       "<p>108385 rows × 1 columns</p>\n",
       "</div>"
      ],
      "text/plain": [
       "                       value\n",
       "zipcode time                \n",
       "2906    1996-04-01  169200.0\n",
       "        1996-05-01  169900.0\n",
       "        1996-06-01  170600.0\n",
       "        1996-07-01  171300.0\n",
       "        1996-08-01  172000.0\n",
       "...                      ...\n",
       "77598   2017-12-01  173800.0\n",
       "        2018-01-01  174900.0\n",
       "        2018-02-01  176300.0\n",
       "        2018-03-01  177800.0\n",
       "        2018-04-01  178900.0\n",
       "\n",
       "[108385 rows x 1 columns]"
      ]
     },
     "execution_count": 77,
     "metadata": {},
     "output_type": "execute_result"
    }
   ],
   "source": [
    "zipcode_df = df_mil.groupby(['zipcode', 'time']).median().drop(['SizeRank'], axis = 1)\n",
    "zipcode_df"
   ]
  },
  {
   "cell_type": "code",
   "execution_count": 78,
   "metadata": {
    "ExecuteTime": {
     "end_time": "2022-06-22T19:29:13.163362Z",
     "start_time": "2022-06-22T19:29:13.153523Z"
    }
   },
   "outputs": [],
   "source": [
    "zipcode_df = zipcode_df.reset_index()"
   ]
  },
  {
   "cell_type": "code",
   "execution_count": 79,
   "metadata": {
    "ExecuteTime": {
     "end_time": "2022-06-22T19:29:13.214987Z",
     "start_time": "2022-06-22T19:29:13.166338Z"
    }
   },
   "outputs": [],
   "source": [
    "df_zip_2011 = df_mil.reset_index()[df_mil.reset_index()['time'] == '2011-01']\n",
    "df_zip_2011 = df_zip_2011.set_index('time')[['zipcode', 'City', 'value']].rename({'value': '2011_price'}, axis = 1)\n",
    "df_zip_2018 = df_mil.reset_index()[df_mil.reset_index()['time'] == '2018-04']\n",
    "df_zip_2018 = df_zip_2018.set_index('time')[['zipcode', 'value']].rename({'value': '2018_price'}, axis = 1)\n",
    "df_zip_growth = df_zip_2011.merge(df_zip_2018, left_on= 'zipcode', right_on='zipcode')\n",
    "df_zip_growth['7_year_change(%)'] = ((df_zip_growth['2018_price'] - df_zip_growth['2011_price']) /\n",
    "                                     df_zip_growth['2011_price']) * 100\n",
    "df_zip_growth = df_zip_growth.sort_values(by = '7_year_change(%)', ascending = False)"
   ]
  },
  {
   "cell_type": "code",
   "execution_count": 80,
   "metadata": {
    "ExecuteTime": {
     "end_time": "2022-06-22T19:29:13.241683Z",
     "start_time": "2022-06-22T19:29:13.219120Z"
    }
   },
   "outputs": [
    {
     "data": {
      "text/html": [
       "<div>\n",
       "<style scoped>\n",
       "    .dataframe tbody tr th:only-of-type {\n",
       "        vertical-align: middle;\n",
       "    }\n",
       "\n",
       "    .dataframe tbody tr th {\n",
       "        vertical-align: top;\n",
       "    }\n",
       "\n",
       "    .dataframe thead th {\n",
       "        text-align: right;\n",
       "    }\n",
       "</style>\n",
       "<table border=\"1\" class=\"dataframe\">\n",
       "  <thead>\n",
       "    <tr style=\"text-align: right;\">\n",
       "      <th></th>\n",
       "      <th>zipcode</th>\n",
       "      <th>City</th>\n",
       "      <th>2011_price</th>\n",
       "      <th>2018_price</th>\n",
       "      <th>7_year_change(%)</th>\n",
       "    </tr>\n",
       "  </thead>\n",
       "  <tbody>\n",
       "    <tr>\n",
       "      <th>127</th>\n",
       "      <td>37210</td>\n",
       "      <td>Nashville</td>\n",
       "      <td>84000.0</td>\n",
       "      <td>226500.0</td>\n",
       "      <td>169.642857</td>\n",
       "    </tr>\n",
       "    <tr>\n",
       "      <th>11</th>\n",
       "      <td>15201</td>\n",
       "      <td>Pittsburgh</td>\n",
       "      <td>72900.0</td>\n",
       "      <td>185200.0</td>\n",
       "      <td>154.046639</td>\n",
       "    </tr>\n",
       "    <tr>\n",
       "      <th>125</th>\n",
       "      <td>37207</td>\n",
       "      <td>Nashville</td>\n",
       "      <td>84100.0</td>\n",
       "      <td>200800.0</td>\n",
       "      <td>138.763377</td>\n",
       "    </tr>\n",
       "    <tr>\n",
       "      <th>109</th>\n",
       "      <td>33602</td>\n",
       "      <td>Tampa</td>\n",
       "      <td>113400.0</td>\n",
       "      <td>267400.0</td>\n",
       "      <td>135.802469</td>\n",
       "    </tr>\n",
       "    <tr>\n",
       "      <th>18</th>\n",
       "      <td>15211</td>\n",
       "      <td>Pittsburgh</td>\n",
       "      <td>54700.0</td>\n",
       "      <td>128400.0</td>\n",
       "      <td>134.734918</td>\n",
       "    </tr>\n",
       "    <tr>\n",
       "      <th>...</th>\n",
       "      <td>...</td>\n",
       "      <td>...</td>\n",
       "      <td>...</td>\n",
       "      <td>...</td>\n",
       "      <td>...</td>\n",
       "    </tr>\n",
       "    <tr>\n",
       "      <th>5</th>\n",
       "      <td>12446</td>\n",
       "      <td>Rochester</td>\n",
       "      <td>161600.0</td>\n",
       "      <td>172900.0</td>\n",
       "      <td>6.992574</td>\n",
       "    </tr>\n",
       "    <tr>\n",
       "      <th>213</th>\n",
       "      <td>63101</td>\n",
       "      <td>Saint Louis</td>\n",
       "      <td>217500.0</td>\n",
       "      <td>213600.0</td>\n",
       "      <td>-1.793103</td>\n",
       "    </tr>\n",
       "    <tr>\n",
       "      <th>55</th>\n",
       "      <td>19142</td>\n",
       "      <td>Philadelphia</td>\n",
       "      <td>58400.0</td>\n",
       "      <td>56700.0</td>\n",
       "      <td>-2.910959</td>\n",
       "    </tr>\n",
       "    <tr>\n",
       "      <th>214</th>\n",
       "      <td>63103</td>\n",
       "      <td>Saint Louis</td>\n",
       "      <td>167400.0</td>\n",
       "      <td>144400.0</td>\n",
       "      <td>-13.739546</td>\n",
       "    </tr>\n",
       "    <tr>\n",
       "      <th>219</th>\n",
       "      <td>63111</td>\n",
       "      <td>Saint Louis</td>\n",
       "      <td>79700.0</td>\n",
       "      <td>67000.0</td>\n",
       "      <td>-15.934755</td>\n",
       "    </tr>\n",
       "  </tbody>\n",
       "</table>\n",
       "<p>409 rows × 5 columns</p>\n",
       "</div>"
      ],
      "text/plain": [
       "     zipcode          City  2011_price  2018_price  7_year_change(%)\n",
       "127    37210     Nashville     84000.0    226500.0        169.642857\n",
       "11     15201    Pittsburgh     72900.0    185200.0        154.046639\n",
       "125    37207     Nashville     84100.0    200800.0        138.763377\n",
       "109    33602         Tampa    113400.0    267400.0        135.802469\n",
       "18     15211    Pittsburgh     54700.0    128400.0        134.734918\n",
       "..       ...           ...         ...         ...               ...\n",
       "5      12446     Rochester    161600.0    172900.0          6.992574\n",
       "213    63101   Saint Louis    217500.0    213600.0         -1.793103\n",
       "55     19142  Philadelphia     58400.0     56700.0         -2.910959\n",
       "214    63103   Saint Louis    167400.0    144400.0        -13.739546\n",
       "219    63111   Saint Louis     79700.0     67000.0        -15.934755\n",
       "\n",
       "[409 rows x 5 columns]"
      ]
     },
     "execution_count": 80,
     "metadata": {},
     "output_type": "execute_result"
    }
   ],
   "source": [
    "df_zip_growth"
   ]
  },
  {
   "cell_type": "code",
   "execution_count": 81,
   "metadata": {
    "ExecuteTime": {
     "end_time": "2022-06-22T19:29:16.103367Z",
     "start_time": "2022-06-22T19:29:16.087387Z"
    },
    "scrolled": true
   },
   "outputs": [
    {
     "data": {
      "text/html": [
       "<div>\n",
       "<style scoped>\n",
       "    .dataframe tbody tr th:only-of-type {\n",
       "        vertical-align: middle;\n",
       "    }\n",
       "\n",
       "    .dataframe tbody tr th {\n",
       "        vertical-align: top;\n",
       "    }\n",
       "\n",
       "    .dataframe thead th {\n",
       "        text-align: right;\n",
       "    }\n",
       "</style>\n",
       "<table border=\"1\" class=\"dataframe\">\n",
       "  <thead>\n",
       "    <tr style=\"text-align: right;\">\n",
       "      <th></th>\n",
       "      <th>zipcode</th>\n",
       "      <th>value</th>\n",
       "    </tr>\n",
       "    <tr>\n",
       "      <th>time</th>\n",
       "      <th></th>\n",
       "      <th></th>\n",
       "    </tr>\n",
       "  </thead>\n",
       "  <tbody>\n",
       "    <tr>\n",
       "      <th>1996-04-01</th>\n",
       "      <td>2906</td>\n",
       "      <td>169200.0</td>\n",
       "    </tr>\n",
       "    <tr>\n",
       "      <th>1996-05-01</th>\n",
       "      <td>2906</td>\n",
       "      <td>169900.0</td>\n",
       "    </tr>\n",
       "    <tr>\n",
       "      <th>1996-06-01</th>\n",
       "      <td>2906</td>\n",
       "      <td>170600.0</td>\n",
       "    </tr>\n",
       "    <tr>\n",
       "      <th>1996-07-01</th>\n",
       "      <td>2906</td>\n",
       "      <td>171300.0</td>\n",
       "    </tr>\n",
       "    <tr>\n",
       "      <th>1996-08-01</th>\n",
       "      <td>2906</td>\n",
       "      <td>172000.0</td>\n",
       "    </tr>\n",
       "  </tbody>\n",
       "</table>\n",
       "</div>"
      ],
      "text/plain": [
       "            zipcode     value\n",
       "time                         \n",
       "1996-04-01     2906  169200.0\n",
       "1996-05-01     2906  169900.0\n",
       "1996-06-01     2906  170600.0\n",
       "1996-07-01     2906  171300.0\n",
       "1996-08-01     2906  172000.0"
      ]
     },
     "execution_count": 81,
     "metadata": {},
     "output_type": "execute_result"
    }
   ],
   "source": [
    "zipcode_df = zipcode_df.set_index('time')\n",
    "zipcode_df.head()"
   ]
  },
  {
   "cell_type": "code",
   "execution_count": 86,
   "metadata": {
    "ExecuteTime": {
     "end_time": "2022-06-22T19:42:19.013993Z",
     "start_time": "2022-06-22T19:42:18.981403Z"
    }
   },
   "outputs": [],
   "source": [
    "from statsmodels.tsa.stattools import adfuller\n",
    "def test_stationarity(timeseries, window = 12, cutoff = 0.01):\n",
    "\n",
    "    #Determing rolling statistics\n",
    "    rolmean = timeseries.rolling(window).mean()\n",
    "    rolstd = timeseries.rolling(window).std()\n",
    "\n",
    "    #Plot rolling statistics:\n",
    "    fig = plt.figure(figsize=(12, 8))\n",
    "    orig = plt.plot(timeseries, color='blue',label='Original')\n",
    "    mean = plt.plot(rolmean, color='red', label='Rolling Mean')\n",
    "    std = plt.plot(rolstd, color='black', label = 'Rolling Std')\n",
    "    plt.legend(loc='best')\n",
    "    plt.title('Rolling Mean & Standard Deviation')\n",
    "    plt.show()\n",
    "    \n",
    "    #Perform Dickey-Fuller test:\n",
    "    print('Results of Dickey-Fuller Test:')\n",
    "    dftest = adfuller(timeseries, autolag='AIC', maxlag = 20 )\n",
    "    dfoutput = pd.Series(dftest[0:4], index=['Test Statistic','p-value','#Lags Used','Number of Observations Used'])\n",
    "    for key,value in dftest[4].items():\n",
    "        dfoutput['Critical Value (%s)'%key] = value\n",
    "    pvalue = dftest[1]\n",
    "    if pvalue < cutoff:\n",
    "        print('p-value = %.4f. The series is likely stationary.' % pvalue)\n",
    "    else:\n",
    "        print('p-value = %.4f. The series is likely non-stationary.' % pvalue)\n",
    "    \n",
    "    print(dfoutput)"
   ]
  },
  {
   "cell_type": "code",
   "execution_count": 91,
   "metadata": {
    "ExecuteTime": {
     "end_time": "2022-06-22T19:49:27.923713Z",
     "start_time": "2022-06-22T19:49:25.758052Z"
    }
   },
   "outputs": [
    {
     "data": {
      "image/png": "[encoded data removed]",
      "text/plain": [
       "<Figure size 864x576 with 1 Axes>"
      ]
     },
     "metadata": {},
     "output_type": "display_data"
    },
    {
     "name": "stdout",
     "output_type": "stream",
     "text": [
      "Results of Dickey-Fuller Test:\n"
     ]
    },
    {
     "ename": "ValueError",
     "evalue": "x is required to have ndim 1 but has ndim 2",
     "output_type": "error",
     "traceback": [
      "\u001b[0;31m---------------------------------------------------------------------------\u001b[0m",
      "\u001b[0;31mValueError\u001b[0m                                Traceback (most recent call last)",
      "\u001b[0;32m<ipython-input-91-ddd05b1a28da>\u001b[0m in \u001b[0;36m<module>\u001b[0;34m\u001b[0m\n\u001b[0;32m----> 1\u001b[0;31m \u001b[0mtest_stationarity\u001b[0m\u001b[0;34m(\u001b[0m\u001b[0mzipcode_df\u001b[0m\u001b[0;34m)\u001b[0m\u001b[0;34m\u001b[0m\u001b[0;34m\u001b[0m\u001b[0m\n\u001b[0m",
      "\u001b[0;32m<ipython-input-86-cc4b3fe6f04e>\u001b[0m in \u001b[0;36mtest_stationarity\u001b[0;34m(timeseries, window, cutoff)\u001b[0m\n\u001b[1;32m     17\u001b[0m     \u001b[0;31m#Perform Dickey-Fuller test:\u001b[0m\u001b[0;34m\u001b[0m\u001b[0;34m\u001b[0m\u001b[0;34m\u001b[0m\u001b[0m\n\u001b[1;32m     18\u001b[0m     \u001b[0mprint\u001b[0m\u001b[0;34m(\u001b[0m\u001b[0;34m'Results of Dickey-Fuller Test:'\u001b[0m\u001b[0;34m)\u001b[0m\u001b[0;34m\u001b[0m\u001b[0;34m\u001b[0m\u001b[0m\n\u001b[0;32m---> 19\u001b[0;31m     \u001b[0mdftest\u001b[0m \u001b[0;34m=\u001b[0m \u001b[0madfuller\u001b[0m\u001b[0;34m(\u001b[0m\u001b[0mtimeseries\u001b[0m\u001b[0;34m,\u001b[0m \u001b[0mautolag\u001b[0m\u001b[0;34m=\u001b[0m\u001b[0;34m'AIC'\u001b[0m\u001b[0;34m,\u001b[0m \u001b[0mmaxlag\u001b[0m \u001b[0;34m=\u001b[0m \u001b[0;36m20\u001b[0m \u001b[0;34m)\u001b[0m\u001b[0;34m\u001b[0m\u001b[0;34m\u001b[0m\u001b[0m\n\u001b[0m\u001b[1;32m     20\u001b[0m     \u001b[0mdfoutput\u001b[0m \u001b[0;34m=\u001b[0m \u001b[0mpd\u001b[0m\u001b[0;34m.\u001b[0m\u001b[0mSeries\u001b[0m\u001b[0;34m(\u001b[0m\u001b[0mdftest\u001b[0m\u001b[0;34m[\u001b[0m\u001b[0;36m0\u001b[0m\u001b[0;34m:\u001b[0m\u001b[0;36m4\u001b[0m\u001b[0;34m]\u001b[0m\u001b[0;34m,\u001b[0m \u001b[0mindex\u001b[0m\u001b[0;34m=\u001b[0m\u001b[0;34m[\u001b[0m\u001b[0;34m'Test Statistic'\u001b[0m\u001b[0;34m,\u001b[0m\u001b[0;34m'p-value'\u001b[0m\u001b[0;34m,\u001b[0m\u001b[0;34m'#Lags Used'\u001b[0m\u001b[0;34m,\u001b[0m\u001b[0;34m'Number of Observations Used'\u001b[0m\u001b[0;34m]\u001b[0m\u001b[0;34m)\u001b[0m\u001b[0;34m\u001b[0m\u001b[0;34m\u001b[0m\u001b[0m\n\u001b[1;32m     21\u001b[0m     \u001b[0;32mfor\u001b[0m \u001b[0mkey\u001b[0m\u001b[0;34m,\u001b[0m\u001b[0mvalue\u001b[0m \u001b[0;32min\u001b[0m \u001b[0mdftest\u001b[0m\u001b[0;34m[\u001b[0m\u001b[0;36m4\u001b[0m\u001b[0;34m]\u001b[0m\u001b[0;34m.\u001b[0m\u001b[0mitems\u001b[0m\u001b[0;34m(\u001b[0m\u001b[0;34m)\u001b[0m\u001b[0;34m:\u001b[0m\u001b[0;34m\u001b[0m\u001b[0;34m\u001b[0m\u001b[0m\n",
      "\u001b[0;32m~/opt/anaconda3/envs/learn-env/lib/python3.8/site-packages/statsmodels/tsa/stattools.py\u001b[0m in \u001b[0;36madfuller\u001b[0;34m(x, maxlag, regression, autolag, store, regresults)\u001b[0m\n\u001b[1;32m    258\u001b[0m     \u001b[0mSee\u001b[0m \u001b[0mexample\u001b[0m \u001b[0mnotebook\u001b[0m\u001b[0;34m\u001b[0m\u001b[0;34m\u001b[0m\u001b[0m\n\u001b[1;32m    259\u001b[0m     \"\"\"\n\u001b[0;32m--> 260\u001b[0;31m     \u001b[0mx\u001b[0m \u001b[0;34m=\u001b[0m \u001b[0marray_like\u001b[0m\u001b[0;34m(\u001b[0m\u001b[0mx\u001b[0m\u001b[0;34m,\u001b[0m \u001b[0;34m\"x\"\u001b[0m\u001b[0;34m)\u001b[0m\u001b[0;34m\u001b[0m\u001b[0;34m\u001b[0m\u001b[0m\n\u001b[0m\u001b[1;32m    261\u001b[0m     \u001b[0mmaxlag\u001b[0m \u001b[0;34m=\u001b[0m \u001b[0mint_like\u001b[0m\u001b[0;34m(\u001b[0m\u001b[0mmaxlag\u001b[0m\u001b[0;34m,\u001b[0m \u001b[0;34m\"maxlag\"\u001b[0m\u001b[0;34m,\u001b[0m \u001b[0moptional\u001b[0m\u001b[0;34m=\u001b[0m\u001b[0;32mTrue\u001b[0m\u001b[0;34m)\u001b[0m\u001b[0;34m\u001b[0m\u001b[0;34m\u001b[0m\u001b[0m\n\u001b[1;32m    262\u001b[0m     \u001b[0mregression\u001b[0m \u001b[0;34m=\u001b[0m \u001b[0mrename_trend\u001b[0m\u001b[0;34m(\u001b[0m\u001b[0mregression\u001b[0m\u001b[0;34m)\u001b[0m\u001b[0;34m\u001b[0m\u001b[0;34m\u001b[0m\u001b[0m\n",
      "\u001b[0;32m~/opt/anaconda3/envs/learn-env/lib/python3.8/site-packages/statsmodels/tools/validation/validation.py\u001b[0m in \u001b[0;36marray_like\u001b[0;34m(obj, name, dtype, ndim, maxdim, shape, order, contiguous, optional)\u001b[0m\n\u001b[1;32m    145\u001b[0m         \u001b[0;32mif\u001b[0m \u001b[0marr\u001b[0m\u001b[0;34m.\u001b[0m\u001b[0mndim\u001b[0m \u001b[0;34m!=\u001b[0m \u001b[0mndim\u001b[0m\u001b[0;34m:\u001b[0m\u001b[0;34m\u001b[0m\u001b[0;34m\u001b[0m\u001b[0m\n\u001b[1;32m    146\u001b[0m             \u001b[0mmsg\u001b[0m \u001b[0;34m=\u001b[0m \u001b[0;34m\"{0} is required to have ndim {1} but has ndim {2}\"\u001b[0m\u001b[0;34m\u001b[0m\u001b[0;34m\u001b[0m\u001b[0m\n\u001b[0;32m--> 147\u001b[0;31m             \u001b[0;32mraise\u001b[0m \u001b[0mValueError\u001b[0m\u001b[0;34m(\u001b[0m\u001b[0mmsg\u001b[0m\u001b[0;34m.\u001b[0m\u001b[0mformat\u001b[0m\u001b[0;34m(\u001b[0m\u001b[0mname\u001b[0m\u001b[0;34m,\u001b[0m \u001b[0mndim\u001b[0m\u001b[0;34m,\u001b[0m \u001b[0marr\u001b[0m\u001b[0;34m.\u001b[0m\u001b[0mndim\u001b[0m\u001b[0;34m)\u001b[0m\u001b[0;34m)\u001b[0m\u001b[0;34m\u001b[0m\u001b[0;34m\u001b[0m\u001b[0m\n\u001b[0m\u001b[1;32m    148\u001b[0m     \u001b[0;32mif\u001b[0m \u001b[0mshape\u001b[0m \u001b[0;32mis\u001b[0m \u001b[0;32mnot\u001b[0m \u001b[0;32mNone\u001b[0m\u001b[0;34m:\u001b[0m\u001b[0;34m\u001b[0m\u001b[0;34m\u001b[0m\u001b[0m\n\u001b[1;32m    149\u001b[0m         \u001b[0;32mfor\u001b[0m \u001b[0mactual\u001b[0m\u001b[0;34m,\u001b[0m \u001b[0mreq\u001b[0m \u001b[0;32min\u001b[0m \u001b[0mzip\u001b[0m\u001b[0;34m(\u001b[0m\u001b[0marr\u001b[0m\u001b[0;34m.\u001b[0m\u001b[0mshape\u001b[0m\u001b[0;34m,\u001b[0m \u001b[0mshape\u001b[0m\u001b[0;34m)\u001b[0m\u001b[0;34m:\u001b[0m\u001b[0;34m\u001b[0m\u001b[0;34m\u001b[0m\u001b[0m\n",
      "\u001b[0;31mValueError\u001b[0m: x is required to have ndim 1 but has ndim 2"
     ]
    }
   ],
   "source": [
    "test_stationarity(zipcode_df)"
   ]
  },
  {
   "cell_type": "code",
   "execution_count": null,
   "metadata": {},
   "outputs": [],
   "source": []
  },
  {
   "cell_type": "code",
   "execution_count": null,
   "metadata": {},
   "outputs": [],
   "source": []
  },
  {
   "cell_type": "code",
   "execution_count": null,
   "metadata": {},
   "outputs": [],
   "source": []
  },
  {
   "cell_type": "code",
   "execution_count": null,
   "metadata": {},
   "outputs": [],
   "source": []
  },
  {
   "cell_type": "code",
   "execution_count": 85,
   "metadata": {
    "ExecuteTime": {
     "end_time": "2022-06-22T19:36:53.694082Z",
     "start_time": "2022-06-22T19:36:53.664628Z"
    }
   },
   "outputs": [],
   "source": [
    "mil_zipcodes = list(set(zipcode_df['zipcode']))"
   ]
  },
  {
   "cell_type": "code",
   "execution_count": 82,
   "metadata": {
    "ExecuteTime": {
     "end_time": "2022-06-22T19:31:13.128464Z",
     "start_time": "2022-06-22T19:31:13.109646Z"
    }
   },
   "outputs": [],
   "source": [
    "# evaluate an ARIMA model for a given order (p,d,q)\n",
    "def evaluate_arima_model(X, arima_order):\n",
    "\n",
    "    # prepare training dataset\n",
    "    train_size = int(len(X) * 0.80)\n",
    "    train, test = X[0:train_size], X[train_size:]\n",
    "    history = [x for x in train]\n",
    "    \n",
    "    # make predictions\n",
    "    predictions = list()\n",
    "    \n",
    "    for t in range(len(test)):\n",
    "        model = ARIMA(history, order=arima_order)\n",
    "        model_fit = model.fit()\n",
    "        yhat = model_fit.forecast()[0]\n",
    "        predictions.append(yhat)\n",
    "        history.append(test[t])\n",
    "    \n",
    "    # calculate out of sample error\n",
    "    rmse = sqrt(mean_squared_error(test, predictions))\n",
    "    \n",
    "    return rmse\n",
    " \n",
    "# evaluate combinations of p, d and q values for an ARIMA model\n",
    "def evaluate_models(dataset, p_values, d_values, q_values):\n",
    "    dataset = dataset.astype('float32')\n",
    "    best_score, best_cfg = float(\"inf\"), None\n",
    "    for p in p_values:\n",
    "        for d in d_values:\n",
    "            for q in q_values:\n",
    "                order = (p,d,q)\n",
    "                try:\n",
    "                    rmse = evaluate_arima_model(dataset, order)\n",
    "                    if rmse < best_score:\n",
    "                        best_score, best_cfg = rmse, order\n",
    "                    print('ARIMA%s RMSE=%.3f' % (order,rmse))\n",
    "                except:\n",
    "                    continue\n",
    "    print('Best ARIMA%s RMSE=%.3f' % (best_cfg, best_score))\n",
    " "
   ]
  },
  {
   "cell_type": "code",
   "execution_count": 83,
   "metadata": {
    "ExecuteTime": {
     "end_time": "2022-06-22T19:31:42.752241Z",
     "start_time": "2022-06-22T19:31:41.649106Z"
    }
   },
   "outputs": [
    {
     "name": "stdout",
     "output_type": "stream",
     "text": [
      "Best ARIMANone RMSE=inf\n"
     ]
    }
   ],
   "source": [
    "# evaluate parameters\n",
    "p_values = range(0, 3)\n",
    "d_values = range(0, 3)\n",
    "q_values = range(0, 3)\n",
    "warnings.filterwarnings(\"ignore\")\n",
    "\n",
    "evaluate_models(zipcode_df.values, p_values, d_values, q_values)"
   ]
  },
  {
   "cell_type": "code",
   "execution_count": null,
   "metadata": {},
   "outputs": [],
   "source": []
  },
  {
   "cell_type": "code",
   "execution_count": null,
   "metadata": {},
   "outputs": [],
   "source": []
  },
  {
   "cell_type": "code",
   "execution_count": null,
   "metadata": {},
   "outputs": [],
   "source": []
  },
  {
   "cell_type": "code",
   "execution_count": null,
   "metadata": {},
   "outputs": [],
   "source": []
  },
  {
   "cell_type": "code",
   "execution_count": null,
   "metadata": {},
   "outputs": [],
   "source": []
  },
  {
   "cell_type": "code",
   "execution_count": null,
   "metadata": {},
   "outputs": [],
   "source": []
  },
  {
   "cell_type": "code",
   "execution_count": null,
   "metadata": {},
   "outputs": [],
   "source": []
  },
  {
   "cell_type": "code",
   "execution_count": null,
   "metadata": {
    "ExecuteTime": {
     "end_time": "2022-06-21T22:16:51.152504Z",
     "start_time": "2022-06-21T22:16:51.143865Z"
    }
   },
   "outputs": [],
   "source": []
  },
  {
   "cell_type": "code",
   "execution_count": null,
   "metadata": {
    "ExecuteTime": {
     "end_time": "2022-06-21T22:16:51.188158Z",
     "start_time": "2022-06-21T22:16:51.155548Z"
    }
   },
   "outputs": [],
   "source": [
    "mil_df = melted_df['2010-12-31':]\n",
    "\n",
    "# Examining the new shape\n",
    "print(mil_df.shape)\n",
    "\n",
    "mil_df.head()"
   ]
  },
  {
   "cell_type": "code",
   "execution_count": null,
   "metadata": {
    "ExecuteTime": {
     "end_time": "2022-06-21T22:16:51.430238Z",
     "start_time": "2022-06-21T22:16:51.191314Z"
    }
   },
   "outputs": [],
   "source": [
    "# Plotting the average time series for all of millennial cities\n",
    "fig, ax = plt.subplots(figsize=(10,5))\n",
    "plt.plot(mil_df)\n",
    "plt.title('Averaged Median Home Prices in Top 25 Cities for Millennials')\n",
    "plt.xlabel('Year')\n",
    "plt.ylabel('Averaged Median Home Price');"
   ]
  },
  {
   "cell_type": "code",
   "execution_count": null,
   "metadata": {
    "ExecuteTime": {
     "end_time": "2022-06-21T22:16:52.270782Z",
     "start_time": "2022-06-21T22:16:51.434563Z"
    }
   },
   "outputs": [],
   "source": [
    "# These lists will hold the names of each millennial city, as well as that city's ROI from 2011 to 2018\n",
    "names = []\n",
    "historical_roi = []\n",
    "\n",
    "# This for loop adds the information to the two lists\n",
    "for i in range(len(mil_df.columns)):\n",
    "    \n",
    "    col_name = mil_df.columns[i]\n",
    "    \n",
    "    initial_val = mil_df[mil_df.columns[i]]['2011-01-01']\n",
    "    present_val = mil_df[mil_df.columns[i]]['2018-04-01']\n",
    "    \n",
    "    roi = round(((present_val - initial_val) / initial_val) * 100, 2)\n",
    "    \n",
    "    names.append(col_name)\n",
    "    historical_roi.append(roi)\n",
    "\n",
    "# Turning the data into a pandas dataframe\n",
    "roi_df = pd.DataFrame()\n",
    "roi_df['City'] = names\n",
    "roi_df['% ROI'] = historical_roi\n",
    "roi_df.sort_values(['% ROI'], inplace=True, ascending=False)\n",
    "roi_df.set_index('City', inplace=True)\n",
    "\n",
    "# Plotting the historical data \n",
    "fig, ax = plt.subplots(figsize=(20,5))\n",
    "plt.bar(roi_df.index, roi_df['% ROI'])\n",
    "plt.title('% ROI by City 2011 - 2018')\n",
    "plt.xlabel('City')\n",
    "plt.ylabel('% ROI')\n",
    "plt.xticks(rotation=270)\n",
    "plt.axhline(0, color='k')\n",
    "plt.show()\n",
    "\n",
    "# Displaying our top five choices based on EDA\n",
    "roi_df.head()"
   ]
  },
  {
   "cell_type": "code",
   "execution_count": null,
   "metadata": {
    "ExecuteTime": {
     "end_time": "2022-06-21T22:16:52.286511Z",
     "start_time": "2022-06-21T22:16:52.275301Z"
    }
   },
   "outputs": [],
   "source": [
    "# These two lists will track our buy and sell numbers\n",
    "buys = []\n",
    "sells = []\n",
    "\n",
    "# Getting the median values for 2011 (buys) and 2018 (sells)\n",
    "for i in mill_cities:\n",
    "    buys.append(mil_df[i]['2011-01-01'])\n",
    "    sells.append(mil_df[i]['2018-04-01'])\n",
    "\n",
    "# Calculating the ROI we would have achieved\n",
    "eda_roi = round( ((sum(sells) - sum(buys)) / sum(buys) ) * 100, 2)\n",
    "\n",
    "# Printing the ROI\n",
    "print(f'Using an EDA approach, we could have achieved {eda_roi}% ROI from 2011 to 2018')"
   ]
  },
  {
   "cell_type": "code",
   "execution_count": null,
   "metadata": {},
   "outputs": [],
   "source": []
  },
  {
   "cell_type": "code",
   "execution_count": null,
   "metadata": {
    "ExecuteTime": {
     "end_time": "2022-06-22T00:08:23.372080Z",
     "start_time": "2022-06-22T00:08:23.346107Z"
    }
   },
   "outputs": [],
   "source": [
    "# Train-Test split\n",
    "# find the index which allows us to split off 20% of the data\n",
    "cutoff = round(mil_df.shape[0]*0.8)\n",
    "train = mil_df[:cutoff]\n",
    "valid = mil_df[cutoff:]"
   ]
  },
  {
   "cell_type": "markdown",
   "metadata": {},
   "source": [
    "### Grand Rapids"
   ]
  },
  {
   "cell_type": "code",
   "execution_count": null,
   "metadata": {
    "ExecuteTime": {
     "end_time": "2022-06-21T23:08:35.137562Z",
     "start_time": "2022-06-21T23:08:34.924086Z"
    }
   },
   "outputs": [],
   "source": [
    "# Define train and test sets according to the index found above\n",
    "grand_train = mil_df['Grand Rapids, MI'][:cutoff]\n",
    "grand_valid = mil_df['Grand Rapids, MI'][cutoff:]\n",
    "\n",
    "fig, ax = plt.subplots(figsize=(12,8))\n",
    "ax.plot(grand_train, label='train')\n",
    "ax.plot(grand_valid, label='valid')\n",
    "ax.set_title('Train-Validation Split')\n",
    "plt.legend();"
   ]
  },
  {
   "cell_type": "code",
   "execution_count": null,
   "metadata": {
    "ExecuteTime": {
     "end_time": "2022-06-21T22:16:52.538433Z",
     "start_time": "2022-06-21T22:16:52.533645Z"
    }
   },
   "outputs": [],
   "source": [
    "# Define the p, d and q parameters to take any value between 0 and 2\n",
    "p = d = q = range(0,2)\n",
    "\n",
    "# Generate all different combinations of p, q and q triplets\n",
    "pdq = list(itertools.product(p,d,q))\n",
    "\n",
    "# Generate all different combinations of seasonal p, q and q triplets (use 12 for frequency)\n",
    "pdqs = [(x[0], x[1], x[2], 12) for x in list(itertools.product(p, d, q))]"
   ]
  },
  {
   "cell_type": "code",
   "execution_count": null,
   "metadata": {
    "ExecuteTime": {
     "end_time": "2022-06-21T23:08:52.978074Z",
     "start_time": "2022-06-21T23:08:44.965940Z"
    },
    "scrolled": true
   },
   "outputs": [],
   "source": [
    "# Run a grid with pdq and seasonal pdq parameters calculated above and get the best AIC value\n",
    "ans = []\n",
    "\n",
    "for comb in pdq:\n",
    "    for combs in pdqs:\n",
    "        try:\n",
    "            mod = sm.tsa.statespace.SARIMAX(mil_df['Grand Rapids, MI'],\n",
    "                                            order = comb,\n",
    "                                            seasonal_order = combs,\n",
    "                                            enforce_stationarity = False,\n",
    "                                            enforce_invertibility = False)\n",
    "            output = mod.fit()\n",
    "            ans.append([comb, combs, output.aic])\n",
    "            print('ARIMA {} x {}12 : AIC Calculated = {}'.format(comb, combs, output.aic))\n",
    "        except:\n",
    "            continue"
   ]
  },
  {
   "cell_type": "code",
   "execution_count": null,
   "metadata": {
    "ExecuteTime": {
     "end_time": "2022-06-21T22:17:00.030039Z",
     "start_time": "2022-06-21T22:17:00.018864Z"
    }
   },
   "outputs": [],
   "source": [
    "# Find the parameters with minimal AIC value\n",
    "ans_df = pd.DataFrame(ans, columns = ['pdq', 'pdqs', 'aic'])\n",
    "ans_df.loc[ans_df['aic'].idxmin()]"
   ]
  },
  {
   "cell_type": "code",
   "execution_count": null,
   "metadata": {
    "ExecuteTime": {
     "end_time": "2022-06-21T23:03:59.667390Z",
     "start_time": "2022-06-21T23:03:59.363529Z"
    }
   },
   "outputs": [],
   "source": [
    "# Plug the optimal parameter values into a new SARIMAX model\n",
    "grand_sarima = sm.tsa.statespace.SARIMAX(grand_train,\n",
    "                                        order=(1, 1, 1), \n",
    "                                        seasonal_order=(0, 1, 1, 12), \n",
    "                                        enforce_stationarity=False, \n",
    "                                        enforce_invertibility=False)\n",
    "\n",
    "# Fit the model and print results\n",
    "output = grand_sarima.fit()\n",
    "\n",
    "print(output.summary().tables[1])"
   ]
  },
  {
   "cell_type": "code",
   "execution_count": null,
   "metadata": {
    "ExecuteTime": {
     "end_time": "2022-06-21T23:11:42.264909Z",
     "start_time": "2022-06-21T23:11:42.255502Z"
    }
   },
   "outputs": [],
   "source": [
    "# Get predictions starting from 2016-11-01 and calculate confidence intervals\n",
    "pred = output.get_prediction(start=pd.to_datetime('2016-11-01'),\n",
    "                             end=pd.to_datetime('2018-04-01'),\n",
    "                             dynamic=False)\n",
    "pred_conf = pred.conf_int()"
   ]
  },
  {
   "cell_type": "code",
   "execution_count": null,
   "metadata": {
    "ExecuteTime": {
     "end_time": "2022-06-21T23:20:23.327505Z",
     "start_time": "2022-06-21T23:20:23.062638Z"
    }
   },
   "outputs": [],
   "source": [
    "# Plot real vs predicted values along with confidence interval\n",
    "rcParams['figure.figsize'] = 15, 6\n",
    "\n",
    "# Plot observed values\n",
    "ax = mil_df['Grand Rapids, MI']['2011':].plot(label='observed')\n",
    "\n",
    "# Plot predicted values\n",
    "pred.predicted_mean.plot(ax=ax, label='One-step ahead Forecast', alpha=0.9)\n",
    "\n",
    "# Plot the range for confidence intervals\n",
    "ax.fill_between(pred_conf.index,\n",
    "                pred_conf.iloc[:, 0],\n",
    "                pred_conf.iloc[:, 1], color='g', alpha=0.5)\n",
    "\n",
    "# Set axes labels\n",
    "ax.set_title('Grand Rapids')\n",
    "ax.set_xlabel('Date')\n",
    "ax.set_ylabel('Median House Price')\n",
    "plt.legend()\n",
    "\n",
    "plt.show()"
   ]
  },
  {
   "cell_type": "code",
   "execution_count": null,
   "metadata": {
    "ExecuteTime": {
     "end_time": "2022-06-21T23:15:48.358576Z",
     "start_time": "2022-06-21T23:15:48.346351Z"
    }
   },
   "outputs": [],
   "source": [
    "# Get the real and predicted values\n",
    "grand_forecasted = pred.predicted_mean\n",
    "grand_truth = mil_df['Grand Rapids, MI']['2016-11-01':]\n",
    "\n",
    "# Compute the mean square error\n",
    "grand_rsme = mean_squared_error(grand_forecasted, grand_truth, squared=False)\n",
    "print('The Root Mean Squared Error of our forecasts is {}'.format(round(grand_rsme, 2)))"
   ]
  },
  {
   "cell_type": "code",
   "execution_count": null,
   "metadata": {
    "ExecuteTime": {
     "end_time": "2022-06-21T23:17:35.917495Z",
     "start_time": "2022-06-21T23:17:35.902952Z"
    }
   },
   "outputs": [],
   "source": [
    "# Get dynamic predictions with confidence intervals as above \n",
    "pred_dynamic = output.get_prediction(start=pd.to_datetime('2016-11-01'),\n",
    "                             end=pd.to_datetime('2018-04-01'),\n",
    "                             dynamic=True,\n",
    "                             full_results=True)\n",
    "pred_dynamic_conf = pred_dynamic.conf_int()"
   ]
  },
  {
   "cell_type": "code",
   "execution_count": null,
   "metadata": {
    "ExecuteTime": {
     "end_time": "2022-06-21T23:20:58.330229Z",
     "start_time": "2022-06-21T23:20:58.054913Z"
    }
   },
   "outputs": [],
   "source": [
    "# Plot the dynamic forecast with confidence intervals as above\n",
    "ax = mil_df['Grand Rapids, MI']['2011':].plot(label='observed', figsize=(15, 6))\n",
    "pred_dynamic.predicted_mean.plot(label='Dynamic Forecast', ax=ax)\n",
    "\n",
    "ax.fill_between(pred_dynamic_conf.index,\n",
    "                pred_dynamic_conf.iloc[:, 0],\n",
    "                pred_dynamic_conf.iloc[:, 1], color='g', alpha=.3)\n",
    "\n",
    "ax.fill_betweenx(ax.get_ylim(),\n",
    "                 pd.to_datetime('2016-11-01'),\n",
    "                 grand_forecasted.index[-1],\n",
    "                 alpha=.1, zorder=-1)\n",
    "ax.set_title('Grand Rapids')\n",
    "ax.set_xlabel('Date')\n",
    "ax.set_ylabel('Median House Price')\n",
    "\n",
    "plt.legend()\n",
    "plt.show()"
   ]
  },
  {
   "cell_type": "code",
   "execution_count": null,
   "metadata": {
    "ExecuteTime": {
     "end_time": "2022-06-21T23:23:58.876259Z",
     "start_time": "2022-06-21T23:23:58.865976Z"
    }
   },
   "outputs": [],
   "source": [
    "# Extract the predicted and true values of our time series\n",
    "grand_dyn_forecasted = pred_dynamic.predicted_mean\n",
    "grand_dyn_truth = mil_df['Grand Rapids, MI']['2016-11-01':]\n",
    "\n",
    "# Compute the mean square error\n",
    "grand_dyn_rsme = mean_squared_error(grand_dyn_forecasted, grand_dyn_truth, squared=False)\n",
    "print('The Root Mean Squared Error of our Dynamic forecast is {}'.format(round(grand_dyn_rsme, 2)))"
   ]
  },
  {
   "cell_type": "code",
   "execution_count": null,
   "metadata": {},
   "outputs": [],
   "source": []
  },
  {
   "cell_type": "code",
   "execution_count": null,
   "metadata": {
    "ExecuteTime": {
     "end_time": "2022-06-21T23:33:29.414589Z",
     "start_time": "2022-06-21T23:33:29.355921Z"
    }
   },
   "outputs": [],
   "source": [
    "# Get forecast 500 steps ahead in future\n",
    "grand_prediction = output.get_forecast(steps=500)\n",
    "\n",
    "# Get confidence intervals of forecasts\n",
    "grand_pred_conf = grand_prediction.conf_int()"
   ]
  },
  {
   "cell_type": "code",
   "execution_count": null,
   "metadata": {
    "ExecuteTime": {
     "end_time": "2022-06-21T23:33:41.593871Z",
     "start_time": "2022-06-21T23:33:41.252370Z"
    }
   },
   "outputs": [],
   "source": [
    "# Plot future predictions with confidence intervals\n",
    "ax = mil_df['Grand Rapids, MI'].plot(label='observed', figsize=(15, 6))\n",
    "grand_prediction.predicted_mean.plot(ax=ax, label='Forecast')\n",
    "ax.fill_between(grand_pred_conf.index,\n",
    "                grand_pred_conf.iloc[:, 0],\n",
    "                grand_pred_conf.iloc[:, 1], color='k', alpha=0.25)\n",
    "ax.set_title('Grand Rapids')\n",
    "ax.set_xlabel('Date')\n",
    "ax.set_ylabel('Median House Price')\n",
    "\n",
    "plt.legend()\n",
    "plt.show()"
   ]
  },
  {
   "cell_type": "code",
   "execution_count": null,
   "metadata": {},
   "outputs": [],
   "source": []
  },
  {
   "cell_type": "markdown",
   "metadata": {},
   "source": [
    "### Richardson, TX"
   ]
  },
  {
   "cell_type": "code",
   "execution_count": null,
   "metadata": {
    "ExecuteTime": {
     "end_time": "2022-06-21T23:36:47.700954Z",
     "start_time": "2022-06-21T23:36:47.299461Z"
    }
   },
   "outputs": [],
   "source": [
    "# Define train and test sets according to the index found above\n",
    "rich_train = mil_df['Richardson, TX'][:cutoff]\n",
    "rich_valid = mil_df['Richardson, TX'][cutoff:]\n",
    "\n",
    "fig, ax = plt.subplots(figsize=(12,8))\n",
    "ax.plot(grand_train, label='train')\n",
    "ax.plot(grand_valid, label='valid')\n",
    "ax.set_title('Train-Validation Split')\n",
    "plt.legend();"
   ]
  },
  {
   "cell_type": "code",
   "execution_count": null,
   "metadata": {
    "ExecuteTime": {
     "end_time": "2022-06-21T23:37:35.609974Z",
     "start_time": "2022-06-21T23:37:27.417599Z"
    },
    "scrolled": true
   },
   "outputs": [],
   "source": [
    "# Run a grid with pdq and seasonal pdq parameters calculated above and get the best AIC value\n",
    "ans = []\n",
    "\n",
    "for comb in pdq:\n",
    "    for combs in pdqs:\n",
    "        try:\n",
    "            mod = sm.tsa.statespace.SARIMAX(mil_df['Richardson, TX'],\n",
    "                                            order = comb,\n",
    "                                            seasonal_order = combs,\n",
    "                                            enforce_stationarity = False,\n",
    "                                            enforce_invertibility = False)\n",
    "            output = mod.fit()\n",
    "            ans.append([comb, combs, output.aic])\n",
    "            print('ARIMA {} x {}12 : AIC Calculated = {}'.format(comb, combs, output.aic))\n",
    "        except:\n",
    "            continue"
   ]
  },
  {
   "cell_type": "code",
   "execution_count": null,
   "metadata": {
    "ExecuteTime": {
     "end_time": "2022-06-21T23:37:48.265855Z",
     "start_time": "2022-06-21T23:37:48.251471Z"
    }
   },
   "outputs": [],
   "source": [
    "# Find the parameters with minimal AIC value\n",
    "ans_df = pd.DataFrame(ans, columns = ['pdq', 'pdqs', 'aic'])\n",
    "ans_df.loc[ans_df['aic'].idxmin()]"
   ]
  },
  {
   "cell_type": "code",
   "execution_count": null,
   "metadata": {
    "ExecuteTime": {
     "end_time": "2022-06-21T23:38:30.060811Z",
     "start_time": "2022-06-21T23:38:29.671513Z"
    }
   },
   "outputs": [],
   "source": [
    "# Plug the optimal parameter values into a new SARIMAX model\n",
    "rich_sarima = sm.tsa.statespace.SARIMAX(rich_train,\n",
    "                                        order=(1, 1, 1), \n",
    "                                        seasonal_order=(0, 1, 1, 12), \n",
    "                                        enforce_stationarity=False, \n",
    "                                        enforce_invertibility=False)\n",
    "\n",
    "# Fit the model and print results\n",
    "output = rich_sarima.fit()\n",
    "\n",
    "print(output.summary().tables[1])"
   ]
  },
  {
   "cell_type": "code",
   "execution_count": null,
   "metadata": {
    "ExecuteTime": {
     "end_time": "2022-06-21T23:39:12.285959Z",
     "start_time": "2022-06-21T23:39:12.271301Z"
    }
   },
   "outputs": [],
   "source": [
    "# Get predictions starting from 2016-11-01 and calculate confidence intervals\n",
    "rich_pred = output.get_prediction(start=pd.to_datetime('2016-11-01'),\n",
    "                             end=pd.to_datetime('2018-04-01'),\n",
    "                             dynamic=False)\n",
    "rich_pred_conf = rich_pred.conf_int()"
   ]
  },
  {
   "cell_type": "code",
   "execution_count": null,
   "metadata": {
    "ExecuteTime": {
     "end_time": "2022-06-21T23:47:07.080023Z",
     "start_time": "2022-06-21T23:47:06.739394Z"
    }
   },
   "outputs": [],
   "source": [
    "# Plot real vs predicted values along with confidence interval\n",
    "rcParams['figure.figsize'] = 15, 6\n",
    "\n",
    "# Plot observed values\n",
    "ax = mil_df['Richardson, TX']['2011':].plot(label='observed')\n",
    "\n",
    "# Plot predicted values\n",
    "rich_pred.predicted_mean.plot(ax=ax, label='One-step ahead Forecast', alpha=0.9)\n",
    "\n",
    "# Plot the range for confidence intervals\n",
    "ax.fill_between(rich_pred_conf.index,\n",
    "                rich_pred_conf.iloc[:, 0],\n",
    "                rich_pred_conf.iloc[:, 1], color='g', alpha=0.5)\n",
    "\n",
    "# Set axes labels\n",
    "ax.set_title('Richardson, TX')\n",
    "ax.set_xlabel('Date')\n",
    "ax.set_ylabel('Median House Price')\n",
    "plt.legend()\n",
    "\n",
    "plt.show()"
   ]
  },
  {
   "cell_type": "code",
   "execution_count": null,
   "metadata": {
    "ExecuteTime": {
     "end_time": "2022-06-21T23:44:15.914502Z",
     "start_time": "2022-06-21T23:44:15.903446Z"
    }
   },
   "outputs": [],
   "source": [
    "# Get the real and predicted values\n",
    "rich_forecasted = rich_pred.predicted_mean\n",
    "rich_truth = mil_df['Richardson, TX']['2016-11-01':]\n",
    "\n",
    "# Compute the mean square error\n",
    "rich_rsme = mean_squared_error(rich_forecasted, rich_truth, squared=False)\n",
    "print('The Root Mean Squared Error of our forecasts is {}'.format(round(rich_rsme, 2)))"
   ]
  },
  {
   "cell_type": "code",
   "execution_count": null,
   "metadata": {},
   "outputs": [],
   "source": []
  },
  {
   "cell_type": "code",
   "execution_count": null,
   "metadata": {
    "ExecuteTime": {
     "end_time": "2022-06-21T23:48:20.553528Z",
     "start_time": "2022-06-21T23:48:20.530418Z"
    }
   },
   "outputs": [],
   "source": [
    "# Get dynamic predictions with confidence intervals as above \n",
    "rich_pred_dynamic = output.get_prediction(start=pd.to_datetime('2016-11-01'),\n",
    "                             end=pd.to_datetime('2018-04-01'),\n",
    "                             dynamic=True,\n",
    "                             full_results=True)\n",
    "rich_pred_dynamic_conf = rich_pred_dynamic.conf_int()"
   ]
  },
  {
   "cell_type": "code",
   "execution_count": null,
   "metadata": {
    "ExecuteTime": {
     "end_time": "2022-06-21T23:49:26.196965Z",
     "start_time": "2022-06-21T23:49:25.915118Z"
    }
   },
   "outputs": [],
   "source": [
    "# Plot the dynamic forecast with confidence intervals as above\n",
    "ax = mil_df['Richardson, TX']['2011':].plot(label='observed', figsize=(15, 6))\n",
    "rich_pred_dynamic.predicted_mean.plot(label='Dynamic Forecast', ax=ax)\n",
    "\n",
    "ax.fill_between(rich_pred_dynamic_conf.index,\n",
    "                rich_pred_dynamic_conf.iloc[:, 0],\n",
    "                rich_pred_dynamic_conf.iloc[:, 1], color='g', alpha=.3)\n",
    "\n",
    "ax.fill_betweenx(ax.get_ylim(),\n",
    "                 pd.to_datetime('2016-11-01'),\n",
    "                 rich_forecasted.index[-1],\n",
    "                 alpha=.1, zorder=-1)\n",
    "ax.set_title('Richardson, TX')\n",
    "ax.set_xlabel('Date')\n",
    "ax.set_ylabel('Median House Price')\n",
    "\n",
    "plt.legend()\n",
    "plt.show()"
   ]
  },
  {
   "cell_type": "code",
   "execution_count": null,
   "metadata": {},
   "outputs": [],
   "source": []
  },
  {
   "cell_type": "code",
   "execution_count": null,
   "metadata": {
    "ExecuteTime": {
     "end_time": "2022-06-21T23:50:44.454808Z",
     "start_time": "2022-06-21T23:50:44.443151Z"
    }
   },
   "outputs": [],
   "source": [
    "# Extract the predicted and true values of our time series\n",
    "rich_dyn_forecasted = rich_pred_dynamic.predicted_mean\n",
    "rich_dyn_truth = mil_df['Richardson, TX']['2016-11-01':]\n",
    "\n",
    "# Compute the mean square error\n",
    "rich_dyn_rsme = mean_squared_error(rich_dyn_forecasted, rich_dyn_truth, squared=False)\n",
    "print('The Root Mean Squared Error of our Dynamic forecast is {}'.format(round(rich_dyn_rsme, 2)))"
   ]
  },
  {
   "cell_type": "code",
   "execution_count": null,
   "metadata": {},
   "outputs": [],
   "source": []
  },
  {
   "cell_type": "code",
   "execution_count": null,
   "metadata": {
    "ExecuteTime": {
     "end_time": "2022-06-21T23:51:49.756974Z",
     "start_time": "2022-06-21T23:51:49.696674Z"
    }
   },
   "outputs": [],
   "source": [
    "# Get forecast 500 steps ahead in future\n",
    "rich_prediction = output.get_forecast(steps=500)\n",
    "\n",
    "# Get confidence intervals of forecasts\n",
    "rich_pred_conf = rich_prediction.conf_int()"
   ]
  },
  {
   "cell_type": "code",
   "execution_count": null,
   "metadata": {
    "ExecuteTime": {
     "end_time": "2022-06-21T23:52:43.221342Z",
     "start_time": "2022-06-21T23:52:42.892140Z"
    }
   },
   "outputs": [],
   "source": [
    "# Plot future predictions with confidence intervals\n",
    "ax = mil_df['Richardson, TX'].plot(label='observed', figsize=(15, 6))\n",
    "rich_prediction.predicted_mean.plot(ax=ax, label='Forecast')\n",
    "ax.fill_between(rich_pred_conf.index,\n",
    "                rich_pred_conf.iloc[:, 0],\n",
    "                rich_pred_conf.iloc[:, 1], color='k', alpha=0.25)\n",
    "ax.set_title('Richardson, TX')\n",
    "ax.set_xlabel('Date')\n",
    "ax.set_ylabel('Median House Price')\n",
    "\n",
    "plt.legend()\n",
    "plt.show()"
   ]
  },
  {
   "cell_type": "code",
   "execution_count": null,
   "metadata": {},
   "outputs": [],
   "source": []
  },
  {
   "cell_type": "code",
   "execution_count": null,
   "metadata": {},
   "outputs": [],
   "source": []
  },
  {
   "cell_type": "code",
   "execution_count": null,
   "metadata": {
    "ExecuteTime": {
     "end_time": "2022-06-22T00:17:05.333245Z",
     "start_time": "2022-06-22T00:17:02.440350Z"
    }
   },
   "outputs": [],
   "source": [
    "order = (1,1,1)  # <- plug-in p, d, q here\n",
    "\n",
    "for col in mil_df.columns:\n",
    "    # fit model\n",
    "    model = ARIMA(train[col], order=order)\n",
    "    model_fit = model.fit()\n",
    "\n",
    "  # summary of fit model\n",
    "\n",
    "print(model_fit.summary())\n",
    "\n",
    "  # make one-day forecast\n",
    "  #forecast, _, _ = model_fit.forecast(steps=1)\n",
    "  #print(forecast[0])"
   ]
  },
  {
   "cell_type": "code",
   "execution_count": null,
   "metadata": {},
   "outputs": [],
   "source": []
  },
  {
   "cell_type": "code",
   "execution_count": null,
   "metadata": {},
   "outputs": [],
   "source": []
  },
  {
   "cell_type": "code",
   "execution_count": null,
   "metadata": {},
   "outputs": [],
   "source": []
  },
  {
   "cell_type": "code",
   "execution_count": null,
   "metadata": {},
   "outputs": [],
   "source": []
  },
  {
   "cell_type": "code",
   "execution_count": null,
   "metadata": {},
   "outputs": [],
   "source": []
  },
  {
   "cell_type": "code",
   "execution_count": null,
   "metadata": {
    "ExecuteTime": {
     "end_time": "2022-06-22T00:03:36.720435Z",
     "start_time": "2022-06-22T00:03:36.679332Z"
    }
   },
   "outputs": [],
   "source": [
    "def train_sarima_model(self, actual_values, periods):\n",
    "    gridsearch = auto_arima(actual_values,\n",
    "                            start_p = 0,\n",
    "                            max_p = 3,\n",
    "                            d = 0, \n",
    "                            max_d = 3, \n",
    "                            start_q = 0,\n",
    "                            max_q = 3,\n",
    "                            seasonal=True,\n",
    "                            m = 12,\n",
    "                            suppress_warnings=True)\n",
    "    return fitted_model.predict(n_periods=periods)"
   ]
  },
  {
   "cell_type": "code",
   "execution_count": null,
   "metadata": {
    "ExecuteTime": {
     "end_time": "2022-06-22T00:17:34.336064Z",
     "start_time": "2022-06-22T00:17:34.316421Z"
    }
   },
   "outputs": [],
   "source": [
    "results = []\n",
    "cols = []\n",
    "for i in mil_df.columns:\n",
    "    cols.append(i)\n",
    "    result = train_sarima_model(mil_df[i])\n",
    "    results.append(result)\n",
    "\n",
    "output = (pd.DataFrame(results)).T\n",
    "output.columns=cols"
   ]
  },
  {
   "cell_type": "code",
   "execution_count": null,
   "metadata": {},
   "outputs": [],
   "source": []
  },
  {
   "cell_type": "code",
   "execution_count": null,
   "metadata": {},
   "outputs": [],
   "source": [
    "def sarima_model(city):\n",
    "    df = df_mil[df_mil['zipcode'] == zipcode]\n",
    "    df = df.drop('zipcode', axis = 1)\n",
    "\n",
    "    # establish train and test\n",
    "    cutoff = int(len(df)*0.8)\n",
    "    train = df[:cutoff]\n",
    "    val = df[cutoff:]\n",
    "\n",
    "    # we'll use the auto \n",
    "    train_auto_arima = auto_arima(\n",
    "        train, \n",
    "        trace=True,\n",
    "        stationarity = True\n",
    "    )\n",
    "\n",
    "    # store the best parameters in a dictionary\n",
    "    summary_dict = train_auto_arima.get_params(deep = True)\n",
    "    \n",
    "    order = summary_dict['order']\n",
    "    order_1 = order[0]\n",
    "    order_2 = order[1]\n",
    "    order_3 = order[2]\n",
    "\n",
    "    # assign the parameters to our model\n",
    "    model = ARIMA(\n",
    "        order = (order_1, order_2, order_3),\n",
    "        seasonal_order = (0, 0, 0, 12),\n",
    "        with_intercept = False,\n",
    "        enforce_stationarity = True,\n",
    "        suppress_warnings = True\n",
    "    )\n",
    "    \n",
    "    # we'll use a simple rolling forcast where we predict the period's house price i.e. one period into the future\n",
    "    cv = RollingForecastCV()\n",
    "\n",
    "    # we'll then get our predictions\n",
    "    val_preds = cross_val_predict(\n",
    "        estimator = model, \n",
    "        y = train,\n",
    "        cv = cv\n",
    "    )\n",
    "\n",
    "    # and finally calculate the MAPE and RMSE\n",
    "    mape = MAPE(train, val_preds\n",
    "    )\n",
    "    \n",
    "    rsme = mean_squared_error(\n",
    "        train,\n",
    "        val_preds,\n",
    "        squared=False\n",
    "    )\n",
    "\n",
    "    return rsme"
   ]
  },
  {
   "cell_type": "code",
   "execution_count": null,
   "metadata": {},
   "outputs": [],
   "source": []
  },
  {
   "cell_type": "code",
   "execution_count": null,
   "metadata": {},
   "outputs": [],
   "source": []
  },
  {
   "cell_type": "code",
   "execution_count": null,
   "metadata": {},
   "outputs": [],
   "source": []
  },
  {
   "cell_type": "code",
   "execution_count": null,
   "metadata": {},
   "outputs": [],
   "source": []
  },
  {
   "cell_type": "code",
   "execution_count": null,
   "metadata": {},
   "outputs": [],
   "source": []
  },
  {
   "cell_type": "code",
   "execution_count": null,
   "metadata": {},
   "outputs": [],
   "source": []
  },
  {
   "cell_type": "code",
   "execution_count": null,
   "metadata": {},
   "outputs": [],
   "source": []
  },
  {
   "cell_type": "code",
   "execution_count": null,
   "metadata": {},
   "outputs": [],
   "source": []
  },
  {
   "cell_type": "code",
   "execution_count": null,
   "metadata": {
    "ExecuteTime": {
     "end_time": "2022-06-21T19:18:36.517278Z",
     "start_time": "2022-06-21T19:18:36.497850Z"
    }
   },
   "outputs": [],
   "source": [
    "# created a yearly data frame for use in our baseline model\n",
    "#ts_annual = ts_df.resample('A').median()"
   ]
  },
  {
   "cell_type": "code",
   "execution_count": null,
   "metadata": {
    "ExecuteTime": {
     "end_time": "2022-06-21T19:18:42.856705Z",
     "start_time": "2022-06-21T19:18:42.817941Z"
    }
   },
   "outputs": [],
   "source": [
    "#ts_annual.head()"
   ]
  },
  {
   "cell_type": "code",
   "execution_count": null,
   "metadata": {
    "ExecuteTime": {
     "end_time": "2022-06-21T19:19:47.425270Z",
     "start_time": "2022-06-21T19:19:47.416985Z"
    }
   },
   "outputs": [],
   "source": [
    "#ts_annual.index"
   ]
  },
  {
   "cell_type": "code",
   "execution_count": null,
   "metadata": {
    "ExecuteTime": {
     "end_time": "2022-06-21T19:40:41.656286Z",
     "start_time": "2022-06-21T19:40:41.395086Z"
    },
    "scrolled": true
   },
   "outputs": [],
   "source": []
  },
  {
   "cell_type": "code",
   "execution_count": null,
   "metadata": {
    "ExecuteTime": {
     "end_time": "2022-06-21T19:41:30.935448Z",
     "start_time": "2022-06-21T19:41:30.504476Z"
    }
   },
   "outputs": [],
   "source": []
  },
  {
   "cell_type": "code",
   "execution_count": null,
   "metadata": {},
   "outputs": [],
   "source": []
  },
  {
   "cell_type": "code",
   "execution_count": null,
   "metadata": {
    "ExecuteTime": {
     "end_time": "2022-06-21T19:42:06.506956Z",
     "start_time": "2022-06-21T19:42:06.498663Z"
    }
   },
   "outputs": [],
   "source": [
    "# Define the p, d and q parameters to take any value between 0 and 2\n",
    "p = d = q = range(0,2)\n",
    "\n",
    "# Generate all different combinations of p, q and q triplets\n",
    "pdq = list(itertools.product(p,d,q))\n",
    "\n",
    "# Generate all different combinations of seasonal p, q and q triplets (use 12 for frequency)\n",
    "pdqs = [(x[0], x[1], x[2], 12) for x in list(itertools.product(p, d, q))]"
   ]
  },
  {
   "cell_type": "code",
   "execution_count": null,
   "metadata": {
    "ExecuteTime": {
     "end_time": "2022-06-21T19:42:08.628557Z",
     "start_time": "2022-06-21T19:42:08.498420Z"
    },
    "scrolled": true
   },
   "outputs": [],
   "source": [
    "# Run a grid with pdq and seasonal pdq parameters calculated above and get the best AIC value\n",
    "ans = []\n",
    "\n",
    "for comb in pdq:\n",
    "    for combs in pdqs:\n",
    "        try:\n",
    "            mod = sm.tsa.statespace.SARIMAX(ts_df,\n",
    "                                            order = comb,\n",
    "                                            seasonal_order = combs,\n",
    "                                            enforce_stationarity = False,\n",
    "                                            enforce_invertibility = False)\n",
    "            output = mod.fit()\n",
    "            ans.append([comb, combs, output.aic])\n",
    "            print('ARIMA {} x {}12 : AIC Calculated = {}'.format(comb, combs, output.aic))\n",
    "        except:\n",
    "            continue"
   ]
  },
  {
   "cell_type": "code",
   "execution_count": null,
   "metadata": {
    "ExecuteTime": {
     "end_time": "2022-06-21T19:34:20.891040Z",
     "start_time": "2022-06-21T19:34:20.874307Z"
    }
   },
   "outputs": [],
   "source": [
    "# Find the parameters with minimal AIC value\n",
    "ans_df = pd.DataFrame(ans, columns = ['pdq', 'pdqs', 'aic'])\n",
    "ans_df.loc[ans_df['aic'].idxmin()]"
   ]
  },
  {
   "cell_type": "code",
   "execution_count": null,
   "metadata": {},
   "outputs": [],
   "source": []
  },
  {
   "cell_type": "code",
   "execution_count": null,
   "metadata": {
    "ExecuteTime": {
     "end_time": "2022-06-21T19:45:16.689660Z",
     "start_time": "2022-06-21T19:45:16.683588Z"
    }
   },
   "outputs": [],
   "source": [
    "def gridsearch_sarima_fit(series_i):\n",
    "    \n",
    "    '''Runs a grid search on the series passed in, then instantiates and fits \n",
    "    an SARIMAX model with those hyperparameters, then returns that fit model. '''\n",
    "    \n",
    "    gridsearch = auto_arima(series_i,\n",
    "                            start_p = 0,\n",
    "                            max_p = 3,\n",
    "                            d = 0, \n",
    "                            max_d = 3, \n",
    "                            start_q = 0,\n",
    "                            max_q = 3,\n",
    "                            seasonal=True,\n",
    "                            m = 12,\n",
    "                            suppress_warnings=True)\n",
    "    \n",
    "    model = SARIMAX(series_i, \n",
    "                    order = gridsearch.order, \n",
    "                    seasonal_order = gridsearch.seasonal_order,\n",
    "                    enforce_stationarity=False)\n",
    "    \n",
    "    # Fit the model and print results\n",
    "    output = model.fit()\n",
    "    \n",
    "    return print(output.summary().tables[1])"
   ]
  },
  {
   "cell_type": "code",
   "execution_count": null,
   "metadata": {
    "ExecuteTime": {
     "end_time": "2022-06-21T19:45:23.492831Z",
     "start_time": "2022-06-21T19:45:18.323724Z"
    }
   },
   "outputs": [],
   "source": [
    "gridsearch_sarima_fit(ts_df['Grand Rapids, MI'])"
   ]
  },
  {
   "cell_type": "code",
   "execution_count": null,
   "metadata": {},
   "outputs": [],
   "source": []
  },
  {
   "cell_type": "code",
   "execution_count": null,
   "metadata": {},
   "outputs": [],
   "source": []
  },
  {
   "cell_type": "code",
   "execution_count": null,
   "metadata": {},
   "outputs": [],
   "source": []
  },
  {
   "cell_type": "code",
   "execution_count": null,
   "metadata": {},
   "outputs": [],
   "source": []
  },
  {
   "cell_type": "code",
   "execution_count": null,
   "metadata": {
    "ExecuteTime": {
     "end_time": "2022-06-21T19:00:57.784448Z",
     "start_time": "2022-06-21T19:00:57.776225Z"
    }
   },
   "outputs": [],
   "source": [
    "def run_sarima(i, steps, df):\n",
    "    \n",
    "    '''This function takes i, representing the index of one of our time series,\n",
    "    steps, which is the number of periods after the end of the \n",
    "    sample you want to make a prediction for, and df, the dataframe the series\n",
    "    is stored in. It log transforms the series, runs run_auto_arima, gets the \n",
    "    forecast from the fit model, and inverse log transforms that forecast series\n",
    "    back into the original units.'''\n",
    "    \n",
    "    series = df.iloc[:, i:i+1]\n",
    "    \n",
    "    name = series.columns[0]\n",
    "    \n",
    "    model = run_auto_arima(series)\n",
    "    \n",
    "    forecast = model.get_forecast(steps)\n",
    "    \n",
    "    forecast_series = forecast.summary_frame()\n",
    "    \n",
    "    return name, series, forecast_series"
   ]
  },
  {
   "cell_type": "code",
   "execution_count": null,
   "metadata": {},
   "outputs": [],
   "source": []
  },
  {
   "cell_type": "code",
   "execution_count": null,
   "metadata": {},
   "outputs": [],
   "source": []
  },
  {
   "cell_type": "code",
   "execution_count": null,
   "metadata": {},
   "outputs": [],
   "source": []
  },
  {
   "cell_type": "code",
   "execution_count": null,
   "metadata": {},
   "outputs": [],
   "source": []
  },
  {
   "cell_type": "code",
   "execution_count": null,
   "metadata": {
    "ExecuteTime": {
     "end_time": "2022-06-21T16:35:15.457352Z",
     "start_time": "2022-06-21T16:35:15.451676Z"
    }
   },
   "outputs": [],
   "source": [
    "# Create city dataframes\n",
    "\n",
    "grand_df = pd.DataFrame(ts_df['Grand Rapids, MI'])\n",
    "rich_df = pd.DataFrame(ts_df['Richardson, TX'])\n",
    "nash_df = pd.DataFrame(ts_df['Nashville, TN'])\n",
    "char_df = pd.DataFrame(ts_df['Charlotte, NC'])\n",
    "plano_df = pd.DataFrame(ts_df['Plano, TX'])"
   ]
  },
  {
   "cell_type": "code",
   "execution_count": null,
   "metadata": {
    "ExecuteTime": {
     "end_time": "2022-06-21T16:55:57.159008Z",
     "start_time": "2022-06-21T16:55:57.125844Z"
    }
   },
   "outputs": [],
   "source": [
    "top_5 = ts_df[['Grand Rapids, MI', 'Richardson, TX', 'Nashville, TN', 'Charlotte, NC', 'Plano, TX']]\n",
    "top_5"
   ]
  },
  {
   "cell_type": "code",
   "execution_count": null,
   "metadata": {
    "ExecuteTime": {
     "end_time": "2022-06-21T16:58:36.190994Z",
     "start_time": "2022-06-21T16:58:35.909524Z"
    }
   },
   "outputs": [],
   "source": [
    "top_5.plot(figsize = (15,5), subplots=False, legend=True)\n",
    "plt.title('Averaged Median Home Prices Top 5 Cities')\n",
    "plt.xlabel('Year')\n",
    "plt.ylabel('Averaged Median Home Price');\n",
    "plt.show()"
   ]
  },
  {
   "cell_type": "code",
   "execution_count": null,
   "metadata": {
    "ExecuteTime": {
     "end_time": "2022-06-21T17:56:23.030889Z",
     "start_time": "2022-06-21T17:56:23.009952Z"
    }
   },
   "outputs": [],
   "source": [
    "grand_df.index"
   ]
  },
  {
   "cell_type": "code",
   "execution_count": null,
   "metadata": {
    "ExecuteTime": {
     "end_time": "2022-06-21T17:01:59.485540Z",
     "start_time": "2022-06-21T17:01:59.474321Z"
    }
   },
   "outputs": [],
   "source": []
  },
  {
   "cell_type": "markdown",
   "metadata": {},
   "source": [
    "## Grand Rapids"
   ]
  },
  {
   "cell_type": "code",
   "execution_count": null,
   "metadata": {
    "ExecuteTime": {
     "end_time": "2022-06-21T17:03:36.177379Z",
     "start_time": "2022-06-21T17:03:35.957707Z"
    }
   },
   "outputs": [],
   "source": []
  },
  {
   "cell_type": "code",
   "execution_count": null,
   "metadata": {
    "ExecuteTime": {
     "end_time": "2022-06-21T19:24:48.418141Z",
     "start_time": "2022-06-21T19:24:48.411742Z"
    }
   },
   "outputs": [],
   "source": []
  },
  {
   "cell_type": "code",
   "execution_count": null,
   "metadata": {
    "ExecuteTime": {
     "end_time": "2022-06-21T19:24:56.889105Z",
     "start_time": "2022-06-21T19:24:49.563354Z"
    },
    "scrolled": true
   },
   "outputs": [],
   "source": []
  },
  {
   "cell_type": "code",
   "execution_count": null,
   "metadata": {
    "ExecuteTime": {
     "end_time": "2022-06-21T19:25:06.154374Z",
     "start_time": "2022-06-21T19:25:06.140858Z"
    }
   },
   "outputs": [],
   "source": []
  },
  {
   "cell_type": "code",
   "execution_count": null,
   "metadata": {
    "ExecuteTime": {
     "end_time": "2022-06-21T17:46:51.176512Z",
     "start_time": "2022-06-21T17:46:50.955027Z"
    }
   },
   "outputs": [],
   "source": []
  },
  {
   "cell_type": "code",
   "execution_count": null,
   "metadata": {},
   "outputs": [],
   "source": []
  },
  {
   "cell_type": "code",
   "execution_count": null,
   "metadata": {
    "ExecuteTime": {
     "end_time": "2022-06-21T17:46:58.229397Z",
     "start_time": "2022-06-21T17:46:57.494792Z"
    }
   },
   "outputs": [],
   "source": [
    "# Call plot_diagnostics() on the results calculated above \n",
    "output.plot_diagnostics(figsize=(15, 18))\n",
    "plt.show()"
   ]
  },
  {
   "cell_type": "code",
   "execution_count": null,
   "metadata": {},
   "outputs": [],
   "source": []
  },
  {
   "cell_type": "code",
   "execution_count": null,
   "metadata": {
    "ExecuteTime": {
     "end_time": "2022-06-21T17:47:48.904130Z",
     "start_time": "2022-06-21T17:47:48.709165Z"
    }
   },
   "outputs": [],
   "source": [
    "sari_mod = sm.tsa.statespace.SARIMAX(train,\n",
    "                  order=(1, 1, 1),\n",
    "                  seasonal_order=(0, 1, 1, 12),\n",
    "                  enforce_stationarity=False,\n",
    "                  enforce_invertibility=False).fit()"
   ]
  },
  {
   "cell_type": "code",
   "execution_count": null,
   "metadata": {
    "ExecuteTime": {
     "end_time": "2022-06-21T17:48:03.227553Z",
     "start_time": "2022-06-21T17:48:02.975774Z"
    }
   },
   "outputs": [],
   "source": [
    "y_hat_train = sari_mod.predict(typ='levels')\n",
    "y_hat_test = sari_mod.predict(start=valid.index[0], end=valid.index[-1],typ='levels')\n",
    "\n",
    "fig, ax = plt.subplots()\n",
    "ax.plot(train, label='train')\n",
    "ax.plot(valid, label='test')\n",
    "ax.plot(y_hat_train, label='train_pred')\n",
    "ax.plot(y_hat_test, label='test_pred')\n",
    "\n",
    "plt.legend();"
   ]
  },
  {
   "cell_type": "code",
   "execution_count": null,
   "metadata": {
    "ExecuteTime": {
     "end_time": "2022-06-21T17:48:29.161509Z",
     "start_time": "2022-06-21T17:48:28.859036Z"
    }
   },
   "outputs": [],
   "source": [
    "# Let's zoom in on test\n",
    "fig, ax = plt.subplots()\n",
    "\n",
    "ax.plot(valid, label='true')\n",
    "ax.plot(y_hat_test, label='pred')\n",
    "\n",
    "plt.legend();"
   ]
  },
  {
   "cell_type": "code",
   "execution_count": null,
   "metadata": {
    "ExecuteTime": {
     "end_time": "2022-06-21T17:49:24.147385Z",
     "start_time": "2022-06-21T17:49:24.130074Z"
    }
   },
   "outputs": [],
   "source": [
    "np.sqrt(mean_squared_error(valid, y_hat_test))"
   ]
  },
  {
   "cell_type": "code",
   "execution_count": null,
   "metadata": {},
   "outputs": [],
   "source": []
  },
  {
   "cell_type": "code",
   "execution_count": null,
   "metadata": {
    "ExecuteTime": {
     "end_time": "2022-06-21T17:50:52.215587Z",
     "start_time": "2022-06-21T17:50:52.001454Z"
    }
   },
   "outputs": [],
   "source": [
    "sari_mod = SARIMAX(grand_df,\n",
    "                  order=(1, 1, 1),\n",
    "                  seasonal_order=(0, 1, 1, 12),\n",
    "                  enforce_stationarity=False,\n",
    "                  enforce_invertibility=False).fit()"
   ]
  },
  {
   "cell_type": "code",
   "execution_count": null,
   "metadata": {
    "ExecuteTime": {
     "end_time": "2022-06-21T17:51:06.273676Z",
     "start_time": "2022-06-21T17:51:06.257407Z"
    }
   },
   "outputs": [],
   "source": [
    "forecast = sari_mod.forecast(steps=12)"
   ]
  },
  {
   "cell_type": "code",
   "execution_count": null,
   "metadata": {
    "ExecuteTime": {
     "end_time": "2022-06-21T17:51:56.279774Z",
     "start_time": "2022-06-21T17:51:56.065422Z"
    }
   },
   "outputs": [],
   "source": [
    "fig, ax = plt.subplots()\n",
    "ax.plot(grand_df, label='so_far')\n",
    "ax.plot(forecast, label='forecast')\n",
    "ax.set_title('Grand Rapids Home Price Predictions\\n One Year out')\n",
    "\n",
    "plt.legend();"
   ]
  },
  {
   "cell_type": "code",
   "execution_count": null,
   "metadata": {},
   "outputs": [],
   "source": []
  },
  {
   "cell_type": "code",
   "execution_count": null,
   "metadata": {},
   "outputs": [],
   "source": []
  },
  {
   "cell_type": "code",
   "execution_count": null,
   "metadata": {
    "ExecuteTime": {
     "end_time": "2022-06-21T17:37:18.472360Z",
     "start_time": "2022-06-21T17:37:18.462488Z"
    }
   },
   "outputs": [],
   "source": [
    "# Get predictions starting from 01-01-1998 and calculate confidence intervals\n",
    "pred = output.get_prediction(start=pd.to_datetime('2011-01-01'), dynamic=False)\n",
    "pred_conf = pred.conf_int()"
   ]
  },
  {
   "cell_type": "code",
   "execution_count": null,
   "metadata": {
    "ExecuteTime": {
     "end_time": "2022-06-21T17:38:12.647054Z",
     "start_time": "2022-06-21T17:38:12.387721Z"
    }
   },
   "outputs": [],
   "source": [
    "# Plot real vs predicted values along with confidence interval\n",
    "rcParams['figure.figsize'] = 15, 6\n",
    "\n",
    "# Plot observed values\n",
    "ax = grand_df['2011-01-01':].plot(label='observed')\n",
    "\n",
    "# Plot predicted values\n",
    "pred.predicted_mean.plot(ax=ax, label='One-step ahead Forecast', alpha=0.9)\n",
    "\n",
    "# Plot the range for confidence intervals\n",
    "ax.fill_between(pred_conf.index,\n",
    "                pred_conf.iloc[:, 0],\n",
    "                pred_conf.iloc[:, 1], color='g', alpha=0.5)\n",
    "\n",
    "# Set axes labels\n",
    "ax.set_xlabel('Date')\n",
    "ax.set_ylabel('Median House Price')\n",
    "plt.legend()\n",
    "\n",
    "plt.show()"
   ]
  },
  {
   "cell_type": "code",
   "execution_count": null,
   "metadata": {
    "ExecuteTime": {
     "end_time": "2022-06-21T17:39:58.227620Z",
     "start_time": "2022-06-21T17:39:58.179555Z"
    }
   },
   "outputs": [],
   "source": [
    "# Get the real and predicted values\n",
    "grand_forecasted = pred.predicted_mean\n",
    "grand_truth = grand_df['2011-01-01':]\n",
    "\n",
    "# Compute the mean square error\n",
    "mse = ((grand_forecasted - grand_truth) ** 2).mean()\n",
    "print('The Mean Squared Error of our forecasts is {}'.format(round(mse, 2)))"
   ]
  },
  {
   "cell_type": "code",
   "execution_count": null,
   "metadata": {},
   "outputs": [],
   "source": []
  },
  {
   "cell_type": "code",
   "execution_count": null,
   "metadata": {},
   "outputs": [],
   "source": []
  },
  {
   "cell_type": "code",
   "execution_count": null,
   "metadata": {},
   "outputs": [],
   "source": []
  },
  {
   "cell_type": "code",
   "execution_count": null,
   "metadata": {},
   "outputs": [],
   "source": []
  },
  {
   "cell_type": "code",
   "execution_count": null,
   "metadata": {},
   "outputs": [],
   "source": []
  },
  {
   "cell_type": "code",
   "execution_count": null,
   "metadata": {},
   "outputs": [],
   "source": []
  },
  {
   "cell_type": "code",
   "execution_count": null,
   "metadata": {},
   "outputs": [],
   "source": []
  },
  {
   "cell_type": "code",
   "execution_count": null,
   "metadata": {},
   "outputs": [],
   "source": []
  },
  {
   "cell_type": "code",
   "execution_count": null,
   "metadata": {},
   "outputs": [],
   "source": []
  },
  {
   "cell_type": "code",
   "execution_count": null,
   "metadata": {},
   "outputs": [],
   "source": []
  },
  {
   "cell_type": "code",
   "execution_count": null,
   "metadata": {},
   "outputs": [],
   "source": []
  },
  {
   "cell_type": "code",
   "execution_count": null,
   "metadata": {},
   "outputs": [],
   "source": []
  },
  {
   "cell_type": "code",
   "execution_count": null,
   "metadata": {},
   "outputs": [],
   "source": []
  },
  {
   "cell_type": "code",
   "execution_count": null,
   "metadata": {
    "ExecuteTime": {
     "end_time": "2022-06-18T19:17:59.930778Z",
     "start_time": "2022-06-18T19:17:59.307Z"
    }
   },
   "outputs": [],
   "source": [
    "font = {'family' : 'normal',\n",
    "        'weight' : 'bold',\n",
    "        'size'   : 22}\n",
    "\n",
    "matplotlib.rc('font', **font)\n",
    "\n",
    "# NOTE: if you visualizations are too cluttered to read, try calling 'plt.gcf().autofmt_xdate()'!"
   ]
  },
  {
   "cell_type": "code",
   "execution_count": null,
   "metadata": {},
   "outputs": [],
   "source": []
  },
  {
   "cell_type": "code",
   "execution_count": null,
   "metadata": {},
   "outputs": [],
   "source": []
  },
  {
   "cell_type": "code",
   "execution_count": null,
   "metadata": {},
   "outputs": [],
   "source": []
  },
  {
   "cell_type": "code",
   "execution_count": null,
   "metadata": {},
   "outputs": [],
   "source": []
  },
  {
   "cell_type": "code",
   "execution_count": null,
   "metadata": {},
   "outputs": [],
   "source": []
  },
  {
   "cell_type": "code",
   "execution_count": null,
   "metadata": {},
   "outputs": [],
   "source": []
  },
  {
   "cell_type": "code",
   "execution_count": null,
   "metadata": {},
   "outputs": [],
   "source": []
  },
  {
   "cell_type": "code",
   "execution_count": null,
   "metadata": {},
   "outputs": [],
   "source": []
  },
  {
   "cell_type": "code",
   "execution_count": null,
   "metadata": {},
   "outputs": [],
   "source": []
  },
  {
   "cell_type": "code",
   "execution_count": null,
   "metadata": {},
   "outputs": [],
   "source": []
  },
  {
   "cell_type": "code",
   "execution_count": null,
   "metadata": {},
   "outputs": [],
   "source": []
  },
  {
   "cell_type": "code",
   "execution_count": null,
   "metadata": {},
   "outputs": [],
   "source": []
  },
  {
   "cell_type": "code",
   "execution_count": null,
   "metadata": {},
   "outputs": [],
   "source": []
  },
  {
   "cell_type": "code",
   "execution_count": null,
   "metadata": {},
   "outputs": [],
   "source": []
  },
  {
   "cell_type": "code",
   "execution_count": null,
   "metadata": {},
   "outputs": [],
   "source": []
  }
 ],
 "metadata": {
  "kernelspec": {
   "display_name": "Python 3",
   "language": "python",
   "name": "python3"
  },
  "language_info": {
   "codemirror_mode": {
    "name": "ipython",
    "version": 3
   },
   "file_extension": ".py",
   "mimetype": "text/x-python",
   "name": "python",
   "nbconvert_exporter": "python",
   "pygments_lexer": "ipython3",
   "version": "3.8.5"
  },
  "toc": {
   "base_numbering": 1,
   "nav_menu": {},
   "number_sections": true,
   "sideBar": true,
   "skip_h1_title": false,
   "title_cell": "Table of Contents",
   "title_sidebar": "Contents",
   "toc_cell": false,
   "toc_position": {
    "height": "calc(100% - 180px)",
    "left": "10px",
    "top": "150px",
    "width": "209.908px"
   },
   "toc_section_display": true,
   "toc_window_display": true
  }
 },
 "nbformat": 4,
 "nbformat_minor": 2
}
