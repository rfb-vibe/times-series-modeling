{
 "cells": [
  {
   "cell_type": "markdown",
   "metadata": {},
   "source": [
    "# Business Understanding\n",
    "\n",
    "Business Problem: What are the top 5 best zip codes for millennials to invest in?\n",
    "\n",
    "**Who are our clients?**\n",
    "\n",
    "1. First-time homebuyers who are millennials (born 1981-1996)\n",
    "    - Assumptions:\n",
    "    - Median incomes (not in the upper 5%, but also not below poverty levels)\n",
    "    - Looking to see some return on investment within the two years\n",
    "    - What kind of spread on forecast will be most appropriate/acceptable for first-time homebuyers?\n",
    "\n",
    "2. How are we defining \"best\" zip code?\n",
    "    - Highest ROI since 2011 - after the housing market recovered from the housing crash of 2008-2009\n",
    "    - But, utilize full market history when making forecasts to account for all trends\n",
    "\n",
    "Your recommendation will need to detail your rationale and answer any sort of lingering questions like these in order to demonstrate how you define \"best\".\n",
    "\n",
    "It is important to understand that time series modeling is a tool in your toolbox, and the forecasts it provides you are what you'll use to answer important questions.\n",
    "\n",
    "* Forecasts to show:\n",
    "    - Average expected ROI\n",
    "    - Range of appreciation, determining \"safe\" investments with small ranges vs. \"riskier\" investments with a wide range\n",
    "\n",
    "In short, to pass this project, **demonstrating the quality and thoughtfulness of your overall recommendation** is at least as important as successfully building a time series model!\n"
   ]
  },
  {
   "cell_type": "markdown",
   "metadata": {},
   "source": [
    "## Evaluation\n",
    "In addition to deciding which quantitative metric(s) you want to target (e.g. minimizing mean squared error), you need to start with a definition of \"best investment\". Consider additional metrics like risk vs. profitability, or ROI yield\n",
    "\n",
    "* Quantitative metric: MAE (which will be literal dollar value) to be able to indicate dollar value of possible error\n",
    "* \"Best investment\"\n",
    "    - Appreciation - raw dollar difference\n",
    "    - ROI - percentage\n",
    "    - Smallest CI for low risk\n",
    "    - Largest CI for high risk\n",
    "    - Cash on hand affordability\n",
    "* Time frame - starting with 2011, when the oldest millennials turned 30"
   ]
  },
  {
   "cell_type": "markdown",
   "metadata": {},
   "source": [
    "# Data Preparation"
   ]
  },
  {
   "cell_type": "markdown",
   "metadata": {},
   "source": [
    "## Load Libraries"
   ]
  },
  {
   "cell_type": "code",
   "execution_count": 137,
   "metadata": {
    "ExecuteTime": {
     "end_time": "2022-06-27T23:35:43.511369Z",
     "start_time": "2022-06-27T23:35:43.488571Z"
    }
   },
   "outputs": [],
   "source": [
    "# Basics\n",
    "import pandas as pd\n",
    "import numpy as np\n",
    "#from pyzipcode import ZipCodeDatabase\n",
    "#from datetime import datetime as dt\n",
    "\n",
    "# Visualization\n",
    "import matplotlib.pyplot as plt\n",
    "#from matplotlib.pylab import rcParams\n",
    "plt.style.use('ggplot')\n",
    "\n",
    "# Modeling\n",
    "import statsmodels.api as sm\n",
    "#from statsmodels.tsa.stattools import adfuller\n",
    "import itertools\n",
    "from sklearn.metrics import mean_absolute_error\n",
    "#from statsmodels.tsa.seasonal import seasonal_decompose\n",
    "#from statsmodels.tsa.stattools import adfuller\n",
    "#from statsmodels.tsa.arima.model import ARIMA\n",
    "from statsmodels.tsa.statespace.sarimax import SARIMAX\n",
    "from pmdarima.arima import auto_arima\n",
    "#from statsmodels.tsa.stattools import acf, pacf\n",
    "#from statsmodels.graphics.tsaplots import plot_acf, plot_pacf\n",
    "\n",
    "\n",
    "# Warnings\n",
    "import warnings\n",
    "warnings.filterwarnings(\"ignore\")\n"
   ]
  },
  {
   "cell_type": "markdown",
   "metadata": {},
   "source": [
    "## Load Housing Data"
   ]
  },
  {
   "cell_type": "code",
   "execution_count": 138,
   "metadata": {
    "ExecuteTime": {
     "end_time": "2022-06-27T23:35:44.079665Z",
     "start_time": "2022-06-27T23:35:43.520664Z"
    }
   },
   "outputs": [],
   "source": [
    "df = pd.read_csv('zillow_data.csv')"
   ]
  },
  {
   "cell_type": "code",
   "execution_count": 139,
   "metadata": {
    "ExecuteTime": {
     "end_time": "2022-06-27T23:35:44.107975Z",
     "start_time": "2022-06-27T23:35:44.082844Z"
    }
   },
   "outputs": [
    {
     "data": {
      "text/html": [
       "<div>\n",
       "<style scoped>\n",
       "    .dataframe tbody tr th:only-of-type {\n",
       "        vertical-align: middle;\n",
       "    }\n",
       "\n",
       "    .dataframe tbody tr th {\n",
       "        vertical-align: top;\n",
       "    }\n",
       "\n",
       "    .dataframe thead th {\n",
       "        text-align: right;\n",
       "    }\n",
       "</style>\n",
       "<table border=\"1\" class=\"dataframe\">\n",
       "  <thead>\n",
       "    <tr style=\"text-align: right;\">\n",
       "      <th></th>\n",
       "      <th>RegionID</th>\n",
       "      <th>RegionName</th>\n",
       "      <th>City</th>\n",
       "      <th>State</th>\n",
       "      <th>Metro</th>\n",
       "      <th>CountyName</th>\n",
       "      <th>SizeRank</th>\n",
       "      <th>1996-04</th>\n",
       "      <th>1996-05</th>\n",
       "      <th>1996-06</th>\n",
       "      <th>...</th>\n",
       "      <th>2017-07</th>\n",
       "      <th>2017-08</th>\n",
       "      <th>2017-09</th>\n",
       "      <th>2017-10</th>\n",
       "      <th>2017-11</th>\n",
       "      <th>2017-12</th>\n",
       "      <th>2018-01</th>\n",
       "      <th>2018-02</th>\n",
       "      <th>2018-03</th>\n",
       "      <th>2018-04</th>\n",
       "    </tr>\n",
       "  </thead>\n",
       "  <tbody>\n",
       "    <tr>\n",
       "      <th>0</th>\n",
       "      <td>84654</td>\n",
       "      <td>60657</td>\n",
       "      <td>Chicago</td>\n",
       "      <td>IL</td>\n",
       "      <td>Chicago</td>\n",
       "      <td>Cook</td>\n",
       "      <td>1</td>\n",
       "      <td>334200.0</td>\n",
       "      <td>335400.0</td>\n",
       "      <td>336500.0</td>\n",
       "      <td>...</td>\n",
       "      <td>1005500</td>\n",
       "      <td>1007500</td>\n",
       "      <td>1007800</td>\n",
       "      <td>1009600</td>\n",
       "      <td>1013300</td>\n",
       "      <td>1018700</td>\n",
       "      <td>1024400</td>\n",
       "      <td>1030700</td>\n",
       "      <td>1033800</td>\n",
       "      <td>1030600</td>\n",
       "    </tr>\n",
       "    <tr>\n",
       "      <th>1</th>\n",
       "      <td>90668</td>\n",
       "      <td>75070</td>\n",
       "      <td>McKinney</td>\n",
       "      <td>TX</td>\n",
       "      <td>Dallas-Fort Worth</td>\n",
       "      <td>Collin</td>\n",
       "      <td>2</td>\n",
       "      <td>235700.0</td>\n",
       "      <td>236900.0</td>\n",
       "      <td>236700.0</td>\n",
       "      <td>...</td>\n",
       "      <td>308000</td>\n",
       "      <td>310000</td>\n",
       "      <td>312500</td>\n",
       "      <td>314100</td>\n",
       "      <td>315000</td>\n",
       "      <td>316600</td>\n",
       "      <td>318100</td>\n",
       "      <td>319600</td>\n",
       "      <td>321100</td>\n",
       "      <td>321800</td>\n",
       "    </tr>\n",
       "    <tr>\n",
       "      <th>2</th>\n",
       "      <td>91982</td>\n",
       "      <td>77494</td>\n",
       "      <td>Katy</td>\n",
       "      <td>TX</td>\n",
       "      <td>Houston</td>\n",
       "      <td>Harris</td>\n",
       "      <td>3</td>\n",
       "      <td>210400.0</td>\n",
       "      <td>212200.0</td>\n",
       "      <td>212200.0</td>\n",
       "      <td>...</td>\n",
       "      <td>321000</td>\n",
       "      <td>320600</td>\n",
       "      <td>320200</td>\n",
       "      <td>320400</td>\n",
       "      <td>320800</td>\n",
       "      <td>321200</td>\n",
       "      <td>321200</td>\n",
       "      <td>323000</td>\n",
       "      <td>326900</td>\n",
       "      <td>329900</td>\n",
       "    </tr>\n",
       "    <tr>\n",
       "      <th>3</th>\n",
       "      <td>84616</td>\n",
       "      <td>60614</td>\n",
       "      <td>Chicago</td>\n",
       "      <td>IL</td>\n",
       "      <td>Chicago</td>\n",
       "      <td>Cook</td>\n",
       "      <td>4</td>\n",
       "      <td>498100.0</td>\n",
       "      <td>500900.0</td>\n",
       "      <td>503100.0</td>\n",
       "      <td>...</td>\n",
       "      <td>1289800</td>\n",
       "      <td>1287700</td>\n",
       "      <td>1287400</td>\n",
       "      <td>1291500</td>\n",
       "      <td>1296600</td>\n",
       "      <td>1299000</td>\n",
       "      <td>1302700</td>\n",
       "      <td>1306400</td>\n",
       "      <td>1308500</td>\n",
       "      <td>1307000</td>\n",
       "    </tr>\n",
       "    <tr>\n",
       "      <th>4</th>\n",
       "      <td>93144</td>\n",
       "      <td>79936</td>\n",
       "      <td>El Paso</td>\n",
       "      <td>TX</td>\n",
       "      <td>El Paso</td>\n",
       "      <td>El Paso</td>\n",
       "      <td>5</td>\n",
       "      <td>77300.0</td>\n",
       "      <td>77300.0</td>\n",
       "      <td>77300.0</td>\n",
       "      <td>...</td>\n",
       "      <td>119100</td>\n",
       "      <td>119400</td>\n",
       "      <td>120000</td>\n",
       "      <td>120300</td>\n",
       "      <td>120300</td>\n",
       "      <td>120300</td>\n",
       "      <td>120300</td>\n",
       "      <td>120500</td>\n",
       "      <td>121000</td>\n",
       "      <td>121500</td>\n",
       "    </tr>\n",
       "  </tbody>\n",
       "</table>\n",
       "<p>5 rows × 272 columns</p>\n",
       "</div>"
      ],
      "text/plain": [
       "   RegionID  RegionName      City State              Metro CountyName  \\\n",
       "0     84654       60657   Chicago    IL            Chicago       Cook   \n",
       "1     90668       75070  McKinney    TX  Dallas-Fort Worth     Collin   \n",
       "2     91982       77494      Katy    TX            Houston     Harris   \n",
       "3     84616       60614   Chicago    IL            Chicago       Cook   \n",
       "4     93144       79936   El Paso    TX            El Paso    El Paso   \n",
       "\n",
       "   SizeRank   1996-04   1996-05   1996-06  ...  2017-07  2017-08  2017-09  \\\n",
       "0         1  334200.0  335400.0  336500.0  ...  1005500  1007500  1007800   \n",
       "1         2  235700.0  236900.0  236700.0  ...   308000   310000   312500   \n",
       "2         3  210400.0  212200.0  212200.0  ...   321000   320600   320200   \n",
       "3         4  498100.0  500900.0  503100.0  ...  1289800  1287700  1287400   \n",
       "4         5   77300.0   77300.0   77300.0  ...   119100   119400   120000   \n",
       "\n",
       "   2017-10  2017-11  2017-12  2018-01  2018-02  2018-03  2018-04  \n",
       "0  1009600  1013300  1018700  1024400  1030700  1033800  1030600  \n",
       "1   314100   315000   316600   318100   319600   321100   321800  \n",
       "2   320400   320800   321200   321200   323000   326900   329900  \n",
       "3  1291500  1296600  1299000  1302700  1306400  1308500  1307000  \n",
       "4   120300   120300   120300   120300   120500   121000   121500  \n",
       "\n",
       "[5 rows x 272 columns]"
      ]
     },
     "execution_count": 139,
     "metadata": {},
     "output_type": "execute_result"
    }
   ],
   "source": [
    "df.head()"
   ]
  },
  {
   "cell_type": "markdown",
   "metadata": {},
   "source": [
    "What do I want to do here?\n",
    "\n",
    "* Determine raw difference and percent change (ROI?)\n",
    "* How do I handle the 2008-2009 housing crash?"
   ]
  },
  {
   "cell_type": "code",
   "execution_count": 140,
   "metadata": {
    "ExecuteTime": {
     "end_time": "2022-06-27T23:35:44.179721Z",
     "start_time": "2022-06-27T23:35:44.113733Z"
    }
   },
   "outputs": [],
   "source": [
    "df = df.drop('RegionID', axis = 1)\n",
    "df = df.rename({'RegionName': 'zipcode'}, axis = 1)"
   ]
  },
  {
   "cell_type": "code",
   "execution_count": 141,
   "metadata": {
    "ExecuteTime": {
     "end_time": "2022-06-27T23:35:44.225213Z",
     "start_time": "2022-06-27T23:35:44.181405Z"
    }
   },
   "outputs": [
    {
     "data": {
      "text/html": [
       "<div>\n",
       "<style scoped>\n",
       "    .dataframe tbody tr th:only-of-type {\n",
       "        vertical-align: middle;\n",
       "    }\n",
       "\n",
       "    .dataframe tbody tr th {\n",
       "        vertical-align: top;\n",
       "    }\n",
       "\n",
       "    .dataframe thead th {\n",
       "        text-align: right;\n",
       "    }\n",
       "</style>\n",
       "<table border=\"1\" class=\"dataframe\">\n",
       "  <thead>\n",
       "    <tr style=\"text-align: right;\">\n",
       "      <th></th>\n",
       "      <th>zipcode</th>\n",
       "      <th>City</th>\n",
       "      <th>State</th>\n",
       "      <th>Metro</th>\n",
       "      <th>CountyName</th>\n",
       "      <th>SizeRank</th>\n",
       "      <th>1996-04</th>\n",
       "      <th>1996-05</th>\n",
       "      <th>1996-06</th>\n",
       "      <th>1996-07</th>\n",
       "      <th>...</th>\n",
       "      <th>2017-07</th>\n",
       "      <th>2017-08</th>\n",
       "      <th>2017-09</th>\n",
       "      <th>2017-10</th>\n",
       "      <th>2017-11</th>\n",
       "      <th>2017-12</th>\n",
       "      <th>2018-01</th>\n",
       "      <th>2018-02</th>\n",
       "      <th>2018-03</th>\n",
       "      <th>2018-04</th>\n",
       "    </tr>\n",
       "  </thead>\n",
       "  <tbody>\n",
       "    <tr>\n",
       "      <th>0</th>\n",
       "      <td>60657</td>\n",
       "      <td>Chicago</td>\n",
       "      <td>IL</td>\n",
       "      <td>Chicago</td>\n",
       "      <td>Cook</td>\n",
       "      <td>1</td>\n",
       "      <td>334200.0</td>\n",
       "      <td>335400.0</td>\n",
       "      <td>336500.0</td>\n",
       "      <td>337600.0</td>\n",
       "      <td>...</td>\n",
       "      <td>1005500</td>\n",
       "      <td>1007500</td>\n",
       "      <td>1007800</td>\n",
       "      <td>1009600</td>\n",
       "      <td>1013300</td>\n",
       "      <td>1018700</td>\n",
       "      <td>1024400</td>\n",
       "      <td>1030700</td>\n",
       "      <td>1033800</td>\n",
       "      <td>1030600</td>\n",
       "    </tr>\n",
       "    <tr>\n",
       "      <th>1</th>\n",
       "      <td>75070</td>\n",
       "      <td>McKinney</td>\n",
       "      <td>TX</td>\n",
       "      <td>Dallas-Fort Worth</td>\n",
       "      <td>Collin</td>\n",
       "      <td>2</td>\n",
       "      <td>235700.0</td>\n",
       "      <td>236900.0</td>\n",
       "      <td>236700.0</td>\n",
       "      <td>235400.0</td>\n",
       "      <td>...</td>\n",
       "      <td>308000</td>\n",
       "      <td>310000</td>\n",
       "      <td>312500</td>\n",
       "      <td>314100</td>\n",
       "      <td>315000</td>\n",
       "      <td>316600</td>\n",
       "      <td>318100</td>\n",
       "      <td>319600</td>\n",
       "      <td>321100</td>\n",
       "      <td>321800</td>\n",
       "    </tr>\n",
       "    <tr>\n",
       "      <th>2</th>\n",
       "      <td>77494</td>\n",
       "      <td>Katy</td>\n",
       "      <td>TX</td>\n",
       "      <td>Houston</td>\n",
       "      <td>Harris</td>\n",
       "      <td>3</td>\n",
       "      <td>210400.0</td>\n",
       "      <td>212200.0</td>\n",
       "      <td>212200.0</td>\n",
       "      <td>210700.0</td>\n",
       "      <td>...</td>\n",
       "      <td>321000</td>\n",
       "      <td>320600</td>\n",
       "      <td>320200</td>\n",
       "      <td>320400</td>\n",
       "      <td>320800</td>\n",
       "      <td>321200</td>\n",
       "      <td>321200</td>\n",
       "      <td>323000</td>\n",
       "      <td>326900</td>\n",
       "      <td>329900</td>\n",
       "    </tr>\n",
       "    <tr>\n",
       "      <th>3</th>\n",
       "      <td>60614</td>\n",
       "      <td>Chicago</td>\n",
       "      <td>IL</td>\n",
       "      <td>Chicago</td>\n",
       "      <td>Cook</td>\n",
       "      <td>4</td>\n",
       "      <td>498100.0</td>\n",
       "      <td>500900.0</td>\n",
       "      <td>503100.0</td>\n",
       "      <td>504600.0</td>\n",
       "      <td>...</td>\n",
       "      <td>1289800</td>\n",
       "      <td>1287700</td>\n",
       "      <td>1287400</td>\n",
       "      <td>1291500</td>\n",
       "      <td>1296600</td>\n",
       "      <td>1299000</td>\n",
       "      <td>1302700</td>\n",
       "      <td>1306400</td>\n",
       "      <td>1308500</td>\n",
       "      <td>1307000</td>\n",
       "    </tr>\n",
       "    <tr>\n",
       "      <th>4</th>\n",
       "      <td>79936</td>\n",
       "      <td>El Paso</td>\n",
       "      <td>TX</td>\n",
       "      <td>El Paso</td>\n",
       "      <td>El Paso</td>\n",
       "      <td>5</td>\n",
       "      <td>77300.0</td>\n",
       "      <td>77300.0</td>\n",
       "      <td>77300.0</td>\n",
       "      <td>77300.0</td>\n",
       "      <td>...</td>\n",
       "      <td>119100</td>\n",
       "      <td>119400</td>\n",
       "      <td>120000</td>\n",
       "      <td>120300</td>\n",
       "      <td>120300</td>\n",
       "      <td>120300</td>\n",
       "      <td>120300</td>\n",
       "      <td>120500</td>\n",
       "      <td>121000</td>\n",
       "      <td>121500</td>\n",
       "    </tr>\n",
       "  </tbody>\n",
       "</table>\n",
       "<p>5 rows × 271 columns</p>\n",
       "</div>"
      ],
      "text/plain": [
       "   zipcode      City State              Metro CountyName  SizeRank   1996-04  \\\n",
       "0    60657   Chicago    IL            Chicago       Cook         1  334200.0   \n",
       "1    75070  McKinney    TX  Dallas-Fort Worth     Collin         2  235700.0   \n",
       "2    77494      Katy    TX            Houston     Harris         3  210400.0   \n",
       "3    60614   Chicago    IL            Chicago       Cook         4  498100.0   \n",
       "4    79936   El Paso    TX            El Paso    El Paso         5   77300.0   \n",
       "\n",
       "    1996-05   1996-06   1996-07  ...  2017-07  2017-08  2017-09  2017-10  \\\n",
       "0  335400.0  336500.0  337600.0  ...  1005500  1007500  1007800  1009600   \n",
       "1  236900.0  236700.0  235400.0  ...   308000   310000   312500   314100   \n",
       "2  212200.0  212200.0  210700.0  ...   321000   320600   320200   320400   \n",
       "3  500900.0  503100.0  504600.0  ...  1289800  1287700  1287400  1291500   \n",
       "4   77300.0   77300.0   77300.0  ...   119100   119400   120000   120300   \n",
       "\n",
       "   2017-11  2017-12  2018-01  2018-02  2018-03  2018-04  \n",
       "0  1013300  1018700  1024400  1030700  1033800  1030600  \n",
       "1   315000   316600   318100   319600   321100   321800  \n",
       "2   320800   321200   321200   323000   326900   329900  \n",
       "3  1296600  1299000  1302700  1306400  1308500  1307000  \n",
       "4   120300   120300   120300   120500   121000   121500  \n",
       "\n",
       "[5 rows x 271 columns]"
      ]
     },
     "execution_count": 141,
     "metadata": {},
     "output_type": "execute_result"
    }
   ],
   "source": [
    "df.head()"
   ]
  },
  {
   "cell_type": "markdown",
   "metadata": {},
   "source": [
    "## Exploratory Data Analysis"
   ]
  },
  {
   "cell_type": "markdown",
   "metadata": {},
   "source": [
    "### Preprocessing"
   ]
  },
  {
   "cell_type": "markdown",
   "metadata": {},
   "source": [
    "To help refine our dataset, I want to compute the cumulative percent change of home values for the whole dataset, from 1996 to 2018 as well as the most recent percent change in home values over the most recent five years (2012-2018)."
   ]
  },
  {
   "cell_type": "code",
   "execution_count": 142,
   "metadata": {
    "ExecuteTime": {
     "end_time": "2022-06-27T23:35:45.222725Z",
     "start_time": "2022-06-27T23:35:44.227556Z"
    }
   },
   "outputs": [
    {
     "data": {
      "text/html": [
       "<div>\n",
       "<style scoped>\n",
       "    .dataframe tbody tr th:only-of-type {\n",
       "        vertical-align: middle;\n",
       "    }\n",
       "\n",
       "    .dataframe tbody tr th {\n",
       "        vertical-align: top;\n",
       "    }\n",
       "\n",
       "    .dataframe thead th {\n",
       "        text-align: right;\n",
       "    }\n",
       "</style>\n",
       "<table border=\"1\" class=\"dataframe\">\n",
       "  <thead>\n",
       "    <tr style=\"text-align: right;\">\n",
       "      <th></th>\n",
       "      <th>zipcode</th>\n",
       "      <th>City</th>\n",
       "      <th>State</th>\n",
       "      <th>Metro</th>\n",
       "      <th>CountyName</th>\n",
       "      <th>SizeRank</th>\n",
       "      <th>1996-04</th>\n",
       "      <th>1996-05</th>\n",
       "      <th>1996-06</th>\n",
       "      <th>1996-07</th>\n",
       "      <th>...</th>\n",
       "      <th>2017-12</th>\n",
       "      <th>2018-01</th>\n",
       "      <th>2018-02</th>\n",
       "      <th>2018-03</th>\n",
       "      <th>2018-04</th>\n",
       "      <th>Cumulative Percent Change</th>\n",
       "      <th>5-year Percent Change</th>\n",
       "      <th>Average median value (22 yrs)</th>\n",
       "      <th>2018 median value</th>\n",
       "      <th>Median value delta</th>\n",
       "    </tr>\n",
       "  </thead>\n",
       "  <tbody>\n",
       "    <tr>\n",
       "      <th>0</th>\n",
       "      <td>60657</td>\n",
       "      <td>Chicago</td>\n",
       "      <td>IL</td>\n",
       "      <td>Chicago</td>\n",
       "      <td>Cook</td>\n",
       "      <td>1</td>\n",
       "      <td>334200.0</td>\n",
       "      <td>335400.0</td>\n",
       "      <td>336500.0</td>\n",
       "      <td>337600.0</td>\n",
       "      <td>...</td>\n",
       "      <td>1018700</td>\n",
       "      <td>1024400</td>\n",
       "      <td>1030700</td>\n",
       "      <td>1033800</td>\n",
       "      <td>1030600</td>\n",
       "      <td>308.378217</td>\n",
       "      <td>139.213832</td>\n",
       "      <td>775200.0</td>\n",
       "      <td>1009600.0</td>\n",
       "      <td>234400.0</td>\n",
       "    </tr>\n",
       "    <tr>\n",
       "      <th>1</th>\n",
       "      <td>75070</td>\n",
       "      <td>McKinney</td>\n",
       "      <td>TX</td>\n",
       "      <td>Dallas-Fort Worth</td>\n",
       "      <td>Collin</td>\n",
       "      <td>2</td>\n",
       "      <td>235700.0</td>\n",
       "      <td>236900.0</td>\n",
       "      <td>236700.0</td>\n",
       "      <td>235400.0</td>\n",
       "      <td>...</td>\n",
       "      <td>316600</td>\n",
       "      <td>318100</td>\n",
       "      <td>319600</td>\n",
       "      <td>321100</td>\n",
       "      <td>321800</td>\n",
       "      <td>136.529487</td>\n",
       "      <td>159.464817</td>\n",
       "      <td>205800.0</td>\n",
       "      <td>314100.0</td>\n",
       "      <td>108300.0</td>\n",
       "    </tr>\n",
       "    <tr>\n",
       "      <th>2</th>\n",
       "      <td>77494</td>\n",
       "      <td>Katy</td>\n",
       "      <td>TX</td>\n",
       "      <td>Houston</td>\n",
       "      <td>Harris</td>\n",
       "      <td>3</td>\n",
       "      <td>210400.0</td>\n",
       "      <td>212200.0</td>\n",
       "      <td>212200.0</td>\n",
       "      <td>210700.0</td>\n",
       "      <td>...</td>\n",
       "      <td>321200</td>\n",
       "      <td>321200</td>\n",
       "      <td>323000</td>\n",
       "      <td>326900</td>\n",
       "      <td>329900</td>\n",
       "      <td>156.796578</td>\n",
       "      <td>130.705230</td>\n",
       "      <td>249500.0</td>\n",
       "      <td>320900.0</td>\n",
       "      <td>71400.0</td>\n",
       "    </tr>\n",
       "    <tr>\n",
       "      <th>3</th>\n",
       "      <td>60614</td>\n",
       "      <td>Chicago</td>\n",
       "      <td>IL</td>\n",
       "      <td>Chicago</td>\n",
       "      <td>Cook</td>\n",
       "      <td>4</td>\n",
       "      <td>498100.0</td>\n",
       "      <td>500900.0</td>\n",
       "      <td>503100.0</td>\n",
       "      <td>504600.0</td>\n",
       "      <td>...</td>\n",
       "      <td>1299000</td>\n",
       "      <td>1302700</td>\n",
       "      <td>1306400</td>\n",
       "      <td>1308500</td>\n",
       "      <td>1307000</td>\n",
       "      <td>262.397109</td>\n",
       "      <td>139.324166</td>\n",
       "      <td>1003100.0</td>\n",
       "      <td>1291500.0</td>\n",
       "      <td>288400.0</td>\n",
       "    </tr>\n",
       "    <tr>\n",
       "      <th>4</th>\n",
       "      <td>79936</td>\n",
       "      <td>El Paso</td>\n",
       "      <td>TX</td>\n",
       "      <td>El Paso</td>\n",
       "      <td>El Paso</td>\n",
       "      <td>5</td>\n",
       "      <td>77300.0</td>\n",
       "      <td>77300.0</td>\n",
       "      <td>77300.0</td>\n",
       "      <td>77300.0</td>\n",
       "      <td>...</td>\n",
       "      <td>120300</td>\n",
       "      <td>120300</td>\n",
       "      <td>120500</td>\n",
       "      <td>121000</td>\n",
       "      <td>121500</td>\n",
       "      <td>157.179819</td>\n",
       "      <td>107.712766</td>\n",
       "      <td>112400.0</td>\n",
       "      <td>120300.0</td>\n",
       "      <td>7900.0</td>\n",
       "    </tr>\n",
       "  </tbody>\n",
       "</table>\n",
       "<p>5 rows × 276 columns</p>\n",
       "</div>"
      ],
      "text/plain": [
       "   zipcode      City State              Metro CountyName  SizeRank   1996-04  \\\n",
       "0    60657   Chicago    IL            Chicago       Cook         1  334200.0   \n",
       "1    75070  McKinney    TX  Dallas-Fort Worth     Collin         2  235700.0   \n",
       "2    77494      Katy    TX            Houston     Harris         3  210400.0   \n",
       "3    60614   Chicago    IL            Chicago       Cook         4  498100.0   \n",
       "4    79936   El Paso    TX            El Paso    El Paso         5   77300.0   \n",
       "\n",
       "    1996-05   1996-06   1996-07  ...  2017-12  2018-01  2018-02  2018-03  \\\n",
       "0  335400.0  336500.0  337600.0  ...  1018700  1024400  1030700  1033800   \n",
       "1  236900.0  236700.0  235400.0  ...   316600   318100   319600   321100   \n",
       "2  212200.0  212200.0  210700.0  ...   321200   321200   323000   326900   \n",
       "3  500900.0  503100.0  504600.0  ...  1299000  1302700  1306400  1308500   \n",
       "4   77300.0   77300.0   77300.0  ...   120300   120300   120500   121000   \n",
       "\n",
       "   2018-04  Cumulative Percent Change  5-year Percent Change  \\\n",
       "0  1030600                 308.378217             139.213832   \n",
       "1   321800                 136.529487             159.464817   \n",
       "2   329900                 156.796578             130.705230   \n",
       "3  1307000                 262.397109             139.324166   \n",
       "4   121500                 157.179819             107.712766   \n",
       "\n",
       "   Average median value (22 yrs)  2018 median value  Median value delta  \n",
       "0                       775200.0          1009600.0            234400.0  \n",
       "1                       205800.0           314100.0            108300.0  \n",
       "2                       249500.0           320900.0             71400.0  \n",
       "3                      1003100.0          1291500.0            288400.0  \n",
       "4                       112400.0           120300.0              7900.0  \n",
       "\n",
       "[5 rows x 276 columns]"
      ]
     },
     "execution_count": 142,
     "metadata": {},
     "output_type": "execute_result"
    }
   ],
   "source": [
    "# Find raw difference and ROI\n",
    "# make copy of df\n",
    "df1 = df.copy()\n",
    "\n",
    "# add column with percent change between 2018 and 1996 median value\n",
    "df1['Cumulative Percent Change'] = (df1['2018-04'] / df1['1996-04']) * 100\n",
    "\n",
    "df1['5-year Percent Change'] = (df1['2018-04'] / df1['2012-04']) * 100\n",
    "\n",
    "df1.head()"
   ]
  },
  {
   "cell_type": "code",
   "execution_count": 143,
   "metadata": {
    "ExecuteTime": {
     "end_time": "2022-06-27T23:35:45.254406Z",
     "start_time": "2022-06-27T23:35:45.225618Z"
    }
   },
   "outputs": [],
   "source": [
    "df2 = df1.copy()"
   ]
  },
  {
   "cell_type": "markdown",
   "metadata": {},
   "source": [
    "I created individual dataframes for each computed value, so that I could trim each dataframe to only include the Interquartile Range.\n",
    "\n",
    "I am only including data values within the IQR to meet the business needs of millennials who are first-time homebuyers. Home values above the 75th percentile and below the 25th percentile will not be appropriate homes to include for prospects."
   ]
  },
  {
   "cell_type": "code",
   "execution_count": 144,
   "metadata": {
    "ExecuteTime": {
     "end_time": "2022-06-27T23:35:45.322952Z",
     "start_time": "2022-06-27T23:35:45.260196Z"
    }
   },
   "outputs": [],
   "source": [
    "df3 = df2[['zipcode',\n",
    "           'Metro',\n",
    "           'Cumulative Percent Change']]\n",
    "\n",
    "df4 = df2[['zipcode',\n",
    "           'Metro',\n",
    "           '5-year Percent Change']]"
   ]
  },
  {
   "cell_type": "code",
   "execution_count": 145,
   "metadata": {
    "ExecuteTime": {
     "end_time": "2022-06-27T23:35:45.341922Z",
     "start_time": "2022-06-27T23:35:45.328897Z"
    }
   },
   "outputs": [
    {
     "data": {
      "text/html": [
       "<div>\n",
       "<style scoped>\n",
       "    .dataframe tbody tr th:only-of-type {\n",
       "        vertical-align: middle;\n",
       "    }\n",
       "\n",
       "    .dataframe tbody tr th {\n",
       "        vertical-align: top;\n",
       "    }\n",
       "\n",
       "    .dataframe thead th {\n",
       "        text-align: right;\n",
       "    }\n",
       "</style>\n",
       "<table border=\"1\" class=\"dataframe\">\n",
       "  <thead>\n",
       "    <tr style=\"text-align: right;\">\n",
       "      <th></th>\n",
       "      <th>zipcode</th>\n",
       "      <th>Metro</th>\n",
       "      <th>Cumulative Percent Change</th>\n",
       "    </tr>\n",
       "  </thead>\n",
       "  <tbody>\n",
       "    <tr>\n",
       "      <th>0</th>\n",
       "      <td>60657</td>\n",
       "      <td>Chicago</td>\n",
       "      <td>308.378217</td>\n",
       "    </tr>\n",
       "    <tr>\n",
       "      <th>1</th>\n",
       "      <td>75070</td>\n",
       "      <td>Dallas-Fort Worth</td>\n",
       "      <td>136.529487</td>\n",
       "    </tr>\n",
       "    <tr>\n",
       "      <th>2</th>\n",
       "      <td>77494</td>\n",
       "      <td>Houston</td>\n",
       "      <td>156.796578</td>\n",
       "    </tr>\n",
       "    <tr>\n",
       "      <th>3</th>\n",
       "      <td>60614</td>\n",
       "      <td>Chicago</td>\n",
       "      <td>262.397109</td>\n",
       "    </tr>\n",
       "    <tr>\n",
       "      <th>4</th>\n",
       "      <td>79936</td>\n",
       "      <td>El Paso</td>\n",
       "      <td>157.179819</td>\n",
       "    </tr>\n",
       "    <tr>\n",
       "      <th>5</th>\n",
       "      <td>77084</td>\n",
       "      <td>Houston</td>\n",
       "      <td>172.947368</td>\n",
       "    </tr>\n",
       "    <tr>\n",
       "      <th>6</th>\n",
       "      <td>10467</td>\n",
       "      <td>New York</td>\n",
       "      <td>273.315893</td>\n",
       "    </tr>\n",
       "    <tr>\n",
       "      <th>7</th>\n",
       "      <td>60640</td>\n",
       "      <td>Chicago</td>\n",
       "      <td>361.570439</td>\n",
       "    </tr>\n",
       "    <tr>\n",
       "      <th>8</th>\n",
       "      <td>77449</td>\n",
       "      <td>Houston</td>\n",
       "      <td>184.696017</td>\n",
       "    </tr>\n",
       "    <tr>\n",
       "      <th>9</th>\n",
       "      <td>94109</td>\n",
       "      <td>San Francisco</td>\n",
       "      <td>497.845953</td>\n",
       "    </tr>\n",
       "  </tbody>\n",
       "</table>\n",
       "</div>"
      ],
      "text/plain": [
       "   zipcode              Metro  Cumulative Percent Change\n",
       "0    60657            Chicago                 308.378217\n",
       "1    75070  Dallas-Fort Worth                 136.529487\n",
       "2    77494            Houston                 156.796578\n",
       "3    60614            Chicago                 262.397109\n",
       "4    79936            El Paso                 157.179819\n",
       "5    77084            Houston                 172.947368\n",
       "6    10467           New York                 273.315893\n",
       "7    60640            Chicago                 361.570439\n",
       "8    77449            Houston                 184.696017\n",
       "9    94109      San Francisco                 497.845953"
      ]
     },
     "execution_count": 145,
     "metadata": {},
     "output_type": "execute_result"
    }
   ],
   "source": [
    "df3.head(10)"
   ]
  },
  {
   "cell_type": "code",
   "execution_count": 146,
   "metadata": {
    "ExecuteTime": {
     "end_time": "2022-06-27T23:35:45.387804Z",
     "start_time": "2022-06-27T23:35:45.345274Z"
    }
   },
   "outputs": [
    {
     "data": {
      "text/html": [
       "<div>\n",
       "<style scoped>\n",
       "    .dataframe tbody tr th:only-of-type {\n",
       "        vertical-align: middle;\n",
       "    }\n",
       "\n",
       "    .dataframe tbody tr th {\n",
       "        vertical-align: top;\n",
       "    }\n",
       "\n",
       "    .dataframe thead th {\n",
       "        text-align: right;\n",
       "    }\n",
       "</style>\n",
       "<table border=\"1\" class=\"dataframe\">\n",
       "  <thead>\n",
       "    <tr style=\"text-align: right;\">\n",
       "      <th></th>\n",
       "      <th>zipcode</th>\n",
       "      <th>Metro</th>\n",
       "      <th>Cumulative Percent Change</th>\n",
       "    </tr>\n",
       "  </thead>\n",
       "  <tbody>\n",
       "    <tr>\n",
       "      <th>7</th>\n",
       "      <td>60640</td>\n",
       "      <td>Chicago</td>\n",
       "      <td>361.570439</td>\n",
       "    </tr>\n",
       "    <tr>\n",
       "      <th>0</th>\n",
       "      <td>60657</td>\n",
       "      <td>Chicago</td>\n",
       "      <td>308.378217</td>\n",
       "    </tr>\n",
       "    <tr>\n",
       "      <th>6</th>\n",
       "      <td>10467</td>\n",
       "      <td>New York</td>\n",
       "      <td>273.315893</td>\n",
       "    </tr>\n",
       "    <tr>\n",
       "      <th>3</th>\n",
       "      <td>60614</td>\n",
       "      <td>Chicago</td>\n",
       "      <td>262.397109</td>\n",
       "    </tr>\n",
       "    <tr>\n",
       "      <th>11</th>\n",
       "      <td>32162</td>\n",
       "      <td>The Villages</td>\n",
       "      <td>249.306931</td>\n",
       "    </tr>\n",
       "    <tr>\n",
       "      <th>8</th>\n",
       "      <td>77449</td>\n",
       "      <td>Houston</td>\n",
       "      <td>184.696017</td>\n",
       "    </tr>\n",
       "    <tr>\n",
       "      <th>5</th>\n",
       "      <td>77084</td>\n",
       "      <td>Houston</td>\n",
       "      <td>172.947368</td>\n",
       "    </tr>\n",
       "    <tr>\n",
       "      <th>4</th>\n",
       "      <td>79936</td>\n",
       "      <td>El Paso</td>\n",
       "      <td>157.179819</td>\n",
       "    </tr>\n",
       "    <tr>\n",
       "      <th>2</th>\n",
       "      <td>77494</td>\n",
       "      <td>Houston</td>\n",
       "      <td>156.796578</td>\n",
       "    </tr>\n",
       "    <tr>\n",
       "      <th>1</th>\n",
       "      <td>75070</td>\n",
       "      <td>Dallas-Fort Worth</td>\n",
       "      <td>136.529487</td>\n",
       "    </tr>\n",
       "  </tbody>\n",
       "</table>\n",
       "</div>"
      ],
      "text/plain": [
       "    zipcode              Metro  Cumulative Percent Change\n",
       "7     60640            Chicago                 361.570439\n",
       "0     60657            Chicago                 308.378217\n",
       "6     10467           New York                 273.315893\n",
       "3     60614            Chicago                 262.397109\n",
       "11    32162       The Villages                 249.306931\n",
       "8     77449            Houston                 184.696017\n",
       "5     77084            Houston                 172.947368\n",
       "4     79936            El Paso                 157.179819\n",
       "2     77494            Houston                 156.796578\n",
       "1     75070  Dallas-Fort Worth                 136.529487"
      ]
     },
     "execution_count": 146,
     "metadata": {},
     "output_type": "execute_result"
    }
   ],
   "source": [
    "Q1 = df3.quantile(0.25)\n",
    "Q3 = df3.quantile(0.75)\n",
    "IQR = Q3 - Q1\n",
    "\n",
    "df3_trimmed = df3[~((df3 < (Q1 - 1.5 * IQR)) |(df3 > (Q3 + 1.5 * IQR))).any(axis=1)]\n",
    "cum_pct_top10 = df3_trimmed.head(10).sort_values('Cumulative Percent Change', ascending=False)\n",
    "cum_pct_top10"
   ]
  },
  {
   "cell_type": "code",
   "execution_count": 225,
   "metadata": {
    "ExecuteTime": {
     "end_time": "2022-06-28T12:18:49.616764Z",
     "start_time": "2022-06-28T12:18:49.399708Z"
    }
   },
   "outputs": [
    {
     "data": {
      "text/html": [
       "<div>\n",
       "<style scoped>\n",
       "    .dataframe tbody tr th:only-of-type {\n",
       "        vertical-align: middle;\n",
       "    }\n",
       "\n",
       "    .dataframe tbody tr th {\n",
       "        vertical-align: top;\n",
       "    }\n",
       "\n",
       "    .dataframe thead th {\n",
       "        text-align: right;\n",
       "    }\n",
       "</style>\n",
       "<table border=\"1\" class=\"dataframe\">\n",
       "  <thead>\n",
       "    <tr style=\"text-align: right;\">\n",
       "      <th></th>\n",
       "      <th>zipcode</th>\n",
       "      <th>Cumulative Percent Change</th>\n",
       "    </tr>\n",
       "  </thead>\n",
       "  <tbody>\n",
       "    <tr>\n",
       "      <th>count</th>\n",
       "      <td>14723.000000</td>\n",
       "      <td>13684.000000</td>\n",
       "    </tr>\n",
       "    <tr>\n",
       "      <th>mean</th>\n",
       "      <td>48222.348706</td>\n",
       "      <td>232.560521</td>\n",
       "    </tr>\n",
       "    <tr>\n",
       "      <th>std</th>\n",
       "      <td>29359.325439</td>\n",
       "      <td>86.601907</td>\n",
       "    </tr>\n",
       "    <tr>\n",
       "      <th>min</th>\n",
       "      <td>1001.000000</td>\n",
       "      <td>46.739130</td>\n",
       "    </tr>\n",
       "    <tr>\n",
       "      <th>25%</th>\n",
       "      <td>22101.500000</td>\n",
       "      <td>178.569073</td>\n",
       "    </tr>\n",
       "    <tr>\n",
       "      <th>50%</th>\n",
       "      <td>46106.000000</td>\n",
       "      <td>213.948445</td>\n",
       "    </tr>\n",
       "    <tr>\n",
       "      <th>75%</th>\n",
       "      <td>75205.500000</td>\n",
       "      <td>261.983287</td>\n",
       "    </tr>\n",
       "    <tr>\n",
       "      <th>max</th>\n",
       "      <td>99901.000000</td>\n",
       "      <td>1218.993994</td>\n",
       "    </tr>\n",
       "  </tbody>\n",
       "</table>\n",
       "</div>"
      ],
      "text/plain": [
       "            zipcode  Cumulative Percent Change\n",
       "count  14723.000000               13684.000000\n",
       "mean   48222.348706                 232.560521\n",
       "std    29359.325439                  86.601907\n",
       "min     1001.000000                  46.739130\n",
       "25%    22101.500000                 178.569073\n",
       "50%    46106.000000                 213.948445\n",
       "75%    75205.500000                 261.983287\n",
       "max    99901.000000                1218.993994"
      ]
     },
     "execution_count": 225,
     "metadata": {},
     "output_type": "execute_result"
    }
   ],
   "source": [
    "df3.describe()"
   ]
  },
  {
   "cell_type": "code",
   "execution_count": 229,
   "metadata": {
    "ExecuteTime": {
     "end_time": "2022-06-28T12:20:35.321552Z",
     "start_time": "2022-06-28T12:20:35.077932Z"
    }
   },
   "outputs": [
    {
     "data": {
      "image/png": "[encoded data removed]",
      "text/plain": [
       "<Figure size 432x288 with 1 Axes>"
      ]
     },
     "metadata": {},
     "output_type": "display_data"
    }
   ],
   "source": [
    "df3['Cumulative Percent Change'].hist(bins=50);"
   ]
  },
  {
   "cell_type": "code",
   "execution_count": 226,
   "metadata": {
    "ExecuteTime": {
     "end_time": "2022-06-28T12:19:05.353166Z",
     "start_time": "2022-06-28T12:19:04.801998Z"
    }
   },
   "outputs": [
    {
     "data": {
      "text/html": [
       "<div>\n",
       "<style scoped>\n",
       "    .dataframe tbody tr th:only-of-type {\n",
       "        vertical-align: middle;\n",
       "    }\n",
       "\n",
       "    .dataframe tbody tr th {\n",
       "        vertical-align: top;\n",
       "    }\n",
       "\n",
       "    .dataframe thead th {\n",
       "        text-align: right;\n",
       "    }\n",
       "</style>\n",
       "<table border=\"1\" class=\"dataframe\">\n",
       "  <thead>\n",
       "    <tr style=\"text-align: right;\">\n",
       "      <th></th>\n",
       "      <th>zipcode</th>\n",
       "      <th>Cumulative Percent Change</th>\n",
       "    </tr>\n",
       "  </thead>\n",
       "  <tbody>\n",
       "    <tr>\n",
       "      <th>count</th>\n",
       "      <td>13987.000000</td>\n",
       "      <td>12948.000000</td>\n",
       "    </tr>\n",
       "    <tr>\n",
       "      <th>mean</th>\n",
       "      <td>47398.361193</td>\n",
       "      <td>218.090790</td>\n",
       "    </tr>\n",
       "    <tr>\n",
       "      <th>std</th>\n",
       "      <td>28747.304706</td>\n",
       "      <td>57.786498</td>\n",
       "    </tr>\n",
       "    <tr>\n",
       "      <th>min</th>\n",
       "      <td>1001.000000</td>\n",
       "      <td>62.453050</td>\n",
       "    </tr>\n",
       "    <tr>\n",
       "      <th>25%</th>\n",
       "      <td>22072.500000</td>\n",
       "      <td>176.658449</td>\n",
       "    </tr>\n",
       "    <tr>\n",
       "      <th>50%</th>\n",
       "      <td>45385.000000</td>\n",
       "      <td>210.106739</td>\n",
       "    </tr>\n",
       "    <tr>\n",
       "      <th>75%</th>\n",
       "      <td>73163.500000</td>\n",
       "      <td>252.012279</td>\n",
       "    </tr>\n",
       "    <tr>\n",
       "      <th>max</th>\n",
       "      <td>99901.000000</td>\n",
       "      <td>386.719264</td>\n",
       "    </tr>\n",
       "  </tbody>\n",
       "</table>\n",
       "</div>"
      ],
      "text/plain": [
       "            zipcode  Cumulative Percent Change\n",
       "count  13987.000000               12948.000000\n",
       "mean   47398.361193                 218.090790\n",
       "std    28747.304706                  57.786498\n",
       "min     1001.000000                  62.453050\n",
       "25%    22072.500000                 176.658449\n",
       "50%    45385.000000                 210.106739\n",
       "75%    73163.500000                 252.012279\n",
       "max    99901.000000                 386.719264"
      ]
     },
     "execution_count": 226,
     "metadata": {},
     "output_type": "execute_result"
    }
   ],
   "source": [
    "df3_trimmed.describe()"
   ]
  },
  {
   "cell_type": "code",
   "execution_count": 230,
   "metadata": {
    "ExecuteTime": {
     "end_time": "2022-06-28T12:20:51.908465Z",
     "start_time": "2022-06-28T12:20:51.598775Z"
    }
   },
   "outputs": [
    {
     "data": {
      "image/png": "[encoded data removed]",
      "text/plain": [
       "<Figure size 432x288 with 1 Axes>"
      ]
     },
     "metadata": {},
     "output_type": "display_data"
    }
   ],
   "source": [
    "df3_trimmed['Cumulative Percent Change'].hist(bins=50);"
   ]
  },
  {
   "cell_type": "markdown",
   "metadata": {},
   "source": [
    "### Visualizing Cumulative ROI"
   ]
  },
  {
   "cell_type": "code",
   "execution_count": 147,
   "metadata": {
    "ExecuteTime": {
     "end_time": "2022-06-27T23:35:45.623572Z",
     "start_time": "2022-06-27T23:35:45.390125Z"
    }
   },
   "outputs": [
    {
     "data": {
      "image/png": "[encoded data removed]",
      "text/plain": [
       "<Figure size 1440x360 with 1 Axes>"
      ]
     },
     "metadata": {},
     "output_type": "display_data"
    }
   ],
   "source": [
    "cum_pct_top10['zipcode'] = cum_pct_top10['zipcode'].astype(str)\n",
    "\n",
    "# Plotting the historical data \n",
    "fig, ax = plt.subplots(figsize=(20,5))\n",
    "plt.bar(cum_pct_top10.zipcode, cum_pct_top10['Cumulative Percent Change'])\n",
    "plt.title('% ROI by Zipcode 1996 - 2018')\n",
    "plt.xlabel('Zipcode')\n",
    "plt.ylabel('% ROI')\n",
    "plt.show()"
   ]
  },
  {
   "cell_type": "code",
   "execution_count": 148,
   "metadata": {
    "ExecuteTime": {
     "end_time": "2022-06-27T23:35:45.654165Z",
     "start_time": "2022-06-27T23:35:45.626478Z"
    }
   },
   "outputs": [
    {
     "data": {
      "text/html": [
       "<div>\n",
       "<style scoped>\n",
       "    .dataframe tbody tr th:only-of-type {\n",
       "        vertical-align: middle;\n",
       "    }\n",
       "\n",
       "    .dataframe tbody tr th {\n",
       "        vertical-align: top;\n",
       "    }\n",
       "\n",
       "    .dataframe thead th {\n",
       "        text-align: right;\n",
       "    }\n",
       "</style>\n",
       "<table border=\"1\" class=\"dataframe\">\n",
       "  <thead>\n",
       "    <tr style=\"text-align: right;\">\n",
       "      <th></th>\n",
       "      <th>zipcode</th>\n",
       "      <th>Metro</th>\n",
       "      <th>5-year Percent Change</th>\n",
       "    </tr>\n",
       "  </thead>\n",
       "  <tbody>\n",
       "    <tr>\n",
       "      <th>9</th>\n",
       "      <td>94109</td>\n",
       "      <td>San Francisco</td>\n",
       "      <td>165.538047</td>\n",
       "    </tr>\n",
       "    <tr>\n",
       "      <th>1</th>\n",
       "      <td>75070</td>\n",
       "      <td>Dallas-Fort Worth</td>\n",
       "      <td>159.464817</td>\n",
       "    </tr>\n",
       "    <tr>\n",
       "      <th>8</th>\n",
       "      <td>77449</td>\n",
       "      <td>Houston</td>\n",
       "      <td>152.951389</td>\n",
       "    </tr>\n",
       "    <tr>\n",
       "      <th>5</th>\n",
       "      <td>77084</td>\n",
       "      <td>Houston</td>\n",
       "      <td>146.696429</td>\n",
       "    </tr>\n",
       "    <tr>\n",
       "      <th>7</th>\n",
       "      <td>60640</td>\n",
       "      <td>Chicago</td>\n",
       "      <td>141.708907</td>\n",
       "    </tr>\n",
       "    <tr>\n",
       "      <th>6</th>\n",
       "      <td>10467</td>\n",
       "      <td>New York</td>\n",
       "      <td>141.565041</td>\n",
       "    </tr>\n",
       "    <tr>\n",
       "      <th>3</th>\n",
       "      <td>60614</td>\n",
       "      <td>Chicago</td>\n",
       "      <td>139.324166</td>\n",
       "    </tr>\n",
       "    <tr>\n",
       "      <th>0</th>\n",
       "      <td>60657</td>\n",
       "      <td>Chicago</td>\n",
       "      <td>139.213832</td>\n",
       "    </tr>\n",
       "    <tr>\n",
       "      <th>2</th>\n",
       "      <td>77494</td>\n",
       "      <td>Houston</td>\n",
       "      <td>130.705230</td>\n",
       "    </tr>\n",
       "    <tr>\n",
       "      <th>4</th>\n",
       "      <td>79936</td>\n",
       "      <td>El Paso</td>\n",
       "      <td>107.712766</td>\n",
       "    </tr>\n",
       "  </tbody>\n",
       "</table>\n",
       "</div>"
      ],
      "text/plain": [
       "   zipcode              Metro  5-year Percent Change\n",
       "9    94109      San Francisco             165.538047\n",
       "1    75070  Dallas-Fort Worth             159.464817\n",
       "8    77449            Houston             152.951389\n",
       "5    77084            Houston             146.696429\n",
       "7    60640            Chicago             141.708907\n",
       "6    10467           New York             141.565041\n",
       "3    60614            Chicago             139.324166\n",
       "0    60657            Chicago             139.213832\n",
       "2    77494            Houston             130.705230\n",
       "4    79936            El Paso             107.712766"
      ]
     },
     "execution_count": 148,
     "metadata": {},
     "output_type": "execute_result"
    }
   ],
   "source": [
    "Q1 = df4.quantile(0.25)\n",
    "Q3 = df4.quantile(0.75)\n",
    "IQR = Q3 - Q1\n",
    "\n",
    "df4_trimmed = df4[~((df4 < (Q1 - 1.5 * IQR)) |(df4 > (Q3 + 1.5 * IQR))).any(axis=1)]\n",
    "yrs5_pct_top10 = df4_trimmed.head(10).sort_values('5-year Percent Change', ascending=False)\n",
    "yrs5_pct_top10"
   ]
  },
  {
   "cell_type": "code",
   "execution_count": 231,
   "metadata": {
    "ExecuteTime": {
     "end_time": "2022-06-28T12:22:25.353139Z",
     "start_time": "2022-06-28T12:22:25.041726Z"
    }
   },
   "outputs": [
    {
     "data": {
      "image/png": "[encoded data removed]",
      "text/plain": [
       "<Figure size 432x288 with 1 Axes>"
      ]
     },
     "metadata": {},
     "output_type": "display_data"
    }
   ],
   "source": [
    "df4['5-year Percent Change'].hist(bins=50);"
   ]
  },
  {
   "cell_type": "code",
   "execution_count": 232,
   "metadata": {
    "ExecuteTime": {
     "end_time": "2022-06-28T12:22:41.945726Z",
     "start_time": "2022-06-28T12:22:41.727021Z"
    }
   },
   "outputs": [
    {
     "data": {
      "image/png": "[encoded data removed]",
      "text/plain": [
       "<Figure size 432x288 with 1 Axes>"
      ]
     },
     "metadata": {},
     "output_type": "display_data"
    }
   ],
   "source": [
    "df4_trimmed['5-year Percent Change'].hist(bins=50);"
   ]
  },
  {
   "cell_type": "code",
   "execution_count": 233,
   "metadata": {
    "ExecuteTime": {
     "end_time": "2022-06-28T12:23:25.798848Z",
     "start_time": "2022-06-28T12:23:25.785689Z"
    }
   },
   "outputs": [
    {
     "data": {
      "text/plain": [
       "136.1420128346487"
      ]
     },
     "execution_count": 233,
     "metadata": {},
     "output_type": "execute_result"
    }
   ],
   "source": [
    "df4_trimmed['5-year Percent Change'].mean()"
   ]
  },
  {
   "cell_type": "code",
   "execution_count": 234,
   "metadata": {
    "ExecuteTime": {
     "end_time": "2022-06-28T12:23:34.570178Z",
     "start_time": "2022-06-28T12:23:34.561167Z"
    }
   },
   "outputs": [
    {
     "data": {
      "text/plain": [
       "139.91164731554213"
      ]
     },
     "execution_count": 234,
     "metadata": {},
     "output_type": "execute_result"
    }
   ],
   "source": [
    "df4['5-year Percent Change'].mean()"
   ]
  },
  {
   "cell_type": "markdown",
   "metadata": {},
   "source": [
    "### Visualizing Most Recent 5-Year ROI"
   ]
  },
  {
   "cell_type": "code",
   "execution_count": 149,
   "metadata": {
    "ExecuteTime": {
     "end_time": "2022-06-27T23:35:46.027787Z",
     "start_time": "2022-06-27T23:35:45.667013Z"
    }
   },
   "outputs": [
    {
     "data": {
      "image/png": "[encoded data removed]",
      "text/plain": [
       "<Figure size 1440x360 with 1 Axes>"
      ]
     },
     "metadata": {},
     "output_type": "display_data"
    }
   ],
   "source": [
    "yrs5_pct_top10['zipcode'] = yrs5_pct_top10['zipcode'].astype(str)\n",
    "\n",
    "# Plotting the historical data \n",
    "fig, ax = plt.subplots(figsize=(20,5))\n",
    "plt.bar(yrs5_pct_top10.zipcode, yrs5_pct_top10['5-year Percent Change'])\n",
    "plt.title('% ROI by Zipcode 2012 - 2018')\n",
    "plt.xlabel('Zipcode')\n",
    "plt.ylabel('% ROI')\n",
    "plt.show()"
   ]
  },
  {
   "cell_type": "code",
   "execution_count": 150,
   "metadata": {
    "ExecuteTime": {
     "end_time": "2022-06-27T23:35:46.039180Z",
     "start_time": "2022-06-27T23:35:46.029802Z"
    }
   },
   "outputs": [],
   "source": [
    "cum_pct_top10['zipcode'] = cum_pct_top10['zipcode'].astype(int)\n",
    "yrs5_pct_top10['zipcode'] = yrs5_pct_top10['zipcode'].astype(int)\n",
    "\n",
    "from functools import reduce\n",
    "dfs = [cum_pct_top10, yrs5_pct_top10]\n",
    "\n",
    "# Combine into one dataframe ONLY those zipcodes that are on each of the Top 10 lists\n",
    "df_combo = reduce(lambda left,right: pd.merge(left,right,on='zipcode'), dfs)"
   ]
  },
  {
   "cell_type": "markdown",
   "metadata": {},
   "source": [
    "This shows not only the zipcodes with the highest ROIs over the long run, from 1996 to 2018, but also those zipcodes with the highest ROIs over the past five years."
   ]
  },
  {
   "cell_type": "code",
   "execution_count": 151,
   "metadata": {
    "ExecuteTime": {
     "end_time": "2022-06-27T23:35:46.058006Z",
     "start_time": "2022-06-27T23:35:46.044906Z"
    }
   },
   "outputs": [
    {
     "data": {
      "text/html": [
       "<div>\n",
       "<style scoped>\n",
       "    .dataframe tbody tr th:only-of-type {\n",
       "        vertical-align: middle;\n",
       "    }\n",
       "\n",
       "    .dataframe tbody tr th {\n",
       "        vertical-align: top;\n",
       "    }\n",
       "\n",
       "    .dataframe thead th {\n",
       "        text-align: right;\n",
       "    }\n",
       "</style>\n",
       "<table border=\"1\" class=\"dataframe\">\n",
       "  <thead>\n",
       "    <tr style=\"text-align: right;\">\n",
       "      <th></th>\n",
       "      <th>zipcode</th>\n",
       "      <th>Metro_x</th>\n",
       "      <th>Cumulative Percent Change</th>\n",
       "      <th>Metro_y</th>\n",
       "      <th>5-year Percent Change</th>\n",
       "    </tr>\n",
       "  </thead>\n",
       "  <tbody>\n",
       "    <tr>\n",
       "      <th>0</th>\n",
       "      <td>60640</td>\n",
       "      <td>Chicago</td>\n",
       "      <td>361.570439</td>\n",
       "      <td>Chicago</td>\n",
       "      <td>141.708907</td>\n",
       "    </tr>\n",
       "    <tr>\n",
       "      <th>1</th>\n",
       "      <td>60657</td>\n",
       "      <td>Chicago</td>\n",
       "      <td>308.378217</td>\n",
       "      <td>Chicago</td>\n",
       "      <td>139.213832</td>\n",
       "    </tr>\n",
       "    <tr>\n",
       "      <th>2</th>\n",
       "      <td>10467</td>\n",
       "      <td>New York</td>\n",
       "      <td>273.315893</td>\n",
       "      <td>New York</td>\n",
       "      <td>141.565041</td>\n",
       "    </tr>\n",
       "    <tr>\n",
       "      <th>3</th>\n",
       "      <td>60614</td>\n",
       "      <td>Chicago</td>\n",
       "      <td>262.397109</td>\n",
       "      <td>Chicago</td>\n",
       "      <td>139.324166</td>\n",
       "    </tr>\n",
       "    <tr>\n",
       "      <th>4</th>\n",
       "      <td>77449</td>\n",
       "      <td>Houston</td>\n",
       "      <td>184.696017</td>\n",
       "      <td>Houston</td>\n",
       "      <td>152.951389</td>\n",
       "    </tr>\n",
       "    <tr>\n",
       "      <th>5</th>\n",
       "      <td>77084</td>\n",
       "      <td>Houston</td>\n",
       "      <td>172.947368</td>\n",
       "      <td>Houston</td>\n",
       "      <td>146.696429</td>\n",
       "    </tr>\n",
       "    <tr>\n",
       "      <th>6</th>\n",
       "      <td>79936</td>\n",
       "      <td>El Paso</td>\n",
       "      <td>157.179819</td>\n",
       "      <td>El Paso</td>\n",
       "      <td>107.712766</td>\n",
       "    </tr>\n",
       "    <tr>\n",
       "      <th>7</th>\n",
       "      <td>77494</td>\n",
       "      <td>Houston</td>\n",
       "      <td>156.796578</td>\n",
       "      <td>Houston</td>\n",
       "      <td>130.705230</td>\n",
       "    </tr>\n",
       "    <tr>\n",
       "      <th>8</th>\n",
       "      <td>75070</td>\n",
       "      <td>Dallas-Fort Worth</td>\n",
       "      <td>136.529487</td>\n",
       "      <td>Dallas-Fort Worth</td>\n",
       "      <td>159.464817</td>\n",
       "    </tr>\n",
       "  </tbody>\n",
       "</table>\n",
       "</div>"
      ],
      "text/plain": [
       "   zipcode            Metro_x  Cumulative Percent Change            Metro_y  \\\n",
       "0    60640            Chicago                 361.570439            Chicago   \n",
       "1    60657            Chicago                 308.378217            Chicago   \n",
       "2    10467           New York                 273.315893           New York   \n",
       "3    60614            Chicago                 262.397109            Chicago   \n",
       "4    77449            Houston                 184.696017            Houston   \n",
       "5    77084            Houston                 172.947368            Houston   \n",
       "6    79936            El Paso                 157.179819            El Paso   \n",
       "7    77494            Houston                 156.796578            Houston   \n",
       "8    75070  Dallas-Fort Worth                 136.529487  Dallas-Fort Worth   \n",
       "\n",
       "   5-year Percent Change  \n",
       "0             141.708907  \n",
       "1             139.213832  \n",
       "2             141.565041  \n",
       "3             139.324166  \n",
       "4             152.951389  \n",
       "5             146.696429  \n",
       "6             107.712766  \n",
       "7             130.705230  \n",
       "8             159.464817  "
      ]
     },
     "execution_count": 151,
     "metadata": {},
     "output_type": "execute_result"
    }
   ],
   "source": [
    "df_combo"
   ]
  },
  {
   "cell_type": "code",
   "execution_count": 152,
   "metadata": {
    "ExecuteTime": {
     "end_time": "2022-06-27T23:35:46.067477Z",
     "start_time": "2022-06-27T23:35:46.060823Z"
    }
   },
   "outputs": [],
   "source": [
    "df_combo.drop(columns = ['Metro_y', 'Metro_x'], inplace=True)"
   ]
  },
  {
   "cell_type": "code",
   "execution_count": 153,
   "metadata": {
    "ExecuteTime": {
     "end_time": "2022-06-27T23:35:46.076777Z",
     "start_time": "2022-06-27T23:35:46.070930Z"
    }
   },
   "outputs": [],
   "source": [
    "df_combo['Average Change'] = (df_combo['Cumulative Percent Change'] + df_combo['5-year Percent Change']) / 2"
   ]
  },
  {
   "cell_type": "code",
   "execution_count": 159,
   "metadata": {
    "ExecuteTime": {
     "end_time": "2022-06-27T23:40:23.771442Z",
     "start_time": "2022-06-27T23:40:23.761683Z"
    }
   },
   "outputs": [],
   "source": [
    "df_small = df_combo.drop(columns = ['Cumulative Percent Change',\n",
    "                                    '5-year Percent Change']).sort_values('Average Change',\n",
    "                                                                          ascending=False).head()"
   ]
  },
  {
   "cell_type": "code",
   "execution_count": 160,
   "metadata": {
    "ExecuteTime": {
     "end_time": "2022-06-27T23:40:25.567610Z",
     "start_time": "2022-06-27T23:40:25.554032Z"
    }
   },
   "outputs": [
    {
     "data": {
      "text/html": [
       "<div>\n",
       "<style scoped>\n",
       "    .dataframe tbody tr th:only-of-type {\n",
       "        vertical-align: middle;\n",
       "    }\n",
       "\n",
       "    .dataframe tbody tr th {\n",
       "        vertical-align: top;\n",
       "    }\n",
       "\n",
       "    .dataframe thead th {\n",
       "        text-align: right;\n",
       "    }\n",
       "</style>\n",
       "<table border=\"1\" class=\"dataframe\">\n",
       "  <thead>\n",
       "    <tr style=\"text-align: right;\">\n",
       "      <th></th>\n",
       "      <th>zipcode</th>\n",
       "      <th>Average Change</th>\n",
       "    </tr>\n",
       "  </thead>\n",
       "  <tbody>\n",
       "    <tr>\n",
       "      <th>0</th>\n",
       "      <td>60640</td>\n",
       "      <td>251.639673</td>\n",
       "    </tr>\n",
       "    <tr>\n",
       "      <th>1</th>\n",
       "      <td>60657</td>\n",
       "      <td>223.796024</td>\n",
       "    </tr>\n",
       "    <tr>\n",
       "      <th>2</th>\n",
       "      <td>10467</td>\n",
       "      <td>207.440467</td>\n",
       "    </tr>\n",
       "    <tr>\n",
       "      <th>3</th>\n",
       "      <td>60614</td>\n",
       "      <td>200.860637</td>\n",
       "    </tr>\n",
       "    <tr>\n",
       "      <th>4</th>\n",
       "      <td>77449</td>\n",
       "      <td>168.823703</td>\n",
       "    </tr>\n",
       "  </tbody>\n",
       "</table>\n",
       "</div>"
      ],
      "text/plain": [
       "   zipcode  Average Change\n",
       "0    60640      251.639673\n",
       "1    60657      223.796024\n",
       "2    10467      207.440467\n",
       "3    60614      200.860637\n",
       "4    77449      168.823703"
      ]
     },
     "execution_count": 160,
     "metadata": {},
     "output_type": "execute_result"
    }
   ],
   "source": [
    "df_small"
   ]
  },
  {
   "cell_type": "code",
   "execution_count": 161,
   "metadata": {
    "ExecuteTime": {
     "end_time": "2022-06-27T23:40:39.666969Z",
     "start_time": "2022-06-27T23:40:39.661436Z"
    }
   },
   "outputs": [],
   "source": [
    "zip_list = df_small['zipcode']"
   ]
  },
  {
   "cell_type": "code",
   "execution_count": 162,
   "metadata": {
    "ExecuteTime": {
     "end_time": "2022-06-27T23:40:55.033284Z",
     "start_time": "2022-06-27T23:40:54.986755Z"
    }
   },
   "outputs": [
    {
     "data": {
      "text/html": [
       "<div>\n",
       "<style scoped>\n",
       "    .dataframe tbody tr th:only-of-type {\n",
       "        vertical-align: middle;\n",
       "    }\n",
       "\n",
       "    .dataframe tbody tr th {\n",
       "        vertical-align: top;\n",
       "    }\n",
       "\n",
       "    .dataframe thead th {\n",
       "        text-align: right;\n",
       "    }\n",
       "</style>\n",
       "<table border=\"1\" class=\"dataframe\">\n",
       "  <thead>\n",
       "    <tr style=\"text-align: right;\">\n",
       "      <th></th>\n",
       "      <th>zipcode</th>\n",
       "      <th>City</th>\n",
       "      <th>State</th>\n",
       "      <th>Metro</th>\n",
       "      <th>CountyName</th>\n",
       "      <th>SizeRank</th>\n",
       "      <th>1996-04</th>\n",
       "      <th>1996-05</th>\n",
       "      <th>1996-06</th>\n",
       "      <th>1996-07</th>\n",
       "      <th>...</th>\n",
       "      <th>2017-07</th>\n",
       "      <th>2017-08</th>\n",
       "      <th>2017-09</th>\n",
       "      <th>2017-10</th>\n",
       "      <th>2017-11</th>\n",
       "      <th>2017-12</th>\n",
       "      <th>2018-01</th>\n",
       "      <th>2018-02</th>\n",
       "      <th>2018-03</th>\n",
       "      <th>2018-04</th>\n",
       "    </tr>\n",
       "  </thead>\n",
       "  <tbody>\n",
       "    <tr>\n",
       "      <th>0</th>\n",
       "      <td>60657</td>\n",
       "      <td>Chicago</td>\n",
       "      <td>IL</td>\n",
       "      <td>Chicago</td>\n",
       "      <td>Cook</td>\n",
       "      <td>1</td>\n",
       "      <td>334200.0</td>\n",
       "      <td>335400.0</td>\n",
       "      <td>336500.0</td>\n",
       "      <td>337600.0</td>\n",
       "      <td>...</td>\n",
       "      <td>1005500</td>\n",
       "      <td>1007500</td>\n",
       "      <td>1007800</td>\n",
       "      <td>1009600</td>\n",
       "      <td>1013300</td>\n",
       "      <td>1018700</td>\n",
       "      <td>1024400</td>\n",
       "      <td>1030700</td>\n",
       "      <td>1033800</td>\n",
       "      <td>1030600</td>\n",
       "    </tr>\n",
       "    <tr>\n",
       "      <th>3</th>\n",
       "      <td>60614</td>\n",
       "      <td>Chicago</td>\n",
       "      <td>IL</td>\n",
       "      <td>Chicago</td>\n",
       "      <td>Cook</td>\n",
       "      <td>4</td>\n",
       "      <td>498100.0</td>\n",
       "      <td>500900.0</td>\n",
       "      <td>503100.0</td>\n",
       "      <td>504600.0</td>\n",
       "      <td>...</td>\n",
       "      <td>1289800</td>\n",
       "      <td>1287700</td>\n",
       "      <td>1287400</td>\n",
       "      <td>1291500</td>\n",
       "      <td>1296600</td>\n",
       "      <td>1299000</td>\n",
       "      <td>1302700</td>\n",
       "      <td>1306400</td>\n",
       "      <td>1308500</td>\n",
       "      <td>1307000</td>\n",
       "    </tr>\n",
       "    <tr>\n",
       "      <th>6</th>\n",
       "      <td>10467</td>\n",
       "      <td>New York</td>\n",
       "      <td>NY</td>\n",
       "      <td>New York</td>\n",
       "      <td>Bronx</td>\n",
       "      <td>7</td>\n",
       "      <td>152900.0</td>\n",
       "      <td>152700.0</td>\n",
       "      <td>152600.0</td>\n",
       "      <td>152400.0</td>\n",
       "      <td>...</td>\n",
       "      <td>394400</td>\n",
       "      <td>400000</td>\n",
       "      <td>407300</td>\n",
       "      <td>411600</td>\n",
       "      <td>413200</td>\n",
       "      <td>414300</td>\n",
       "      <td>413900</td>\n",
       "      <td>411400</td>\n",
       "      <td>413200</td>\n",
       "      <td>417900</td>\n",
       "    </tr>\n",
       "    <tr>\n",
       "      <th>7</th>\n",
       "      <td>60640</td>\n",
       "      <td>Chicago</td>\n",
       "      <td>IL</td>\n",
       "      <td>Chicago</td>\n",
       "      <td>Cook</td>\n",
       "      <td>8</td>\n",
       "      <td>216500.0</td>\n",
       "      <td>216700.0</td>\n",
       "      <td>216900.0</td>\n",
       "      <td>217000.0</td>\n",
       "      <td>...</td>\n",
       "      <td>798000</td>\n",
       "      <td>787100</td>\n",
       "      <td>776100</td>\n",
       "      <td>774900</td>\n",
       "      <td>777900</td>\n",
       "      <td>777900</td>\n",
       "      <td>778500</td>\n",
       "      <td>780500</td>\n",
       "      <td>782800</td>\n",
       "      <td>782800</td>\n",
       "    </tr>\n",
       "    <tr>\n",
       "      <th>8</th>\n",
       "      <td>77449</td>\n",
       "      <td>Katy</td>\n",
       "      <td>TX</td>\n",
       "      <td>Houston</td>\n",
       "      <td>Harris</td>\n",
       "      <td>9</td>\n",
       "      <td>95400.0</td>\n",
       "      <td>95600.0</td>\n",
       "      <td>95800.0</td>\n",
       "      <td>96100.0</td>\n",
       "      <td>...</td>\n",
       "      <td>166800</td>\n",
       "      <td>167400</td>\n",
       "      <td>168400</td>\n",
       "      <td>169600</td>\n",
       "      <td>170900</td>\n",
       "      <td>172300</td>\n",
       "      <td>173300</td>\n",
       "      <td>174200</td>\n",
       "      <td>175400</td>\n",
       "      <td>176200</td>\n",
       "    </tr>\n",
       "  </tbody>\n",
       "</table>\n",
       "<p>5 rows × 271 columns</p>\n",
       "</div>"
      ],
      "text/plain": [
       "   zipcode      City State     Metro CountyName  SizeRank   1996-04   1996-05  \\\n",
       "0    60657   Chicago    IL   Chicago       Cook         1  334200.0  335400.0   \n",
       "3    60614   Chicago    IL   Chicago       Cook         4  498100.0  500900.0   \n",
       "6    10467  New York    NY  New York      Bronx         7  152900.0  152700.0   \n",
       "7    60640   Chicago    IL   Chicago       Cook         8  216500.0  216700.0   \n",
       "8    77449      Katy    TX   Houston     Harris         9   95400.0   95600.0   \n",
       "\n",
       "    1996-06   1996-07  ...  2017-07  2017-08  2017-09  2017-10  2017-11  \\\n",
       "0  336500.0  337600.0  ...  1005500  1007500  1007800  1009600  1013300   \n",
       "3  503100.0  504600.0  ...  1289800  1287700  1287400  1291500  1296600   \n",
       "6  152600.0  152400.0  ...   394400   400000   407300   411600   413200   \n",
       "7  216900.0  217000.0  ...   798000   787100   776100   774900   777900   \n",
       "8   95800.0   96100.0  ...   166800   167400   168400   169600   170900   \n",
       "\n",
       "   2017-12  2018-01  2018-02  2018-03  2018-04  \n",
       "0  1018700  1024400  1030700  1033800  1030600  \n",
       "3  1299000  1302700  1306400  1308500  1307000  \n",
       "6   414300   413900   411400   413200   417900  \n",
       "7   777900   778500   780500   782800   782800  \n",
       "8   172300   173300   174200   175400   176200  \n",
       "\n",
       "[5 rows x 271 columns]"
      ]
     },
     "execution_count": 162,
     "metadata": {},
     "output_type": "execute_result"
    }
   ],
   "source": [
    "df_draft = df[df.zipcode.isin(zip_list)]\n",
    "\n",
    "df_draft.head(10)"
   ]
  },
  {
   "cell_type": "markdown",
   "metadata": {},
   "source": [
    "### Melt Data Function"
   ]
  },
  {
   "cell_type": "code",
   "execution_count": 163,
   "metadata": {
    "ExecuteTime": {
     "end_time": "2022-06-27T23:41:03.235788Z",
     "start_time": "2022-06-27T23:41:03.151358Z"
    }
   },
   "outputs": [],
   "source": [
    "# This function was provided for us with the dataset at the beginning of this project\n",
    "def melt_data(df):\n",
    "    \"\"\"\n",
    "    Takes the zillow_data dataset in wide form or a subset of the zillow_dataset.  \n",
    "    Returns a long-form datetime dataframe \n",
    "    with the datetime column names as the index and the values as the 'values' column.\n",
    "    \n",
    "    If more than one row is passes in the wide-form dataset, the values column\n",
    "    will be the mean of the values from the datetime columns in all of the rows.\n",
    "    \"\"\"\n",
    "    melted = pd.melt(df, id_vars=['zipcode', 'City', 'State', 'Metro', 'CountyName', 'SizeRank'], var_name='time')\n",
    "    melted['time'] = pd.to_datetime(melted['time'])\n",
    "    melted = melted.dropna(subset=['value'])\n",
    "    return melted.groupby('time').aggregate({'value':'mean'})"
   ]
  },
  {
   "cell_type": "markdown",
   "metadata": {},
   "source": [
    "### Prospective Zipcodes For Analysis"
   ]
  },
  {
   "cell_type": "code",
   "execution_count": 164,
   "metadata": {
    "ExecuteTime": {
     "end_time": "2022-06-27T23:41:05.049041Z",
     "start_time": "2022-06-27T23:41:04.941025Z"
    }
   },
   "outputs": [
    {
     "data": {
      "text/html": [
       "<div>\n",
       "<style scoped>\n",
       "    .dataframe tbody tr th:only-of-type {\n",
       "        vertical-align: middle;\n",
       "    }\n",
       "\n",
       "    .dataframe tbody tr th {\n",
       "        vertical-align: top;\n",
       "    }\n",
       "\n",
       "    .dataframe thead th {\n",
       "        text-align: right;\n",
       "    }\n",
       "</style>\n",
       "<table border=\"1\" class=\"dataframe\">\n",
       "  <thead>\n",
       "    <tr style=\"text-align: right;\">\n",
       "      <th></th>\n",
       "      <th>60657</th>\n",
       "      <th>60614</th>\n",
       "      <th>10467</th>\n",
       "      <th>60640</th>\n",
       "      <th>77449</th>\n",
       "    </tr>\n",
       "    <tr>\n",
       "      <th>time</th>\n",
       "      <th></th>\n",
       "      <th></th>\n",
       "      <th></th>\n",
       "      <th></th>\n",
       "      <th></th>\n",
       "    </tr>\n",
       "  </thead>\n",
       "  <tbody>\n",
       "    <tr>\n",
       "      <th>1996-04-01</th>\n",
       "      <td>334200.0</td>\n",
       "      <td>498100.0</td>\n",
       "      <td>152900.0</td>\n",
       "      <td>216500.0</td>\n",
       "      <td>95400.0</td>\n",
       "    </tr>\n",
       "    <tr>\n",
       "      <th>1996-05-01</th>\n",
       "      <td>335400.0</td>\n",
       "      <td>500900.0</td>\n",
       "      <td>152700.0</td>\n",
       "      <td>216700.0</td>\n",
       "      <td>95600.0</td>\n",
       "    </tr>\n",
       "    <tr>\n",
       "      <th>1996-06-01</th>\n",
       "      <td>336500.0</td>\n",
       "      <td>503100.0</td>\n",
       "      <td>152600.0</td>\n",
       "      <td>216900.0</td>\n",
       "      <td>95800.0</td>\n",
       "    </tr>\n",
       "    <tr>\n",
       "      <th>1996-07-01</th>\n",
       "      <td>337600.0</td>\n",
       "      <td>504600.0</td>\n",
       "      <td>152400.0</td>\n",
       "      <td>217000.0</td>\n",
       "      <td>96100.0</td>\n",
       "    </tr>\n",
       "    <tr>\n",
       "      <th>1996-08-01</th>\n",
       "      <td>338500.0</td>\n",
       "      <td>505500.0</td>\n",
       "      <td>152300.0</td>\n",
       "      <td>217100.0</td>\n",
       "      <td>96400.0</td>\n",
       "    </tr>\n",
       "  </tbody>\n",
       "</table>\n",
       "</div>"
      ],
      "text/plain": [
       "               60657     60614     10467     60640    77449\n",
       "time                                                       \n",
       "1996-04-01  334200.0  498100.0  152900.0  216500.0  95400.0\n",
       "1996-05-01  335400.0  500900.0  152700.0  216700.0  95600.0\n",
       "1996-06-01  336500.0  503100.0  152600.0  216900.0  95800.0\n",
       "1996-07-01  337600.0  504600.0  152400.0  217000.0  96100.0\n",
       "1996-08-01  338500.0  505500.0  152300.0  217100.0  96400.0"
      ]
     },
     "execution_count": 164,
     "metadata": {},
     "output_type": "execute_result"
    }
   ],
   "source": [
    "# The code in this cell came courtesy of the other group working on this project \n",
    "df_prospects = pd.DataFrame()\n",
    "for i in df_draft['zipcode']:\n",
    "    x = melt_data(df_draft[df_draft['zipcode'] == i])\n",
    "    df_prospects = pd.concat([df_prospects, x], axis=1)\n",
    "    df_prospects.rename(columns = {'value':i}, inplace = True)\n",
    "    \n",
    "df_prospects.head()"
   ]
  },
  {
   "cell_type": "code",
   "execution_count": 165,
   "metadata": {
    "ExecuteTime": {
     "end_time": "2022-06-27T23:41:08.953815Z",
     "start_time": "2022-06-27T23:41:08.935883Z"
    }
   },
   "outputs": [],
   "source": [
    "df_prospects = df_prospects.asfreq('MS')"
   ]
  },
  {
   "cell_type": "code",
   "execution_count": 166,
   "metadata": {
    "ExecuteTime": {
     "end_time": "2022-06-27T23:41:10.647221Z",
     "start_time": "2022-06-27T23:41:10.405366Z"
    }
   },
   "outputs": [
    {
     "data": {
      "image/png": "[encoded data removed]",
      "text/plain": [
       "<Figure size 432x288 with 1 Axes>"
      ]
     },
     "metadata": {},
     "output_type": "display_data"
    }
   ],
   "source": [
    "df_prospects.plot();"
   ]
  },
  {
   "cell_type": "code",
   "execution_count": 189,
   "metadata": {
    "ExecuteTime": {
     "end_time": "2022-06-27T23:50:21.350611Z",
     "start_time": "2022-06-27T23:50:21.343511Z"
    }
   },
   "outputs": [],
   "source": [
    "df_prospects_postcrash = df_prospects['2011-01-31':]"
   ]
  },
  {
   "cell_type": "markdown",
   "metadata": {},
   "source": [
    "# Modeling"
   ]
  },
  {
   "cell_type": "code",
   "execution_count": 190,
   "metadata": {
    "ExecuteTime": {
     "end_time": "2022-06-27T23:50:22.711483Z",
     "start_time": "2022-06-27T23:50:22.706170Z"
    }
   },
   "outputs": [],
   "source": [
    "# Create train-validation set\n",
    "cutoff = round(df_prospects_postcrash.shape[0]*0.8)"
   ]
  },
  {
   "cell_type": "markdown",
   "metadata": {},
   "source": [
    "**A note on the usage of the SARIMA Model:**\n",
    "\n",
    "The SARIMA model stands for \"Seasonal AutoRegressive Integrated Moving Average\" model, so in one swoop, our model can conduct auto-regression, moving average, the integration or differencing of the two, and include the seasonal component of the data.\n",
    "\n",
    "***\n",
    "\n",
    "**A note on the SARIMA Parameters:**\n",
    "Per the formula SARIMA(p,d,q)x(P,D,Q,s), the parameters for these types of models are as follows:\n",
    "\n",
    "* $p$ and seasonal $P$: indicate number of autoregressive terms (lags of the stationarized series, based on past data points)\n",
    "* $d$ and seasonal $D$: indicate differencing that must be done to stationarize series (accounting for the overall 'trend' in the data)\n",
    "* $q$ and seasonal $Q$: indicate number of moving average terms (lags of the forecast errors, based on noise of past data points)\n",
    "* $s$: indicates seasonal length in the data (in this case, 12 months)\n",
    "\n",
    "This project utilized a grid search of all the different model iterations with different combinations of pdq and pdqs. For the final model, the pdq and pdqs values were selected based on the smallest AIC value - the AIC is a metric that is an estimator of out-of-sample prediction error; a lower AIC score indicates a more predictive model.\n",
    "\n",
    "***\n",
    "\n",
    "**A note on SARIMA Model performance evaluation:**\n",
    "\n",
    "Use MAE"
   ]
  },
  {
   "cell_type": "markdown",
   "metadata": {},
   "source": [
    "## Lakeview (Chicago, IL, 60657)"
   ]
  },
  {
   "cell_type": "markdown",
   "metadata": {},
   "source": [
    "### Lakeview: SARIMA Parameter Search"
   ]
  },
  {
   "cell_type": "code",
   "execution_count": 191,
   "metadata": {
    "ExecuteTime": {
     "end_time": "2022-06-27T23:50:31.007876Z",
     "start_time": "2022-06-27T23:50:23.936407Z"
    },
    "scrolled": true
   },
   "outputs": [
    {
     "name": "stdout",
     "output_type": "stream",
     "text": [
      "ARIMA (0, 0, 0) x (0, 0, 0, 12)12 : AIC Calculated = 2082.954241088295\n",
      "ARIMA (0, 0, 0) x (0, 0, 1, 12)12 : AIC Calculated = 1691.392652248053\n",
      "ARIMA (0, 0, 0) x (0, 1, 0, 12)12 : AIC Calculated = 1406.2335878777824\n",
      "ARIMA (0, 0, 0) x (0, 1, 1, 12)12 : AIC Calculated = 1112.6567467805478\n",
      "ARIMA (0, 0, 0) x (1, 0, 0, 12)12 : AIC Calculated = 1318.334406306487\n",
      "ARIMA (0, 0, 0) x (1, 0, 1, 12)12 : AIC Calculated = 1337.3997390951572\n",
      "ARIMA (0, 0, 0) x (1, 1, 0, 12)12 : AIC Calculated = 1091.33443324913\n",
      "ARIMA (0, 0, 0) x (1, 1, 1, 12)12 : AIC Calculated = 1538.5730425396025\n",
      "ARIMA (0, 0, 1) x (0, 0, 0, 12)12 : AIC Calculated = 2006.7057360154313\n",
      "ARIMA (0, 0, 1) x (0, 0, 1, 12)12 : AIC Calculated = 6341989.634026975\n",
      "ARIMA (0, 0, 1) x (0, 1, 0, 12)12 : AIC Calculated = 1420.3937640029985\n",
      "ARIMA (0, 0, 1) x (0, 1, 1, 12)12 : AIC Calculated = 1083.490379181547\n",
      "ARIMA (0, 0, 1) x (1, 0, 0, 12)12 : AIC Calculated = 1697.946411013325\n",
      "ARIMA (0, 0, 1) x (1, 0, 1, 12)12 : AIC Calculated = 1758.3234456782975\n",
      "ARIMA (0, 0, 1) x (1, 1, 0, 12)12 : AIC Calculated = 1098.2457705699221\n",
      "ARIMA (0, 0, 1) x (1, 1, 1, 12)12 : AIC Calculated = 1076.251022346739\n",
      "ARIMA (0, 1, 0) x (0, 0, 0, 12)12 : AIC Calculated = 1364.9194448579628\n",
      "ARIMA (0, 1, 0) x (0, 0, 1, 12)12 : AIC Calculated = 1108.7640841889174\n",
      "ARIMA (0, 1, 0) x (0, 1, 0, 12)12 : AIC Calculated = 1115.8627379158047\n",
      "ARIMA (0, 1, 0) x (0, 1, 1, 12)12 : AIC Calculated = 870.4590795345358\n",
      "ARIMA (0, 1, 0) x (1, 0, 0, 12)12 : AIC Calculated = 1128.020229338298\n",
      "ARIMA (0, 1, 0) x (1, 0, 1, 12)12 : AIC Calculated = 1113.3167271042014\n",
      "ARIMA (0, 1, 0) x (1, 1, 0, 12)12 : AIC Calculated = 887.9023841191629\n",
      "ARIMA (0, 1, 0) x (1, 1, 1, 12)12 : AIC Calculated = 870.7754660614501\n",
      "ARIMA (0, 1, 1) x (0, 0, 0, 12)12 : AIC Calculated = 1277.4102853049785\n",
      "ARIMA (0, 1, 1) x (0, 0, 1, 12)12 : AIC Calculated = 1051.2659505002964\n",
      "ARIMA (0, 1, 1) x (0, 1, 0, 12)12 : AIC Calculated = 1082.0689124094793\n",
      "ARIMA (0, 1, 1) x (0, 1, 1, 12)12 : AIC Calculated = 857.4299366972626\n",
      "ARIMA (0, 1, 1) x (1, 0, 0, 12)12 : AIC Calculated = 1099.2665768840716\n",
      "ARIMA (0, 1, 1) x (1, 0, 1, 12)12 : AIC Calculated = 1053.172517109448\n",
      "ARIMA (0, 1, 1) x (1, 1, 0, 12)12 : AIC Calculated = 861.0255738719802\n",
      "ARIMA (0, 1, 1) x (1, 1, 1, 12)12 : AIC Calculated = 822.2302981925341\n",
      "ARIMA (1, 0, 0) x (0, 0, 0, 12)12 : AIC Calculated = 1336.6733757115667\n",
      "ARIMA (1, 0, 0) x (0, 0, 1, 12)12 : AIC Calculated = 1589.395558434214\n",
      "ARIMA (1, 0, 0) x (0, 1, 0, 12)12 : AIC Calculated = 1136.663099561937\n",
      "ARIMA (1, 0, 0) x (0, 1, 1, 12)12 : AIC Calculated = 891.2594620883671\n",
      "ARIMA (1, 0, 0) x (1, 0, 0, 12)12 : AIC Calculated = 1147.9747649226424\n",
      "ARIMA (1, 0, 0) x (1, 0, 1, 12)12 : AIC Calculated = 1147.272090761533\n",
      "ARIMA (1, 0, 0) x (1, 1, 0, 12)12 : AIC Calculated = 890.4688353871653\n",
      "ARIMA (1, 0, 0) x (1, 1, 1, 12)12 : AIC Calculated = 1316.686129636866\n",
      "ARIMA (1, 0, 1) x (0, 0, 0, 12)12 : AIC Calculated = 1263.997993711889\n",
      "ARIMA (1, 0, 1) x (0, 0, 1, 12)12 : AIC Calculated = 1040.3005582204275\n",
      "ARIMA (1, 0, 1) x (0, 1, 0, 12)12 : AIC Calculated = 1112.3481181172453\n",
      "ARIMA (1, 0, 1) x (0, 1, 1, 12)12 : AIC Calculated = 841.4135941365014\n",
      "ARIMA (1, 0, 1) x (1, 0, 0, 12)12 : AIC Calculated = 1055.2438507292218\n",
      "ARIMA (1, 0, 1) x (1, 0, 1, 12)12 : AIC Calculated = 1040.0384475632156\n",
      "ARIMA (1, 0, 1) x (1, 1, 0, 12)12 : AIC Calculated = 862.6395503010464\n",
      "ARIMA (1, 0, 1) x (1, 1, 1, 12)12 : AIC Calculated = 1071.71261755018\n",
      "ARIMA (1, 1, 0) x (0, 0, 0, 12)12 : AIC Calculated = 1275.4381922727002\n",
      "ARIMA (1, 1, 0) x (0, 0, 1, 12)12 : AIC Calculated = 1134.8472722629833\n",
      "ARIMA (1, 1, 0) x (0, 1, 0, 12)12 : AIC Calculated = 1071.275241148016\n",
      "ARIMA (1, 1, 0) x (0, 1, 1, 12)12 : AIC Calculated = 844.0372448909544\n",
      "ARIMA (1, 1, 0) x (1, 0, 0, 12)12 : AIC Calculated = 1052.9592998799824\n",
      "ARIMA (1, 1, 0) x (1, 0, 1, 12)12 : AIC Calculated = 1054.799969080632\n",
      "ARIMA (1, 1, 0) x (1, 1, 0, 12)12 : AIC Calculated = 841.0466073242414\n",
      "ARIMA (1, 1, 0) x (1, 1, 1, 12)12 : AIC Calculated = 872.5306706841104\n",
      "ARIMA (1, 1, 1) x (0, 0, 0, 12)12 : AIC Calculated = 1257.17177387436\n",
      "ARIMA (1, 1, 1) x (0, 0, 1, 12)12 : AIC Calculated = 1040.7658258366973\n",
      "ARIMA (1, 1, 1) x (0, 1, 0, 12)12 : AIC Calculated = 1048.6816524412372\n",
      "ARIMA (1, 1, 1) x (0, 1, 1, 12)12 : AIC Calculated = 822.9205237839973\n",
      "ARIMA (1, 1, 1) x (1, 0, 0, 12)12 : AIC Calculated = 1026.5847883996696\n",
      "ARIMA (1, 1, 1) x (1, 0, 1, 12)12 : AIC Calculated = 1010.7799836634905\n",
      "ARIMA (1, 1, 1) x (1, 1, 0, 12)12 : AIC Calculated = 843.8233300607412\n",
      "ARIMA (1, 1, 1) x (1, 1, 1, 12)12 : AIC Calculated = 810.9642256789135\n"
     ]
    }
   ],
   "source": [
    "# Define train and test sets according to the index found above\n",
    "train1 = df_prospects_postcrash[60657][:cutoff]\n",
    "valid1 = df_prospects_postcrash[60657][cutoff:]\n",
    "\n",
    "# Define the p, d and q parameters to take any value between 0 and 2\n",
    "p = d = q = range(0,2)\n",
    "\n",
    "# Generate all different combinations of p, q and q triplets\n",
    "pdq = list(itertools.product(p,d,q))\n",
    "\n",
    "# Generate all different combinations of seasonal p, q and q triplets (use 12 for frequency)\n",
    "pdqs = [(x[0], x[1], x[2], 12) for x in list(itertools.product(p, d, q))]\n",
    "\n",
    "# Run a grid with pdq and seasonal pdq parameters calculated above and get the best AIC value\n",
    "ans = []\n",
    "\n",
    "for comb in pdq:\n",
    "    for combs in pdqs:\n",
    "        try:\n",
    "            mod = sm.tsa.statespace.SARIMAX(train1,\n",
    "                                            order = comb,\n",
    "                                            seasonal_order = combs,\n",
    "                                            \n",
    "                                            # with this setting, we are NOT enforcing stationarity\n",
    "                                            # meaning >???\n",
    "                                            enforce_stationarity = False,\n",
    "                                            \n",
    "                                            # with this setting, we are NOT enforcing invertibility\n",
    "                                            # meaning >???\n",
    "                                            enforce_invertibility = False)\n",
    "            output = mod.fit()\n",
    "            ans.append([comb, combs, output.aic])\n",
    "            print('ARIMA {} x {}12 : AIC Calculated = {}'.format(comb, combs, output.aic))\n",
    "        except:\n",
    "            continue"
   ]
  },
  {
   "cell_type": "code",
   "execution_count": 192,
   "metadata": {
    "ExecuteTime": {
     "end_time": "2022-06-27T23:50:32.290637Z",
     "start_time": "2022-06-27T23:50:32.269482Z"
    }
   },
   "outputs": [
    {
     "data": {
      "text/plain": [
       "pdq         (1, 1, 1)\n",
       "pdqs    (1, 1, 1, 12)\n",
       "aic           810.964\n",
       "Name: 63, dtype: object"
      ]
     },
     "execution_count": 192,
     "metadata": {},
     "output_type": "execute_result"
    }
   ],
   "source": [
    "# Find the parameters with minimal AIC value\n",
    "ans_df = pd.DataFrame(ans, columns = ['pdq', 'pdqs', 'aic'])\n",
    "ans_df.loc[ans_df['aic'].idxmin()]"
   ]
  },
  {
   "cell_type": "markdown",
   "metadata": {},
   "source": [
    "### Lakeview SARIMA Predictions"
   ]
  },
  {
   "cell_type": "code",
   "execution_count": 241,
   "metadata": {
    "ExecuteTime": {
     "end_time": "2022-06-28T14:27:52.470923Z",
     "start_time": "2022-06-28T14:27:48.409922Z"
    }
   },
   "outputs": [
    {
     "name": "stdout",
     "output_type": "stream",
     "text": [
      "The Mean Absolute Error of our predictions: $44097.36\n"
     ]
    },
    {
     "data": {
      "image/png": "[encoded data removed]",
      "text/plain": [
       "<Figure size 432x288 with 1 Axes>"
      ]
     },
     "metadata": {},
     "output_type": "display_data"
    }
   ],
   "source": [
    "# Plug the optimal parameter values into a new SARIMAX model\n",
    "sarima1 = sm.tsa.statespace.SARIMAX(train1,\n",
    "                                        order=(1, 1, 1), \n",
    "                                        seasonal_order=(1, 1, 1, 12), \n",
    "                                        enforce_stationarity=False, \n",
    "                                        enforce_invertibility=False).fit()\n",
    "\n",
    "y_hat_train1 = sarima1.predict(typ='levels')\n",
    "y_hat_test1 = sarima1.predict(start=valid1.index[0], end=valid1.index[-1], typ='levels')\n",
    "\n",
    "# Calculate the mean absolute error from residuals\n",
    "mae1 = np.mean(np.abs(sarima1.resid))\n",
    "print('The Mean Absolute Error of our predictions: $%.2f' % mae1)\n",
    "\n",
    "fig, ax = plt.subplots()\n",
    "ax.plot(train1, label='train')\n",
    "ax.plot(valid1, label='test')\n",
    "ax.plot(y_hat_train1, label='train_pred')\n",
    "ax.plot(y_hat_test1, label='test_pred')\n",
    "\n",
    "plt.legend();"
   ]
  },
  {
   "cell_type": "markdown",
   "metadata": {},
   "source": [
    "### Lakeview SARIMA Forecast"
   ]
  },
  {
   "cell_type": "code",
   "execution_count": 212,
   "metadata": {
    "ExecuteTime": {
     "end_time": "2022-06-27T23:56:50.848212Z",
     "start_time": "2022-06-27T23:56:50.361257Z"
    }
   },
   "outputs": [
    {
     "name": "stdout",
     "output_type": "stream",
     "text": [
      "Lakeview (Chicago, IL, 60657):\n",
      "95% confidence that the true future value is between $759441 and $1624075\n",
      "Confidence range: $864634\n"
     ]
    },
    {
     "data": {
      "image/png": "[encoded data removed]",
      "text/plain": [
       "<Figure size 1080x504 with 1 Axes>"
      ]
     },
     "metadata": {},
     "output_type": "display_data"
    }
   ],
   "source": [
    "sarima_mod1 = sm.tsa.statespace.SARIMAX(df_prospects_postcrash[60657],\n",
    "                                        order=(1, 1, 1), \n",
    "                                        seasonal_order=(1, 1, 0, 12), \n",
    "                                        enforce_stationarity=False, \n",
    "                                        enforce_invertibility=False).fit()\n",
    "\n",
    "forecast1 = sarima_mod1.get_forecast(steps=52).summary_frame()\n",
    "forecast1_mean = round(forecast1['mean'][51])\n",
    "low_int1 =  round(forecast1['mean_ci_lower'][51])\n",
    "high_int1 = round(forecast1['mean_ci_upper'][51])\n",
    "ci_delta1 = round(high_int1 - low_int1)\n",
    "\n",
    "print(f'Lakeview (Chicago, IL, 60657):')   \n",
    "print(f'95% confidence that the true future value is between ${low_int1} and ${high_int1}')\n",
    "print(f'Confidence range: ${ci_delta1}')\n",
    "\n",
    "fig, ax = plt.subplots(figsize=(15, 7))\n",
    "plt.plot(df_prospects_postcrash[60657])\n",
    "plt.plot(forecast1['mean'])\n",
    "ax.fill_between(forecast1.index, forecast1['mean_ci_lower'], \n",
    "                    forecast1['mean_ci_upper'], color='k', alpha=0.1)\n",
    "plt.title('Lakeview (Chicago, IL, 60657)')\n",
    "plt.legend(['Original','Predicted'], loc='lower right')\n",
    "plt.xlabel('Year')\n",
    "plt.ylabel('Median Home Price')\n",
    "plt.show()"
   ]
  },
  {
   "cell_type": "markdown",
   "metadata": {},
   "source": [
    "### Lakeview Results Summary"
   ]
  },
  {
   "cell_type": "code",
   "execution_count": null,
   "metadata": {},
   "outputs": [],
   "source": []
  },
  {
   "cell_type": "markdown",
   "metadata": {},
   "source": [
    "## Depaul/Lincoln Park (Chicago, IL, 60614)"
   ]
  },
  {
   "cell_type": "markdown",
   "metadata": {},
   "source": [
    "### Depaul/Lincoln Park SARIMA Parameters"
   ]
  },
  {
   "cell_type": "code",
   "execution_count": 195,
   "metadata": {
    "ExecuteTime": {
     "end_time": "2022-06-27T23:51:03.215807Z",
     "start_time": "2022-06-27T23:50:57.063869Z"
    },
    "scrolled": true
   },
   "outputs": [
    {
     "name": "stdout",
     "output_type": "stream",
     "text": [
      "ARIMA (0, 0, 0) x (0, 0, 0, 12)12 : AIC Calculated = 2118.066756904003\n",
      "ARIMA (0, 0, 0) x (0, 0, 1, 12)12 : AIC Calculated = 1720.3880845519982\n",
      "ARIMA (0, 0, 0) x (0, 1, 0, 12)12 : AIC Calculated = 1448.1598992807756\n",
      "ARIMA (0, 0, 0) x (0, 1, 1, 12)12 : AIC Calculated = 1188.3824136682313\n",
      "ARIMA (0, 0, 0) x (1, 0, 0, 12)12 : AIC Calculated = 1399.837238924396\n",
      "ARIMA (0, 0, 0) x (1, 0, 1, 12)12 : AIC Calculated = 1404.5086705571828\n",
      "ARIMA (0, 0, 0) x (1, 1, 0, 12)12 : AIC Calculated = 1137.4301906062833\n",
      "ARIMA (0, 0, 0) x (1, 1, 1, 12)12 : AIC Calculated = 1319.8918430424421\n",
      "ARIMA (0, 0, 1) x (0, 0, 0, 12)12 : AIC Calculated = 855950.437719476\n",
      "ARIMA (0, 0, 1) x (0, 0, 1, 12)12 : AIC Calculated = 1791.842601995287\n",
      "ARIMA (0, 0, 1) x (0, 1, 0, 12)12 : AIC Calculated = 1466.4182159313573\n",
      "ARIMA (0, 0, 1) x (0, 1, 1, 12)12 : AIC Calculated = 1091.193721719454\n",
      "ARIMA (0, 0, 1) x (1, 0, 0, 12)12 : AIC Calculated = 1886.2629349250155\n",
      "ARIMA (0, 0, 1) x (1, 0, 1, 12)12 : AIC Calculated = 1798.67251388005\n",
      "ARIMA (0, 0, 1) x (1, 1, 0, 12)12 : AIC Calculated = 1133.49407396651\n",
      "ARIMA (0, 0, 1) x (1, 1, 1, 12)12 : AIC Calculated = 1114.742513308918\n",
      "ARIMA (0, 1, 0) x (0, 0, 0, 12)12 : AIC Calculated = 1408.5218500587516\n",
      "ARIMA (0, 1, 0) x (0, 0, 1, 12)12 : AIC Calculated = 1153.3662413042834\n",
      "ARIMA (0, 1, 0) x (0, 1, 0, 12)12 : AIC Calculated = 1164.3648064420859\n",
      "ARIMA (0, 1, 0) x (0, 1, 1, 12)12 : AIC Calculated = 919.9461406382939\n",
      "ARIMA (0, 1, 0) x (1, 0, 0, 12)12 : AIC Calculated = 1171.380750935906\n",
      "ARIMA (0, 1, 0) x (1, 0, 1, 12)12 : AIC Calculated = 1207.6592403271172\n",
      "ARIMA (0, 1, 0) x (1, 1, 0, 12)12 : AIC Calculated = 923.6934083768965\n",
      "ARIMA (0, 1, 0) x (1, 1, 1, 12)12 : AIC Calculated = 929.5971324927849\n",
      "ARIMA (0, 1, 1) x (0, 0, 0, 12)12 : AIC Calculated = 1326.2114562562003\n",
      "ARIMA (0, 1, 1) x (0, 0, 1, 12)12 : AIC Calculated = 1085.5163152733332\n",
      "ARIMA (0, 1, 1) x (0, 1, 0, 12)12 : AIC Calculated = 1165.657680500673\n",
      "ARIMA (0, 1, 1) x (0, 1, 1, 12)12 : AIC Calculated = 854.4110063044209\n",
      "ARIMA (0, 1, 1) x (1, 0, 0, 12)12 : AIC Calculated = 1132.7335438849714\n",
      "ARIMA (0, 1, 1) x (1, 0, 1, 12)12 : AIC Calculated = 1087.1866313032642\n",
      "ARIMA (0, 1, 1) x (1, 1, 0, 12)12 : AIC Calculated = 890.8010727679032\n",
      "ARIMA (0, 1, 1) x (1, 1, 1, 12)12 : AIC Calculated = 853.0119608072505\n",
      "ARIMA (1, 0, 0) x (0, 0, 0, 12)12 : AIC Calculated = 1392.9479539310253\n",
      "ARIMA (1, 0, 0) x (0, 0, 1, 12)12 : AIC Calculated = 1833.6942299375157\n",
      "ARIMA (1, 0, 0) x (0, 1, 0, 12)12 : AIC Calculated = 1186.1879595523862\n",
      "ARIMA (1, 0, 0) x (0, 1, 1, 12)12 : AIC Calculated = 926.9239909870877\n",
      "ARIMA (1, 0, 0) x (1, 0, 0, 12)12 : AIC Calculated = 1151.3692319525987\n",
      "ARIMA (1, 0, 0) x (1, 0, 1, 12)12 : AIC Calculated = 1151.781723479099\n",
      "ARIMA (1, 0, 0) x (1, 1, 0, 12)12 : AIC Calculated = 926.9341390677376\n",
      "ARIMA (1, 0, 0) x (1, 1, 1, 12)12 : AIC Calculated = 928.1731352618904\n",
      "ARIMA (1, 0, 1) x (0, 0, 0, 12)12 : AIC Calculated = 1311.186745497087\n",
      "ARIMA (1, 0, 1) x (0, 0, 1, 12)12 : AIC Calculated = 1327.2558043785284\n",
      "ARIMA (1, 0, 1) x (0, 1, 0, 12)12 : AIC Calculated = 1232.0934398279342\n",
      "ARIMA (1, 0, 1) x (0, 1, 1, 12)12 : AIC Calculated = 1436.838601937735\n",
      "ARIMA (1, 0, 1) x (1, 0, 0, 12)12 : AIC Calculated = 1093.9301415844357\n",
      "ARIMA (1, 0, 1) x (1, 0, 1, 12)12 : AIC Calculated = 1076.0618134385522\n",
      "ARIMA (1, 0, 1) x (1, 1, 0, 12)12 : AIC Calculated = 900.3876718689172\n",
      "ARIMA (1, 0, 1) x (1, 1, 1, 12)12 : AIC Calculated = 1367.585351412516\n",
      "ARIMA (1, 1, 0) x (0, 0, 0, 12)12 : AIC Calculated = 1303.5865856005562\n",
      "ARIMA (1, 1, 0) x (0, 0, 1, 12)12 : AIC Calculated = 1069.4684460812673\n",
      "ARIMA (1, 1, 0) x (0, 1, 0, 12)12 : AIC Calculated = 1107.2023502805098\n",
      "ARIMA (1, 1, 0) x (0, 1, 1, 12)12 : AIC Calculated = 855.5414387280377\n",
      "ARIMA (1, 1, 0) x (1, 0, 0, 12)12 : AIC Calculated = 1069.6837875342185\n",
      "ARIMA (1, 1, 0) x (1, 0, 1, 12)12 : AIC Calculated = 1069.9242498493638\n",
      "ARIMA (1, 1, 0) x (1, 1, 0, 12)12 : AIC Calculated = 851.0301089091781\n",
      "ARIMA (1, 1, 0) x (1, 1, 1, 12)12 : AIC Calculated = 852.7585878890619\n",
      "ARIMA (1, 1, 1) x (0, 0, 0, 12)12 : AIC Calculated = 1282.5105534924405\n",
      "ARIMA (1, 1, 1) x (0, 0, 1, 12)12 : AIC Calculated = 1015.1524383828018\n",
      "ARIMA (1, 1, 1) x (0, 1, 0, 12)12 : AIC Calculated = 1075.335939568615\n",
      "ARIMA (1, 1, 1) x (0, 1, 1, 12)12 : AIC Calculated = 817.8201964676922\n",
      "ARIMA (1, 1, 1) x (1, 0, 0, 12)12 : AIC Calculated = 1033.3355996448372\n",
      "ARIMA (1, 1, 1) x (1, 0, 1, 12)12 : AIC Calculated = 1012.0060062358492\n",
      "ARIMA (1, 1, 1) x (1, 1, 0, 12)12 : AIC Calculated = 836.2810488134212\n",
      "ARIMA (1, 1, 1) x (1, 1, 1, 12)12 : AIC Calculated = 826.1896273302456\n"
     ]
    }
   ],
   "source": [
    "# Define train and test sets according to the index found above\n",
    "train2 = df_prospects_postcrash[60614][:cutoff]\n",
    "valid2 = df_prospects_postcrash[60614][cutoff:]\n",
    "\n",
    "# Define the p, d and q parameters to take any value between 0 and 2\n",
    "p = d = q = range(0,2)\n",
    "\n",
    "# Generate all different combinations of p, q and q triplets\n",
    "pdq = list(itertools.product(p,d,q))\n",
    "\n",
    "# Generate all different combinations of seasonal p, q and q triplets (use 12 for frequency)\n",
    "pdqs = [(x[0], x[1], x[2], 12) for x in list(itertools.product(p, d, q))]\n",
    "\n",
    "# Run a grid with pdq and seasonal pdq parameters calculated above and get the best AIC value\n",
    "ans = []\n",
    "\n",
    "for comb in pdq:\n",
    "    for combs in pdqs:\n",
    "        try:\n",
    "            mod = sm.tsa.statespace.SARIMAX(train2,\n",
    "                                            order = comb,\n",
    "                                            seasonal_order = combs,\n",
    "                                            enforce_stationarity = False,\n",
    "                                            enforce_invertibility = False)\n",
    "            output = mod.fit()\n",
    "            ans.append([comb, combs, output.aic])\n",
    "            print('ARIMA {} x {}12 : AIC Calculated = {}'.format(comb, combs, output.aic))\n",
    "        except:\n",
    "            continue"
   ]
  },
  {
   "cell_type": "code",
   "execution_count": 196,
   "metadata": {
    "ExecuteTime": {
     "end_time": "2022-06-27T23:51:04.552766Z",
     "start_time": "2022-06-27T23:51:04.538561Z"
    }
   },
   "outputs": [
    {
     "data": {
      "text/plain": [
       "pdq         (1, 1, 1)\n",
       "pdqs    (0, 1, 1, 12)\n",
       "aic            817.82\n",
       "Name: 59, dtype: object"
      ]
     },
     "execution_count": 196,
     "metadata": {},
     "output_type": "execute_result"
    }
   ],
   "source": [
    "# Find the parameters with minimal AIC value\n",
    "ans_df = pd.DataFrame(ans, columns = ['pdq', 'pdqs', 'aic'])\n",
    "ans_df.loc[ans_df['aic'].idxmin()]"
   ]
  },
  {
   "cell_type": "markdown",
   "metadata": {},
   "source": [
    "### Depaul/Lincoln Park SARIMA Predictions"
   ]
  },
  {
   "cell_type": "code",
   "execution_count": 197,
   "metadata": {
    "ExecuteTime": {
     "end_time": "2022-06-27T23:51:11.549091Z",
     "start_time": "2022-06-27T23:51:11.166905Z"
    }
   },
   "outputs": [
    {
     "name": "stdout",
     "output_type": "stream",
     "text": [
      "The Mean Absolute Error of our predictions: $58447.74\n"
     ]
    },
    {
     "data": {
      "image/png": "[encoded data removed]",
      "text/plain": [
       "<Figure size 432x288 with 1 Axes>"
      ]
     },
     "metadata": {},
     "output_type": "display_data"
    }
   ],
   "source": [
    "# Plug the optimal parameter values into a new SARIMAX model\n",
    "sarima2 = sm.tsa.statespace.SARIMAX(train2,\n",
    "                                        order=(1, 1, 1), \n",
    "                                        seasonal_order=(0, 1, 1, 12), \n",
    "                                        enforce_stationarity=False, \n",
    "                                        enforce_invertibility=False).fit()\n",
    "\n",
    "y_hat_train2 = sarima2.predict(typ='levels')\n",
    "y_hat_test2 = sarima2.predict(start=valid2.index[0], end=valid2.index[-1],typ='levels')\n",
    "\n",
    "# Calculate the mean absolute error from residuals\n",
    "mae2 = np.mean(np.abs(sarima2.resid))\n",
    "print('The Mean Absolute Error of our predictions: $%.2f' % mae2)\n",
    "\n",
    "fig, ax = plt.subplots()\n",
    "ax.plot(train2, label='train')\n",
    "ax.plot(valid2, label='test')\n",
    "ax.plot(y_hat_train2, label='train_pred')\n",
    "ax.plot(y_hat_test2, label='test_pred')\n",
    "\n",
    "plt.legend();"
   ]
  },
  {
   "cell_type": "markdown",
   "metadata": {},
   "source": [
    "### Depaul/Lincoln Park SARIMA Forecast"
   ]
  },
  {
   "cell_type": "code",
   "execution_count": 213,
   "metadata": {
    "ExecuteTime": {
     "end_time": "2022-06-27T23:58:49.580082Z",
     "start_time": "2022-06-27T23:58:49.231930Z"
    }
   },
   "outputs": [
    {
     "data": {
      "image/png": "[encoded data removed]",
      "text/plain": [
       "<Figure size 1080x504 with 1 Axes>"
      ]
     },
     "metadata": {},
     "output_type": "display_data"
    },
    {
     "name": "stdout",
     "output_type": "stream",
     "text": [
      "Depaul/Lincoln Park (Chicago, IL, 60614):\n",
      "95% confidence that the true future value is between $598924 and $2071511\n",
      "Confidence range: $1472587\n"
     ]
    }
   ],
   "source": [
    "# Plug the optimal parameter values into a new SARIMAX model\n",
    "sarima_mod2 = sm.tsa.statespace.SARIMAX(df_prospects_postcrash[60614],\n",
    "                                        order=(1, 1, 1), \n",
    "                                        seasonal_order=(0, 1, 1, 12), \n",
    "                                        enforce_stationarity=False, \n",
    "                                        enforce_invertibility=False).fit()\n",
    "\n",
    "forecast2 = sarima_mod2.get_forecast(steps=52).summary_frame()\n",
    "forecast2_mean = round(forecast2['mean'][51])\n",
    "low_int2 =  round(forecast2['mean_ci_lower'][51])\n",
    "high_int2 = round(forecast2['mean_ci_upper'][51])\n",
    "ci_delta2 = round(high_int2 - low_int2)\n",
    "\n",
    "\n",
    "fig, ax = plt.subplots(figsize=(15, 7))\n",
    "plt.plot(df_prospects_postcrash[60614])\n",
    "plt.plot(forecast2['mean'])\n",
    "ax.fill_between(forecast2.index, forecast2['mean_ci_lower'], \n",
    "                    forecast2['mean_ci_upper'], color='k', alpha=0.1)\n",
    "plt.title('Depaul/Lincoln Park (Chicago, IL, 60614)')\n",
    "plt.legend(['Original','Predicted'], loc='lower right')\n",
    "plt.xlabel('Year')\n",
    "plt.ylabel('Median Home Price')\n",
    "plt.show()\n",
    "    \n",
    "\n",
    "print(f'Depaul/Lincoln Park (Chicago, IL, 60614):')\n",
    "print(f'95% confidence that the true future value is between ${low_int2} and ${high_int2}')\n",
    "print(f'Confidence range: ${ci_delta2}')"
   ]
  },
  {
   "cell_type": "markdown",
   "metadata": {},
   "source": [
    "### Depaul/Lincoln Park SARIMA Results Summary"
   ]
  },
  {
   "cell_type": "code",
   "execution_count": null,
   "metadata": {},
   "outputs": [],
   "source": []
  },
  {
   "cell_type": "markdown",
   "metadata": {},
   "source": [
    "## The Bronx/Van Cortland Park (NYC, 10467)"
   ]
  },
  {
   "cell_type": "markdown",
   "metadata": {},
   "source": [
    "### The Bronx/Van Cortland Park SARIMA Parameters"
   ]
  },
  {
   "cell_type": "code",
   "execution_count": 200,
   "metadata": {
    "ExecuteTime": {
     "end_time": "2022-06-27T23:52:17.011999Z",
     "start_time": "2022-06-27T23:52:11.287386Z"
    },
    "scrolled": true
   },
   "outputs": [
    {
     "name": "stdout",
     "output_type": "stream",
     "text": [
      "ARIMA (0, 0, 0) x (0, 0, 0, 12)12 : AIC Calculated = 1952.3672728672839\n",
      "ARIMA (0, 0, 0) x (0, 0, 1, 12)12 : AIC Calculated = 1583.4201218543678\n",
      "ARIMA (0, 0, 0) x (0, 1, 0, 12)12 : AIC Calculated = 1309.0548619613517\n",
      "ARIMA (0, 0, 0) x (0, 1, 1, 12)12 : AIC Calculated = 1039.726698118213\n",
      "ARIMA (0, 0, 0) x (1, 0, 0, 12)12 : AIC Calculated = 1311.8286858517333\n",
      "ARIMA (0, 0, 0) x (1, 0, 1, 12)12 : AIC Calculated = 1237.7435111901484\n",
      "ARIMA (0, 0, 0) x (1, 1, 0, 12)12 : AIC Calculated = 1060.6419205782759\n",
      "ARIMA (0, 0, 0) x (1, 1, 1, 12)12 : AIC Calculated = 1387.2904202657098\n",
      "ARIMA (0, 0, 1) x (0, 0, 0, 12)12 : AIC Calculated = 1877.539889925758\n",
      "ARIMA (0, 0, 1) x (0, 0, 1, 12)12 : AIC Calculated = 1634.6304059180486\n",
      "ARIMA (0, 0, 1) x (0, 1, 0, 12)12 : AIC Calculated = 1305.501830364878\n",
      "ARIMA (0, 0, 1) x (0, 1, 1, 12)12 : AIC Calculated = 982.1226532895585\n",
      "ARIMA (0, 0, 1) x (1, 0, 0, 12)12 : AIC Calculated = 1587.5621437692635\n",
      "ARIMA (0, 0, 1) x (1, 0, 1, 12)12 : AIC Calculated = 1633.8028461525878\n",
      "ARIMA (0, 0, 1) x (1, 1, 0, 12)12 : AIC Calculated = 1024.4794397743367\n",
      "ARIMA (0, 0, 1) x (1, 1, 1, 12)12 : AIC Calculated = 993.7973554635779\n",
      "ARIMA (0, 1, 0) x (0, 0, 0, 12)12 : AIC Calculated = 1280.7702445508414\n",
      "ARIMA (0, 1, 0) x (0, 0, 1, 12)12 : AIC Calculated = 1057.6955430858395\n",
      "ARIMA (0, 1, 0) x (0, 1, 0, 12)12 : AIC Calculated = 1098.1084869550364\n",
      "ARIMA (0, 1, 0) x (0, 1, 1, 12)12 : AIC Calculated = 858.5727067787013\n",
      "ARIMA (0, 1, 0) x (1, 0, 0, 12)12 : AIC Calculated = 1075.176497019563\n",
      "ARIMA (0, 1, 0) x (1, 0, 1, 12)12 : AIC Calculated = 1059.372554155821\n",
      "ARIMA (0, 1, 0) x (1, 1, 0, 12)12 : AIC Calculated = 858.1120479885086\n",
      "ARIMA (0, 1, 0) x (1, 1, 1, 12)12 : AIC Calculated = 846.5498642275224\n",
      "ARIMA (0, 1, 1) x (0, 0, 0, 12)12 : AIC Calculated = 1204.2903581529292\n",
      "ARIMA (0, 1, 1) x (0, 0, 1, 12)12 : AIC Calculated = 988.2389734690599\n",
      "ARIMA (0, 1, 1) x (0, 1, 0, 12)12 : AIC Calculated = 1062.7063178362564\n",
      "ARIMA (0, 1, 1) x (0, 1, 1, 12)12 : AIC Calculated = 813.1145421128647\n",
      "ARIMA (0, 1, 1) x (1, 0, 0, 12)12 : AIC Calculated = 1023.6388942572944\n",
      "ARIMA (0, 1, 1) x (1, 0, 1, 12)12 : AIC Calculated = 989.4451223785935\n",
      "ARIMA (0, 1, 1) x (1, 1, 0, 12)12 : AIC Calculated = 849.0543183594403\n",
      "ARIMA (0, 1, 1) x (1, 1, 1, 12)12 : AIC Calculated = 806.8632391093048\n",
      "ARIMA (1, 0, 0) x (0, 0, 0, 12)12 : AIC Calculated = 1294.5800311492849\n",
      "ARIMA (1, 0, 0) x (0, 0, 1, 12)12 : AIC Calculated = 1056.617652750516\n",
      "ARIMA (1, 0, 0) x (0, 1, 0, 12)12 : AIC Calculated = 1121.224529831069\n",
      "ARIMA (1, 0, 0) x (0, 1, 1, 12)12 : AIC Calculated = 887.7828027311857\n",
      "ARIMA (1, 0, 0) x (1, 0, 0, 12)12 : AIC Calculated = 1053.726647273257\n",
      "ARIMA (1, 0, 0) x (1, 0, 1, 12)12 : AIC Calculated = 1057.8009522882312\n",
      "ARIMA (1, 0, 0) x (1, 1, 0, 12)12 : AIC Calculated = 866.2504217568522\n",
      "ARIMA (1, 0, 0) x (1, 1, 1, 12)12 : AIC Calculated = 1209.8778565490722\n",
      "ARIMA (1, 0, 1) x (0, 0, 0, 12)12 : AIC Calculated = 1229.2371370483133\n",
      "ARIMA (1, 0, 1) x (0, 0, 1, 12)12 : AIC Calculated = 994.3087216502156\n",
      "ARIMA (1, 0, 1) x (0, 1, 0, 12)12 : AIC Calculated = 1093.8101228250057\n",
      "ARIMA (1, 0, 1) x (0, 1, 1, 12)12 : AIC Calculated = 1177.0971483847943\n",
      "ARIMA (1, 0, 1) x (1, 0, 0, 12)12 : AIC Calculated = 1014.8116859905648\n",
      "ARIMA (1, 0, 1) x (1, 0, 1, 12)12 : AIC Calculated = 992.9663011207483\n",
      "ARIMA (1, 0, 1) x (1, 1, 0, 12)12 : AIC Calculated = 855.8196971019959\n",
      "ARIMA (1, 0, 1) x (1, 1, 1, 12)12 : AIC Calculated = 965.7624770375436\n",
      "ARIMA (1, 1, 0) x (0, 0, 0, 12)12 : AIC Calculated = 1227.1393578725147\n",
      "ARIMA (1, 1, 0) x (0, 0, 1, 12)12 : AIC Calculated = 1009.0609336994214\n",
      "ARIMA (1, 1, 0) x (0, 1, 0, 12)12 : AIC Calculated = 1051.9507044741858\n",
      "ARIMA (1, 1, 0) x (0, 1, 1, 12)12 : AIC Calculated = 823.1586858463883\n",
      "ARIMA (1, 1, 0) x (1, 0, 0, 12)12 : AIC Calculated = 1010.5315233192853\n",
      "ARIMA (1, 1, 0) x (1, 0, 1, 12)12 : AIC Calculated = 1011.0311804312903\n",
      "ARIMA (1, 1, 0) x (1, 1, 0, 12)12 : AIC Calculated = 814.3797479758505\n",
      "ARIMA (1, 1, 0) x (1, 1, 1, 12)12 : AIC Calculated = 817.8421824483615\n",
      "ARIMA (1, 1, 1) x (0, 0, 0, 12)12 : AIC Calculated = 1205.272428652363\n",
      "ARIMA (1, 1, 1) x (0, 0, 1, 12)12 : AIC Calculated = 972.9245955150927\n",
      "ARIMA (1, 1, 1) x (0, 1, 0, 12)12 : AIC Calculated = 1041.7242532080645\n",
      "ARIMA (1, 1, 1) x (0, 1, 1, 12)12 : AIC Calculated = 794.0212691943319\n",
      "ARIMA (1, 1, 1) x (1, 0, 0, 12)12 : AIC Calculated = 988.8446615552389\n",
      "ARIMA (1, 1, 1) x (1, 0, 1, 12)12 : AIC Calculated = 972.7687048671257\n",
      "ARIMA (1, 1, 1) x (1, 1, 0, 12)12 : AIC Calculated = 809.6119573669649\n",
      "ARIMA (1, 1, 1) x (1, 1, 1, 12)12 : AIC Calculated = 793.0270913569684\n"
     ]
    }
   ],
   "source": [
    "# Define train and test sets according to the index found above\n",
    "train3 = df_prospects_postcrash[10467][:cutoff]\n",
    "valid3 = df_prospects_postcrash[10467][cutoff:]\n",
    "\n",
    "# Define the p, d and q parameters to take any value between 0 and 2\n",
    "p = d = q = range(0,2)\n",
    "\n",
    "# Generate all different combinations of p, q and q triplets\n",
    "pdq = list(itertools.product(p,d,q))\n",
    "\n",
    "# Generate all different combinations of seasonal p, q and q triplets (use 12 for frequency)\n",
    "pdqs = [(x[0], x[1], x[2], 12) for x in list(itertools.product(p, d, q))]\n",
    "\n",
    "# Run a grid with pdq and seasonal pdq parameters calculated above and get the best AIC value\n",
    "ans = []\n",
    "\n",
    "for comb in pdq:\n",
    "    for combs in pdqs:\n",
    "        try:\n",
    "            mod = sm.tsa.statespace.SARIMAX(train3,\n",
    "                                            order = comb,\n",
    "                                            seasonal_order = combs,\n",
    "                                            enforce_stationarity = False,\n",
    "                                            enforce_invertibility = False)\n",
    "            output = mod.fit()\n",
    "            ans.append([comb, combs, output.aic])\n",
    "            print('ARIMA {} x {}12 : AIC Calculated = {}'.format(comb, combs, output.aic))\n",
    "        except:\n",
    "            continue"
   ]
  },
  {
   "cell_type": "code",
   "execution_count": 201,
   "metadata": {
    "ExecuteTime": {
     "end_time": "2022-06-27T23:52:18.425396Z",
     "start_time": "2022-06-27T23:52:18.410977Z"
    }
   },
   "outputs": [
    {
     "data": {
      "text/plain": [
       "pdq         (1, 1, 1)\n",
       "pdqs    (1, 1, 1, 12)\n",
       "aic           793.027\n",
       "Name: 63, dtype: object"
      ]
     },
     "execution_count": 201,
     "metadata": {},
     "output_type": "execute_result"
    }
   ],
   "source": [
    "# Find the parameters with minimal AIC value\n",
    "ans_df = pd.DataFrame(ans, columns = ['pdq', 'pdqs', 'aic'])\n",
    "ans_df.loc[ans_df['aic'].idxmin()]"
   ]
  },
  {
   "cell_type": "markdown",
   "metadata": {},
   "source": [
    "### The Bronx/Van Cortland Park SARIMA Predictions"
   ]
  },
  {
   "cell_type": "code",
   "execution_count": 202,
   "metadata": {
    "ExecuteTime": {
     "end_time": "2022-06-27T23:52:27.115063Z",
     "start_time": "2022-06-27T23:52:26.742263Z"
    }
   },
   "outputs": [
    {
     "name": "stdout",
     "output_type": "stream",
     "text": [
      "The Mean Absolute Error of our predictions: $13507.14\n"
     ]
    },
    {
     "data": {
      "image/png": "[encoded data removed]",
      "text/plain": [
       "<Figure size 432x288 with 1 Axes>"
      ]
     },
     "metadata": {},
     "output_type": "display_data"
    }
   ],
   "source": [
    "# Plug the optimal parameter values into a new SARIMAX model\n",
    "sarima3 = sm.tsa.statespace.SARIMAX(train3,\n",
    "                                        order=(1, 1, 1), \n",
    "                                        seasonal_order=(1, 1, 1, 12), \n",
    "                                        enforce_stationarity=False, \n",
    "                                        enforce_invertibility=False).fit()\n",
    "\n",
    "y_hat_train3 = sarima3.predict(typ='levels')\n",
    "y_hat_test3 = sarima3.predict(start=valid3.index[0], end=valid3.index[-1],typ='levels')\n",
    "\n",
    "# Calculate the mean absolute error from residuals\n",
    "mae3 = np.mean(np.abs(sarima3.resid))\n",
    "print('The Mean Absolute Error of our predictions: $%.2f' % mae3)\n",
    "\n",
    "fig, ax = plt.subplots()\n",
    "ax.plot(train3, label='train')\n",
    "ax.plot(valid3, label='test')\n",
    "ax.plot(y_hat_train3, label='train_pred')\n",
    "ax.plot(y_hat_test3, label='test_pred')\n",
    "\n",
    "plt.legend();"
   ]
  },
  {
   "cell_type": "markdown",
   "metadata": {},
   "source": [
    "### The Bronx/Van Cortland Park SARIMA Forecast"
   ]
  },
  {
   "cell_type": "code",
   "execution_count": 214,
   "metadata": {
    "ExecuteTime": {
     "end_time": "2022-06-28T00:01:29.061585Z",
     "start_time": "2022-06-28T00:01:28.639768Z"
    }
   },
   "outputs": [
    {
     "data": {
      "image/png": "[encoded data removed]",
      "text/plain": [
       "<Figure size 1080x504 with 1 Axes>"
      ]
     },
     "metadata": {},
     "output_type": "display_data"
    },
    {
     "name": "stdout",
     "output_type": "stream",
     "text": [
      "The Bronx/Van Cortland Park (New York City, NY, 10467\n",
      "95% confidence that the true future value is between $369452 and $722262\n",
      "Confidence range: $352810\n"
     ]
    }
   ],
   "source": [
    "# Plug the optimal parameter values into a new SARIMAX model\n",
    "sarima_mod3 = sm.tsa.statespace.SARIMAX(df_prospects_postcrash[10467],\n",
    "                                        order=(1, 1, 1), \n",
    "                                        seasonal_order=(1, 1, 1, 12), \n",
    "                                        enforce_stationarity=False, \n",
    "                                        enforce_invertibility=False).fit()\n",
    "\n",
    "forecast3 = sarima_mod3.get_forecast(steps=52).summary_frame()\n",
    "forecast3_mean = round(forecast3['mean'][51])\n",
    "low_int3 =  round(forecast3['mean_ci_lower'][51])\n",
    "high_int3 = round(forecast3['mean_ci_upper'][51])\n",
    "ci_delta3 = round(high_int3 - low_int3)\n",
    "\n",
    "\n",
    "fig, ax = plt.subplots(figsize=(15, 7))\n",
    "plt.plot(df_prospects_postcrash[10467])\n",
    "plt.plot(forecast3['mean'])\n",
    "ax.fill_between(forecast3.index, forecast3['mean_ci_lower'], \n",
    "                    forecast3['mean_ci_upper'], color='k', alpha=0.1)\n",
    "plt.title('The Bronx/Van Cortland Park (New York City, NY, 10467')\n",
    "plt.legend(['Original','Predicted'], loc='lower right')\n",
    "plt.xlabel('Year')\n",
    "plt.ylabel('Median Home Price')\n",
    "plt.show()\n",
    "    \n",
    "\n",
    "print(f'The Bronx/Van Cortland Park (New York City, NY, 10467')\n",
    "print(f'95% confidence that the true future value is between ${low_int3} and ${high_int3}')\n",
    "print(f'Confidence range: ${ci_delta3}')"
   ]
  },
  {
   "cell_type": "markdown",
   "metadata": {},
   "source": [
    "### The Bronx/Van Cortland Park Results Summary"
   ]
  },
  {
   "cell_type": "code",
   "execution_count": null,
   "metadata": {},
   "outputs": [],
   "source": []
  },
  {
   "cell_type": "markdown",
   "metadata": {},
   "source": [
    "## Uptown (Chicago, IL, 60640)"
   ]
  },
  {
   "cell_type": "markdown",
   "metadata": {},
   "source": [
    "### Uptown SARIMA Parameters"
   ]
  },
  {
   "cell_type": "code",
   "execution_count": 204,
   "metadata": {
    "ExecuteTime": {
     "end_time": "2022-06-27T23:53:00.737454Z",
     "start_time": "2022-06-27T23:52:55.097574Z"
    },
    "scrolled": true
   },
   "outputs": [
    {
     "name": "stdout",
     "output_type": "stream",
     "text": [
      "ARIMA (0, 0, 0) x (0, 0, 0, 12)12 : AIC Calculated = 2040.3154718028761\n",
      "ARIMA (0, 0, 0) x (0, 0, 1, 12)12 : AIC Calculated = 1656.4062081502298\n",
      "ARIMA (0, 0, 0) x (0, 1, 0, 12)12 : AIC Calculated = 1394.5143486234347\n",
      "ARIMA (0, 0, 0) x (0, 1, 1, 12)12 : AIC Calculated = 1108.3986609124893\n",
      "ARIMA (0, 0, 0) x (1, 0, 0, 12)12 : AIC Calculated = 1383.0016263974496\n",
      "ARIMA (0, 0, 0) x (1, 0, 1, 12)12 : AIC Calculated = 1288.1015682558157\n",
      "ARIMA (0, 0, 0) x (1, 1, 0, 12)12 : AIC Calculated = 1099.0884346897467\n",
      "ARIMA (0, 0, 0) x (1, 1, 1, 12)12 : AIC Calculated = 1541.381605305733\n",
      "ARIMA (0, 0, 1) x (0, 0, 0, 12)12 : AIC Calculated = 1964.4957780810198\n",
      "ARIMA (0, 0, 1) x (0, 0, 1, 12)12 : AIC Calculated = 1610.5366534878785\n",
      "ARIMA (0, 0, 1) x (0, 1, 0, 12)12 : AIC Calculated = 1403.156086031353\n",
      "ARIMA (0, 0, 1) x (0, 1, 1, 12)12 : AIC Calculated = 1071.7127455999955\n",
      "ARIMA (0, 0, 1) x (1, 0, 0, 12)12 : AIC Calculated = 1661.8267915010729\n",
      "ARIMA (0, 0, 1) x (1, 0, 1, 12)12 : AIC Calculated = 1606.592266911814\n",
      "ARIMA (0, 0, 1) x (1, 1, 0, 12)12 : AIC Calculated = 1111.9536017717792\n",
      "ARIMA (0, 0, 1) x (1, 1, 1, 12)12 : AIC Calculated = 1460.71812309697\n",
      "ARIMA (0, 1, 0) x (0, 0, 0, 12)12 : AIC Calculated = 1372.0620449574562\n",
      "ARIMA (0, 1, 0) x (0, 0, 1, 12)12 : AIC Calculated = 1119.43760204724\n",
      "ARIMA (0, 1, 0) x (0, 1, 0, 12)12 : AIC Calculated = 1143.75312950116\n",
      "ARIMA (0, 1, 0) x (0, 1, 1, 12)12 : AIC Calculated = 891.7533152334679\n",
      "ARIMA (0, 1, 0) x (1, 0, 0, 12)12 : AIC Calculated = 1140.3103629959555\n",
      "ARIMA (0, 1, 0) x (1, 0, 1, 12)12 : AIC Calculated = 1121.285881640366\n",
      "ARIMA (0, 1, 0) x (1, 1, 0, 12)12 : AIC Calculated = 915.455965994411\n",
      "ARIMA (0, 1, 0) x (1, 1, 1, 12)12 : AIC Calculated = 893.7961496788989\n",
      "ARIMA (0, 1, 1) x (0, 0, 0, 12)12 : AIC Calculated = 1284.7383897239986\n",
      "ARIMA (0, 1, 1) x (0, 0, 1, 12)12 : AIC Calculated = 1051.0887477918243\n",
      "ARIMA (0, 1, 1) x (0, 1, 0, 12)12 : AIC Calculated = 1137.8560215028676\n",
      "ARIMA (0, 1, 1) x (0, 1, 1, 12)12 : AIC Calculated = 839.6308268583094\n",
      "ARIMA (0, 1, 1) x (1, 0, 0, 12)12 : AIC Calculated = 1093.2824516831188\n",
      "ARIMA (0, 1, 1) x (1, 0, 1, 12)12 : AIC Calculated = 1057.1285221858247\n",
      "ARIMA (0, 1, 1) x (1, 1, 0, 12)12 : AIC Calculated = 876.8300972554739\n",
      "ARIMA (0, 1, 1) x (1, 1, 1, 12)12 : AIC Calculated = 838.6668616168677\n",
      "ARIMA (1, 0, 0) x (0, 0, 0, 12)12 : AIC Calculated = 1382.7315839571017\n",
      "ARIMA (1, 0, 0) x (0, 0, 1, 12)12 : AIC Calculated = 1882.371048185172\n",
      "ARIMA (1, 0, 0) x (0, 1, 0, 12)12 : AIC Calculated = 1164.824384414539\n",
      "ARIMA (1, 0, 0) x (0, 1, 1, 12)12 : AIC Calculated = 917.8779133567832\n",
      "ARIMA (1, 0, 0) x (1, 0, 0, 12)12 : AIC Calculated = 1168.4160165782998\n",
      "ARIMA (1, 0, 0) x (1, 0, 1, 12)12 : AIC Calculated = 1165.9171513857107\n",
      "ARIMA (1, 0, 0) x (1, 1, 0, 12)12 : AIC Calculated = 917.6850388744426\n",
      "ARIMA (1, 0, 0) x (1, 1, 1, 12)12 : AIC Calculated = 1361.266100940191\n",
      "ARIMA (1, 0, 1) x (0, 0, 0, 12)12 : AIC Calculated = 1300.4316319383945\n",
      "ARIMA (1, 0, 1) x (0, 0, 1, 12)12 : AIC Calculated = 1058.8986843422715\n",
      "ARIMA (1, 0, 1) x (0, 1, 0, 12)12 : AIC Calculated = 1145.1526933906016\n",
      "ARIMA (1, 0, 1) x (0, 1, 1, 12)12 : AIC Calculated = 858.5672993429664\n",
      "ARIMA (1, 0, 1) x (1, 0, 0, 12)12 : AIC Calculated = 1077.2177401439485\n",
      "ARIMA (1, 0, 1) x (1, 0, 1, 12)12 : AIC Calculated = 1060.4041779404588\n",
      "ARIMA (1, 0, 1) x (1, 1, 0, 12)12 : AIC Calculated = 882.6284697344958\n",
      "ARIMA (1, 0, 1) x (1, 1, 1, 12)12 : AIC Calculated = 1408.8983082247405\n",
      "ARIMA (1, 1, 0) x (0, 0, 0, 12)12 : AIC Calculated = 1299.121860608205\n",
      "ARIMA (1, 1, 0) x (0, 0, 1, 12)12 : AIC Calculated = 1061.4121921009605\n",
      "ARIMA (1, 1, 0) x (0, 1, 0, 12)12 : AIC Calculated = 1114.6327311299287\n",
      "ARIMA (1, 1, 0) x (0, 1, 1, 12)12 : AIC Calculated = 862.0736551787508\n",
      "ARIMA (1, 1, 0) x (1, 0, 0, 12)12 : AIC Calculated = 1063.6502669309984\n",
      "ARIMA (1, 1, 0) x (1, 0, 1, 12)12 : AIC Calculated = 1062.9560183687563\n",
      "ARIMA (1, 1, 0) x (1, 1, 0, 12)12 : AIC Calculated = 846.5305784547643\n",
      "ARIMA (1, 1, 0) x (1, 1, 1, 12)12 : AIC Calculated = 857.3289899099555\n",
      "ARIMA (1, 1, 1) x (0, 0, 0, 12)12 : AIC Calculated = 1279.8782325968605\n",
      "ARIMA (1, 1, 1) x (0, 0, 1, 12)12 : AIC Calculated = 1019.9896188613523\n",
      "ARIMA (1, 1, 1) x (0, 1, 0, 12)12 : AIC Calculated = 1093.4768475122128\n",
      "ARIMA (1, 1, 1) x (0, 1, 1, 12)12 : AIC Calculated = 827.5529468463104\n",
      "ARIMA (1, 1, 1) x (1, 0, 0, 12)12 : AIC Calculated = 1067.2489062183568\n",
      "ARIMA (1, 1, 1) x (1, 0, 1, 12)12 : AIC Calculated = 1021.5092489618472\n",
      "ARIMA (1, 1, 1) x (1, 1, 0, 12)12 : AIC Calculated = 846.0808770779951\n",
      "ARIMA (1, 1, 1) x (1, 1, 1, 12)12 : AIC Calculated = 827.020882352843\n"
     ]
    }
   ],
   "source": [
    "# Define train and test sets according to the index found above\n",
    "train4 = df_prospects_postcrash[60640][:cutoff]\n",
    "valid4 = df_prospects_postcrash[60640][cutoff:]\n",
    "\n",
    "# Define the p, d and q parameters to take any value between 0 and 2\n",
    "p = d = q = range(0,2)\n",
    "\n",
    "# Generate all different combinations of p, q and q triplets\n",
    "pdq = list(itertools.product(p,d,q))\n",
    "\n",
    "# Generate all different combinations of seasonal p, q and q triplets (use 12 for frequency)\n",
    "pdqs = [(x[0], x[1], x[2], 12) for x in list(itertools.product(p, d, q))]\n",
    "\n",
    "# Run a grid with pdq and seasonal pdq parameters calculated above and get the best AIC value\n",
    "ans = []\n",
    "\n",
    "for comb in pdq:\n",
    "    for combs in pdqs:\n",
    "        try:\n",
    "            mod = sm.tsa.statespace.SARIMAX(train4,\n",
    "                                            order = comb,\n",
    "                                            seasonal_order = combs,\n",
    "                                            enforce_stationarity = False,\n",
    "                                            enforce_invertibility = False)\n",
    "            output = mod.fit()\n",
    "            ans.append([comb, combs, output.aic])\n",
    "            print('ARIMA {} x {}12 : AIC Calculated = {}'.format(comb, combs, output.aic))\n",
    "        except:\n",
    "            continue"
   ]
  },
  {
   "cell_type": "code",
   "execution_count": 205,
   "metadata": {
    "ExecuteTime": {
     "end_time": "2022-06-27T23:53:01.676821Z",
     "start_time": "2022-06-27T23:53:01.662549Z"
    }
   },
   "outputs": [
    {
     "data": {
      "text/plain": [
       "pdq         (1, 1, 1)\n",
       "pdqs    (1, 1, 1, 12)\n",
       "aic           827.021\n",
       "Name: 63, dtype: object"
      ]
     },
     "execution_count": 205,
     "metadata": {},
     "output_type": "execute_result"
    }
   ],
   "source": [
    "# Find the parameters with minimal AIC value\n",
    "ans_df = pd.DataFrame(ans, columns = ['pdq', 'pdqs', 'aic'])\n",
    "ans_df.loc[ans_df['aic'].idxmin()]"
   ]
  },
  {
   "cell_type": "markdown",
   "metadata": {},
   "source": [
    "### Uptown SARIMA Predictions"
   ]
  },
  {
   "cell_type": "code",
   "execution_count": 206,
   "metadata": {
    "ExecuteTime": {
     "end_time": "2022-06-27T23:53:13.452293Z",
     "start_time": "2022-06-27T23:53:13.077565Z"
    }
   },
   "outputs": [
    {
     "name": "stdout",
     "output_type": "stream",
     "text": [
      "The Mean Absolute Error of our predictions: $27626.26\n"
     ]
    },
    {
     "data": {
      "image/png": "[encoded data removed]",
      "text/plain": [
       "<Figure size 432x288 with 1 Axes>"
      ]
     },
     "metadata": {},
     "output_type": "display_data"
    }
   ],
   "source": [
    "# Plug the optimal parameter values into a new SARIMAX model\n",
    "sarima4 = sm.tsa.statespace.SARIMAX(train4,\n",
    "                                        order=(1, 1, 1), \n",
    "                                        seasonal_order=(1, 1, 1, 12), \n",
    "                                        enforce_stationarity=False, \n",
    "                                        enforce_invertibility=False).fit()\n",
    "\n",
    "y_hat_train4 = sarima4.predict(typ='levels')\n",
    "y_hat_test4 = sarima4.predict(start=valid4.index[0], end=valid4.index[-1],typ='levels')\n",
    "\n",
    "# Calculate the mean absolute error from residuals\n",
    "mae4 = np.mean(np.abs(sarima4.resid))\n",
    "print('The Mean Absolute Error of our predictions: $%.2f' % mae4)\n",
    "\n",
    "fig, ax = plt.subplots()\n",
    "ax.plot(train4, label='train')\n",
    "ax.plot(valid4, label='test')\n",
    "ax.plot(y_hat_train4, label='train_pred')\n",
    "ax.plot(y_hat_test4, label='test_pred')\n",
    "\n",
    "plt.legend();"
   ]
  },
  {
   "cell_type": "markdown",
   "metadata": {},
   "source": [
    "### Uptown SARIMA Forecast"
   ]
  },
  {
   "cell_type": "code",
   "execution_count": 215,
   "metadata": {
    "ExecuteTime": {
     "end_time": "2022-06-28T00:02:39.460293Z",
     "start_time": "2022-06-28T00:02:39.062553Z"
    }
   },
   "outputs": [
    {
     "data": {
      "image/png": "[encoded data removed]",
      "text/plain": [
       "<Figure size 1080x504 with 1 Axes>"
      ]
     },
     "metadata": {},
     "output_type": "display_data"
    },
    {
     "name": "stdout",
     "output_type": "stream",
     "text": [
      "Uptown (Chicago, IL, 60640):\n",
      "95% confidence that the true future value is between $301783 and $1435313\n",
      "Confidence range: $1133530\n"
     ]
    }
   ],
   "source": [
    "# Plug the optimal parameter values into a new SARIMAX model\n",
    "sarima_mod4 = sm.tsa.statespace.SARIMAX(df_prospects_postcrash[60640],\n",
    "                                        order=(1, 1, 1), \n",
    "                                        seasonal_order=(1, 1, 1, 12), \n",
    "                                        enforce_stationarity=False, \n",
    "                                        enforce_invertibility=False).fit()\n",
    "\n",
    "forecast4 = sarima_mod4.get_forecast(steps=52).summary_frame()\n",
    "forecast4_mean = round(forecast4['mean'][51])\n",
    "low_int4 =  round(forecast4['mean_ci_lower'][51])\n",
    "high_int4 = round(forecast4['mean_ci_upper'][51])\n",
    "ci_delta4 = round(high_int4 - low_int4)\n",
    "\n",
    "\n",
    "fig, ax = plt.subplots(figsize=(15, 7))\n",
    "plt.plot(df_prospects_postcrash[60640])\n",
    "plt.plot(forecast4['mean'])\n",
    "ax.fill_between(forecast4.index, forecast4['mean_ci_lower'], \n",
    "                    forecast4['mean_ci_upper'], color='k', alpha=0.1)\n",
    "plt.title('Uptown (Chicago, IL, 60640)')\n",
    "plt.legend(['Original','Predicted'], loc='lower right')\n",
    "plt.xlabel('Year')\n",
    "plt.ylabel('Median Home Price')\n",
    "plt.show()\n",
    "    \n",
    "\n",
    "print(f'Uptown (Chicago, IL, 60640):')\n",
    "print(f'95% confidence that the true future value is between ${low_int4} and ${high_int4}')\n",
    "print(f'Confidence range: ${ci_delta4}')"
   ]
  },
  {
   "cell_type": "markdown",
   "metadata": {},
   "source": [
    "### Uptown Results Summary"
   ]
  },
  {
   "cell_type": "code",
   "execution_count": null,
   "metadata": {},
   "outputs": [],
   "source": []
  },
  {
   "cell_type": "code",
   "execution_count": null,
   "metadata": {},
   "outputs": [],
   "source": []
  },
  {
   "cell_type": "markdown",
   "metadata": {},
   "source": [
    "## Katy, TX (Houston Suburb, 77449)"
   ]
  },
  {
   "cell_type": "markdown",
   "metadata": {},
   "source": [
    "### Katy SARIMA Parameters"
   ]
  },
  {
   "cell_type": "code",
   "execution_count": 208,
   "metadata": {
    "ExecuteTime": {
     "end_time": "2022-06-27T23:53:41.971660Z",
     "start_time": "2022-06-27T23:53:35.788231Z"
    },
    "scrolled": true
   },
   "outputs": [
    {
     "name": "stdout",
     "output_type": "stream",
     "text": [
      "ARIMA (0, 0, 0) x (0, 0, 0, 12)12 : AIC Calculated = 1827.873172534511\n",
      "ARIMA (0, 0, 0) x (0, 0, 1, 12)12 : AIC Calculated = 169407.9191541925\n",
      "ARIMA (0, 0, 0) x (0, 1, 0, 12)12 : AIC Calculated = 1232.4236564752825\n",
      "ARIMA (0, 0, 0) x (0, 1, 1, 12)12 : AIC Calculated = 985.2500203168044\n",
      "ARIMA (0, 0, 0) x (1, 0, 0, 12)12 : AIC Calculated = 1186.320479934198\n",
      "ARIMA (0, 0, 0) x (1, 0, 1, 12)12 : AIC Calculated = 1189.4581574650285\n",
      "ARIMA (0, 0, 0) x (1, 1, 0, 12)12 : AIC Calculated = 935.5324624295959\n",
      "ARIMA (0, 0, 0) x (1, 1, 1, 12)12 : AIC Calculated = 917.8658867040846\n",
      "ARIMA (0, 0, 1) x (0, 0, 0, 12)12 : AIC Calculated = 1755.2721107835443\n",
      "ARIMA (0, 0, 1) x (0, 0, 1, 12)12 : AIC Calculated = 153642.6886173263\n",
      "ARIMA (0, 0, 1) x (0, 1, 0, 12)12 : AIC Calculated = 1184.021585548715\n",
      "ARIMA (0, 0, 1) x (0, 1, 1, 12)12 : AIC Calculated = 1378.80769398341\n",
      "ARIMA (0, 0, 1) x (1, 0, 0, 12)12 : AIC Calculated = 1584.023564548756\n",
      "ARIMA (0, 0, 1) x (1, 0, 1, 12)12 : AIC Calculated = 1434.4227372141138\n",
      "ARIMA (0, 0, 1) x (1, 1, 0, 12)12 : AIC Calculated = 966.3449723616714\n",
      "ARIMA (0, 0, 1) x (1, 1, 1, 12)12 : AIC Calculated = 918.2601881472069\n",
      "ARIMA (0, 1, 0) x (0, 0, 0, 12)12 : AIC Calculated = 1138.1563976052746\n",
      "ARIMA (0, 1, 0) x (0, 0, 1, 12)12 : AIC Calculated = 911.5750037857814\n",
      "ARIMA (0, 1, 0) x (0, 1, 0, 12)12 : AIC Calculated = 894.7654870553334\n",
      "ARIMA (0, 1, 0) x (0, 1, 1, 12)12 : AIC Calculated = 700.0027750408709\n",
      "ARIMA (0, 1, 0) x (1, 0, 0, 12)12 : AIC Calculated = 911.6955462585789\n",
      "ARIMA (0, 1, 0) x (1, 0, 1, 12)12 : AIC Calculated = 898.1256662081054\n",
      "ARIMA (0, 1, 0) x (1, 1, 0, 12)12 : AIC Calculated = 715.4130498353594\n",
      "ARIMA (0, 1, 0) x (1, 1, 1, 12)12 : AIC Calculated = 701.9351045943639\n",
      "ARIMA (0, 1, 1) x (0, 0, 0, 12)12 : AIC Calculated = 1048.9281117728722\n",
      "ARIMA (0, 1, 1) x (0, 0, 1, 12)12 : AIC Calculated = 842.2430349200495\n",
      "ARIMA (0, 1, 1) x (0, 1, 0, 12)12 : AIC Calculated = 853.9128386339045\n",
      "ARIMA (0, 1, 1) x (0, 1, 1, 12)12 : AIC Calculated = 641.4067487033421\n",
      "ARIMA (0, 1, 1) x (1, 0, 0, 12)12 : AIC Calculated = 902.2877742214234\n",
      "ARIMA (0, 1, 1) x (1, 0, 1, 12)12 : AIC Calculated = 833.7825653721616\n",
      "ARIMA (0, 1, 1) x (1, 1, 0, 12)12 : AIC Calculated = 678.9128300088141\n",
      "ARIMA (0, 1, 1) x (1, 1, 1, 12)12 : AIC Calculated = 656.338458743361\n",
      "ARIMA (1, 0, 0) x (0, 0, 0, 12)12 : AIC Calculated = 1102.1157438966245\n",
      "ARIMA (1, 0, 0) x (0, 0, 1, 12)12 : AIC Calculated = 888.6837275081734\n",
      "ARIMA (1, 0, 0) x (0, 1, 0, 12)12 : AIC Calculated = 909.1828878850446\n",
      "ARIMA (1, 0, 0) x (0, 1, 1, 12)12 : AIC Calculated = 714.9503052057217\n",
      "ARIMA (1, 0, 0) x (1, 0, 0, 12)12 : AIC Calculated = 898.761019734973\n",
      "ARIMA (1, 0, 0) x (1, 0, 1, 12)12 : AIC Calculated = 900.468289818762\n",
      "ARIMA (1, 0, 0) x (1, 1, 0, 12)12 : AIC Calculated = 715.1683324245573\n",
      "ARIMA (1, 0, 0) x (1, 1, 1, 12)12 : AIC Calculated = 716.9653129959115\n",
      "ARIMA (1, 0, 1) x (0, 0, 0, 12)12 : AIC Calculated = 1031.2998180312127\n",
      "ARIMA (1, 0, 1) x (0, 0, 1, 12)12 : AIC Calculated = 840.8968412201586\n",
      "ARIMA (1, 0, 1) x (0, 1, 0, 12)12 : AIC Calculated = 889.9755889126202\n",
      "ARIMA (1, 0, 1) x (0, 1, 1, 12)12 : AIC Calculated = 664.8503465185719\n",
      "ARIMA (1, 0, 1) x (1, 0, 0, 12)12 : AIC Calculated = 859.1550626393637\n",
      "ARIMA (1, 0, 1) x (1, 0, 1, 12)12 : AIC Calculated = 845.0281503956319\n",
      "ARIMA (1, 0, 1) x (1, 1, 0, 12)12 : AIC Calculated = 681.4626074514002\n",
      "ARIMA (1, 0, 1) x (1, 1, 1, 12)12 : AIC Calculated = 666.6217776541563\n",
      "ARIMA (1, 1, 0) x (0, 0, 0, 12)12 : AIC Calculated = 966.4556144294426\n",
      "ARIMA (1, 1, 0) x (0, 0, 1, 12)12 : AIC Calculated = 798.3837138301474\n",
      "ARIMA (1, 1, 0) x (0, 1, 0, 12)12 : AIC Calculated = 831.4584126836975\n",
      "ARIMA (1, 1, 0) x (0, 1, 1, 12)12 : AIC Calculated = 646.3134687762429\n",
      "ARIMA (1, 1, 0) x (1, 0, 0, 12)12 : AIC Calculated = 796.9474058634999\n",
      "ARIMA (1, 1, 0) x (1, 0, 1, 12)12 : AIC Calculated = 798.6953479488841\n",
      "ARIMA (1, 1, 0) x (1, 1, 0, 12)12 : AIC Calculated = 641.7377603042668\n",
      "ARIMA (1, 1, 0) x (1, 1, 1, 12)12 : AIC Calculated = 643.5157623642948\n",
      "ARIMA (1, 1, 1) x (0, 0, 0, 12)12 : AIC Calculated = 945.8049660143594\n",
      "ARIMA (1, 1, 1) x (0, 0, 1, 12)12 : AIC Calculated = 774.6708182307816\n",
      "ARIMA (1, 1, 1) x (0, 1, 0, 12)12 : AIC Calculated = 809.4545675932122\n",
      "ARIMA (1, 1, 1) x (0, 1, 1, 12)12 : AIC Calculated = 618.3356171246891\n",
      "ARIMA (1, 1, 1) x (1, 0, 0, 12)12 : AIC Calculated = 787.2692870506432\n",
      "ARIMA (1, 1, 1) x (1, 0, 1, 12)12 : AIC Calculated = 775.2987830100233\n",
      "ARIMA (1, 1, 1) x (1, 1, 0, 12)12 : AIC Calculated = 634.9068472145537\n",
      "ARIMA (1, 1, 1) x (1, 1, 1, 12)12 : AIC Calculated = 615.6912906191716\n"
     ]
    }
   ],
   "source": [
    "# Define train and test sets according to the index found above\n",
    "train5 = df_prospects_postcrash[77449][:cutoff]\n",
    "valid5 = df_prospects_postcrash[77449][cutoff:]\n",
    "\n",
    "# Define the p, d and q parameters to take any value between 0 and 2\n",
    "p = d = q = range(0,2)\n",
    "\n",
    "# Generate all different combinations of p, q and q triplets\n",
    "pdq = list(itertools.product(p,d,q))\n",
    "\n",
    "# Generate all different combinations of seasonal p, q and q triplets (use 12 for frequency)\n",
    "pdqs = [(x[0], x[1], x[2], 12) for x in list(itertools.product(p, d, q))]\n",
    "\n",
    "# Run a grid with pdq and seasonal pdq parameters calculated above and get the best AIC value\n",
    "ans = []\n",
    "\n",
    "for comb in pdq:\n",
    "    for combs in pdqs:\n",
    "        try:\n",
    "            mod = sm.tsa.statespace.SARIMAX(train5,\n",
    "                                            order = comb,\n",
    "                                            seasonal_order = combs,\n",
    "                                            enforce_stationarity = False,\n",
    "                                            enforce_invertibility = False)\n",
    "            output = mod.fit()\n",
    "            ans.append([comb, combs, output.aic])\n",
    "            print('ARIMA {} x {}12 : AIC Calculated = {}'.format(comb, combs, output.aic))\n",
    "        except:\n",
    "            continue"
   ]
  },
  {
   "cell_type": "code",
   "execution_count": 209,
   "metadata": {
    "ExecuteTime": {
     "end_time": "2022-06-27T23:53:43.114877Z",
     "start_time": "2022-06-27T23:53:43.106239Z"
    }
   },
   "outputs": [
    {
     "data": {
      "text/plain": [
       "pdq         (1, 1, 1)\n",
       "pdqs    (1, 1, 1, 12)\n",
       "aic           615.691\n",
       "Name: 63, dtype: object"
      ]
     },
     "execution_count": 209,
     "metadata": {},
     "output_type": "execute_result"
    }
   ],
   "source": [
    "# Find the parameters with minimal AIC value\n",
    "ans_df = pd.DataFrame(ans, columns = ['pdq', 'pdqs', 'aic'])\n",
    "ans_df.loc[ans_df['aic'].idxmin()]"
   ]
  },
  {
   "cell_type": "markdown",
   "metadata": {},
   "source": [
    "### Katy SARIMA Predictions"
   ]
  },
  {
   "cell_type": "code",
   "execution_count": 210,
   "metadata": {
    "ExecuteTime": {
     "end_time": "2022-06-27T23:53:54.134650Z",
     "start_time": "2022-06-27T23:53:53.597042Z"
    }
   },
   "outputs": [
    {
     "name": "stdout",
     "output_type": "stream",
     "text": [
      "The Mean Absolute Error of our predictions: $4466.01\n"
     ]
    },
    {
     "data": {
      "image/png": "[encoded data removed]",
      "text/plain": [
       "<Figure size 432x288 with 1 Axes>"
      ]
     },
     "metadata": {},
     "output_type": "display_data"
    }
   ],
   "source": [
    "# Plug the optimal parameter values into a new SARIMAX model\n",
    "sarima5 = sm.tsa.statespace.SARIMAX(train5,\n",
    "                                        order=(1, 1, 1), \n",
    "                                        seasonal_order=(1, 1, 1, 12), \n",
    "                                        enforce_stationarity=False, \n",
    "                                        enforce_invertibility=False).fit()\n",
    "\n",
    "y_hat_train5 = sarima5.predict(typ='levels')\n",
    "y_hat_test5 = sarima5.predict(start=valid5.index[0], end=valid5.index[-1],typ='levels')\n",
    "\n",
    "# Calculate the mean absolute error from residuals\n",
    "mae5 = np.mean(np.abs(sarima5.resid))\n",
    "print('The Mean Absolute Error of our predictions: $%.2f' % mae5)\n",
    "\n",
    "fig, ax = plt.subplots()\n",
    "ax.plot(train5, label='train')\n",
    "ax.plot(valid5, label='test')\n",
    "ax.plot(y_hat_train5, label='train_pred')\n",
    "ax.plot(y_hat_test5, label='test_pred')\n",
    "\n",
    "plt.legend();"
   ]
  },
  {
   "cell_type": "markdown",
   "metadata": {},
   "source": [
    "### Katy SARIMA Forecast"
   ]
  },
  {
   "cell_type": "code",
   "execution_count": 216,
   "metadata": {
    "ExecuteTime": {
     "end_time": "2022-06-28T00:03:50.213303Z",
     "start_time": "2022-06-28T00:03:49.899480Z"
    }
   },
   "outputs": [
    {
     "data": {
      "image/png": "[encoded data removed]",
      "text/plain": [
       "<Figure size 1080x504 with 1 Axes>"
      ]
     },
     "metadata": {},
     "output_type": "display_data"
    },
    {
     "name": "stdout",
     "output_type": "stream",
     "text": [
      "Katy, TX (Suburb of Houston, TX, 77449:\n",
      "95% confidence that the true future value is between $106555 and $320536\n",
      "Confidence range: $213981\n"
     ]
    }
   ],
   "source": [
    "# Plug the optimal parameter values into a new SARIMAX model\n",
    "sarima_mod5 = sm.tsa.statespace.SARIMAX(df_prospects_postcrash[77449],\n",
    "                                        order=(1, 1, 1), \n",
    "                                        seasonal_order=(1, 1, 1, 12), \n",
    "                                        enforce_stationarity=False, \n",
    "                                        enforce_invertibility=False).fit()\n",
    "\n",
    "forecast5 = sarima_mod5.get_forecast(steps=52).summary_frame()\n",
    "forecast5_mean = round(forecast5['mean'][51])\n",
    "low_int5 =  round(forecast5['mean_ci_lower'][51])\n",
    "high_int5 = round(forecast5['mean_ci_upper'][51])\n",
    "ci_delta5 = round(high_int5 - low_int5)\n",
    "\n",
    "\n",
    "fig, ax = plt.subplots(figsize=(15, 7))\n",
    "plt.plot(df_prospects_postcrash[77449])\n",
    "plt.plot(forecast5['mean'])\n",
    "ax.fill_between(forecast5.index, forecast5['mean_ci_lower'], \n",
    "                    forecast5['mean_ci_upper'], color='k', alpha=0.1)\n",
    "plt.title('Katy, TX (Suburb of Houston, TX, 77449')\n",
    "plt.legend(['Original','Predicted'], loc='lower right')\n",
    "plt.xlabel('Year')\n",
    "plt.ylabel('Median Home Price')\n",
    "plt.show()\n",
    "\n",
    "\n",
    "print(f'Katy, TX (Suburb of Houston, TX, 77449:')\n",
    "print(f'95% confidence that the true future value is between ${low_int5} and ${high_int5}')\n",
    "print(f'Confidence range: ${ci_delta5}')"
   ]
  },
  {
   "cell_type": "markdown",
   "metadata": {},
   "source": [
    "### Katy Results Summary"
   ]
  },
  {
   "cell_type": "code",
   "execution_count": null,
   "metadata": {},
   "outputs": [],
   "source": []
  },
  {
   "cell_type": "code",
   "execution_count": null,
   "metadata": {},
   "outputs": [],
   "source": []
  },
  {
   "cell_type": "markdown",
   "metadata": {},
   "source": [
    "# Evaluation"
   ]
  },
  {
   "cell_type": "code",
   "execution_count": 235,
   "metadata": {
    "ExecuteTime": {
     "end_time": "2022-06-28T13:07:54.417286Z",
     "start_time": "2022-06-28T13:07:54.293122Z"
    }
   },
   "outputs": [],
   "source": [
    "d = {'zipcode': [60657, 60614, 10467, 60640, 77449],\n",
    "     'city': ['Lakeview (Chicago)',\n",
    "              'Depaul/Lincoln Park (Chicago)',\n",
    "              'The Bronx/Van Cortland Park (NYC)',\n",
    "              'Uptown (Chicago)',\n",
    "              'Katy, TX (Houston)'],\n",
    "     '2018 median value': [1030600, 1307000, 417900, 782800, 176200],\n",
    "     'mae': [mae1, mae2, mae3, mae4, mae5],\n",
    "     'low_conf': [low_int1, low_int2, low_int3, low_int4, low_int5],\n",
    "     'high_conf': [high_int1, high_int2, high_int3, high_int4, high_int5],\n",
    "     'forecast range': [ci_delta1, ci_delta2, ci_delta3, ci_delta4, ci_delta5]}\n",
    "\n",
    "df_results = pd.DataFrame(data=d)\n",
    "df_results['low_end'] = df_results['2018 median value'] + df_results['low_conf']\n",
    "df_results['high_end'] = df_results['2018 median value'] + df_results['high_conf']"
   ]
  },
  {
   "cell_type": "code",
   "execution_count": 236,
   "metadata": {
    "ExecuteTime": {
     "end_time": "2022-06-28T13:07:55.627147Z",
     "start_time": "2022-06-28T13:07:55.581870Z"
    }
   },
   "outputs": [
    {
     "data": {
      "text/html": [
       "<div>\n",
       "<style scoped>\n",
       "    .dataframe tbody tr th:only-of-type {\n",
       "        vertical-align: middle;\n",
       "    }\n",
       "\n",
       "    .dataframe tbody tr th {\n",
       "        vertical-align: top;\n",
       "    }\n",
       "\n",
       "    .dataframe thead th {\n",
       "        text-align: right;\n",
       "    }\n",
       "</style>\n",
       "<table border=\"1\" class=\"dataframe\">\n",
       "  <thead>\n",
       "    <tr style=\"text-align: right;\">\n",
       "      <th></th>\n",
       "      <th>zipcode</th>\n",
       "      <th>city</th>\n",
       "      <th>2018 median value</th>\n",
       "      <th>mae</th>\n",
       "      <th>low_conf</th>\n",
       "      <th>high_conf</th>\n",
       "      <th>forecast range</th>\n",
       "      <th>low_end</th>\n",
       "      <th>high_end</th>\n",
       "    </tr>\n",
       "  </thead>\n",
       "  <tbody>\n",
       "    <tr>\n",
       "      <th>0</th>\n",
       "      <td>60657</td>\n",
       "      <td>Lakeview (Chicago)</td>\n",
       "      <td>1030600</td>\n",
       "      <td>44097.363722</td>\n",
       "      <td>759441</td>\n",
       "      <td>1624075</td>\n",
       "      <td>864634</td>\n",
       "      <td>1790041</td>\n",
       "      <td>2654675</td>\n",
       "    </tr>\n",
       "    <tr>\n",
       "      <th>1</th>\n",
       "      <td>60614</td>\n",
       "      <td>Depaul/Lincoln Park (Chicago)</td>\n",
       "      <td>1307000</td>\n",
       "      <td>58447.741423</td>\n",
       "      <td>598924</td>\n",
       "      <td>2071511</td>\n",
       "      <td>1472587</td>\n",
       "      <td>1905924</td>\n",
       "      <td>3378511</td>\n",
       "    </tr>\n",
       "    <tr>\n",
       "      <th>2</th>\n",
       "      <td>10467</td>\n",
       "      <td>The Bronx/Van Cortland Park (NYC)</td>\n",
       "      <td>417900</td>\n",
       "      <td>13507.136939</td>\n",
       "      <td>369452</td>\n",
       "      <td>722262</td>\n",
       "      <td>352810</td>\n",
       "      <td>787352</td>\n",
       "      <td>1140162</td>\n",
       "    </tr>\n",
       "    <tr>\n",
       "      <th>3</th>\n",
       "      <td>60640</td>\n",
       "      <td>Uptown (Chicago)</td>\n",
       "      <td>782800</td>\n",
       "      <td>27626.262986</td>\n",
       "      <td>301783</td>\n",
       "      <td>1435313</td>\n",
       "      <td>1133530</td>\n",
       "      <td>1084583</td>\n",
       "      <td>2218113</td>\n",
       "    </tr>\n",
       "    <tr>\n",
       "      <th>4</th>\n",
       "      <td>77449</td>\n",
       "      <td>Katy, TX (Houston)</td>\n",
       "      <td>176200</td>\n",
       "      <td>4466.014997</td>\n",
       "      <td>106555</td>\n",
       "      <td>320536</td>\n",
       "      <td>213981</td>\n",
       "      <td>282755</td>\n",
       "      <td>496736</td>\n",
       "    </tr>\n",
       "  </tbody>\n",
       "</table>\n",
       "</div>"
      ],
      "text/plain": [
       "   zipcode                               city  2018 median value  \\\n",
       "0    60657                 Lakeview (Chicago)            1030600   \n",
       "1    60614      Depaul/Lincoln Park (Chicago)            1307000   \n",
       "2    10467  The Bronx/Van Cortland Park (NYC)             417900   \n",
       "3    60640                   Uptown (Chicago)             782800   \n",
       "4    77449                 Katy, TX (Houston)             176200   \n",
       "\n",
       "            mae  low_conf  high_conf  forecast range  low_end  high_end  \n",
       "0  44097.363722    759441    1624075          864634  1790041   2654675  \n",
       "1  58447.741423    598924    2071511         1472587  1905924   3378511  \n",
       "2  13507.136939    369452     722262          352810   787352   1140162  \n",
       "3  27626.262986    301783    1435313         1133530  1084583   2218113  \n",
       "4   4466.014997    106555     320536          213981   282755    496736  "
      ]
     },
     "execution_count": 236,
     "metadata": {},
     "output_type": "execute_result"
    }
   ],
   "source": [
    "df_results"
   ]
  },
  {
   "cell_type": "markdown",
   "metadata": {},
   "source": [
    "1. The zipcode model with the smallest MAE of only 4,466 was Katy, TX (77449)\n",
    "2. The zipcode forecast with the smallest 95% confidence interval range (thus perhaps the less risky) is also Katy, TX, with a range of only 213,981\n",
    "3. On the contrary, the zipcode model with the highest MAE was Depaul/Lincoln Park of Chicago (60614) at 58,447\n",
    "4. Depaul/Lincoln Park also has the widest confidence interval range, incidating a more risky option, with a range of 1,472,587"
   ]
  },
  {
   "cell_type": "markdown",
   "metadata": {},
   "source": [
    "# Recommendations"
   ]
  },
  {
   "cell_type": "markdown",
   "metadata": {},
   "source": [
    "For those clients who may be more risk-averse, possibly with less cash on hand, Katy, TX (77449) and The Bronx/Van Cortland Park (10467) may be the best zipcodes in which to invest because:\n",
    "\n",
    "* In Katy, the median home value in 2018 was 176,200 and our model predictions only deviated by as much as 4500. Further, forecasted Katy home values two years out have a less varied range than other zipcodes. Thus, in two years, we can expect home values to increase on the low end to 282,755 and the high end 496,736.\n",
    "\n",
    "* In the Bronx, the median home value in 2018 was 417,900 and our model predictions deviated by as much as 13,507. Further, forecasted home values in the Bronx two years out have a less varied range than other zipcodes. Thus, in two years, we can expect home values to increase on the low end to 787,352 and the high end 1,140,162.\n",
    "\n",
    "\n",
    "For those clients who may be more willing to take a risk, and perhaps with more cash on hand, the Lakeview and Depaul/Lincoln Park neighborhoods of Chicago may be the best zipcobes in which to invest because:\n",
    "\n",
    "* In Lakeview, the median home value in 2018 was 1,030,600. In making our predictions, our model deviated by as much as 44,097. Forecasted Lakeview home values two years out have a more varied range than other zipcodes. Thus, in two years, we can expect home values to increase on the low end to 1,790,041 and the high end 2,654,675.\n",
    "\n",
    "* In Depaul/Lincoln Park, the median home value in 2018 was 1,307,000. In making our predictions, our model deviated by as much as 58,447. Forecasted Depaul/Lincoln Park home values two years out have a more varied range than other zipcodes. Thus, in two years, we can expect home values to increase on the low end to 1,905,924 and the high end 3,368,511.\n",
    "\n",
    "\n",
    "For clients looking for a good, middle-of-the-road investment zipcode with an above average median home value and moderate error in predictions, the Uptown neighborhood of Chicago would be a sound option. In Uptown, the median home value in 2018 was 782,800. In making our predictions, our model deviated by as much as 27,626. Forecasted Uptown home values two years out do have a more varied range than other zipcodes, which we may note of in terms of potential risk. Thus, in two years, we can expect home values to increase on the low end to 1,084,583 and the high end 2,218,113."
   ]
  },
  {
   "cell_type": "markdown",
   "metadata": {},
   "source": [
    "# Future Work"
   ]
  },
  {
   "cell_type": "code",
   "execution_count": null,
   "metadata": {},
   "outputs": [],
   "source": []
  },
  {
   "cell_type": "code",
   "execution_count": null,
   "metadata": {},
   "outputs": [],
   "source": []
  },
  {
   "cell_type": "code",
   "execution_count": null,
   "metadata": {},
   "outputs": [],
   "source": []
  },
  {
   "cell_type": "code",
   "execution_count": null,
   "metadata": {},
   "outputs": [],
   "source": []
  }
 ],
 "metadata": {
  "kernelspec": {
   "display_name": "Python 3",
   "language": "python",
   "name": "python3"
  },
  "language_info": {
   "codemirror_mode": {
    "name": "ipython",
    "version": 3
   },
   "file_extension": ".py",
   "mimetype": "text/x-python",
   "name": "python",
   "nbconvert_exporter": "python",
   "pygments_lexer": "ipython3",
   "version": "3.8.5"
  },
  "toc": {
   "base_numbering": 1,
   "nav_menu": {},
   "number_sections": true,
   "sideBar": true,
   "skip_h1_title": false,
   "title_cell": "Table of Contents",
   "title_sidebar": "Contents",
   "toc_cell": false,
   "toc_position": {
    "height": "calc(100% - 180px)",
    "left": "10px",
    "top": "150px",
    "width": "194.922px"
   },
   "toc_section_display": true,
   "toc_window_display": true
  }
 },
 "nbformat": 4,
 "nbformat_minor": 2
}
